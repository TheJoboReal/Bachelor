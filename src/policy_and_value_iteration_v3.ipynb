{
 "cells": [
  {
   "cell_type": "markdown",
   "metadata": {
    "id": "WMapQn0-y2Bk"
   },
   "source": [
    "# Policy iteration and value iteration\n",
    "\n",
    "In this notebook, you will implement different dynamic programming approaches described in [Sutton and Barto's book, Introduction to Reinforcement Learning](http://incompleteideas.net/book/the-book-2nd.html). A grid ```World``` class and policy iteration has been implemented. Feel free to add more actions, rewards and/or terminals, or to modify the code to suit your needs."
   ]
  },
  {
   "cell_type": "markdown",
   "metadata": {
    "id": "e9vApPmQFGUs"
   },
   "source": [
    "### Install dependencies"
   ]
  },
  {
   "cell_type": "code",
   "execution_count": 32,
   "metadata": {
    "colab": {
     "base_uri": "https://localhost:8080/"
    },
    "id": "e9pkLaPNMOTP",
    "outputId": "8adb5191-7368-4ed0-ecf0-730f2fe217ab"
   },
   "outputs": [
    {
     "name": "stdout",
     "output_type": "stream",
     "text": [
      "Defaulting to user installation because normal site-packages is not writeable\n",
      "Requirement already satisfied: numpy in /home/vaede/.local/lib/python3.10/site-packages (2.2.3)\n",
      "Requirement already satisfied: pandas in /home/vaede/.local/lib/python3.10/site-packages (2.2.3)\n",
      "Requirement already satisfied: python-dateutil>=2.8.2 in /home/vaede/.local/lib/python3.10/site-packages (from pandas) (2.9.0.post0)\n",
      "Requirement already satisfied: pytz>=2020.1 in /usr/lib/python3/dist-packages (from pandas) (2022.1)\n",
      "Requirement already satisfied: tzdata>=2022.7 in /home/vaede/.local/lib/python3.10/site-packages (from pandas) (2025.1)\n",
      "Requirement already satisfied: six>=1.5 in /usr/lib/python3/dist-packages (from python-dateutil>=2.8.2->pandas) (1.16.0)\n",
      "Defaulting to user installation because normal site-packages is not writeable\n",
      "Requirement already satisfied: PyQt6 in /home/vaede/.local/lib/python3.10/site-packages (6.8.1)\n",
      "Requirement already satisfied: PyQt6-sip<14,>=13.8 in /home/vaede/.local/lib/python3.10/site-packages (from PyQt6) (13.10.0)\n",
      "Requirement already satisfied: PyQt6-Qt6<6.9.0,>=6.8.0 in /home/vaede/.local/lib/python3.10/site-packages (from PyQt6) (6.8.2)\n"
     ]
    }
   ],
   "source": [
    "! pip install numpy pandas\n",
    "\n",
    "! pip install PyQt6"
   ]
  },
  {
   "cell_type": "markdown",
   "metadata": {
    "id": "Q8kdEPNmFOCr"
   },
   "source": [
    "### Imports"
   ]
  },
  {
   "cell_type": "markdown",
   "metadata": {
    "id": "Wl4F2OZK3Xz3"
   },
   "source": []
  },
  {
   "cell_type": "code",
   "execution_count": 33,
   "metadata": {
    "id": "T9cAvA0GLkXh"
   },
   "outputs": [],
   "source": [
    "import numpy as np\n",
    "import sys          # We use sys to get the max value of a float\n",
    "import pandas as pd # We only use pandas for displaying tables nicely\n",
    "pd.options.display.float_format = '{:,.3f}'.format\n",
    "import matplotlib.pyplot as plt\n",
    "import time\n",
    "import os"
   ]
  },
  {
   "cell_type": "markdown",
   "metadata": {
    "id": "lTNglEH9FR8f"
   },
   "source": [
    "### ```World``` class and globals\n",
    "\n",
    "The ```World``` is a grid represented as a two-dimensional array of characters where each character can represent free space, an obstacle, or a terminal. Each non-obstacle cell is associated with a reward that an agent gets for moving to that cell (can be 0). The size of the world is _width_ $\\times$ _height_ characters.\n",
    "\n",
    "A _state_ is a tuple $(x,y)$.\n",
    "\n",
    "An empty world is created in the ```__init__``` method. Obstacles, rewards and terminals can then be added with ```add_obstacle``` and ```add_reward```.\n",
    "\n",
    "To calculate the next state of an agent (that is, an agent is in some state $s = (x,y)$ and performs and action, $a$), ```get_next_state()```should be called. It will only be relevant to call this function later on, when we do learning based on interaction with the environment and where an agent actually has to move.\n",
    "\n",
    "For now, you will only need the probabilities over next states given an action, $a$, that is, call ```get_state_transition_probabilities```."
   ]
  },
  {
   "cell_type": "code",
   "execution_count": null,
   "metadata": {
    "id": "PfR2S8j_LnZ3"
   },
   "outputs": [],
   "source": []
  },
  {
   "cell_type": "code",
   "execution_count": null,
   "metadata": {
    "id": "wMAd6qTASn9u"
   },
   "outputs": [],
   "source": [
    "\n",
    "# Globals:\n",
    "ACTIONS = (\"up\", \"down\", \"left\", \"right\")\n",
    "\n",
    "# Rewards, terminals and obstacles are characters:\n",
    "REWARDS = {\" \": 0, \".\": 0.1, \"+\": 10, \"-\": -10}\n",
    "TERMINALS = (\"+\", \"-\") # Note a terminal should also have a reward assigned\n",
    "OBSTACLES = (\"#\")\n",
    "\n",
    "# Discount factor\n",
    "gamma = 1\n",
    "\n",
    "# The probability of a random move:\n",
    "rand_move_probability = 0\n",
    "\n",
    "#Tempreture parameter (for Boltzmann policy) [high beta is greedy low is exploration]\n",
    "beta = 0.1\n",
    "\n",
    "#numbers of drones to simulate\n",
    "number_of_agents = 10\n",
    "\n",
    "\n",
    "class World:\n",
    "  def __init__(self, width, height):\n",
    "    self.width = width\n",
    "    self.height = height\n",
    "    # Create an empty world where the agent can move to all cells\n",
    "    self.grid = np.full((width, height), ' ', dtype='U1')\n",
    "\n",
    "  def add_obstacle(self, start_x, start_y, end_x=None, end_y=None):\n",
    "    \"\"\"\n",
    "    Create an obstacle in either a single cell or rectangle.\n",
    "    \"\"\"\n",
    "    if end_x == None: end_x = start_x\n",
    "    if end_y == None: end_y = start_y\n",
    "\n",
    "    self.grid[start_x:end_x + 1, start_y:end_y + 1] = OBSTACLES[0]\n",
    "\n",
    "  def add_reward(self, x, y, reward):\n",
    "    assert reward in REWARDS, f\"{reward} not in {REWARDS}\"\n",
    "    self.grid[x, y] = reward\n",
    "\n",
    "  def add_terminal(self, x, y, terminal):\n",
    "    assert terminal in TERMINALS, f\"{terminal} not in {TERMINALS}\"\n",
    "    self.grid[x, y] = terminal\n",
    "\n",
    "  def is_obstacle(self, x, y):\n",
    "    if x < 0 or x >= self.width or y < 0 or y >= self.height:\n",
    "      return True\n",
    "    else:\n",
    "      return self.grid[x ,y] in OBSTACLES\n",
    "\n",
    "  def is_terminal(self, x, y):\n",
    "    return self.grid[x ,y] in TERMINALS\n",
    "\n",
    "  def get_reward(self, x, y):\n",
    "    \"\"\"\n",
    "    Return the reward associated with a given location\n",
    "    \"\"\"\n",
    "    return REWARDS[self.grid[x, y]]\n",
    "\n",
    "  def get_next_state(self, current_state, action, deterministic=False):\n",
    "    \"\"\"\n",
    "    Get the next state given a current state and an action. Can eiter be\n",
    "    deterministic (no random actions) or non-deterministic,\n",
    "    where rand_move_probability determines the probability of ignoring the\n",
    "    action and performing a random move.\n",
    "    \"\"\"\n",
    "    assert action in ACTIONS, f\"Unknown acion {action} must be one of {ACTIONS}\"\n",
    "\n",
    "    x, y = current_state\n",
    "\n",
    "    # If our current state is a terminal, there is no next state\n",
    "    if self.grid[x, y] in TERMINALS:\n",
    "      return None\n",
    "\n",
    "    # Check of a random action should be performed:\n",
    "    if not deterministic and np.random.rand() < rand_move_probability:\n",
    "      action = np.random.choice(ACTIONS)\n",
    "\n",
    "    if action == \"up\":      y -= 1\n",
    "    elif action == \"down\":  y += 1\n",
    "    elif action == \"left\":  x -= 1\n",
    "    elif action == \"right\": x += 1\n",
    "\n",
    "    # If the next state is an obstacle, stay in the current state\n",
    "    return (x, y) if not self.is_obstacle(x, y) else current_state\n",
    "\n",
    "  def get_state_transition_probabilities(self, current_state, action):\n",
    "    \"\"\"\n",
    "    Returns a dict where key = state and value = probability given current state\n",
    "    is (x,y) and \"action\" is performed.\n",
    "    \"\"\"\n",
    "    assert action in ACTIONS, f\"Unknown acion {action} must be one of {ACTIONS}\"\n",
    "\n",
    "    x, y = current_state\n",
    "    if self.is_terminal(x, y):\n",
    "      return {}\n",
    "\n",
    "    next_state_probabilities = {}\n",
    "    # Since there is rand_move_probability of performing any action, we have to\n",
    "    # go through all actions and check what their next state would be:\n",
    "    for a in ACTIONS:\n",
    "      next_state = self.get_next_state((x, y), a, deterministic=True)\n",
    "      if a == action:\n",
    "        prob = 1 - rand_move_probability + rand_move_probability / len(ACTIONS)\n",
    "      else:\n",
    "        prob = rand_move_probability / len(ACTIONS)\n",
    "\n",
    "      if next_state in next_state_probabilities:\n",
    "        next_state_probabilities[next_state] += prob\n",
    "      else:\n",
    "        if prob > 0.0:\n",
    "          next_state_probabilities[next_state] = prob\n",
    "\n",
    "    return next_state_probabilities"
   ]
  },
  {
   "cell_type": "markdown",
   "metadata": {},
   "source": [
    "# Drone class\n"
   ]
  },
  {
   "cell_type": "code",
   "execution_count": null,
   "metadata": {},
   "outputs": [],
   "source": [
    "import numpy as np\n",
    "\n",
    "class Drone:\n",
    "    def __init__(self, drone_id, world, start_position=None, q_table_file=\"q_table.npy\"):\n",
    "        self.id = drone_id\n",
    "        self.world = world\n",
    "        self.q_table_file = q_table_file\n",
    "        self.Q = self.load_or_initialize_q_table()\n",
    "        self.position = start_position if start_position else (np.random.randint(0, world.width), np.random.randint(0, world.height))\n",
    "        \n",
    "        # Ensure starting position is not an obstacle\n",
    "        while self.world.is_obstacle(*self.position):\n",
    "            self.position = (np.random.randint(0, world.width), np.random.randint(0, world.height))\n",
    "        \n",
    "        self.cumulative_reward = 0  # Track total collected rewards\n",
    "        self.visited_positions = [self.position]  # Track visited positions\n",
    "        self.active = True  # Drone status\n",
    "    \n",
    "    def compute_reward(self, position):\n",
    "        \"\"\" Compute the reward for moving to a new position \"\"\"\n",
    "        for drone in number_of_agents:\n",
    "            \n",
    "        return self.world.get_reward(*position)\n",
    "    \n",
    "    def softmax_policy(self, available_actions):\n",
    "        \"\"\" Select an action using softmax over rewards \"\"\"\n",
    "        q_values = np.array([self.compute_reward(pos) for pos in available_actions])\n",
    "        exp_q = np.exp(q_values)\n",
    "        probabilities = exp_q / np.sum(exp_q)\n",
    "        return available_actions[np.random.choice(len(available_actions), p=probabilities)]\n",
    "    \n",
    "    def load_or_initialize_q_table(self):\n",
    "        \"\"\" Check if Q-table file exists, load it, otherwise initialize a new Q-table. \"\"\"\n",
    "        if os.path.exists(self.q_table_file):\n",
    "            return np.load(self.q_table_file)\n",
    "        else:\n",
    "            return np.random.rand(self.world.width, self.world.height, len(ACTIONS))\n",
    "    \n",
    "    def update_position(self):\n",
    "        \"\"\" Move based on softmax action selection \"\"\"\n",
    "        if not self.active or self.world.is_terminal(*self.position):\n",
    "            return\n",
    "        \n",
    "        search_directions = {\n",
    "            \"up\": (self.position[0], self.position[1] - 1),\n",
    "            \"down\": (self.position[0], self.position[1] + 1),\n",
    "            \"left\": (self.position[0] - 1, self.position[1]),\n",
    "            \"right\": (self.position[0] + 1, self.position[1])\n",
    "        }\n",
    "        \n",
    "        available_actions = [pos for action, pos in search_directions.items()\n",
    "                             if not self.world.is_obstacle(*pos) and 0 <= pos[0] < self.world.width and 0 <= pos[1] < self.world.height]\n",
    "        \n",
    "        if available_actions:\n",
    "            best_move = self.softmax_policy(available_actions)\n",
    "            self.position = best_move\n",
    "            self.cumulative_reward += self.compute_reward(best_move)\n",
    "        \n",
    "        self.visited_positions.append(self.position)\n",
    "        \n",
    "        if self.world.is_terminal(*self.position):\n",
    "            self.active = False\n"
   ]
  },
  {
   "attachments": {
    "image-2.png": {
     "image/png": "[encoded data removed]"
    },
    "image-3.png": {
     "image/png": "[encoded data removed]"
    },
    "image.png": {
     "image/png": "[encoded data removed]"
    }
   },
   "cell_type": "markdown",
   "metadata": {},
   "source": [
    "# Policy og action selection\n",
    "\n",
    "![image.png](attachment:image.png) ![image-2.png](attachment:image-2.png) ![image-3.png](attachment:image-3.png)"
   ]
  },
  {
   "cell_type": "code",
   "execution_count": null,
   "metadata": {},
   "outputs": [],
   "source": [
    "# Global variable to keep track of current estimates\n",
    "Q = np.random.rand(world.width, world.height, len(ACTIONS))\n",
    "\n",
    "# Define a function for the Boltzmann policy\n",
    "def swarmdrone_policy(x, y, Q, beta=1.0):\n",
    "    # Get Q-values for all actions at state (x, y)\n",
    "    q_values = Q[x, y, :]\n",
    "\n",
    "    # Compute the exponentiated values\n",
    "    exp_q = np.exp(beta * q_values)\n",
    "\n",
    "    # Normalize to get probabilities\n",
    "    probabilities = exp_q / np.sum(exp_q)\n",
    "\n",
    "    # Return a dictionary mapping actions to their probabilities\n",
    "    return {action: prob for action, prob in zip(ACTIONS, probabilities)}\n",
    "\n"
   ]
  },
  {
   "cell_type": "markdown",
   "metadata": {
    "id": "UxncUHvz1_Hb"
   },
   "source": [
    "## Basic examples: World, obstacles, rewards and terminals\n",
    "\n",
    "Below are some examples to illustrate how the ```World``` class works.\n",
    "\n",
    "First, we create a 4x4 world:"
   ]
  },
  {
   "cell_type": "code",
   "execution_count": 37,
   "metadata": {
    "colab": {
     "base_uri": "https://localhost:8080/"
    },
    "id": "dL-XC6-aN6ss",
    "outputId": "1ca1d560-5d87-4820-eba5-93e3b94c20d7"
   },
   "outputs": [
    {
     "name": "stdout",
     "output_type": "stream",
     "text": [
      "[[' ' ' ' ' ' ' ']\n",
      " [' ' ' ' ' ' ' ']\n",
      " [' ' ' ' ' ' ' ']\n",
      " [' ' ' ' ' ' ' ']]\n"
     ]
    }
   ],
   "source": [
    "world = World(4, 4)\n",
    "\n",
    "# Note, that we have to transpose the 2D array (.T) for (x,y)\n",
    "# to match the convention when displayed\n",
    "print(world.grid.T)"
   ]
  },
  {
   "cell_type": "markdown",
   "metadata": {
    "id": "L1C8CRt92wqf"
   },
   "source": [
    "Obstacles and terminals are all represented as single characters:"
   ]
  },
  {
   "cell_type": "code",
   "execution_count": 38,
   "metadata": {
    "colab": {
     "base_uri": "https://localhost:8080/"
    },
    "id": "BKlTP05N2xEe",
    "outputId": "5170d9c4-a30f-46c6-cadf-6da30def53e3"
   },
   "outputs": [
    {
     "name": "stdout",
     "output_type": "stream",
     "text": [
      "Obstacles: #\n",
      "Terminals: ('+', '-')\n"
     ]
    }
   ],
   "source": [
    "print(f\"Obstacles: {OBSTACLES}\")\n",
    "print(f\"Terminals: {TERMINALS}\")"
   ]
  },
  {
   "cell_type": "markdown",
   "metadata": {
    "id": "c30K2bDd3yyI"
   },
   "source": [
    "Rewards are also represented as characters in the world, but they have an associated value (note that defining a value for an empty space \"  \" is equivalent to the agent receiving that reward each time a move is made):"
   ]
  },
  {
   "cell_type": "code",
   "execution_count": 39,
   "metadata": {
    "colab": {
     "base_uri": "https://localhost:8080/"
    },
    "id": "54TwLFOb3y-1",
    "outputId": "8501ede1-5773-409d-edd4-ba1031edad07"
   },
   "outputs": [
    {
     "name": "stdout",
     "output_type": "stream",
     "text": [
      "Rewards: {' ': 0, '.': 0.1, '+': 10, '-': -10}\n"
     ]
    }
   ],
   "source": [
    "print(f\"Rewards: {REWARDS}\")"
   ]
  },
  {
   "cell_type": "markdown",
   "metadata": {
    "id": "LcG0mAYl4ux7"
   },
   "source": [
    "To assign rewards to terminal states, just use the same character in the ```REWARDS``` dict and in the ```TERMINALS``` tuple."
   ]
  },
  {
   "cell_type": "code",
   "execution_count": 40,
   "metadata": {
    "colab": {
     "base_uri": "https://localhost:8080/",
     "height": 281
    },
    "id": "7MinV0Bg49dB",
    "outputId": "8e48ee49-439b-4a5d-b561-8d9a27f0a873"
   },
   "outputs": [
    {
     "name": "stdout",
     "output_type": "stream",
     "text": [
      "Terminal + has reward 10\n",
      "Terminal - has reward -10\n",
      "[['+' ' ' ' ' ' ']\n",
      " [' ' ' ' ' ' ' ']\n",
      " [' ' ' ' ' ' ' ']\n",
      " [' ' ' ' ' ' '-']]\n"
     ]
    }
   ],
   "source": [
    "for t in TERMINALS:\n",
    "  print(f\"Terminal {t} has reward {REWARDS[t]}\")\n",
    "\n",
    "world.add_terminal(0, 0, \"+\")\n",
    "world.add_terminal(3, 3, \"-\")\n",
    "\n",
    "\n",
    "print(world.grid.T)\n",
    "\n",
    "# An alternative way of displaying the world using pandas:\n"
   ]
  },
  {
   "cell_type": "markdown",
   "metadata": {
    "id": "94bkx57KdvGD"
   },
   "source": [
    "## Policies ($\\pi$)\n",
    "\n",
    "Recall that a policy, $\\pi(a|s) = \\Pr(A_t = a | S_t = s)$, maps states to action probabilities. In the code below, we let policies return the probabilities of each possible action given a state. States are $(x, y)$ coordinates and the policy must return action probabilities as a dict where the action is the ```key``` and the corresponding ```value``` is the probability of taking that action in the given state. Deterministic policies, for instance, return a dict with only one entry (e.g. ```{ \"up\": 1 } ``` if the action for the current state is ```up```).\n",
    "\n",
    "A random policy can be defined as follows:\n"
   ]
  },
  {
   "cell_type": "code",
   "execution_count": 41,
   "metadata": {
    "colab": {
     "base_uri": "https://localhost:8080/"
    },
    "id": "Vhf3hfg9eCYS",
    "outputId": "af326e4c-db54-4b82-977f-6d2ef451383e"
   },
   "outputs": [
    {
     "name": "stdout",
     "output_type": "stream",
     "text": [
      "{'up': 0.25, 'down': 0.25, 'left': 0.25, 'right': 0.25}\n"
     ]
    }
   ],
   "source": [
    "def equiprobable_random_policy(x, y):\n",
    "  return { k : 1 / len(ACTIONS) for k in ACTIONS }\n",
    "\n",
    "# Example (since the action probabilities do not depend on the state in this\n",
    "# basic policy, we can just call it for state (0, 0)):\n",
    "print(equiprobable_random_policy(0, 0))"
   ]
  },
  {
   "cell_type": "markdown",
   "metadata": {
    "id": "nGK61Lk8dcd2"
   },
   "source": [
    "## Iterative policy evaluation\n",
    "\n",
    "\n",
    "Iterative policy evaluation takes a ```World```, a discount factor, $\\gamma$ (```gamma```, defined above in the ```World``` code cell), a policy, $\\pi$, and a threshold, $\\theta$ (```theta```), that determines when to stop the iteration. You can also specify a maximum number of iterations which can be useful for debugging using the ```max_iterations``` argument.\n",
    "\n",
    "**IMPORTANT:** Remember that in iterative policy evaluation, we just learn state values ($V_\\pi$) given a policy $\\pi$. We are **not** trying to learn a policy.\n",
    "\n",
    "(see page 74-75 of [Introduction to Reinforcement Learning](http://incompleteideas.net/book/the-book-2nd.html) for an explanation and the algorithm)\n"
   ]
  },
  {
   "cell_type": "code",
   "execution_count": 42,
   "metadata": {
    "id": "9fpxspw3b8U1"
   },
   "outputs": [],
   "source": [
    "def iterative_policy_evaluation(world, policy, theta=1e-5, max_iterations=1e3):\n",
    "\n",
    "  # Our initial estimates for all states in the world is 0:\n",
    "  V = np.full((world.width, world.height), 0.0)\n",
    "\n",
    "  while True:\n",
    "    # delta keeps track of the largest change in one iteration, so we set it to\n",
    "    # 0 at the start of each iteration:\n",
    "    delta = 0\n",
    "\n",
    "    # Loop over all states (x,y)\n",
    "    for y in range(world.height):\n",
    "      for x in range(world.width):\n",
    "        if not world.is_obstacle(x, y):\n",
    "          # Get action probabilities for the current state:\n",
    "          actions = policy(x, y)\n",
    "\n",
    "          # v is the new estimate that will be updated in the loop:\n",
    "          v = 0\n",
    "\n",
    "          # loop over all actions that our policy says that we can perform\n",
    "          # in the current state:\n",
    "          for action, action_prob in actions.items():\n",
    "            # For each action, get state transition probabilities and\n",
    "            # accumulate in v rewards weighted with action and state transition\n",
    "            # probabilities:\n",
    "            for (xi, yi), state_prob in world.get_state_transition_probabilities((x, y), action).items():\n",
    "              v += action_prob * state_prob * (world.get_reward(xi, yi) + gamma * V[xi, yi])\n",
    "\n",
    "          # update delta (largest change in estimate so far)\n",
    "          delta = max(delta, abs(v - V[x, y]))\n",
    "          V[x, y] = v\n",
    "\n",
    "    # check if current state value estimates are close enought to end:\n",
    "    if delta <= theta:\n",
    "      break\n",
    "\n",
    "    max_iterations -= 1\n",
    "    if max_iterations == 0:\n",
    "      break\n",
    "\n",
    "  # Return the state value estimates\n",
    "  return V\n"
   ]
  },
  {
   "cell_type": "markdown",
   "metadata": {
    "id": "MlZK9xU65iS2"
   },
   "source": [
    "## Implementation of Example 4.1 from the book\n",
    "\n",
    "Below, you can see the implementation of Example 4.1 on page 76 in the book [Introduction to Reinforcement Learning](http://incompleteideas.net/book/the-book-2nd.html)"
   ]
  },
  {
   "cell_type": "code",
   "execution_count": 43,
   "metadata": {
    "colab": {
     "base_uri": "https://localhost:8080/"
    },
    "id": "mQG26oW05idR",
    "outputId": "5d3998a6-4022-4bc6-e6c8-a87045efc1f5"
   },
   "outputs": [
    {
     "name": "stdout",
     "output_type": "stream",
     "text": [
      "[['+' ' ' ' ' ' ']\n",
      " [' ' ' ' ' ' ' ']\n",
      " [' ' ' ' ' ' ' ']\n",
      " [' ' ' ' ' ' '+']]\n"
     ]
    }
   ],
   "source": [
    "# World is 4x4\n",
    "world = World(4, 4)\n",
    "\n",
    "# Rewards are -1 for each move (including when hitting a terminal state, \"+\"):\n",
    "REWARDS = {\" \": -1, \"+\": -1}\n",
    "\n",
    "\n",
    "# Add terminal states in two corners\n",
    "world.add_terminal(0, 0, \"+\")\n",
    "world.add_terminal(3, 3, \"+\")\n",
    "\n",
    "print(world.grid.T)"
   ]
  },
  {
   "cell_type": "code",
   "execution_count": 44,
   "metadata": {
    "colab": {
     "base_uri": "https://localhost:8080/",
     "height": 175
    },
    "id": "tMudqC-OBUWo",
    "outputId": "24738d14-0186-445b-e1fa-12053ee05c48"
   },
   "outputs": [
    {
     "data": {
      "text/html": [
       "<div>\n",
       "<style scoped>\n",
       "    .dataframe tbody tr th:only-of-type {\n",
       "        vertical-align: middle;\n",
       "    }\n",
       "\n",
       "    .dataframe tbody tr th {\n",
       "        vertical-align: top;\n",
       "    }\n",
       "\n",
       "    .dataframe thead th {\n",
       "        text-align: right;\n",
       "    }\n",
       "</style>\n",
       "<table border=\"1\" class=\"dataframe\">\n",
       "  <thead>\n",
       "    <tr style=\"text-align: right;\">\n",
       "      <th></th>\n",
       "      <th>0</th>\n",
       "      <th>1</th>\n",
       "      <th>2</th>\n",
       "      <th>3</th>\n",
       "    </tr>\n",
       "  </thead>\n",
       "  <tbody>\n",
       "    <tr>\n",
       "      <th>0</th>\n",
       "      <td>0.000</td>\n",
       "      <td>-14.000</td>\n",
       "      <td>-20.000</td>\n",
       "      <td>-22.000</td>\n",
       "    </tr>\n",
       "    <tr>\n",
       "      <th>1</th>\n",
       "      <td>-14.000</td>\n",
       "      <td>-18.000</td>\n",
       "      <td>-20.000</td>\n",
       "      <td>-20.000</td>\n",
       "    </tr>\n",
       "    <tr>\n",
       "      <th>2</th>\n",
       "      <td>-20.000</td>\n",
       "      <td>-20.000</td>\n",
       "      <td>-18.000</td>\n",
       "      <td>-14.000</td>\n",
       "    </tr>\n",
       "    <tr>\n",
       "      <th>3</th>\n",
       "      <td>-22.000</td>\n",
       "      <td>-20.000</td>\n",
       "      <td>-14.000</td>\n",
       "      <td>0.000</td>\n",
       "    </tr>\n",
       "  </tbody>\n",
       "</table>\n",
       "</div>"
      ],
      "text/plain": [
       "        0       1       2       3\n",
       "0   0.000 -14.000 -20.000 -22.000\n",
       "1 -14.000 -18.000 -20.000 -20.000\n",
       "2 -20.000 -20.000 -18.000 -14.000\n",
       "3 -22.000 -20.000 -14.000   0.000"
      ]
     },
     "metadata": {},
     "output_type": "display_data"
    }
   ],
   "source": [
    "V = iterative_policy_evaluation(world, equiprobable_random_policy)\n",
    "\n",
    "display(pd.DataFrame(V.T))"
   ]
  },
  {
   "cell_type": "markdown",
   "metadata": {
    "id": "QNagzYkLaqAe"
   },
   "source": [
    "## Exercise - policy and discount factor\n",
    "\n",
    "Experiment with example 4.1: what effect does it have to change the policy, e.g. so that an agent always goes left or always goes right? What effect does it have on state values to change the value of the discount factor (```gamma```)?"
   ]
  },
  {
   "cell_type": "code",
   "execution_count": 45,
   "metadata": {
    "id": "krYhqYtTOGhD"
   },
   "outputs": [
    {
     "data": {
      "text/html": [
       "<div>\n",
       "<style scoped>\n",
       "    .dataframe tbody tr th:only-of-type {\n",
       "        vertical-align: middle;\n",
       "    }\n",
       "\n",
       "    .dataframe tbody tr th {\n",
       "        vertical-align: top;\n",
       "    }\n",
       "\n",
       "    .dataframe thead th {\n",
       "        text-align: right;\n",
       "    }\n",
       "</style>\n",
       "<table border=\"1\" class=\"dataframe\">\n",
       "  <thead>\n",
       "    <tr style=\"text-align: right;\">\n",
       "      <th></th>\n",
       "      <th>0</th>\n",
       "      <th>1</th>\n",
       "      <th>2</th>\n",
       "      <th>3</th>\n",
       "    </tr>\n",
       "  </thead>\n",
       "  <tbody>\n",
       "    <tr>\n",
       "      <th>0</th>\n",
       "      <td>0.000</td>\n",
       "      <td>-1.000</td>\n",
       "      <td>-1.500</td>\n",
       "      <td>-1.750</td>\n",
       "    </tr>\n",
       "    <tr>\n",
       "      <th>1</th>\n",
       "      <td>-2.000</td>\n",
       "      <td>-2.000</td>\n",
       "      <td>-2.000</td>\n",
       "      <td>-2.000</td>\n",
       "    </tr>\n",
       "    <tr>\n",
       "      <th>2</th>\n",
       "      <td>-2.000</td>\n",
       "      <td>-2.000</td>\n",
       "      <td>-2.000</td>\n",
       "      <td>-2.000</td>\n",
       "    </tr>\n",
       "    <tr>\n",
       "      <th>3</th>\n",
       "      <td>-2.000</td>\n",
       "      <td>-2.000</td>\n",
       "      <td>-2.000</td>\n",
       "      <td>0.000</td>\n",
       "    </tr>\n",
       "  </tbody>\n",
       "</table>\n",
       "</div>"
      ],
      "text/plain": [
       "       0      1      2      3\n",
       "0  0.000 -1.000 -1.500 -1.750\n",
       "1 -2.000 -2.000 -2.000 -2.000\n",
       "2 -2.000 -2.000 -2.000 -2.000\n",
       "3 -2.000 -2.000 -2.000  0.000"
      ]
     },
     "metadata": {},
     "output_type": "display_data"
    }
   ],
   "source": [
    "gamma = 0.5\n",
    "def left_policy(x, y):\n",
    "  \n",
    "  return {'left' : 1}\n",
    "\n",
    "\n",
    "V = iterative_policy_evaluation(world, left_policy)\n",
    "\n",
    "display(pd.DataFrame(V.T))"
   ]
  },
  {
   "cell_type": "markdown",
   "metadata": {
    "id": "2CtRf7JInBq4"
   },
   "source": [
    "Try to write a policy that is deterministic, but where the action performed differs between states. You can implement it as a two-dimensional array with the dimensions corresponding to the world dimensions and have each entry be an action for the corresponding state."
   ]
  },
  {
   "cell_type": "code",
   "execution_count": 46,
   "metadata": {},
   "outputs": [
    {
     "data": {
      "text/html": [
       "<div>\n",
       "<style scoped>\n",
       "    .dataframe tbody tr th:only-of-type {\n",
       "        vertical-align: middle;\n",
       "    }\n",
       "\n",
       "    .dataframe tbody tr th {\n",
       "        vertical-align: top;\n",
       "    }\n",
       "\n",
       "    .dataframe thead th {\n",
       "        text-align: right;\n",
       "    }\n",
       "</style>\n",
       "<table border=\"1\" class=\"dataframe\">\n",
       "  <thead>\n",
       "    <tr style=\"text-align: right;\">\n",
       "      <th></th>\n",
       "      <th>0</th>\n",
       "      <th>1</th>\n",
       "      <th>2</th>\n",
       "      <th>3</th>\n",
       "    </tr>\n",
       "  </thead>\n",
       "  <tbody>\n",
       "    <tr>\n",
       "      <th>0</th>\n",
       "      <td>0.000</td>\n",
       "      <td>-1,000.000</td>\n",
       "      <td>-1,000.000</td>\n",
       "      <td>-1,000.000</td>\n",
       "    </tr>\n",
       "    <tr>\n",
       "      <th>1</th>\n",
       "      <td>-1.000</td>\n",
       "      <td>-2.000</td>\n",
       "      <td>-3.000</td>\n",
       "      <td>-2.000</td>\n",
       "    </tr>\n",
       "    <tr>\n",
       "      <th>2</th>\n",
       "      <td>-1,999.000</td>\n",
       "      <td>-5.000</td>\n",
       "      <td>-4.000</td>\n",
       "      <td>-1.000</td>\n",
       "    </tr>\n",
       "    <tr>\n",
       "      <th>3</th>\n",
       "      <td>-2,000.000</td>\n",
       "      <td>-6.000</td>\n",
       "      <td>-1.000</td>\n",
       "      <td>0.000</td>\n",
       "    </tr>\n",
       "  </tbody>\n",
       "</table>\n",
       "</div>"
      ],
      "text/plain": [
       "           0          1          2          3\n",
       "0      0.000 -1,000.000 -1,000.000 -1,000.000\n",
       "1     -1.000     -2.000     -3.000     -2.000\n",
       "2 -1,999.000     -5.000     -4.000     -1.000\n",
       "3 -2,000.000     -6.000     -1.000      0.000"
      ]
     },
     "metadata": {},
     "output_type": "display_data"
    },
    {
     "data": {
      "text/html": [
       "<div>\n",
       "<style scoped>\n",
       "    .dataframe tbody tr th:only-of-type {\n",
       "        vertical-align: middle;\n",
       "    }\n",
       "\n",
       "    .dataframe tbody tr th {\n",
       "        vertical-align: top;\n",
       "    }\n",
       "\n",
       "    .dataframe thead th {\n",
       "        text-align: right;\n",
       "    }\n",
       "</style>\n",
       "<table border=\"1\" class=\"dataframe\">\n",
       "  <thead>\n",
       "    <tr style=\"text-align: right;\">\n",
       "      <th></th>\n",
       "      <th>0</th>\n",
       "      <th>1</th>\n",
       "      <th>2</th>\n",
       "      <th>3</th>\n",
       "    </tr>\n",
       "  </thead>\n",
       "  <tbody>\n",
       "    <tr>\n",
       "      <th>0</th>\n",
       "      <td>+</td>\n",
       "      <td></td>\n",
       "      <td></td>\n",
       "      <td></td>\n",
       "    </tr>\n",
       "    <tr>\n",
       "      <th>1</th>\n",
       "      <td></td>\n",
       "      <td></td>\n",
       "      <td></td>\n",
       "      <td></td>\n",
       "    </tr>\n",
       "    <tr>\n",
       "      <th>2</th>\n",
       "      <td></td>\n",
       "      <td></td>\n",
       "      <td></td>\n",
       "      <td></td>\n",
       "    </tr>\n",
       "    <tr>\n",
       "      <th>3</th>\n",
       "      <td></td>\n",
       "      <td></td>\n",
       "      <td></td>\n",
       "      <td>+</td>\n",
       "    </tr>\n",
       "  </tbody>\n",
       "</table>\n",
       "</div>"
      ],
      "text/plain": [
       "   0  1  2  3\n",
       "0  +         \n",
       "1            \n",
       "2            \n",
       "3           +"
      ]
     },
     "metadata": {},
     "output_type": "display_data"
    }
   ],
   "source": [
    "gamma = 1\n",
    "\n",
    "def deterministic_policy(x,y):\n",
    "    policy_grid = [\n",
    "    [\"up\", \"up\", \"right\", \"right\"],\n",
    "    [\"up\", \"left\", \"right\", \"down\"],\n",
    "    [\"down\", \"right\", \"up\", \"down\"],\n",
    "    [\"up\", \"up\", \"right\", \"right\"]\n",
    "    ]\n",
    "\n",
    "    action = policy_grid[y][x]\n",
    "    return {action : 1}\n",
    "\n",
    "V = iterative_policy_evaluation(world, deterministic_policy)\n",
    "display(pd.DataFrame(V.T))\n",
    "display(pd.DataFrame(world.grid.T))"
   ]
  },
  {
   "cell_type": "markdown",
   "metadata": {
    "id": "SHDCfB_uiuxS"
   },
   "source": [
    "## Exercise - stochasticity\n",
    "\n",
    "You can adjust the degree of stochasticity in the environment by setting the global variable ```rand_move_probability``` (the probability of the world ignoring an action and performing a random move instead). What effect does stochasticity have on the state-value estimates?\n"
   ]
  },
  {
   "cell_type": "code",
   "execution_count": 47,
   "metadata": {
    "id": "pel0dbaWnh1D"
   },
   "outputs": [
    {
     "data": {
      "text/html": [
       "<div>\n",
       "<style scoped>\n",
       "    .dataframe tbody tr th:only-of-type {\n",
       "        vertical-align: middle;\n",
       "    }\n",
       "\n",
       "    .dataframe tbody tr th {\n",
       "        vertical-align: top;\n",
       "    }\n",
       "\n",
       "    .dataframe thead th {\n",
       "        text-align: right;\n",
       "    }\n",
       "</style>\n",
       "<table border=\"1\" class=\"dataframe\">\n",
       "  <thead>\n",
       "    <tr style=\"text-align: right;\">\n",
       "      <th></th>\n",
       "      <th>0</th>\n",
       "      <th>1</th>\n",
       "      <th>2</th>\n",
       "      <th>3</th>\n",
       "    </tr>\n",
       "  </thead>\n",
       "  <tbody>\n",
       "    <tr>\n",
       "      <th>0</th>\n",
       "      <td>0.000</td>\n",
       "      <td>-1,000.000</td>\n",
       "      <td>-1,000.000</td>\n",
       "      <td>-1,000.000</td>\n",
       "    </tr>\n",
       "    <tr>\n",
       "      <th>1</th>\n",
       "      <td>-1.000</td>\n",
       "      <td>-2.000</td>\n",
       "      <td>-3.000</td>\n",
       "      <td>-2.000</td>\n",
       "    </tr>\n",
       "    <tr>\n",
       "      <th>2</th>\n",
       "      <td>-1,999.000</td>\n",
       "      <td>-5.000</td>\n",
       "      <td>-4.000</td>\n",
       "      <td>-1.000</td>\n",
       "    </tr>\n",
       "    <tr>\n",
       "      <th>3</th>\n",
       "      <td>-2,000.000</td>\n",
       "      <td>-6.000</td>\n",
       "      <td>-1.000</td>\n",
       "      <td>0.000</td>\n",
       "    </tr>\n",
       "  </tbody>\n",
       "</table>\n",
       "</div>"
      ],
      "text/plain": [
       "           0          1          2          3\n",
       "0      0.000 -1,000.000 -1,000.000 -1,000.000\n",
       "1     -1.000     -2.000     -3.000     -2.000\n",
       "2 -1,999.000     -5.000     -4.000     -1.000\n",
       "3 -2,000.000     -6.000     -1.000      0.000"
      ]
     },
     "metadata": {},
     "output_type": "display_data"
    }
   ],
   "source": [
    "gamma = 1\n",
    "\n",
    "def deterministic_policy(x,y):\n",
    "    policy_grid = [\n",
    "    [\"up\", \"up\", \"right\", \"right\"],\n",
    "    [\"up\", \"left\", \"right\", \"down\"],\n",
    "    [\"down\", \"right\", \"up\", \"down\"],\n",
    "    [\"up\", \"up\", \"right\", \"right\"]\n",
    "    ]\n",
    "\n",
    "    action = policy_grid[y][x]\n",
    "    return {action : 1}\n",
    "rand_move_probability = 0\n",
    "V = iterative_policy_evaluation(world, deterministic_policy)\n",
    "display(pd.DataFrame(V.T))\n"
   ]
  },
  {
   "cell_type": "markdown",
   "metadata": {
    "id": "pHC0cosVjU4t"
   },
   "source": [
    "## Exercise - robot, cake and mouse trap\n",
    "\n",
    "Implement a robot, cake and mouse trap example and compute state value estimates under different policies (equiprobable, always right, always right:50% or up:50%) with and without stochasticity.\n"
   ]
  },
  {
   "cell_type": "code",
   "execution_count": 48,
   "metadata": {
    "id": "ujejW_93jzQK"
   },
   "outputs": [
    {
     "data": {
      "text/html": [
       "<div>\n",
       "<style scoped>\n",
       "    .dataframe tbody tr th:only-of-type {\n",
       "        vertical-align: middle;\n",
       "    }\n",
       "\n",
       "    .dataframe tbody tr th {\n",
       "        vertical-align: top;\n",
       "    }\n",
       "\n",
       "    .dataframe thead th {\n",
       "        text-align: right;\n",
       "    }\n",
       "</style>\n",
       "<table border=\"1\" class=\"dataframe\">\n",
       "  <thead>\n",
       "    <tr style=\"text-align: right;\">\n",
       "      <th></th>\n",
       "      <th>0</th>\n",
       "      <th>1</th>\n",
       "      <th>2</th>\n",
       "      <th>3</th>\n",
       "    </tr>\n",
       "  </thead>\n",
       "  <tbody>\n",
       "    <tr>\n",
       "      <th>0</th>\n",
       "      <td>0.000</td>\n",
       "      <td>-1,000.000</td>\n",
       "      <td>-1,000.000</td>\n",
       "      <td>-1,000.000</td>\n",
       "    </tr>\n",
       "    <tr>\n",
       "      <th>1</th>\n",
       "      <td>10.000</td>\n",
       "      <td>0.000</td>\n",
       "      <td>0.000</td>\n",
       "      <td>9.000</td>\n",
       "    </tr>\n",
       "    <tr>\n",
       "      <th>2</th>\n",
       "      <td>-1,999.000</td>\n",
       "      <td>-10.000</td>\n",
       "      <td>-13.000</td>\n",
       "      <td>10.000</td>\n",
       "    </tr>\n",
       "    <tr>\n",
       "      <th>3</th>\n",
       "      <td>-2,000.000</td>\n",
       "      <td>-11.000</td>\n",
       "      <td>-12.000</td>\n",
       "      <td>0.000</td>\n",
       "    </tr>\n",
       "  </tbody>\n",
       "</table>\n",
       "</div>"
      ],
      "text/plain": [
       "           0          1          2          3\n",
       "0      0.000 -1,000.000 -1,000.000 -1,000.000\n",
       "1     10.000      0.000      0.000      9.000\n",
       "2 -1,999.000    -10.000    -13.000     10.000\n",
       "3 -2,000.000    -11.000    -12.000      0.000"
      ]
     },
     "metadata": {},
     "output_type": "display_data"
    }
   ],
   "source": [
    "gamma = 1\n",
    "\n",
    "def deterministic_policy(x,y):\n",
    "    \n",
    "    \n",
    "    policy_grid = [\n",
    "    [\"up\", \"up\", \"right\", \"right\"],\n",
    "    [\"up\", \"left\", \"right\", \"down\"],\n",
    "    [\"down\", \"up\", \"down\", \"down\"],\n",
    "    [\"up\", \"up\", \"left\", \"right\"]\n",
    "    ]\n",
    "\n",
    "    action = policy_grid[y][x]\n",
    "    return {action : 1}\n",
    "\n",
    "world.add_terminal(2,1,'+')\n",
    "world.add_terminal(1,1,'-')\n",
    "\n",
    "REWARDS = {' ' : -1 , '+' : +10 , '-' : -10}\n",
    "\n",
    "V = iterative_policy_evaluation(world, deterministic_policy)\n",
    "display(pd.DataFrame(V.T))\n",
    "\n"
   ]
  },
  {
   "cell_type": "markdown",
   "metadata": {
    "id": "t_kjVW7UkDhO"
   },
   "source": [
    "## Exercise - action-value function\n",
    "\n",
    "Based on a set of calculated state values, try to implement an action value function, that is $q_\\pi(s, a)$ (if in doubt, see page 78 in [Introduction to Reinforcement Learning](http://incompleteideas.net/book/the-book-2nd.html)). Note: you have to use the ```get_state_transition_probabilities()``` method on ```World``` to be able to handle stochastic environments where performing ```a``` does not lead to a deterministic outcome."
   ]
  },
  {
   "cell_type": "code",
   "execution_count": 49,
   "metadata": {
    "id": "qiCGsZ7klPzA"
   },
   "outputs": [
    {
     "name": "stdout",
     "output_type": "stream",
     "text": [
      "test 4.375\n",
      "('up', 'down', 'left', 'right')\n"
     ]
    },
    {
     "data": {
      "text/html": [
       "<div>\n",
       "<style scoped>\n",
       "    .dataframe tbody tr th:only-of-type {\n",
       "        vertical-align: middle;\n",
       "    }\n",
       "\n",
       "    .dataframe tbody tr th {\n",
       "        vertical-align: top;\n",
       "    }\n",
       "\n",
       "    .dataframe thead th {\n",
       "        text-align: right;\n",
       "    }\n",
       "</style>\n",
       "<table border=\"1\" class=\"dataframe\">\n",
       "  <thead>\n",
       "    <tr style=\"text-align: right;\">\n",
       "      <th></th>\n",
       "      <th>0</th>\n",
       "      <th>1</th>\n",
       "      <th>2</th>\n",
       "      <th>3</th>\n",
       "    </tr>\n",
       "  </thead>\n",
       "  <tbody>\n",
       "    <tr>\n",
       "      <th>0</th>\n",
       "      <td>0.000</td>\n",
       "      <td>-1,000.000</td>\n",
       "      <td>-1,000.000</td>\n",
       "      <td>-1,000.000</td>\n",
       "    </tr>\n",
       "    <tr>\n",
       "      <th>1</th>\n",
       "      <td>10.000</td>\n",
       "      <td>0.000</td>\n",
       "      <td>0.000</td>\n",
       "      <td>9.000</td>\n",
       "    </tr>\n",
       "    <tr>\n",
       "      <th>2</th>\n",
       "      <td>-1,999.000</td>\n",
       "      <td>-10.000</td>\n",
       "      <td>-13.000</td>\n",
       "      <td>10.000</td>\n",
       "    </tr>\n",
       "    <tr>\n",
       "      <th>3</th>\n",
       "      <td>-2,000.000</td>\n",
       "      <td>-11.000</td>\n",
       "      <td>-12.000</td>\n",
       "      <td>0.000</td>\n",
       "    </tr>\n",
       "  </tbody>\n",
       "</table>\n",
       "</div>"
      ],
      "text/plain": [
       "           0          1          2          3\n",
       "0      0.000 -1,000.000 -1,000.000 -1,000.000\n",
       "1     10.000      0.000      0.000      9.000\n",
       "2 -1,999.000    -10.000    -13.000     10.000\n",
       "3 -2,000.000    -11.000    -12.000      0.000"
      ]
     },
     "metadata": {},
     "output_type": "display_data"
    }
   ],
   "source": [
    "test_state = (2,2)\n",
    "gamma = 1\n",
    "\n",
    "\n",
    "rand_move_probability = 0.5\n",
    "# def action_value(world, V, state, action):\n",
    "#   p = world.get_state_transition_probabilities(state, action)\n",
    "#   first_key, state_prop = next(iter(p.items()))\n",
    "#   reward = world.get_reward(first_key[0], first_key[1])\n",
    "#   q = state_prop * reward + gamma * V[first_key[0],first_key[1]]\n",
    "\n",
    "#   print(\"Hvor går vi til?\", first_key[0], first_key[1])\n",
    "#   print(\"state prop\", state_prop)\n",
    "#   print(\"her er reward\", reward)\n",
    "#   print(\"her er p\",p)\n",
    "#   print(\"her er Q\", q)\n",
    "#   pass\n",
    "\n",
    "V_left = iterative_policy_evaluation(world, left_policy)\n",
    "\n",
    "def action_value(world, V, state, action):\n",
    "  q = 0\n",
    "  for (xi, yi), state_prop in world.get_state_transition_probabilities((state), action).items():\n",
    "    q += state_prop * (world.get_reward(xi, yi) + gamma * V[xi, yi])\n",
    "  return q\n",
    "\n",
    "test = action_value(world, V, test_state, 'up')\n",
    "print(\"test\" ,test)\n",
    "print(ACTIONS)\n",
    "display(pd.DataFrame(V.T))\n",
    "\n"
   ]
  },
  {
   "cell_type": "markdown",
   "metadata": {
    "id": "hveeaq7zn2g5"
   },
   "source": [
    "## Exercise - policy iteration\n",
    "\n",
    "You are now ready to implement policy iteration. That is, first estimate state values under a given policy, then improve the policy based on those estimates and action values, estimate state values again, and so on. See page 80 in [Introduction to Reinforcement Learning](http://incompleteideas.net/book/the-book-2nd.html)\n",
    "\n",
    "You will need an explicit representation of your policy that you can easily change.\n",
    "\n",
    "Test your implementation and print out the policies found.\n"
   ]
  },
  {
   "cell_type": "code",
   "execution_count": 50,
   "metadata": {
    "id": "h9WW80CWoFPh"
   },
   "outputs": [
    {
     "data": {
      "text/html": [
       "<div>\n",
       "<style scoped>\n",
       "    .dataframe tbody tr th:only-of-type {\n",
       "        vertical-align: middle;\n",
       "    }\n",
       "\n",
       "    .dataframe tbody tr th {\n",
       "        vertical-align: top;\n",
       "    }\n",
       "\n",
       "    .dataframe thead th {\n",
       "        text-align: right;\n",
       "    }\n",
       "</style>\n",
       "<table border=\"1\" class=\"dataframe\">\n",
       "  <thead>\n",
       "    <tr style=\"text-align: right;\">\n",
       "      <th></th>\n",
       "      <th>0</th>\n",
       "      <th>1</th>\n",
       "      <th>2</th>\n",
       "      <th>3</th>\n",
       "    </tr>\n",
       "  </thead>\n",
       "  <tbody>\n",
       "    <tr>\n",
       "      <th>0</th>\n",
       "      <td>0.000</td>\n",
       "      <td>6.137</td>\n",
       "      <td>7.732</td>\n",
       "      <td>4.697</td>\n",
       "    </tr>\n",
       "    <tr>\n",
       "      <th>1</th>\n",
       "      <td>5.541</td>\n",
       "      <td>0.000</td>\n",
       "      <td>0.000</td>\n",
       "      <td>7.969</td>\n",
       "    </tr>\n",
       "    <tr>\n",
       "      <th>2</th>\n",
       "      <td>2.372</td>\n",
       "      <td>2.331</td>\n",
       "      <td>7.714</td>\n",
       "      <td>8.270</td>\n",
       "    </tr>\n",
       "    <tr>\n",
       "      <th>3</th>\n",
       "      <td>1.309</td>\n",
       "      <td>3.619</td>\n",
       "      <td>7.787</td>\n",
       "      <td>0.000</td>\n",
       "    </tr>\n",
       "  </tbody>\n",
       "</table>\n",
       "</div>"
      ],
      "text/plain": [
       "      0     1     2     3\n",
       "0 0.000 6.137 7.732 4.697\n",
       "1 5.541 0.000 0.000 7.969\n",
       "2 2.372 2.331 7.714 8.270\n",
       "3 1.309 3.619 7.787 0.000"
      ]
     },
     "metadata": {},
     "output_type": "display_data"
    },
    {
     "data": {
      "text/html": [
       "<div>\n",
       "<style scoped>\n",
       "    .dataframe tbody tr th:only-of-type {\n",
       "        vertical-align: middle;\n",
       "    }\n",
       "\n",
       "    .dataframe tbody tr th {\n",
       "        vertical-align: top;\n",
       "    }\n",
       "\n",
       "    .dataframe thead th {\n",
       "        text-align: right;\n",
       "    }\n",
       "</style>\n",
       "<table border=\"1\" class=\"dataframe\">\n",
       "  <thead>\n",
       "    <tr style=\"text-align: right;\">\n",
       "      <th></th>\n",
       "      <th>0</th>\n",
       "      <th>1</th>\n",
       "      <th>2</th>\n",
       "      <th>3</th>\n",
       "    </tr>\n",
       "  </thead>\n",
       "  <tbody>\n",
       "    <tr>\n",
       "      <th>0</th>\n",
       "      <td>right</td>\n",
       "      <td>left</td>\n",
       "      <td>down</td>\n",
       "      <td>down</td>\n",
       "    </tr>\n",
       "    <tr>\n",
       "      <th>1</th>\n",
       "      <td>up</td>\n",
       "      <td>right</td>\n",
       "      <td>right</td>\n",
       "      <td>left</td>\n",
       "    </tr>\n",
       "    <tr>\n",
       "      <th>2</th>\n",
       "      <td>up</td>\n",
       "      <td>right</td>\n",
       "      <td>up</td>\n",
       "      <td>down</td>\n",
       "    </tr>\n",
       "    <tr>\n",
       "      <th>3</th>\n",
       "      <td>right</td>\n",
       "      <td>right</td>\n",
       "      <td>right</td>\n",
       "      <td>right</td>\n",
       "    </tr>\n",
       "  </tbody>\n",
       "</table>\n",
       "</div>"
      ],
      "text/plain": [
       "       0      1      2      3\n",
       "0  right   left   down   down\n",
       "1     up  right  right   left\n",
       "2     up  right     up   down\n",
       "3  right  right  right  right"
      ]
     },
     "metadata": {},
     "output_type": "display_data"
    },
    {
     "data": {
      "text/html": [
       "<div>\n",
       "<style scoped>\n",
       "    .dataframe tbody tr th:only-of-type {\n",
       "        vertical-align: middle;\n",
       "    }\n",
       "\n",
       "    .dataframe tbody tr th {\n",
       "        vertical-align: top;\n",
       "    }\n",
       "\n",
       "    .dataframe thead th {\n",
       "        text-align: right;\n",
       "    }\n",
       "</style>\n",
       "<table border=\"1\" class=\"dataframe\">\n",
       "  <thead>\n",
       "    <tr style=\"text-align: right;\">\n",
       "      <th></th>\n",
       "      <th>0</th>\n",
       "      <th>1</th>\n",
       "      <th>2</th>\n",
       "      <th>3</th>\n",
       "    </tr>\n",
       "  </thead>\n",
       "  <tbody>\n",
       "    <tr>\n",
       "      <th>0</th>\n",
       "      <td>+</td>\n",
       "      <td></td>\n",
       "      <td></td>\n",
       "      <td></td>\n",
       "    </tr>\n",
       "    <tr>\n",
       "      <th>1</th>\n",
       "      <td></td>\n",
       "      <td>-</td>\n",
       "      <td>+</td>\n",
       "      <td></td>\n",
       "    </tr>\n",
       "    <tr>\n",
       "      <th>2</th>\n",
       "      <td></td>\n",
       "      <td></td>\n",
       "      <td></td>\n",
       "      <td></td>\n",
       "    </tr>\n",
       "    <tr>\n",
       "      <th>3</th>\n",
       "      <td></td>\n",
       "      <td></td>\n",
       "      <td></td>\n",
       "      <td>+</td>\n",
       "    </tr>\n",
       "  </tbody>\n",
       "</table>\n",
       "</div>"
      ],
      "text/plain": [
       "   0  1  2  3\n",
       "0  +         \n",
       "1     -  +   \n",
       "2            \n",
       "3           +"
      ]
     },
     "metadata": {},
     "output_type": "display_data"
    }
   ],
   "source": [
    "# TODO: Implement your code here\n",
    "\n",
    "rand_move_probability = 0.5\n",
    "gamma = 0.8\n",
    "\n",
    "MatPol = np.full((4,4), 'right')\n",
    "\n",
    "def explicit_policy(x,y):\n",
    "    return {MatPol [x,y] : 1}\n",
    "\n",
    "\n",
    "def policy_iteration(world, policy):\n",
    "    \n",
    "    while(True):\n",
    "        policy_stable = True\n",
    "        V = iterative_policy_evaluation(world, explicit_policy)\n",
    "        \n",
    "        for x in range(world.width):\n",
    "            for y in range(world.height):\n",
    "                old_action = policy[x,y]\n",
    "\n",
    "                for action in ACTIONS:\n",
    "                    \n",
    "                    if action_value(world, V, (x,y), action) > action_value(world, V, (x,y), old_action):\n",
    "                        policy[x,y] = action\n",
    "                if (old_action != policy[x,y]):\n",
    "                    policy_stable = False\n",
    "        if policy_stable:\n",
    "            display(pd.DataFrame(V.T))\n",
    "            display(pd.DataFrame(policy.T))\n",
    "            display(pd.DataFrame(world.grid.T))\n",
    "            return\n",
    "            \n",
    "policy_iteration(world, MatPol)"
   ]
  },
  {
   "cell_type": "markdown",
   "metadata": {
    "id": "ijYaKkBloGdN"
   },
   "source": [
    "## Exercise - value iteration\n",
    "\n",
    "Value iteration is much more effecient than policy iteration. Implement value iteration below. See page 83 in [Introduction to Reinforcement Learning](http://incompleteideas.net/book/the-book-2nd.html).\n",
    "\n",
    "Test your implementation and display the policies found (i.e., a grid with the perferred action in each cell)."
   ]
  },
  {
   "cell_type": "code",
   "execution_count": 51,
   "metadata": {
    "id": "0lw1ZXVroJUa"
   },
   "outputs": [],
   "source": [
    "# TODO: Implement your code here"
   ]
  }
 ],
 "metadata": {
  "colab": {
   "provenance": []
  },
  "kernelspec": {
   "display_name": "Python 3",
   "language": "python",
   "name": "python3"
  },
  "language_info": {
   "codemirror_mode": {
    "name": "ipython",
    "version": 3
   },
   "file_extension": ".py",
   "mimetype": "text/x-python",
   "name": "python",
   "nbconvert_exporter": "python",
   "pygments_lexer": "ipython3",
   "version": "3.10.12"
  }
 },
 "nbformat": 4,
 "nbformat_minor": 0
}
