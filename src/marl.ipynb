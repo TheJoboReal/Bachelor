{
 "cells": [
  {
   "cell_type": "code",
   "execution_count": 8,
   "metadata": {},
   "outputs": [
    {
     "name": "stdout",
     "output_type": "stream",
     "text": [
      "Requirement already satisfied: numpy in /home/kasper/Documents/Civilingenioer_Robotteknologi/Bachelor/.venv/lib/python3.10/site-packages (2.2.3)\n",
      "Requirement already satisfied: panda in /home/kasper/Documents/Civilingenioer_Robotteknologi/Bachelor/.venv/lib/python3.10/site-packages (0.3.1)\n",
      "Requirement already satisfied: matplotlib in /home/kasper/Documents/Civilingenioer_Robotteknologi/Bachelor/.venv/lib/python3.10/site-packages (3.10.0)\n",
      "Requirement already satisfied: setuptools in /home/kasper/Documents/Civilingenioer_Robotteknologi/Bachelor/.venv/lib/python3.10/site-packages (from panda) (75.8.0)\n",
      "Requirement already satisfied: requests in /home/kasper/Documents/Civilingenioer_Robotteknologi/Bachelor/.venv/lib/python3.10/site-packages (from panda) (2.32.3)\n",
      "Requirement already satisfied: contourpy>=1.0.1 in /home/kasper/Documents/Civilingenioer_Robotteknologi/Bachelor/.venv/lib/python3.10/site-packages (from matplotlib) (1.3.1)\n",
      "Requirement already satisfied: cycler>=0.10 in /home/kasper/Documents/Civilingenioer_Robotteknologi/Bachelor/.venv/lib/python3.10/site-packages (from matplotlib) (0.12.1)\n",
      "Requirement already satisfied: fonttools>=4.22.0 in /home/kasper/Documents/Civilingenioer_Robotteknologi/Bachelor/.venv/lib/python3.10/site-packages (from matplotlib) (4.56.0)\n",
      "Requirement already satisfied: kiwisolver>=1.3.1 in /home/kasper/Documents/Civilingenioer_Robotteknologi/Bachelor/.venv/lib/python3.10/site-packages (from matplotlib) (1.4.8)\n",
      "Requirement already satisfied: packaging>=20.0 in /home/kasper/Documents/Civilingenioer_Robotteknologi/Bachelor/.venv/lib/python3.10/site-packages (from matplotlib) (24.2)\n",
      "Requirement already satisfied: pillow>=8 in /home/kasper/Documents/Civilingenioer_Robotteknologi/Bachelor/.venv/lib/python3.10/site-packages (from matplotlib) (11.1.0)\n",
      "Requirement already satisfied: pyparsing>=2.3.1 in /home/kasper/Documents/Civilingenioer_Robotteknologi/Bachelor/.venv/lib/python3.10/site-packages (from matplotlib) (3.2.1)\n",
      "Requirement already satisfied: python-dateutil>=2.7 in /home/kasper/Documents/Civilingenioer_Robotteknologi/Bachelor/.venv/lib/python3.10/site-packages (from matplotlib) (2.9.0.post0)\n",
      "Requirement already satisfied: six>=1.5 in /home/kasper/Documents/Civilingenioer_Robotteknologi/Bachelor/.venv/lib/python3.10/site-packages (from python-dateutil>=2.7->matplotlib) (1.17.0)\n",
      "Requirement already satisfied: charset-normalizer<4,>=2 in /home/kasper/Documents/Civilingenioer_Robotteknologi/Bachelor/.venv/lib/python3.10/site-packages (from requests->panda) (3.4.1)\n",
      "Requirement already satisfied: idna<4,>=2.5 in /home/kasper/Documents/Civilingenioer_Robotteknologi/Bachelor/.venv/lib/python3.10/site-packages (from requests->panda) (3.10)\n",
      "Requirement already satisfied: urllib3<3,>=1.21.1 in /home/kasper/Documents/Civilingenioer_Robotteknologi/Bachelor/.venv/lib/python3.10/site-packages (from requests->panda) (2.3.0)\n",
      "Requirement already satisfied: certifi>=2017.4.17 in /home/kasper/Documents/Civilingenioer_Robotteknologi/Bachelor/.venv/lib/python3.10/site-packages (from requests->panda) (2025.1.31)\n"
     ]
    }
   ],
   "source": [
    "! pip install numpy panda matplotlib"
   ]
  },
  {
   "cell_type": "code",
   "execution_count": 9,
   "metadata": {},
   "outputs": [],
   "source": [
    "import numpy as np\n",
    "import matplotlib.pyplot as plt\n",
    "import time\n",
    "import pickle  # For saving and loading Q-values"
   ]
  },
  {
   "cell_type": "code",
   "execution_count": 10,
   "metadata": {},
   "outputs": [],
   "source": [
    "# Simulation parameters\n",
    "NUM_DRONES = 5  # Number of drones in the simulation\n",
    "GRID_SIZE = 20   # Size of the search grid\n",
    "BETA = 1.5  # Softmax temperature parameter\n",
    "ALPHA = 0.7  # Weight between individual and cooperative rewards\n",
    "GAMMA = 0.9  # Discount factor for long-term rewards\n",
    "LAMBDA = 0.1  # Energy consumption penalty\n",
    "MAX_BATTERY = 100  # Maximum battery capacity per drone\n",
    "CHARGING_STATION = (0, 0)  # Fixed charging station location\n",
    "ITERATIONS = 100\n",
    "\n",
    "# Priority map is now input, no need for discovery\n",
    "PRIORITY_MAP = np.random.randint(1, 6, (GRID_SIZE, GRID_SIZE))  # Predefined heatmap\n",
    "SEARCHED_MAP = np.zeros((GRID_SIZE, GRID_SIZE))  # Track searched areas"
   ]
  },
  {
   "cell_type": "code",
   "execution_count": 11,
   "metadata": {},
   "outputs": [],
   "source": [
    "# Initialize Q-table\n",
    "try:\n",
    "    with open(\"q_values.pkl\", \"rb\") as f:\n",
    "        Q_TABLE = pickle.load(f)\n",
    "except FileNotFoundError:\n",
    "    Q_TABLE = np.zeros((GRID_SIZE, GRID_SIZE, 4))  # Q-values for each state-action pair\n",
    "    with open(\"q_values.pkl\", \"wb\") as f:\n",
    "        pickle.dump(Q_TABLE, f)\n",
    "        np.random.seed(42)  # For reproducibility\n",
    "class Drone:\n",
    "    def __init__(self, drone_id):\n",
    "        self.id = drone_id  # Unique identifier for the drone\n",
    "        self.state = (0,0)\n",
    "        self.visited_states = [tuple(self.state)]  # Track visited states\n",
    "        self.cumulative_reward = 0  # Keep track of total search priority collected\n",
    "        self.battery = MAX_BATTERY  # Initialize battery life\n",
    "        self.active = True  # Drone status\n",
    "    \n",
    "    def compute_reward(self, new_state):\n",
    "        \"\"\" Compute reward with energy constraint \"\"\"\n",
    "        R_ind = PRIORITY_MAP[new_state[0], new_state[1]]\n",
    "        R_coop = 1 / (1 + SEARCHED_MAP[new_state[0], new_state[1]])  # Incentivize unexplored areas\n",
    "        E_cost = LAMBDA * (1 - (self.battery / MAX_BATTERY))  # Energy penalty\n",
    "        return ALPHA * R_ind + (1 - ALPHA) * R_coop - E_cost\n",
    "    \n",
    "    def softmax_policy(self, available_actions):\n",
    "        \"\"\" Select action based on softmax over Q-values \"\"\"\n",
    "        q_values = np.array([self.get_q_value(pos) for pos in available_actions])\n",
    "        exp_q = np.exp(BETA * q_values)\n",
    "        probabilities = exp_q / np.sum(exp_q)\n",
    "        return available_actions[np.random.choice(len(available_actions), p=probabilities)]\n",
    "    \n",
    "    def get_q_value(self, state):\n",
    "        \"\"\" Retrieve Q-value for a given state \"\"\"\n",
    "        return np.max(Q_TABLE[state[0], state[1], :])\n",
    "    \n",
    "    def update_q_value(self, state, reward):\n",
    "        \"\"\" Update Q-table with the new experience \"\"\"\n",
    "        Q_TABLE[state[0], state[1], :] = reward + GAMMA * np.max(Q_TABLE[state[0], state[1], :])\n",
    "    \n",
    "    def take_action(self):\n",
    "        \"\"\" action towards an area based on softmax action selection \"\"\"\n",
    "        if not self.active:\n",
    "            return\n",
    "        \n",
    "        if self.battery <= 10:\n",
    "            self.state = np.array(CHARGING_STATION)  # action to charging station\n",
    "            self.battery = MAX_BATTERY  # Recharge battery\n",
    "            self.visited_states.append(tuple(self.state))  # Update visited states\n",
    "            return\n",
    "        \n",
    "        search_directions = [\n",
    "            np.array([1, 0]), np.array([-1, 0]),\n",
    "            np.array([0, 1]), np.array([0, -1])\n",
    "        ]\n",
    "        \n",
    "        available_actions = []\n",
    "        for direction in search_directions:\n",
    "            new_state = self.state + direction\n",
    "            if 0 <= new_state[0] < GRID_SIZE and 0 <= new_state[1] < GRID_SIZE:\n",
    "                available_actions.append(new_state)\n",
    "        \n",
    "        if available_actions:\n",
    "            best_action = self.softmax_policy(available_actions)\n",
    "            self.state = best_action\n",
    "            reward = self.compute_reward(best_action)\n",
    "            self.cumulative_reward += reward\n",
    "            SEARCHED_MAP[self.state[0], self.state[1]] += 1  # Mark as searched\n",
    "            self.update_q_value(best_action, reward)\n",
    "            self.battery -= 1  # Reduce battery life\n",
    "        \n",
    "        self.visited_states.append(tuple(self.state))\n",
    "\n",
    "def save_q_table():\n",
    "    \"\"\" Save the Q-table for future use \"\"\"\n",
    "    with open(\"q_values.pkl\", \"wb\") as f:\n",
    "        pickle.dump(Q_TABLE, f)\n",
    "\n",
    "def run_simulation():\n",
    "    \"\"\" Run the search and visualization of drone actionment in real time \"\"\"\n",
    "    drones = [Drone(i) for i in range(NUM_DRONES)]  # Initialize drones\n",
    "    \n",
    "    plt.ion()  # Enable interactive mode for real-time plotting\n",
    "    fig, ax = plt.subplots(figsize=(6, 6))\n",
    "    \n",
    "    sim_iteration = ITERATIONS\n",
    "    while sim_iteration:\n",
    "        ax.clear()\n",
    "        ax.imshow(PRIORITY_MAP, cmap='hot', origin='lower', alpha=0.5)  # Display priority map\n",
    "        ax.imshow(SEARCHED_MAP, cmap='cool', origin='lower', alpha=0.5)  # Overlay search progress\n",
    "        \n",
    "        for drone in drones:\n",
    "            drone.take_action()\n",
    "            path = np.array(drone.visited_states)\n",
    "            ax.plot(path[:, 1], path[:, 0], linestyle='--', marker='o', markersize=3, label=f'Drone {drone.id}')\n",
    "        \n",
    "        ax.set_xlim(-1, GRID_SIZE)\n",
    "        ax.set_ylim(-1, GRID_SIZE)\n",
    "        ax.set_title(f\"Iteration {sim_iteration - 1}\")\n",
    "        ax.legend()\n",
    "        ax.grid()\n",
    "        plt.draw()\n",
    "        plt.pause(0.1)  # Pause for a short duration to simulate real-time updates\n",
    "        sim_iteration -= 1\n",
    "    \n",
    "    save_q_table()  # Save the Q-values after completing the search\n",
    "    print(\"Search completed! Q-table saved for future missions.\")\n"
   ]
  },
  {
   "cell_type": "code",
   "execution_count": 12,
   "metadata": {},
   "outputs": [
    {
     "data": {
      "image/png": "[encoded data removed]",
      "text/plain": [
       "<Figure size 600x600 with 1 Axes>"
      ]
     },
     "metadata": {},
     "output_type": "display_data"
    },
    {
     "data": {
      "text/plain": [
       "<Figure size 640x480 with 0 Axes>"
      ]
     },
     "metadata": {},
     "output_type": "display_data"
    },
    {
     "data": {
      "text/plain": [
       "<Figure size 640x480 with 0 Axes>"
      ]
     },
     "metadata": {},
     "output_type": "display_data"
    },
    {
     "data": {
      "text/plain": [
       "<Figure size 640x480 with 0 Axes>"
      ]
     },
     "metadata": {},
     "output_type": "display_data"
    },
    {
     "data": {
      "text/plain": [
       "<Figure size 640x480 with 0 Axes>"
      ]
     },
     "metadata": {},
     "output_type": "display_data"
    },
    {
     "data": {
      "text/plain": [
       "<Figure size 640x480 with 0 Axes>"
      ]
     },
     "metadata": {},
     "output_type": "display_data"
    },
    {
     "data": {
      "text/plain": [
       "<Figure size 640x480 with 0 Axes>"
      ]
     },
     "metadata": {},
     "output_type": "display_data"
    },
    {
     "data": {
      "text/plain": [
       "<Figure size 640x480 with 0 Axes>"
      ]
     },
     "metadata": {},
     "output_type": "display_data"
    },
    {
     "data": {
      "text/plain": [
       "<Figure size 640x480 with 0 Axes>"
      ]
     },
     "metadata": {},
     "output_type": "display_data"
    },
    {
     "data": {
      "text/plain": [
       "<Figure size 640x480 with 0 Axes>"
      ]
     },
     "metadata": {},
     "output_type": "display_data"
    },
    {
     "data": {
      "text/plain": [
       "<Figure size 640x480 with 0 Axes>"
      ]
     },
     "metadata": {},
     "output_type": "display_data"
    },
    {
     "data": {
      "text/plain": [
       "<Figure size 640x480 with 0 Axes>"
      ]
     },
     "metadata": {},
     "output_type": "display_data"
    },
    {
     "data": {
      "text/plain": [
       "<Figure size 640x480 with 0 Axes>"
      ]
     },
     "metadata": {},
     "output_type": "display_data"
    },
    {
     "data": {
      "text/plain": [
       "<Figure size 640x480 with 0 Axes>"
      ]
     },
     "metadata": {},
     "output_type": "display_data"
    },
    {
     "data": {
      "text/plain": [
       "<Figure size 640x480 with 0 Axes>"
      ]
     },
     "metadata": {},
     "output_type": "display_data"
    },
    {
     "data": {
      "text/plain": [
       "<Figure size 640x480 with 0 Axes>"
      ]
     },
     "metadata": {},
     "output_type": "display_data"
    },
    {
     "data": {
      "text/plain": [
       "<Figure size 640x480 with 0 Axes>"
      ]
     },
     "metadata": {},
     "output_type": "display_data"
    },
    {
     "data": {
      "text/plain": [
       "<Figure size 640x480 with 0 Axes>"
      ]
     },
     "metadata": {},
     "output_type": "display_data"
    },
    {
     "data": {
      "text/plain": [
       "<Figure size 640x480 with 0 Axes>"
      ]
     },
     "metadata": {},
     "output_type": "display_data"
    },
    {
     "data": {
      "text/plain": [
       "<Figure size 640x480 with 0 Axes>"
      ]
     },
     "metadata": {},
     "output_type": "display_data"
    },
    {
     "data": {
      "text/plain": [
       "<Figure size 640x480 with 0 Axes>"
      ]
     },
     "metadata": {},
     "output_type": "display_data"
    },
    {
     "data": {
      "text/plain": [
       "<Figure size 640x480 with 0 Axes>"
      ]
     },
     "metadata": {},
     "output_type": "display_data"
    },
    {
     "data": {
      "text/plain": [
       "<Figure size 640x480 with 0 Axes>"
      ]
     },
     "metadata": {},
     "output_type": "display_data"
    },
    {
     "data": {
      "text/plain": [
       "<Figure size 640x480 with 0 Axes>"
      ]
     },
     "metadata": {},
     "output_type": "display_data"
    },
    {
     "data": {
      "text/plain": [
       "<Figure size 640x480 with 0 Axes>"
      ]
     },
     "metadata": {},
     "output_type": "display_data"
    },
    {
     "data": {
      "text/plain": [
       "<Figure size 640x480 with 0 Axes>"
      ]
     },
     "metadata": {},
     "output_type": "display_data"
    },
    {
     "data": {
      "text/plain": [
       "<Figure size 640x480 with 0 Axes>"
      ]
     },
     "metadata": {},
     "output_type": "display_data"
    },
    {
     "data": {
      "text/plain": [
       "<Figure size 640x480 with 0 Axes>"
      ]
     },
     "metadata": {},
     "output_type": "display_data"
    },
    {
     "data": {
      "text/plain": [
       "<Figure size 640x480 with 0 Axes>"
      ]
     },
     "metadata": {},
     "output_type": "display_data"
    },
    {
     "data": {
      "text/plain": [
       "<Figure size 640x480 with 0 Axes>"
      ]
     },
     "metadata": {},
     "output_type": "display_data"
    },
    {
     "data": {
      "text/plain": [
       "<Figure size 640x480 with 0 Axes>"
      ]
     },
     "metadata": {},
     "output_type": "display_data"
    },
    {
     "data": {
      "text/plain": [
       "<Figure size 640x480 with 0 Axes>"
      ]
     },
     "metadata": {},
     "output_type": "display_data"
    },
    {
     "data": {
      "text/plain": [
       "<Figure size 640x480 with 0 Axes>"
      ]
     },
     "metadata": {},
     "output_type": "display_data"
    },
    {
     "data": {
      "text/plain": [
       "<Figure size 640x480 with 0 Axes>"
      ]
     },
     "metadata": {},
     "output_type": "display_data"
    },
    {
     "data": {
      "text/plain": [
       "<Figure size 640x480 with 0 Axes>"
      ]
     },
     "metadata": {},
     "output_type": "display_data"
    },
    {
     "data": {
      "text/plain": [
       "<Figure size 640x480 with 0 Axes>"
      ]
     },
     "metadata": {},
     "output_type": "display_data"
    },
    {
     "data": {
      "text/plain": [
       "<Figure size 640x480 with 0 Axes>"
      ]
     },
     "metadata": {},
     "output_type": "display_data"
    },
    {
     "data": {
      "text/plain": [
       "<Figure size 640x480 with 0 Axes>"
      ]
     },
     "metadata": {},
     "output_type": "display_data"
    },
    {
     "data": {
      "text/plain": [
       "<Figure size 640x480 with 0 Axes>"
      ]
     },
     "metadata": {},
     "output_type": "display_data"
    },
    {
     "data": {
      "text/plain": [
       "<Figure size 640x480 with 0 Axes>"
      ]
     },
     "metadata": {},
     "output_type": "display_data"
    },
    {
     "data": {
      "text/plain": [
       "<Figure size 640x480 with 0 Axes>"
      ]
     },
     "metadata": {},
     "output_type": "display_data"
    },
    {
     "data": {
      "text/plain": [
       "<Figure size 640x480 with 0 Axes>"
      ]
     },
     "metadata": {},
     "output_type": "display_data"
    },
    {
     "data": {
      "text/plain": [
       "<Figure size 640x480 with 0 Axes>"
      ]
     },
     "metadata": {},
     "output_type": "display_data"
    },
    {
     "data": {
      "text/plain": [
       "<Figure size 640x480 with 0 Axes>"
      ]
     },
     "metadata": {},
     "output_type": "display_data"
    },
    {
     "data": {
      "text/plain": [
       "<Figure size 640x480 with 0 Axes>"
      ]
     },
     "metadata": {},
     "output_type": "display_data"
    },
    {
     "data": {
      "text/plain": [
       "<Figure size 640x480 with 0 Axes>"
      ]
     },
     "metadata": {},
     "output_type": "display_data"
    },
    {
     "data": {
      "text/plain": [
       "<Figure size 640x480 with 0 Axes>"
      ]
     },
     "metadata": {},
     "output_type": "display_data"
    },
    {
     "data": {
      "text/plain": [
       "<Figure size 640x480 with 0 Axes>"
      ]
     },
     "metadata": {},
     "output_type": "display_data"
    },
    {
     "data": {
      "text/plain": [
       "<Figure size 640x480 with 0 Axes>"
      ]
     },
     "metadata": {},
     "output_type": "display_data"
    },
    {
     "data": {
      "text/plain": [
       "<Figure size 640x480 with 0 Axes>"
      ]
     },
     "metadata": {},
     "output_type": "display_data"
    },
    {
     "data": {
      "text/plain": [
       "<Figure size 640x480 with 0 Axes>"
      ]
     },
     "metadata": {},
     "output_type": "display_data"
    },
    {
     "data": {
      "text/plain": [
       "<Figure size 640x480 with 0 Axes>"
      ]
     },
     "metadata": {},
     "output_type": "display_data"
    },
    {
     "data": {
      "text/plain": [
       "<Figure size 640x480 with 0 Axes>"
      ]
     },
     "metadata": {},
     "output_type": "display_data"
    },
    {
     "data": {
      "text/plain": [
       "<Figure size 640x480 with 0 Axes>"
      ]
     },
     "metadata": {},
     "output_type": "display_data"
    },
    {
     "data": {
      "text/plain": [
       "<Figure size 640x480 with 0 Axes>"
      ]
     },
     "metadata": {},
     "output_type": "display_data"
    },
    {
     "data": {
      "text/plain": [
       "<Figure size 640x480 with 0 Axes>"
      ]
     },
     "metadata": {},
     "output_type": "display_data"
    },
    {
     "data": {
      "text/plain": [
       "<Figure size 640x480 with 0 Axes>"
      ]
     },
     "metadata": {},
     "output_type": "display_data"
    },
    {
     "data": {
      "text/plain": [
       "<Figure size 640x480 with 0 Axes>"
      ]
     },
     "metadata": {},
     "output_type": "display_data"
    },
    {
     "data": {
      "text/plain": [
       "<Figure size 640x480 with 0 Axes>"
      ]
     },
     "metadata": {},
     "output_type": "display_data"
    },
    {
     "data": {
      "text/plain": [
       "<Figure size 640x480 with 0 Axes>"
      ]
     },
     "metadata": {},
     "output_type": "display_data"
    },
    {
     "ename": "KeyboardInterrupt",
     "evalue": "",
     "output_type": "error",
     "traceback": [
      "\u001b[0;31m---------------------------------------------------------------------------\u001b[0m",
      "\u001b[0;31mKeyboardInterrupt\u001b[0m                         Traceback (most recent call last)",
      "Cell \u001b[0;32mIn[12], line 1\u001b[0m\n\u001b[0;32m----> 1\u001b[0m \u001b[43mrun_simulation\u001b[49m\u001b[43m(\u001b[49m\u001b[43m)\u001b[49m\n",
      "Cell \u001b[0;32mIn[11], line 103\u001b[0m, in \u001b[0;36mrun_simulation\u001b[0;34m()\u001b[0m\n\u001b[1;32m    101\u001b[0m     ax\u001b[38;5;241m.\u001b[39mgrid()\n\u001b[1;32m    102\u001b[0m     plt\u001b[38;5;241m.\u001b[39mdraw()\n\u001b[0;32m--> 103\u001b[0m     \u001b[43mplt\u001b[49m\u001b[38;5;241;43m.\u001b[39;49m\u001b[43mpause\u001b[49m\u001b[43m(\u001b[49m\u001b[38;5;241;43m0.1\u001b[39;49m\u001b[43m)\u001b[49m  \u001b[38;5;66;03m# Pause for a short duration to simulate real-time updates\u001b[39;00m\n\u001b[1;32m    104\u001b[0m     sim_iteration \u001b[38;5;241m-\u001b[39m\u001b[38;5;241m=\u001b[39m \u001b[38;5;241m1\u001b[39m\n\u001b[1;32m    106\u001b[0m save_q_table()  \u001b[38;5;66;03m# Save the Q-values after completing the search\u001b[39;00m\n",
      "File \u001b[0;32m~/Documents/Civilingenioer_Robotteknologi/Bachelor/.venv/lib/python3.10/site-packages/matplotlib/pyplot.py:758\u001b[0m, in \u001b[0;36mpause\u001b[0;34m(interval)\u001b[0m\n\u001b[1;32m    756\u001b[0m         canvas\u001b[38;5;241m.\u001b[39mdraw_idle()\n\u001b[1;32m    757\u001b[0m     show(block\u001b[38;5;241m=\u001b[39m\u001b[38;5;28;01mFalse\u001b[39;00m)\n\u001b[0;32m--> 758\u001b[0m     \u001b[43mcanvas\u001b[49m\u001b[38;5;241;43m.\u001b[39;49m\u001b[43mstart_event_loop\u001b[49m\u001b[43m(\u001b[49m\u001b[43minterval\u001b[49m\u001b[43m)\u001b[49m\n\u001b[1;32m    759\u001b[0m \u001b[38;5;28;01melse\u001b[39;00m:\n\u001b[1;32m    760\u001b[0m     time\u001b[38;5;241m.\u001b[39msleep(interval)\n",
      "File \u001b[0;32m~/Documents/Civilingenioer_Robotteknologi/Bachelor/.venv/lib/python3.10/site-packages/matplotlib/backend_bases.py:2365\u001b[0m, in \u001b[0;36mFigureCanvasBase.start_event_loop\u001b[0;34m(self, timeout)\u001b[0m\n\u001b[1;32m   2363\u001b[0m \u001b[38;5;28;01mwhile\u001b[39;00m \u001b[38;5;28mself\u001b[39m\u001b[38;5;241m.\u001b[39m_looping \u001b[38;5;129;01mand\u001b[39;00m counter \u001b[38;5;241m*\u001b[39m timestep \u001b[38;5;241m<\u001b[39m timeout:\n\u001b[1;32m   2364\u001b[0m     \u001b[38;5;28mself\u001b[39m\u001b[38;5;241m.\u001b[39mflush_events()\n\u001b[0;32m-> 2365\u001b[0m     \u001b[43mtime\u001b[49m\u001b[38;5;241;43m.\u001b[39;49m\u001b[43msleep\u001b[49m\u001b[43m(\u001b[49m\u001b[43mtimestep\u001b[49m\u001b[43m)\u001b[49m\n\u001b[1;32m   2366\u001b[0m     counter \u001b[38;5;241m+\u001b[39m\u001b[38;5;241m=\u001b[39m \u001b[38;5;241m1\u001b[39m\n",
      "\u001b[0;31mKeyboardInterrupt\u001b[0m: "
     ]
    }
   ],
   "source": [
    "run_simulation()"
   ]
  }
 ],
 "metadata": {
  "kernelspec": {
   "display_name": ".venv",
   "language": "python",
   "name": "python3"
  },
  "language_info": {
   "codemirror_mode": {
    "name": "ipython",
    "version": 3
   },
   "file_extension": ".py",
   "mimetype": "text/x-python",
   "name": "python",
   "nbconvert_exporter": "python",
   "pygments_lexer": "ipython3",
   "version": "3.10.12"
  }
 },
 "nbformat": 4,
 "nbformat_minor": 2
}
