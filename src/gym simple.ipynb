{
 "cells": [
  {
   "cell_type": "code",
   "execution_count": 159,
   "metadata": {},
   "outputs": [],
   "source": [
    "#! pip install numpy pandas ipywidgets tqdm PyQt6 scipy gymnasium \"gymnasium[other]\" \"gymnasium[classic-control]\""
   ]
  },
  {
   "cell_type": "markdown",
   "metadata": {},
   "source": []
  },
  {
   "cell_type": "markdown",
   "metadata": {},
   "source": [
    "#### Imports"
   ]
  },
  {
   "cell_type": "code",
   "execution_count": 160,
   "metadata": {},
   "outputs": [],
   "source": [
    "from typing import Optional\n",
    "import numpy as np\n",
    "import gymnasium as gym\n",
    "from collections import defaultdict\n",
    "from tqdm import tqdm\n",
    "from matplotlib import pyplot as plt\n",
    "import pickle\n",
    "from IPython.display import display, clear_output\n",
    "import copy\n",
    "from scipy.ndimage import zoom\n",
    "from tqdm.notebook import tqdm\n",
    "import pandas as pd\n",
    "from collections import defaultdict\n",
    "\n",
    "N_EPISODES = 10000\n",
    "UPDATE_STEP = 1     # Update q_values after each step\n",
    "BETA = 0.6\n",
    "ALPHA = 0.1\n",
    "GAMMA = 0.9\n",
    "SIZE = 10\n",
    "STEPS = SIZE * SIZE\n",
    "EPSILON = 0.8\n",
    "EVALUATION_STEPS = 100\n",
    "\n",
    "# TODO: Increase sensor range\n",
    "# TODO: Forstå boltzmann Beta\n",
    "# TODO: Dobbelt tjek Q-values\n",
    "# TODO: Kører pyton noget multithreading?(Episode/sekund falder ikke ved træning af flere agenter?)\n",
    "# TODO: kan gå ind i væg uden at blive punsihed.\n",
    "\n",
    "#spørgsmål\n",
    "# TODO: Spørgsmål! obs af reward var -1, 1 men rewards var jo mellem 0-10. efter ændring skete der intet? bruger vi overhovedet obs rigtigt?\n",
    "# TODO: bland visit_near og nearby agent sammen? mindre Q table?\n",
    "# TODO: er 1 \"test\" nok, til at vurdere på ens ændring, siden vi gør det over fx 20.000 episoder? så er det jo teknisk set ikke en sample size  på 1, men kan man konkludere og vurdere på 1 test alene?\n"
   ]
  },
  {
   "cell_type": "markdown",
   "metadata": {},
   "source": [
    "#### World class"
   ]
  },
  {
   "cell_type": "code",
   "execution_count": 161,
   "metadata": {},
   "outputs": [],
   "source": [
    "class GridWorldEnv(gym.Env):\n",
    "\n",
    "    def __init__(self, size: int = 10):\n",
    "        # The size of the square grid\n",
    "        self.size = size\n",
    "        self.trajectory = []\n",
    "        self.world = np.zeros((size, size))\n",
    "        self.visited_states = np.zeros((size, size))\n",
    "        self.global_location = np.zeros((size, size))\n",
    "\n",
    "\n",
    "        # Define the agent and target location; randomly chosen in `reset` and updated in `step`\n",
    "        self._agent_location = np.array([1, 1], dtype=np.int32)\n",
    "        self._visited_states_near = np.zeros((3, 3))\n",
    "        self._reward_near = np.zeros(4)\n",
    "        self._nearby_agent = np.zeros((5,5))\n",
    "        \n",
    "\n",
    "\n",
    "        # Observations are dictionaries with the agent's and the target's location.\n",
    "        self.observation_space = gym.spaces.Dict(\n",
    "            {\n",
    "            \"visited_states_near\": gym.spaces.Box(0, 1, shape=(3, 3), dtype=int),\n",
    "            \"reward_near\": gym.spaces.Box(0, 10, shape=(0, 4), dtype=int),\n",
    "            \"nearby_agent\": gym.spaces.Box(0, 1, shape=(5, 5), dtype=int),\n",
    "            }\n",
    "        )\n",
    "\n",
    "        # We have 8 actions, corresponding to \"right\", \"up\", \"left\", \"down\" and diagonal\n",
    "        self.action_space = gym.spaces.Discrete(4)\n",
    "        # Dictionary maps the abstract actions to the directions on the grid\n",
    "        self._action_to_direction = {\n",
    "            0: np.array([1, 0]),  # right\n",
    "            1: np.array([0, 1]),  # up\n",
    "            2: np.array([-1, 0]),  # left\n",
    "            3: np.array([0, -1]),  # down\n",
    "            # 4: np.array([1, 1]),  # up-right\n",
    "            # 5: np.array([-1, 1]),  # up-left\n",
    "            # 6: np.array([-1, -1]),  # down-left\n",
    "            # 7: np.array([1, -1]),  # down-right\n",
    "        }\n",
    "    \n",
    "    def normalize_env_reward(self):\n",
    "        # Normalize the world to be between 0 and 1\n",
    "        min_val = 0\n",
    "        max_val = 10\n",
    "        self.world = (self.world - min_val) / (max_val - min_val)\n",
    "\n",
    "    def scale_env(self):\n",
    "        # Scale all rewards to be between 0 and 10\n",
    "        min_val = np.min(self.world)\n",
    "        max_val = np.max(self.world)\n",
    "        self.world = (self.world - min_val) / (max_val - min_val) * 10\n",
    "        self.world = np.round(self.world, 0)\n",
    "\n",
    "\n",
    "    def random_env(self):\n",
    "        self.world = np.random.randint(1, 11, size=(self.size, self.size))\n",
    "\n",
    "    def heatmap_env(self):\n",
    "        with open(\"../Kaspers_chad_pdfer_mm/heatmap/data/heatmap.pkl\", \"rb\") as f:\n",
    "            heatmap = np.rot90(pickle.load(f), k=1)\n",
    "        \n",
    "        heatmap_scaled = zoom(heatmap, (self.size / heatmap.shape[0], self.size / heatmap.shape[1]), order=1)  # Bilinear interpolation\n",
    "\n",
    "        self.world = heatmap_scaled\n",
    "        # self.normalize_env_reward()\n",
    "        self.scale_env()\n",
    "    \n",
    "    def reset_visited_states(self):\n",
    "        self.visited_states = np.zeros((self.size, self.size))\n",
    "    \n",
    "    def world_from_matrix(self, matrix):\n",
    "        self.world = matrix\n",
    "\n",
    "    def setReward(self, x, y , reward):\n",
    "        self.world[x][y] = reward\n",
    "\n",
    "    def _get_info(self):\n",
    "        return {\n",
    "            \"agent_location\": self._agent_location\n",
    "        }\n",
    "\n",
    "    def _get_obs(self):\n",
    "        return {\n",
    "            \"visited_states_near\": self._visited_states_near,\n",
    "            \"reward_near\": self._reward_near,\n",
    "            \"nearby_agent\": self._nearby_agent,\n",
    "        }\n",
    "    \n",
    "\n",
    "    def reset_global_location(self):\n",
    "        self.global_location = np.zeros((self.size, self.size))\n",
    "\n",
    "    def reset(self, agents, seed: Optional[int] = None, options: Optional[dict] = None):\n",
    "        # We need the following line to seed self.np_random\n",
    "        super().reset(seed=seed)\n",
    "\n",
    "        # Choose the agent's location uniformly at random\n",
    "        for agent in agents:\n",
    "            agent.location = self.np_random.integers(0, self.size -1, size=2, dtype=int)\n",
    "        \n",
    "        # reset visited states near and reward_near\n",
    "        self.reset_visited_states()\n",
    "        self.reset_global_location()\n",
    "\n",
    "\n",
    "        observation = self._get_obs()\n",
    "        info = self._get_info()\n",
    "\n",
    "\n",
    "\n",
    "        return observation, info\n",
    "\n",
    "    def getReward(self):\n",
    "        return self.world[self._agent_location[0], self._agent_location[1]]\n",
    "\n",
    "\n",
    "    def check_rewards_near(self):\n",
    "        x, y = self._agent_location\n",
    "        rewards = []\n",
    "        for dx, dy in self._action_to_direction.values():\n",
    "            nx, ny = x + dx, y + dy\n",
    "            if 0 <= nx < self.size and 0 <= ny < self.size:\n",
    "                rewards.append(self.world[nx][ny])\n",
    "            else:\n",
    "                rewards.append(-np.inf)\n",
    "\n",
    "        # Find the index of the maximum reward\n",
    "        max_reward_index = np.argmax(rewards)\n",
    "\n",
    "        # Create a one-hot encoded vector for the action space\n",
    "        self._reward_near = np.zeros(8)\n",
    "        self._reward_near[max_reward_index] = 1\n",
    "\n",
    "    def check_visited_near(self):\n",
    "        # Create a 3x3 local view centered on the agent\n",
    "        x, y = self._agent_location\n",
    "\n",
    "        for dx in range(-1, 2):\n",
    "            for dy in range(-1, 2):\n",
    "                nx, ny = x + dx, y + dy\n",
    "                if 0 <= nx < self.size and 0 <= ny < self.size:\n",
    "                    self._visited_states_near[dx + 1, dy + 1] = self.visited_states[nx][ny]\n",
    "\n",
    "    def update_global_location(self):\n",
    "        self.global_location[self._agent_location[0], self._agent_location[1]] = 1\n",
    "\n",
    "    def check_nearby_agents(self):\n",
    "        \"\"\"Checks for other agents in a 5x5 grid centered on the agent.\"\"\"\n",
    "        x, y = self._agent_location\n",
    "\n",
    "        for dx in range(-2, 3): \n",
    "            for dy in range(-2, 3):\n",
    "                nx, ny = x + dx, y + dy\n",
    "\n",
    "                # Check if within bounds\n",
    "                if 0 <= nx < self.size and 0 <= ny < self.size:\n",
    "                    self._nearby_agent[dx + 2, dy + 2] = self.global_location[nx][ny]  \n",
    "\n",
    "    def step(self, action):\n",
    "        # Map the action (element of {0,1,2,3,4,5,6,7}) to the direction we walk in\n",
    "        direction = self._action_to_direction[action]\n",
    "\n",
    "        self.check_visited_near()\n",
    "    \n",
    "        self.global_location[self._agent_location[0], self._agent_location[1]] = 0\n",
    "        # We use `np.clip` to make sure we don't leave the grid bounds\n",
    "        self._agent_location = np.clip(\n",
    "            self._agent_location + direction, 0, self.size - 1\n",
    "        )\n",
    "        self.global_location[self._agent_location[0], self._agent_location[1]] = 1\n",
    "\n",
    "         # --- Update `visited_states` ---\n",
    "        grid_x, grid_y = self._agent_location\n",
    "        self.visited_states[grid_x][grid_y] = 1\n",
    "\n",
    "        self.check_rewards_near()\n",
    "        self.check_nearby_agents()\n",
    "\n",
    "        # An environment is completed if and only if the agent has searched all states\n",
    "        terminated = False\n",
    "        truncated = False\n",
    "        reward = self.getReward()\n",
    "        observation = self._get_obs()\n",
    "        info = self._get_info()\n",
    "\n",
    "        \n",
    "\n",
    "        return observation, reward, terminated, truncated, info\n",
    "    \n",
    "    "
   ]
  },
  {
   "attachments": {
    "image.png": {
     "image/png": "[encoded data removed]"
    }
   },
   "cell_type": "markdown",
   "metadata": {},
   "source": [
    "#### Agent Class\n",
    "![image.png](attachment:image.png)"
   ]
  },
  {
   "cell_type": "code",
   "execution_count": 162,
   "metadata": {},
   "outputs": [],
   "source": [
    "class SAR_agent:\n",
    "    def __init__(\n",
    "        self,\n",
    "        agent_id,\n",
    "        env: gym.Env,\n",
    "        alpha: float,\n",
    "        beta,\n",
    "        epsilon,\n",
    "        gamma: float = 0.0\n",
    "    ):\n",
    "        self.agent_id = agent_id\n",
    "        self.env = env\n",
    "        self.q_values = defaultdict(lambda: np.zeros(env.action_space.n))\n",
    "        self.location = np.array([-1, -1], dtype=np.int32)\n",
    "\n",
    "        self.alpha = alpha\n",
    "        self.epsilon = epsilon\n",
    "        self.gamma = gamma\n",
    "        self.beta = beta\n",
    "\n",
    "        self.trajectory = []\n",
    "        self.training_error = []\n",
    "\n",
    "    def reset_trajectory(self):\n",
    "        self.trajectory = []\n",
    "\n",
    "    def add_trajectory(self, info):\n",
    "        location = info['agent_location']\n",
    "        self.trajectory.append(location)\n",
    "\n",
    "    def get_state(self, obs: dict):\n",
    "        visited_states_near = obs[\"visited_states_near\"]\n",
    "        reward_near = obs[\"reward_near\"]\n",
    "        nearby_agent = obs[\"nearby_agent\"]\n",
    "\n",
    "        return (\n",
    "            np.sum(visited_states_near),\n",
    "            tuple(reward_near.flatten()),\n",
    "            np.sum(nearby_agent)\n",
    "        )\n",
    "\n",
    "    def mega_greedy_swarm_action(self, obs: dict) -> int:\n",
    "        agent_state = self.get_state(obs)\n",
    "        display(self.q_values[agent_state])\n",
    "        print(\"Taking action: \", int(np.argmax(self.q_values[agent_state])))\n",
    "        return int(np.argmax(self.q_values[agent_state]))\n",
    "\n",
    "    def get_action_boltz(self, obs: dict) -> int:\n",
    "        agent_state = self.get_state(obs)\n",
    "\n",
    "        q_values = self.q_values[agent_state]\n",
    "        exp_q = np.exp(self.beta * q_values - np.max(self.beta * q_values))\n",
    "        boltzmann_probs = exp_q / np.sum(exp_q)\n",
    "\n",
    "        return np.random.choice(len(q_values), p=boltzmann_probs)\n",
    "\n",
    "    def get_action_epsilon(self, obs: dict) -> int:\n",
    "        if np.random.random() < self.epsilon:\n",
    "            return self.env.action_space.sample()\n",
    "        else:\n",
    "            agent_state = self.get_state(obs)\n",
    "            return int(np.argmax(self.q_values[agent_state]))\n",
    "\n",
    "    def update(\n",
    "        self,\n",
    "        obs: dict,  \n",
    "        action: int,\n",
    "        reward: float,\n",
    "        terminated: bool,\n",
    "        next_obs: dict  \n",
    "    ):\n",
    "        agent_state = self.get_state(obs)\n",
    "        next_agent_state = self.get_state(next_obs)\n",
    "\n",
    "        future_q_value = (not terminated) * np.max(self.q_values[next_agent_state])\n",
    "\n",
    "        temporal_difference = (\n",
    "            reward + self.gamma * future_q_value - self.q_values[agent_state][action]\n",
    "        )\n",
    "\n",
    "        self.q_values[agent_state][action] += self.alpha * temporal_difference\n",
    "        self.training_error.append(temporal_difference)\n",
    "\n",
    "\n",
    "    def plot_trajectory(self, time_step):\n",
    "        plt.figure()\n",
    "        for i, state in enumerate(self.trajectory):\n",
    "            clear_output(wait=True)\n",
    "            plt.xlabel(\"X\")\n",
    "            plt.ylabel(\"Y\")\n",
    "            plt.title(\"Agent's Trajectory Simulation\")\n",
    "            plt.grid(True)\n",
    "            \n",
    "            past_x, past_y = zip(*self.trajectory[: i + 1])\n",
    "            plt.plot(past_x, past_y, \"bo-\", label=\"Past Path\")\n",
    "\n",
    "            plt.plot(state[0], state[1], \"ro\", markersize=10, label=\"Current Position\")\n",
    "            \n",
    "            plt.legend()\n",
    "            plt.xlim(-1, self.env.size + 1)\n",
    "            plt.ylim(-1, self.env.size + 1)\n",
    "            plt.pause(time_step)\n",
    "        \n",
    "        plt.show()"
   ]
  },
  {
   "cell_type": "markdown",
   "metadata": {},
   "source": [
    "#### Swarm Class"
   ]
  },
  {
   "cell_type": "code",
   "execution_count": 163,
   "metadata": {},
   "outputs": [],
   "source": [
    "class swarm:\n",
    "    def __init__(self, env, agents, n_episodes, update_step=1):\n",
    "        self.env = env\n",
    "        self.agents = agents\n",
    "        self.visited_states = [[0 for _ in range(env.size)] for _ in range(env.size)]\n",
    "        self.cum_reward = []    # :TODO overvej nyt navn\n",
    "        self.episode_cum_reward = [0 for _ in range(N_EPISODES)]\n",
    "        self.n_episodes = n_episodes\n",
    "        self.revisits = []\n",
    "        self.info_pr_episode = []\n",
    "        self.update_step = update_step\n",
    "\n",
    "    #writes to visited states\n",
    "    def state_visited(self, obs):\n",
    "        x, y = obs['agent']\n",
    "        self.visited_states[y][x] = 1  # mark as visited\n",
    "\n",
    "    #reads from visited states\n",
    "    def state_has_been_visited(self, obs):\n",
    "        x, y = obs['agent']\n",
    "        return self.visited_states[y][x] == 1\n",
    "\n",
    "    def reset_trajectory(self):\n",
    "        for agent in self.agents:\n",
    "            agent.reset_trajectory()\n",
    "\n",
    "    def calc_revisits(self, train_env):\n",
    "        revisited = 0\n",
    "        for i in range(train_env.size):\n",
    "            for j in range(train_env.size):\n",
    "                revisited += train_env.visited_states[i][j]\n",
    "                self.revisits.append(revisited)\n",
    "\n",
    "    def calc_info(self, train_env):\n",
    "        visited_rewards = 0\n",
    "        for i in range(train_env.size):\n",
    "            for j in range(train_env.size):\n",
    "                visited_rewards += self.env.world[i][j] * train_env.visited_states[i][j]\n",
    "\n",
    "    \n",
    "        total_rewards = np.sum(self.env.world)\n",
    "        \n",
    "        self.info_pr_episode.append(visited_rewards / total_rewards)\n",
    "\n",
    "\n",
    "    def train_swarm(self, max_steps):\n",
    "        progress_bar = tqdm(range(self.n_episodes), desc=\"Training Progress\", unit=\"episode\", leave=False)\n",
    "\n",
    "        for episode in progress_bar:\n",
    "            train_env = copy.deepcopy(self.env)\n",
    "            progress_bar.set_description(f\"Training Progress (Episode {episode + 1}/{self.n_episodes})\")\n",
    "\n",
    "            # Reset the environment for the start of the episode\n",
    "            obs, info = train_env.reset(self.agents)\n",
    "            self.reset_trajectory()\n",
    "            \n",
    "            self.cum_reward = 0\n",
    "            terminated = False\n",
    "            steps = 0\n",
    "            done = False\n",
    "\n",
    "            # Run the episode until termination\n",
    "            while not done:\n",
    "\n",
    "                for agent in self.agents:\n",
    "                    x, y = info['agent_location']\n",
    "                    train_env.setReward(x, y, -10)\n",
    "\n",
    "                    action = agent.get_action_boltz(obs)\n",
    "                    # action = agent.get_action_boltz(obs, steps)\n",
    "\n",
    "                    next_obs, reward, terminated, truncated, info = train_env.step(action)\n",
    "                    agent.add_trajectory(info)\n",
    "\n",
    "                    if(steps % self.update_step == 0):\n",
    "                        agent.update(obs, action, reward, terminated, next_obs)\n",
    "\n",
    "                    self.episode_cum_reward[episode] += reward\n",
    "\n",
    "                    if steps >= max_steps:\n",
    "                        terminated = True\n",
    "\n",
    "                    done = terminated or truncated\n",
    "                    obs = next_obs\n",
    "                    steps += 1\n",
    "        \n",
    "        progress_bar.close()\n",
    "\n",
    "\n",
    "    def evaluate_swarm(self, max_steps, number_of_episode):\n",
    "        progress_bar = tqdm(range(number_of_episode), desc=\"Training Progress\", unit=\"episode\", leave=False)\n",
    "\n",
    "        for episode in progress_bar:\n",
    "            train_env = copy.deepcopy(self.env)\n",
    "            progress_bar.set_description(f\"Training Progress (Episode {episode + 1}/{number_of_episode})\")\n",
    "\n",
    "            # Reset the environment for the start of the episode\n",
    "            obs, info = train_env.reset(self.agents)\n",
    "            self.reset_trajectory()\n",
    "            \n",
    "            self.cum_reward = 0\n",
    "            terminated = False\n",
    "            steps = 0\n",
    "            done = False\n",
    "\n",
    "            # Run the episode until termination\n",
    "            while not done:\n",
    "\n",
    "                for agent in self.agents:\n",
    "                    x, y = info['agent_location']\n",
    "                    train_env.setReward(x, y, -10)\n",
    "\n",
    "                    action = agent.mega_greedy_swarm_action(obs)\n",
    "                    \n",
    "                    # action = agent.get_action_boltz(obs, steps)\n",
    "\n",
    "                    next_obs, reward, terminated, truncated, info = train_env.step(action)\n",
    "                    agent.add_trajectory(info)\n",
    "\n",
    "                    self.episode_cum_reward[episode] += reward\n",
    "\n",
    "                   \n",
    "\n",
    "                    if steps >= max_steps:\n",
    "                        terminated = True\n",
    "\n",
    "                    done = terminated or truncated\n",
    "                    obs = next_obs\n",
    "                    steps += 1\n",
    "            \n",
    "            self.episode_cum_reward.append(self.cum_reward)\n",
    "            self.calc_revisits(train_env)\n",
    "            self.calc_info(train_env)\n",
    "\n",
    "        progress_bar.close()\n",
    "\n",
    "\n",
    "\n",
    "    def plot_reward_episode(self, number_of_episodes, window_size=50):\n",
    "        \"\"\"Plots reward per episode with a rolling mean and shaded variance\"\"\"\n",
    "        plt.figure()\n",
    "        \n",
    "        x = range(number_of_episodes)\n",
    "        y = np.array(self.episode_cum_reward[:number_of_episodes])\n",
    "        \n",
    "        # Compute rolling mean and standard deviation\n",
    "        y_smooth = pd.Series(y).rolling(window=window_size, min_periods=1).mean()\n",
    "        y_std = pd.Series(y).rolling(window=window_size, min_periods=1).std()\n",
    "\n",
    "        # Plot raw data faintly\n",
    "        plt.plot(x, y, alpha=0.2, label=\"Raw Rewards\", color='gray')\n",
    "\n",
    "        # Plot rolling mean\n",
    "        plt.plot(x, y_smooth, label=\"Smoothed Rewards\", color='red')\n",
    "\n",
    "        # Shaded area: Mean ± 1 standard deviation\n",
    "        plt.fill_between(x, y_smooth - y_std, y_smooth + y_std, color='red', alpha=0.2)\n",
    "\n",
    "        plt.xlabel('Episodes')\n",
    "        plt.ylabel('Reward')\n",
    "        plt.title('Reward per Episode')\n",
    "        plt.legend()\n",
    "        plt.show()\n",
    "\n",
    "    def plot_revisited(self, number_of_episodes, window_size=50,):\n",
    "        \"\"\"Plots revisits per episode with rolling mean and variance shading\"\"\"\n",
    "        plt.figure()\n",
    "\n",
    "        x = range(number_of_episodes)\n",
    "        y = np.array(self.revisits[:number_of_episodes])\n",
    "\n",
    "        # Compute rolling mean and standard deviation\n",
    "        y_smooth = pd.Series(y).rolling(window=window_size, min_periods=1).mean()\n",
    "        y_std = pd.Series(y).rolling(window=window_size, min_periods=1).std()\n",
    "\n",
    "        # Plot raw data faintly\n",
    "        plt.plot(x, y, alpha=0.2, label=\"Raw Revisits\", color='gray')\n",
    "\n",
    "        # Plot rolling mean\n",
    "        plt.plot(x, y_smooth, label=\"Smoothed Revisits\", color='red')\n",
    "\n",
    "        # Shaded area: Mean ± 1 standard deviation\n",
    "        plt.fill_between(x, y_smooth - y_std, y_smooth + y_std, color='red', alpha=0.2)\n",
    "\n",
    "        plt.xlabel('Episodes')\n",
    "        plt.ylabel('Revisits')\n",
    "        plt.title('Revisits per Episode')\n",
    "        plt.legend()\n",
    "        plt.show()\n",
    "\n",
    "    def plot_info(self, number_of_episodes, window_size=50):\n",
    "        \"\"\"Plots info gain per episode with rolling mean and variance shading\"\"\"\n",
    "        plt.figure()\n",
    "\n",
    "        x = range(number_of_episodes)\n",
    "        y = np.array(self.info_pr_episode[:number_of_episodes])\n",
    "\n",
    "        # Compute rolling mean and standard deviation\n",
    "        y_smooth = pd.Series(y).rolling(window=window_size, min_periods=1).mean()\n",
    "        y_std = pd.Series(y).rolling(window=window_size, min_periods=1).std()\n",
    "\n",
    "        # Plot raw data faintly\n",
    "        plt.plot(x, y, alpha=0.2, label=\"Raw Info Gain\", color='gray')\n",
    "\n",
    "        # Plot rolling mean\n",
    "        plt.plot(x, y_smooth, label=\"Smoothed Info Gain\", color='red')\n",
    "\n",
    "        # Shaded area: Mean ± 1 standard deviation\n",
    "        plt.fill_between(x, y_smooth - y_std, y_smooth + y_std, color='red', alpha=0.2)\n",
    "\n",
    "        plt.xlabel('Episodes')\n",
    "        plt.ylabel('Info Gain')\n",
    "        plt.title('Info Gain per Episode')\n",
    "        plt.legend()\n",
    "        plt.show()\n",
    "    \n",
    "    def plot_trajectories(self):\n",
    "        # Static plot of all agent trajectories in different colors\n",
    "        plt.figure()\n",
    "        for agent in self.agents:\n",
    "            trajectory = np.array(agent.trajectory)\n",
    "            plt.plot(trajectory[:, 0], trajectory[:, 1], label=\"Agent %s Trajectory\" % agent.agent_id)\n",
    "\n",
    "        plt.xlim(-1, self.env.size + 1)  # Set limits to prevent resizing\n",
    "        plt.ylim(-1, self.env.size + 1)\n",
    "\n",
    "        plt.xlabel(\"X\")\n",
    "        plt.ylabel(\"Y\")\n",
    "        plt.title(\"Agent Trajectories\")\n",
    "        plt.legend()\n",
    "        plt.show()"
   ]
  },
  {
   "cell_type": "markdown",
   "metadata": {},
   "source": [
    "### Hyperparameters"
   ]
  },
  {
   "cell_type": "code",
   "execution_count": 164,
   "metadata": {},
   "outputs": [
    {
     "data": {
      "image/png": "[encoded data removed]",
      "text/plain": [
       "<Figure size 640x480 with 1 Axes>"
      ]
     },
     "metadata": {},
     "output_type": "display_data"
    }
   ],
   "source": [
    "# hyperparameters\n",
    "\n",
    "env = GridWorldEnv(size=SIZE)\n",
    "\n",
    "# env.heatmap_env()\n",
    "# env.random_env()\n",
    "env.setReward(4, 4, 9)\n",
    "\n",
    "plt.imshow(env.world, cmap='viridis')\n",
    "plt.gca().invert_yaxis()\n",
    "plt.show()\n",
    "\n",
    "env_timelimit = gym.wrappers.TimeLimit(env, max_episode_steps=1000000)\n",
    "\n",
    "agent = SAR_agent(\n",
    "    0,\n",
    "    env=env,\n",
    "    alpha=ALPHA,\n",
    "    beta=BETA,\n",
    "    epsilon=EPSILON,\n",
    "    gamma=GAMMA\n",
    ")\n",
    "\n",
    "\n",
    "# agent1 = SAR_agent(\n",
    "#     1,\n",
    "#     env=env,\n",
    "#     alpha=ALPHA,\n",
    "#     beta=BETA,\n",
    "#     gamma=GAMMA\n",
    "# )\n",
    "\n",
    "# agent2 = SAR_agent(\n",
    "#     2,\n",
    "#     env=env,\n",
    "#     alpha=ALPHA,\n",
    "#     beta=BETA,\n",
    "#     gamma=GAMMA\n",
    "# )\n",
    "\n",
    "# agent3 = SAR_agent(\n",
    "#     3,\n",
    "#     env=env,\n",
    "#     alpha=ALPHA,\n",
    "#     beta=BETA,\n",
    "#     gamma=GAMMA\n",
    "# )\n",
    "\n",
    "# agent4 = SAR_agent(\n",
    "#     4,\n",
    "#     env=env,\n",
    "#     alpha=ALPHA,\n",
    "#     beta=BETA,\n",
    "#     gamma=GAMMA\n",
    "# )\n",
    "\n",
    "agents = []\n",
    "agents.append(agent)\n",
    "# agents.append(agent1)\n",
    "# agents.append(agent2)\n",
    "# agents.append(agent3)\n",
    "# agents.append(agent4)"
   ]
  },
  {
   "cell_type": "code",
   "execution_count": 165,
   "metadata": {},
   "outputs": [
    {
     "data": {
      "application/vnd.jupyter.widget-view+json": {
       "model_id": "238252bb76a641548da11d3a0caab3bf",
       "version_major": 2,
       "version_minor": 0
      },
      "text/plain": [
       "Training Progress:   0%|          | 0/10000 [00:00<?, ?episode/s]"
      ]
     },
     "metadata": {},
     "output_type": "display_data"
    }
   ],
   "source": [
    "swarm1 = swarm(env, agents, N_EPISODES, UPDATE_STEP)\n",
    "\n",
    "swarm1.train_swarm(STEPS)"
   ]
  },
  {
   "cell_type": "markdown",
   "metadata": {},
   "source": [
    "#### Evaluation"
   ]
  },
  {
   "cell_type": "code",
   "execution_count": 166,
   "metadata": {},
   "outputs": [
    {
     "data": {
      "text/plain": [
       "'Q-table'"
      ]
     },
     "metadata": {},
     "output_type": "display_data"
    },
    {
     "data": {
      "text/html": [
       "<div>\n",
       "<style scoped>\n",
       "    .dataframe tbody tr th:only-of-type {\n",
       "        vertical-align: middle;\n",
       "    }\n",
       "\n",
       "    .dataframe tbody tr th {\n",
       "        vertical-align: top;\n",
       "    }\n",
       "\n",
       "    .dataframe thead tr th {\n",
       "        text-align: left;\n",
       "    }\n",
       "</style>\n",
       "<table border=\"1\" class=\"dataframe\">\n",
       "  <thead>\n",
       "    <tr>\n",
       "      <th></th>\n",
       "      <th colspan=\"3\" halign=\"left\">0.0</th>\n",
       "      <th>1.0</th>\n",
       "      <th>2.0</th>\n",
       "      <th>3.0</th>\n",
       "      <th colspan=\"2\" halign=\"left\">4.0</th>\n",
       "      <th>5.0</th>\n",
       "      <th>3.0</th>\n",
       "      <th>...</th>\n",
       "      <th>7.0</th>\n",
       "      <th>9.0</th>\n",
       "      <th>1.0</th>\n",
       "      <th>6.0</th>\n",
       "      <th>8.0</th>\n",
       "      <th>4.0</th>\n",
       "      <th>2.0</th>\n",
       "      <th>9.0</th>\n",
       "      <th>2.0</th>\n",
       "      <th>0.0</th>\n",
       "    </tr>\n",
       "    <tr>\n",
       "      <th></th>\n",
       "      <th>(0.0, 0.0, 0.0, 0.0)</th>\n",
       "      <th>(1.0, 0.0, 0.0, 0.0, 0.0, 0.0, 0.0, 0.0)</th>\n",
       "      <th>(0.0, 0.0, 0.0, 0.0)</th>\n",
       "      <th>(1.0, 0.0, 0.0, 0.0, 0.0, 0.0, 0.0, 0.0)</th>\n",
       "      <th>(1.0, 0.0, 0.0, 0.0, 0.0, 0.0, 0.0, 0.0)</th>\n",
       "      <th>(1.0, 0.0, 0.0, 0.0, 0.0, 0.0, 0.0, 0.0)</th>\n",
       "      <th>(0.0, 0.0, 1.0, 0.0, 0.0, 0.0, 0.0, 0.0)</th>\n",
       "      <th>(1.0, 0.0, 0.0, 0.0, 0.0, 0.0, 0.0, 0.0)</th>\n",
       "      <th>(1.0, 0.0, 0.0, 0.0, 0.0, 0.0, 0.0, 0.0)</th>\n",
       "      <th>(0.0, 1.0, 0.0, 0.0, 0.0, 0.0, 0.0, 0.0)</th>\n",
       "      <th>...</th>\n",
       "      <th>(0.0, 0.0, 0.0, 1.0, 0.0, 0.0, 0.0, 0.0)</th>\n",
       "      <th>(0.0, 0.0, 1.0, 0.0, 0.0, 0.0, 0.0, 0.0)</th>\n",
       "      <th>(0.0, 1.0, 0.0, 0.0, 0.0, 0.0, 0.0, 0.0)</th>\n",
       "      <th>(0.0, 0.0, 0.0, 1.0, 0.0, 0.0, 0.0, 0.0)</th>\n",
       "      <th>(0.0, 1.0, 0.0, 0.0, 0.0, 0.0, 0.0, 0.0)</th>\n",
       "      <th>(0.0, 0.0, 0.0, 1.0, 0.0, 0.0, 0.0, 0.0)</th>\n",
       "      <th>(0.0, 0.0, 1.0, 0.0, 0.0, 0.0, 0.0, 0.0)</th>\n",
       "      <th>(0.0, 0.0, 0.0, 1.0, 0.0, 0.0, 0.0, 0.0)</th>\n",
       "      <th>(0.0, 0.0, 0.0, 1.0, 0.0, 0.0, 0.0, 0.0)</th>\n",
       "      <th>(0.0, 1.0, 0.0, 0.0, 0.0, 0.0, 0.0, 0.0)</th>\n",
       "    </tr>\n",
       "    <tr>\n",
       "      <th></th>\n",
       "      <th>0.0</th>\n",
       "      <th>1.0</th>\n",
       "      <th>1.0</th>\n",
       "      <th>1.0</th>\n",
       "      <th>1.0</th>\n",
       "      <th>1.0</th>\n",
       "      <th>1.0</th>\n",
       "      <th>1.0</th>\n",
       "      <th>1.0</th>\n",
       "      <th>1.0</th>\n",
       "      <th>...</th>\n",
       "      <th>1.0</th>\n",
       "      <th>1.0</th>\n",
       "      <th>1.0</th>\n",
       "      <th>1.0</th>\n",
       "      <th>1.0</th>\n",
       "      <th>1.0</th>\n",
       "      <th>1.0</th>\n",
       "      <th>1.0</th>\n",
       "      <th>1.0</th>\n",
       "      <th>1.0</th>\n",
       "    </tr>\n",
       "  </thead>\n",
       "  <tbody>\n",
       "    <tr>\n",
       "      <th>0</th>\n",
       "      <td>0.0</td>\n",
       "      <td>0.0</td>\n",
       "      <td>0.0</td>\n",
       "      <td>0.000000</td>\n",
       "      <td>2.269099</td>\n",
       "      <td>1.752054</td>\n",
       "      <td>-8.045237</td>\n",
       "      <td>1.602862</td>\n",
       "      <td>-2.540565</td>\n",
       "      <td>-6.987012</td>\n",
       "      <td>...</td>\n",
       "      <td>-36.527193</td>\n",
       "      <td>-57.743712</td>\n",
       "      <td>-10.0</td>\n",
       "      <td>-38.360005</td>\n",
       "      <td>-58.199966</td>\n",
       "      <td>-5.085941</td>\n",
       "      <td>-6.452592</td>\n",
       "      <td>0.0</td>\n",
       "      <td>-5.536605</td>\n",
       "      <td>0.0</td>\n",
       "    </tr>\n",
       "    <tr>\n",
       "      <th>1</th>\n",
       "      <td>0.0</td>\n",
       "      <td>0.0</td>\n",
       "      <td>0.0</td>\n",
       "      <td>-4.500957</td>\n",
       "      <td>1.485834</td>\n",
       "      <td>-1.765920</td>\n",
       "      <td>-8.956064</td>\n",
       "      <td>-3.158317</td>\n",
       "      <td>-9.921303</td>\n",
       "      <td>1.897151</td>\n",
       "      <td>...</td>\n",
       "      <td>-36.944972</td>\n",
       "      <td>-56.618246</td>\n",
       "      <td>0.0</td>\n",
       "      <td>-42.052172</td>\n",
       "      <td>-48.322499</td>\n",
       "      <td>-7.531079</td>\n",
       "      <td>-8.129351</td>\n",
       "      <td>0.0</td>\n",
       "      <td>-3.895835</td>\n",
       "      <td>0.0</td>\n",
       "    </tr>\n",
       "    <tr>\n",
       "      <th>2</th>\n",
       "      <td>0.0</td>\n",
       "      <td>0.0</td>\n",
       "      <td>0.0</td>\n",
       "      <td>-2.381662</td>\n",
       "      <td>-4.753382</td>\n",
       "      <td>-3.942289</td>\n",
       "      <td>1.518063</td>\n",
       "      <td>-2.408036</td>\n",
       "      <td>-10.536806</td>\n",
       "      <td>-1.846782</td>\n",
       "      <td>...</td>\n",
       "      <td>-30.684700</td>\n",
       "      <td>-43.580315</td>\n",
       "      <td>-10.0</td>\n",
       "      <td>-37.909737</td>\n",
       "      <td>-50.517272</td>\n",
       "      <td>-6.335679</td>\n",
       "      <td>2.509978</td>\n",
       "      <td>0.0</td>\n",
       "      <td>-5.385898</td>\n",
       "      <td>0.0</td>\n",
       "    </tr>\n",
       "    <tr>\n",
       "      <th>3</th>\n",
       "      <td>0.0</td>\n",
       "      <td>0.0</td>\n",
       "      <td>0.0</td>\n",
       "      <td>-7.509211</td>\n",
       "      <td>-2.207312</td>\n",
       "      <td>-2.685288</td>\n",
       "      <td>-2.369563</td>\n",
       "      <td>-1.724893</td>\n",
       "      <td>-4.198192</td>\n",
       "      <td>-2.564732</td>\n",
       "      <td>...</td>\n",
       "      <td>-23.850800</td>\n",
       "      <td>-58.155335</td>\n",
       "      <td>0.0</td>\n",
       "      <td>-32.626145</td>\n",
       "      <td>-55.336807</td>\n",
       "      <td>3.501522</td>\n",
       "      <td>-0.225243</td>\n",
       "      <td>0.0</td>\n",
       "      <td>5.026161</td>\n",
       "      <td>0.0</td>\n",
       "    </tr>\n",
       "  </tbody>\n",
       "</table>\n",
       "<p>4 rows × 38 columns</p>\n",
       "</div>"
      ],
      "text/plain": [
       "                   0.0                                           \\\n",
       "  (0.0, 0.0, 0.0, 0.0) (1.0, 0.0, 0.0, 0.0, 0.0, 0.0, 0.0, 0.0)   \n",
       "                   0.0                                      1.0   \n",
       "0                  0.0                                      0.0   \n",
       "1                  0.0                                      0.0   \n",
       "2                  0.0                                      0.0   \n",
       "3                  0.0                                      0.0   \n",
       "\n",
       "                                                            1.0  \\\n",
       "  (0.0, 0.0, 0.0, 0.0) (1.0, 0.0, 0.0, 0.0, 0.0, 0.0, 0.0, 0.0)   \n",
       "                   1.0                                      1.0   \n",
       "0                  0.0                                 0.000000   \n",
       "1                  0.0                                -4.500957   \n",
       "2                  0.0                                -2.381662   \n",
       "3                  0.0                                -7.509211   \n",
       "\n",
       "                                       2.0  \\\n",
       "  (1.0, 0.0, 0.0, 0.0, 0.0, 0.0, 0.0, 0.0)   \n",
       "                                       1.0   \n",
       "0                                 2.269099   \n",
       "1                                 1.485834   \n",
       "2                                -4.753382   \n",
       "3                                -2.207312   \n",
       "\n",
       "                                       3.0  \\\n",
       "  (1.0, 0.0, 0.0, 0.0, 0.0, 0.0, 0.0, 0.0)   \n",
       "                                       1.0   \n",
       "0                                 1.752054   \n",
       "1                                -1.765920   \n",
       "2                                -3.942289   \n",
       "3                                -2.685288   \n",
       "\n",
       "                                       4.0  \\\n",
       "  (0.0, 0.0, 1.0, 0.0, 0.0, 0.0, 0.0, 0.0)   \n",
       "                                       1.0   \n",
       "0                                -8.045237   \n",
       "1                                -8.956064   \n",
       "2                                 1.518063   \n",
       "3                                -2.369563   \n",
       "\n",
       "                                            \\\n",
       "  (1.0, 0.0, 0.0, 0.0, 0.0, 0.0, 0.0, 0.0)   \n",
       "                                       1.0   \n",
       "0                                 1.602862   \n",
       "1                                -3.158317   \n",
       "2                                -2.408036   \n",
       "3                                -1.724893   \n",
       "\n",
       "                                       5.0  \\\n",
       "  (1.0, 0.0, 0.0, 0.0, 0.0, 0.0, 0.0, 0.0)   \n",
       "                                       1.0   \n",
       "0                                -2.540565   \n",
       "1                                -9.921303   \n",
       "2                               -10.536806   \n",
       "3                                -4.198192   \n",
       "\n",
       "                                       3.0  ...  \\\n",
       "  (0.0, 1.0, 0.0, 0.0, 0.0, 0.0, 0.0, 0.0)  ...   \n",
       "                                       1.0  ...   \n",
       "0                                -6.987012  ...   \n",
       "1                                 1.897151  ...   \n",
       "2                                -1.846782  ...   \n",
       "3                                -2.564732  ...   \n",
       "\n",
       "                                       7.0  \\\n",
       "  (0.0, 0.0, 0.0, 1.0, 0.0, 0.0, 0.0, 0.0)   \n",
       "                                       1.0   \n",
       "0                               -36.527193   \n",
       "1                               -36.944972   \n",
       "2                               -30.684700   \n",
       "3                               -23.850800   \n",
       "\n",
       "                                       9.0  \\\n",
       "  (0.0, 0.0, 1.0, 0.0, 0.0, 0.0, 0.0, 0.0)   \n",
       "                                       1.0   \n",
       "0                               -57.743712   \n",
       "1                               -56.618246   \n",
       "2                               -43.580315   \n",
       "3                               -58.155335   \n",
       "\n",
       "                                       1.0  \\\n",
       "  (0.0, 1.0, 0.0, 0.0, 0.0, 0.0, 0.0, 0.0)   \n",
       "                                       1.0   \n",
       "0                                    -10.0   \n",
       "1                                      0.0   \n",
       "2                                    -10.0   \n",
       "3                                      0.0   \n",
       "\n",
       "                                       6.0  \\\n",
       "  (0.0, 0.0, 0.0, 1.0, 0.0, 0.0, 0.0, 0.0)   \n",
       "                                       1.0   \n",
       "0                               -38.360005   \n",
       "1                               -42.052172   \n",
       "2                               -37.909737   \n",
       "3                               -32.626145   \n",
       "\n",
       "                                       8.0  \\\n",
       "  (0.0, 1.0, 0.0, 0.0, 0.0, 0.0, 0.0, 0.0)   \n",
       "                                       1.0   \n",
       "0                               -58.199966   \n",
       "1                               -48.322499   \n",
       "2                               -50.517272   \n",
       "3                               -55.336807   \n",
       "\n",
       "                                       4.0  \\\n",
       "  (0.0, 0.0, 0.0, 1.0, 0.0, 0.0, 0.0, 0.0)   \n",
       "                                       1.0   \n",
       "0                                -5.085941   \n",
       "1                                -7.531079   \n",
       "2                                -6.335679   \n",
       "3                                 3.501522   \n",
       "\n",
       "                                       2.0  \\\n",
       "  (0.0, 0.0, 1.0, 0.0, 0.0, 0.0, 0.0, 0.0)   \n",
       "                                       1.0   \n",
       "0                                -6.452592   \n",
       "1                                -8.129351   \n",
       "2                                 2.509978   \n",
       "3                                -0.225243   \n",
       "\n",
       "                                       9.0  \\\n",
       "  (0.0, 0.0, 0.0, 1.0, 0.0, 0.0, 0.0, 0.0)   \n",
       "                                       1.0   \n",
       "0                                      0.0   \n",
       "1                                      0.0   \n",
       "2                                      0.0   \n",
       "3                                      0.0   \n",
       "\n",
       "                                       2.0  \\\n",
       "  (0.0, 0.0, 0.0, 1.0, 0.0, 0.0, 0.0, 0.0)   \n",
       "                                       1.0   \n",
       "0                                -5.536605   \n",
       "1                                -3.895835   \n",
       "2                                -5.385898   \n",
       "3                                 5.026161   \n",
       "\n",
       "                                       0.0  \n",
       "  (0.0, 1.0, 0.0, 0.0, 0.0, 0.0, 0.0, 0.0)  \n",
       "                                       1.0  \n",
       "0                                      0.0  \n",
       "1                                      0.0  \n",
       "2                                      0.0  \n",
       "3                                      0.0  \n",
       "\n",
       "[4 rows x 38 columns]"
      ]
     },
     "metadata": {},
     "output_type": "display_data"
    },
    {
     "data": {
      "application/vnd.jupyter.widget-view+json": {
       "model_id": "46c0c468406c41baa3d1d639f3c519cf",
       "version_major": 2,
       "version_minor": 0
      },
      "text/plain": [
       "Training Progress:   0%|          | 0/10 [00:00<?, ?episode/s]"
      ]
     },
     "metadata": {},
     "output_type": "display_data"
    },
    {
     "data": {
      "text/plain": [
       "array([0., 0., 0., 0.])"
      ]
     },
     "metadata": {},
     "output_type": "display_data"
    },
    {
     "name": "stdout",
     "output_type": "stream",
     "text": [
      "Taking action:  0\n"
     ]
    },
    {
     "data": {
      "text/plain": [
       "array([0., 0., 0., 0.])"
      ]
     },
     "metadata": {},
     "output_type": "display_data"
    },
    {
     "name": "stdout",
     "output_type": "stream",
     "text": [
      "Taking action:  0\n"
     ]
    },
    {
     "data": {
      "text/plain": [
       "array([ 0.        , -4.5009568 , -2.38166187, -7.50921112])"
      ]
     },
     "metadata": {},
     "output_type": "display_data"
    },
    {
     "name": "stdout",
     "output_type": "stream",
     "text": [
      "Taking action:  0\n"
     ]
    },
    {
     "data": {
      "text/plain": [
       "array([ 2.26909922,  1.48583373, -4.7533823 , -2.20731227])"
      ]
     },
     "metadata": {},
     "output_type": "display_data"
    },
    {
     "name": "stdout",
     "output_type": "stream",
     "text": [
      "Taking action:  0\n"
     ]
    },
    {
     "data": {
      "text/plain": [
       "array([ 2.26909922,  1.48583373, -4.7533823 , -2.20731227])"
      ]
     },
     "metadata": {},
     "output_type": "display_data"
    },
    {
     "name": "stdout",
     "output_type": "stream",
     "text": [
      "Taking action:  0\n"
     ]
    },
    {
     "data": {
      "text/plain": [
       "array([ 2.26909922,  1.48583373, -4.7533823 , -2.20731227])"
      ]
     },
     "metadata": {},
     "output_type": "display_data"
    },
    {
     "name": "stdout",
     "output_type": "stream",
     "text": [
      "Taking action:  0\n"
     ]
    },
    {
     "data": {
      "text/plain": [
       "array([ 2.26909922,  1.48583373, -4.7533823 , -2.20731227])"
      ]
     },
     "metadata": {},
     "output_type": "display_data"
    },
    {
     "name": "stdout",
     "output_type": "stream",
     "text": [
      "Taking action:  0\n"
     ]
    },
    {
     "data": {
      "text/plain": [
       "array([ 2.26909922,  1.48583373, -4.7533823 , -2.20731227])"
      ]
     },
     "metadata": {},
     "output_type": "display_data"
    },
    {
     "name": "stdout",
     "output_type": "stream",
     "text": [
      "Taking action:  0\n"
     ]
    },
    {
     "data": {
      "text/plain": [
       "array([-7.72616792,  2.20129975, -1.6334907 , -3.62813257])"
      ]
     },
     "metadata": {},
     "output_type": "display_data"
    },
    {
     "name": "stdout",
     "output_type": "stream",
     "text": [
      "Taking action:  1\n"
     ]
    },
    {
     "data": {
      "text/plain": [
       "array([-7.72616792,  2.20129975, -1.6334907 , -3.62813257])"
      ]
     },
     "metadata": {},
     "output_type": "display_data"
    },
    {
     "name": "stdout",
     "output_type": "stream",
     "text": [
      "Taking action:  1\n"
     ]
    },
    {
     "data": {
      "text/plain": [
       "array([-6.98701189,  1.89715054, -1.84678219, -2.56473191])"
      ]
     },
     "metadata": {},
     "output_type": "display_data"
    },
    {
     "name": "stdout",
     "output_type": "stream",
     "text": [
      "Taking action:  1\n"
     ]
    },
    {
     "data": {
      "text/plain": [
       "array([-7.72616792,  2.20129975, -1.6334907 , -3.62813257])"
      ]
     },
     "metadata": {},
     "output_type": "display_data"
    },
    {
     "name": "stdout",
     "output_type": "stream",
     "text": [
      "Taking action:  1\n"
     ]
    },
    {
     "data": {
      "text/plain": [
       "array([-7.72616792,  2.20129975, -1.6334907 , -3.62813257])"
      ]
     },
     "metadata": {},
     "output_type": "display_data"
    },
    {
     "name": "stdout",
     "output_type": "stream",
     "text": [
      "Taking action:  1\n"
     ]
    },
    {
     "data": {
      "text/plain": [
       "array([-7.72616792,  2.20129975, -1.6334907 , -3.62813257])"
      ]
     },
     "metadata": {},
     "output_type": "display_data"
    },
    {
     "name": "stdout",
     "output_type": "stream",
     "text": [
      "Taking action:  1\n"
     ]
    },
    {
     "data": {
      "text/plain": [
       "array([-7.72616792,  2.20129975, -1.6334907 , -3.62813257])"
      ]
     },
     "metadata": {},
     "output_type": "display_data"
    },
    {
     "name": "stdout",
     "output_type": "stream",
     "text": [
      "Taking action:  1\n"
     ]
    },
    {
     "data": {
      "text/plain": [
       "array([-7.72616792,  2.20129975, -1.6334907 , -3.62813257])"
      ]
     },
     "metadata": {},
     "output_type": "display_data"
    },
    {
     "name": "stdout",
     "output_type": "stream",
     "text": [
      "Taking action:  1\n"
     ]
    },
    {
     "data": {
      "text/plain": [
       "array([-6.45259195, -8.12935135,  2.50997791, -0.22524256])"
      ]
     },
     "metadata": {},
     "output_type": "display_data"
    },
    {
     "name": "stdout",
     "output_type": "stream",
     "text": [
      "Taking action:  2\n"
     ]
    },
    {
     "data": {
      "text/plain": [
       "array([-6.45259195, -8.12935135,  2.50997791, -0.22524256])"
      ]
     },
     "metadata": {},
     "output_type": "display_data"
    },
    {
     "name": "stdout",
     "output_type": "stream",
     "text": [
      "Taking action:  2\n"
     ]
    },
    {
     "data": {
      "text/plain": [
       "array([-7.23768312, -7.84439416,  2.88651498,  0.86524066])"
      ]
     },
     "metadata": {},
     "output_type": "display_data"
    },
    {
     "name": "stdout",
     "output_type": "stream",
     "text": [
      "Taking action:  2\n"
     ]
    },
    {
     "data": {
      "text/plain": [
       "array([-6.45259195, -8.12935135,  2.50997791, -0.22524256])"
      ]
     },
     "metadata": {},
     "output_type": "display_data"
    },
    {
     "name": "stdout",
     "output_type": "stream",
     "text": [
      "Taking action:  2\n"
     ]
    },
    {
     "data": {
      "text/plain": [
       "array([-6.45259195, -8.12935135,  2.50997791, -0.22524256])"
      ]
     },
     "metadata": {},
     "output_type": "display_data"
    },
    {
     "name": "stdout",
     "output_type": "stream",
     "text": [
      "Taking action:  2\n"
     ]
    },
    {
     "data": {
      "text/plain": [
       "array([-6.45259195, -8.12935135,  2.50997791, -0.22524256])"
      ]
     },
     "metadata": {},
     "output_type": "display_data"
    },
    {
     "name": "stdout",
     "output_type": "stream",
     "text": [
      "Taking action:  2\n"
     ]
    },
    {
     "data": {
      "text/plain": [
       "array([-6.45259195, -8.12935135,  2.50997791, -0.22524256])"
      ]
     },
     "metadata": {},
     "output_type": "display_data"
    },
    {
     "name": "stdout",
     "output_type": "stream",
     "text": [
      "Taking action:  2\n"
     ]
    },
    {
     "data": {
      "text/plain": [
       "array([-6.45259195, -8.12935135,  2.50997791, -0.22524256])"
      ]
     },
     "metadata": {},
     "output_type": "display_data"
    },
    {
     "name": "stdout",
     "output_type": "stream",
     "text": [
      "Taking action:  2\n"
     ]
    },
    {
     "data": {
      "text/plain": [
       "array([-6.45259195, -8.12935135,  2.50997791, -0.22524256])"
      ]
     },
     "metadata": {},
     "output_type": "display_data"
    },
    {
     "name": "stdout",
     "output_type": "stream",
     "text": [
      "Taking action:  2\n"
     ]
    },
    {
     "data": {
      "text/plain": [
       "array([-5.53660489, -3.89583461, -5.38589796,  5.02616134])"
      ]
     },
     "metadata": {},
     "output_type": "display_data"
    },
    {
     "name": "stdout",
     "output_type": "stream",
     "text": [
      "Taking action:  3\n"
     ]
    },
    {
     "data": {
      "text/plain": [
       "array([ 2.26909922,  1.48583373, -4.7533823 , -2.20731227])"
      ]
     },
     "metadata": {},
     "output_type": "display_data"
    },
    {
     "name": "stdout",
     "output_type": "stream",
     "text": [
      "Taking action:  0\n"
     ]
    },
    {
     "data": {
      "text/plain": [
       "array([ 1.75205434, -1.76591999, -3.94228941, -2.68528812])"
      ]
     },
     "metadata": {},
     "output_type": "display_data"
    },
    {
     "name": "stdout",
     "output_type": "stream",
     "text": [
      "Taking action:  0\n"
     ]
    },
    {
     "data": {
      "text/plain": [
       "array([ -2.54056479,  -9.92130341, -10.53680598,  -4.1981918 ])"
      ]
     },
     "metadata": {},
     "output_type": "display_data"
    },
    {
     "name": "stdout",
     "output_type": "stream",
     "text": [
      "Taking action:  0\n"
     ]
    },
    {
     "data": {
      "text/plain": [
       "array([ -2.54056479,  -9.92130341, -10.53680598,  -4.1981918 ])"
      ]
     },
     "metadata": {},
     "output_type": "display_data"
    },
    {
     "name": "stdout",
     "output_type": "stream",
     "text": [
      "Taking action:  0\n"
     ]
    },
    {
     "data": {
      "text/plain": [
       "array([ -2.54056479,  -9.92130341, -10.53680598,  -4.1981918 ])"
      ]
     },
     "metadata": {},
     "output_type": "display_data"
    },
    {
     "name": "stdout",
     "output_type": "stream",
     "text": [
      "Taking action:  0\n"
     ]
    },
    {
     "data": {
      "text/plain": [
       "array([ -2.54056479,  -9.92130341, -10.53680598,  -4.1981918 ])"
      ]
     },
     "metadata": {},
     "output_type": "display_data"
    },
    {
     "name": "stdout",
     "output_type": "stream",
     "text": [
      "Taking action:  0\n"
     ]
    },
    {
     "data": {
      "text/plain": [
       "array([ -2.54056479,  -9.92130341, -10.53680598,  -4.1981918 ])"
      ]
     },
     "metadata": {},
     "output_type": "display_data"
    },
    {
     "name": "stdout",
     "output_type": "stream",
     "text": [
      "Taking action:  0\n"
     ]
    },
    {
     "data": {
      "text/plain": [
       "array([ -2.54056479,  -9.92130341, -10.53680598,  -4.1981918 ])"
      ]
     },
     "metadata": {},
     "output_type": "display_data"
    },
    {
     "name": "stdout",
     "output_type": "stream",
     "text": [
      "Taking action:  0\n"
     ]
    },
    {
     "data": {
      "text/plain": [
       "array([-10.54801925, -12.09383424, -10.96403011,  -1.40558322])"
      ]
     },
     "metadata": {},
     "output_type": "display_data"
    },
    {
     "name": "stdout",
     "output_type": "stream",
     "text": [
      "Taking action:  3\n"
     ]
    },
    {
     "data": {
      "text/plain": [
       "array([-42.53299606, -42.33737032, -23.0617362 , -30.93118565])"
      ]
     },
     "metadata": {},
     "output_type": "display_data"
    },
    {
     "name": "stdout",
     "output_type": "stream",
     "text": [
      "Taking action:  2\n"
     ]
    },
    {
     "data": {
      "text/plain": [
       "array([-41.94835894, -42.0019044 , -32.60740784, -38.00401392])"
      ]
     },
     "metadata": {},
     "output_type": "display_data"
    },
    {
     "name": "stdout",
     "output_type": "stream",
     "text": [
      "Taking action:  2\n"
     ]
    },
    {
     "data": {
      "text/plain": [
       "array([-11.69607781, -12.11978618,  -1.56002791,  -6.99473148])"
      ]
     },
     "metadata": {},
     "output_type": "display_data"
    },
    {
     "name": "stdout",
     "output_type": "stream",
     "text": [
      "Taking action:  2\n"
     ]
    },
    {
     "data": {
      "text/plain": [
       "array([-11.69607781, -12.11978618,  -1.56002791,  -6.99473148])"
      ]
     },
     "metadata": {},
     "output_type": "display_data"
    },
    {
     "name": "stdout",
     "output_type": "stream",
     "text": [
      "Taking action:  2\n"
     ]
    },
    {
     "data": {
      "text/plain": [
       "array([-11.69607781, -12.11978618,  -1.56002791,  -6.99473148])"
      ]
     },
     "metadata": {},
     "output_type": "display_data"
    },
    {
     "name": "stdout",
     "output_type": "stream",
     "text": [
      "Taking action:  2\n"
     ]
    },
    {
     "data": {
      "text/plain": [
       "array([-11.69607781, -12.11978618,  -1.56002791,  -6.99473148])"
      ]
     },
     "metadata": {},
     "output_type": "display_data"
    },
    {
     "name": "stdout",
     "output_type": "stream",
     "text": [
      "Taking action:  2\n"
     ]
    },
    {
     "data": {
      "text/plain": [
       "array([-11.69607781, -12.11978618,  -1.56002791,  -6.99473148])"
      ]
     },
     "metadata": {},
     "output_type": "display_data"
    },
    {
     "name": "stdout",
     "output_type": "stream",
     "text": [
      "Taking action:  2\n"
     ]
    },
    {
     "data": {
      "text/plain": [
       "array([-11.69607781, -12.11978618,  -1.56002791,  -6.99473148])"
      ]
     },
     "metadata": {},
     "output_type": "display_data"
    },
    {
     "name": "stdout",
     "output_type": "stream",
     "text": [
      "Taking action:  2\n"
     ]
    },
    {
     "data": {
      "text/plain": [
       "array([-10.54801925, -12.09383424, -10.96403011,  -1.40558322])"
      ]
     },
     "metadata": {},
     "output_type": "display_data"
    },
    {
     "name": "stdout",
     "output_type": "stream",
     "text": [
      "Taking action:  3\n"
     ]
    },
    {
     "data": {
      "text/plain": [
       "array([ -2.54056479,  -9.92130341, -10.53680598,  -4.1981918 ])"
      ]
     },
     "metadata": {},
     "output_type": "display_data"
    },
    {
     "name": "stdout",
     "output_type": "stream",
     "text": [
      "Taking action:  0\n"
     ]
    },
    {
     "data": {
      "text/plain": [
       "array([ 1.60286162, -3.15831708, -2.40803573, -1.72489251])"
      ]
     },
     "metadata": {},
     "output_type": "display_data"
    },
    {
     "name": "stdout",
     "output_type": "stream",
     "text": [
      "Taking action:  0\n"
     ]
    },
    {
     "data": {
      "text/plain": [
       "array([ -2.54056479,  -9.92130341, -10.53680598,  -4.1981918 ])"
      ]
     },
     "metadata": {},
     "output_type": "display_data"
    },
    {
     "name": "stdout",
     "output_type": "stream",
     "text": [
      "Taking action:  0\n"
     ]
    },
    {
     "data": {
      "text/plain": [
       "array([ -2.54056479,  -9.92130341, -10.53680598,  -4.1981918 ])"
      ]
     },
     "metadata": {},
     "output_type": "display_data"
    },
    {
     "name": "stdout",
     "output_type": "stream",
     "text": [
      "Taking action:  0\n"
     ]
    },
    {
     "data": {
      "text/plain": [
       "array([ -2.54056479,  -9.92130341, -10.53680598,  -4.1981918 ])"
      ]
     },
     "metadata": {},
     "output_type": "display_data"
    },
    {
     "name": "stdout",
     "output_type": "stream",
     "text": [
      "Taking action:  0\n"
     ]
    },
    {
     "data": {
      "text/plain": [
       "array([ -2.54056479,  -9.92130341, -10.53680598,  -4.1981918 ])"
      ]
     },
     "metadata": {},
     "output_type": "display_data"
    },
    {
     "name": "stdout",
     "output_type": "stream",
     "text": [
      "Taking action:  0\n"
     ]
    },
    {
     "data": {
      "text/plain": [
       "array([ -2.54056479,  -9.92130341, -10.53680598,  -4.1981918 ])"
      ]
     },
     "metadata": {},
     "output_type": "display_data"
    },
    {
     "name": "stdout",
     "output_type": "stream",
     "text": [
      "Taking action:  0\n"
     ]
    },
    {
     "data": {
      "text/plain": [
       "array([ -2.54056479,  -9.92130341, -10.53680598,  -4.1981918 ])"
      ]
     },
     "metadata": {},
     "output_type": "display_data"
    },
    {
     "name": "stdout",
     "output_type": "stream",
     "text": [
      "Taking action:  0\n"
     ]
    },
    {
     "data": {
      "text/plain": [
       "array([-10.54801925, -12.09383424, -10.96403011,  -1.40558322])"
      ]
     },
     "metadata": {},
     "output_type": "display_data"
    },
    {
     "name": "stdout",
     "output_type": "stream",
     "text": [
      "Taking action:  3\n"
     ]
    },
    {
     "data": {
      "text/plain": [
       "array([-42.53299606, -42.33737032, -23.0617362 , -30.93118565])"
      ]
     },
     "metadata": {},
     "output_type": "display_data"
    },
    {
     "name": "stdout",
     "output_type": "stream",
     "text": [
      "Taking action:  2\n"
     ]
    },
    {
     "data": {
      "text/plain": [
       "array([-41.94835894, -42.0019044 , -32.60740784, -38.00401392])"
      ]
     },
     "metadata": {},
     "output_type": "display_data"
    },
    {
     "name": "stdout",
     "output_type": "stream",
     "text": [
      "Taking action:  2\n"
     ]
    },
    {
     "data": {
      "text/plain": [
       "array([-11.69607781, -12.11978618,  -1.56002791,  -6.99473148])"
      ]
     },
     "metadata": {},
     "output_type": "display_data"
    },
    {
     "name": "stdout",
     "output_type": "stream",
     "text": [
      "Taking action:  2\n"
     ]
    },
    {
     "data": {
      "text/plain": [
       "array([-11.69607781, -12.11978618,  -1.56002791,  -6.99473148])"
      ]
     },
     "metadata": {},
     "output_type": "display_data"
    },
    {
     "name": "stdout",
     "output_type": "stream",
     "text": [
      "Taking action:  2\n"
     ]
    },
    {
     "data": {
      "text/plain": [
       "array([-10.54801925, -12.09383424, -10.96403011,  -1.40558322])"
      ]
     },
     "metadata": {},
     "output_type": "display_data"
    },
    {
     "name": "stdout",
     "output_type": "stream",
     "text": [
      "Taking action:  3\n"
     ]
    },
    {
     "data": {
      "text/plain": [
       "array([ -2.54056479,  -9.92130341, -10.53680598,  -4.1981918 ])"
      ]
     },
     "metadata": {},
     "output_type": "display_data"
    },
    {
     "name": "stdout",
     "output_type": "stream",
     "text": [
      "Taking action:  0\n"
     ]
    },
    {
     "data": {
      "text/plain": [
       "array([ 1.75205434, -1.76591999, -3.94228941, -2.68528812])"
      ]
     },
     "metadata": {},
     "output_type": "display_data"
    },
    {
     "name": "stdout",
     "output_type": "stream",
     "text": [
      "Taking action:  0\n"
     ]
    },
    {
     "data": {
      "text/plain": [
       "array([ -2.54056479,  -9.92130341, -10.53680598,  -4.1981918 ])"
      ]
     },
     "metadata": {},
     "output_type": "display_data"
    },
    {
     "name": "stdout",
     "output_type": "stream",
     "text": [
      "Taking action:  0\n"
     ]
    },
    {
     "data": {
      "text/plain": [
       "array([ -2.54056479,  -9.92130341, -10.53680598,  -4.1981918 ])"
      ]
     },
     "metadata": {},
     "output_type": "display_data"
    },
    {
     "name": "stdout",
     "output_type": "stream",
     "text": [
      "Taking action:  0\n"
     ]
    },
    {
     "data": {
      "text/plain": [
       "array([-10.54801925, -12.09383424, -10.96403011,  -1.40558322])"
      ]
     },
     "metadata": {},
     "output_type": "display_data"
    },
    {
     "name": "stdout",
     "output_type": "stream",
     "text": [
      "Taking action:  3\n"
     ]
    },
    {
     "data": {
      "text/plain": [
       "array([-42.53299606, -42.33737032, -23.0617362 , -30.93118565])"
      ]
     },
     "metadata": {},
     "output_type": "display_data"
    },
    {
     "name": "stdout",
     "output_type": "stream",
     "text": [
      "Taking action:  2\n"
     ]
    },
    {
     "data": {
      "text/plain": [
       "array([-41.94835894, -42.0019044 , -32.60740784, -38.00401392])"
      ]
     },
     "metadata": {},
     "output_type": "display_data"
    },
    {
     "name": "stdout",
     "output_type": "stream",
     "text": [
      "Taking action:  2\n"
     ]
    },
    {
     "data": {
      "text/plain": [
       "array([-11.69607781, -12.11978618,  -1.56002791,  -6.99473148])"
      ]
     },
     "metadata": {},
     "output_type": "display_data"
    },
    {
     "name": "stdout",
     "output_type": "stream",
     "text": [
      "Taking action:  2\n"
     ]
    },
    {
     "data": {
      "text/plain": [
       "array([-11.69607781, -12.11978618,  -1.56002791,  -6.99473148])"
      ]
     },
     "metadata": {},
     "output_type": "display_data"
    },
    {
     "name": "stdout",
     "output_type": "stream",
     "text": [
      "Taking action:  2\n"
     ]
    },
    {
     "data": {
      "text/plain": [
       "array([-11.69607781, -12.11978618,  -1.56002791,  -6.99473148])"
      ]
     },
     "metadata": {},
     "output_type": "display_data"
    },
    {
     "name": "stdout",
     "output_type": "stream",
     "text": [
      "Taking action:  2\n"
     ]
    },
    {
     "data": {
      "text/plain": [
       "array([-8.14390473,  1.55118339, -1.26668582, -3.94611495])"
      ]
     },
     "metadata": {},
     "output_type": "display_data"
    },
    {
     "name": "stdout",
     "output_type": "stream",
     "text": [
      "Taking action:  1\n"
     ]
    },
    {
     "data": {
      "text/plain": [
       "array([-6.98701189,  1.89715054, -1.84678219, -2.56473191])"
      ]
     },
     "metadata": {},
     "output_type": "display_data"
    },
    {
     "name": "stdout",
     "output_type": "stream",
     "text": [
      "Taking action:  1\n"
     ]
    },
    {
     "data": {
      "text/plain": [
       "array([-11.69607781, -12.11978618,  -1.56002791,  -6.99473148])"
      ]
     },
     "metadata": {},
     "output_type": "display_data"
    },
    {
     "name": "stdout",
     "output_type": "stream",
     "text": [
      "Taking action:  2\n"
     ]
    },
    {
     "data": {
      "text/plain": [
       "array([-42.53299606, -42.33737032, -23.0617362 , -30.93118565])"
      ]
     },
     "metadata": {},
     "output_type": "display_data"
    },
    {
     "name": "stdout",
     "output_type": "stream",
     "text": [
      "Taking action:  2\n"
     ]
    },
    {
     "data": {
      "text/plain": [
       "array([-41.94835894, -42.0019044 , -32.60740784, -38.00401392])"
      ]
     },
     "metadata": {},
     "output_type": "display_data"
    },
    {
     "name": "stdout",
     "output_type": "stream",
     "text": [
      "Taking action:  2\n"
     ]
    },
    {
     "data": {
      "text/plain": [
       "array([-10.54801925, -12.09383424, -10.96403011,  -1.40558322])"
      ]
     },
     "metadata": {},
     "output_type": "display_data"
    },
    {
     "name": "stdout",
     "output_type": "stream",
     "text": [
      "Taking action:  3\n"
     ]
    },
    {
     "data": {
      "text/plain": [
       "array([ -2.54056479,  -9.92130341, -10.53680598,  -4.1981918 ])"
      ]
     },
     "metadata": {},
     "output_type": "display_data"
    },
    {
     "name": "stdout",
     "output_type": "stream",
     "text": [
      "Taking action:  0\n"
     ]
    },
    {
     "data": {
      "text/plain": [
       "array([ 1.60286162, -3.15831708, -2.40803573, -1.72489251])"
      ]
     },
     "metadata": {},
     "output_type": "display_data"
    },
    {
     "name": "stdout",
     "output_type": "stream",
     "text": [
      "Taking action:  0\n"
     ]
    },
    {
     "data": {
      "text/plain": [
       "array([-10.54801925, -12.09383424, -10.96403011,  -1.40558322])"
      ]
     },
     "metadata": {},
     "output_type": "display_data"
    },
    {
     "name": "stdout",
     "output_type": "stream",
     "text": [
      "Taking action:  3\n"
     ]
    },
    {
     "data": {
      "text/plain": [
       "array([-42.53299606, -42.33737032, -23.0617362 , -30.93118565])"
      ]
     },
     "metadata": {},
     "output_type": "display_data"
    },
    {
     "name": "stdout",
     "output_type": "stream",
     "text": [
      "Taking action:  2\n"
     ]
    },
    {
     "data": {
      "text/plain": [
       "array([-11.69607781, -12.11978618,  -1.56002791,  -6.99473148])"
      ]
     },
     "metadata": {},
     "output_type": "display_data"
    },
    {
     "name": "stdout",
     "output_type": "stream",
     "text": [
      "Taking action:  2\n"
     ]
    },
    {
     "data": {
      "text/plain": [
       "array([-10.54801925, -12.09383424, -10.96403011,  -1.40558322])"
      ]
     },
     "metadata": {},
     "output_type": "display_data"
    },
    {
     "name": "stdout",
     "output_type": "stream",
     "text": [
      "Taking action:  3\n"
     ]
    },
    {
     "data": {
      "text/plain": [
       "array([ -2.54056479,  -9.92130341, -10.53680598,  -4.1981918 ])"
      ]
     },
     "metadata": {},
     "output_type": "display_data"
    },
    {
     "name": "stdout",
     "output_type": "stream",
     "text": [
      "Taking action:  0\n"
     ]
    },
    {
     "data": {
      "text/plain": [
       "array([ 1.60286162, -3.15831708, -2.40803573, -1.72489251])"
      ]
     },
     "metadata": {},
     "output_type": "display_data"
    },
    {
     "name": "stdout",
     "output_type": "stream",
     "text": [
      "Taking action:  0\n"
     ]
    },
    {
     "data": {
      "text/plain": [
       "array([-37.51690778, -42.10236907, -41.04916695, -39.51121972])"
      ]
     },
     "metadata": {},
     "output_type": "display_data"
    },
    {
     "name": "stdout",
     "output_type": "stream",
     "text": [
      "Taking action:  0\n"
     ]
    },
    {
     "data": {
      "text/plain": [
       "array([-31.12326383, -39.93197865, -36.46974206, -35.58607252])"
      ]
     },
     "metadata": {},
     "output_type": "display_data"
    },
    {
     "name": "stdout",
     "output_type": "stream",
     "text": [
      "Taking action:  0\n"
     ]
    },
    {
     "data": {
      "text/plain": [
       "array([-49.28398059, -53.78584028, -52.1490788 , -51.54368885])"
      ]
     },
     "metadata": {},
     "output_type": "display_data"
    },
    {
     "name": "stdout",
     "output_type": "stream",
     "text": [
      "Taking action:  0\n"
     ]
    },
    {
     "data": {
      "text/plain": [
       "array([-49.28398059, -53.78584028, -52.1490788 , -51.54368885])"
      ]
     },
     "metadata": {},
     "output_type": "display_data"
    },
    {
     "name": "stdout",
     "output_type": "stream",
     "text": [
      "Taking action:  0\n"
     ]
    },
    {
     "data": {
      "text/plain": [
       "array([-49.28398059, -53.78584028, -52.1490788 , -51.54368885])"
      ]
     },
     "metadata": {},
     "output_type": "display_data"
    },
    {
     "name": "stdout",
     "output_type": "stream",
     "text": [
      "Taking action:  0\n"
     ]
    },
    {
     "data": {
      "text/plain": [
       "array([-49.28398059, -53.78584028, -52.1490788 , -51.54368885])"
      ]
     },
     "metadata": {},
     "output_type": "display_data"
    },
    {
     "name": "stdout",
     "output_type": "stream",
     "text": [
      "Taking action:  0\n"
     ]
    },
    {
     "data": {
      "text/plain": [
       "array([-49.28398059, -53.78584028, -52.1490788 , -51.54368885])"
      ]
     },
     "metadata": {},
     "output_type": "display_data"
    },
    {
     "name": "stdout",
     "output_type": "stream",
     "text": [
      "Taking action:  0\n"
     ]
    },
    {
     "data": {
      "text/plain": [
       "array([-55.74259747, -52.23279483, -49.45680693, -51.46948089])"
      ]
     },
     "metadata": {},
     "output_type": "display_data"
    },
    {
     "name": "stdout",
     "output_type": "stream",
     "text": [
      "Taking action:  2\n"
     ]
    },
    {
     "data": {
      "text/plain": [
       "array([-52.40975487, -54.45798224, -53.605895  , -36.82452235])"
      ]
     },
     "metadata": {},
     "output_type": "display_data"
    },
    {
     "name": "stdout",
     "output_type": "stream",
     "text": [
      "Taking action:  3\n"
     ]
    },
    {
     "data": {
      "text/plain": [
       "array([0., 0., 0., 0.])"
      ]
     },
     "metadata": {},
     "output_type": "display_data"
    },
    {
     "name": "stdout",
     "output_type": "stream",
     "text": [
      "Taking action:  0\n"
     ]
    },
    {
     "data": {
      "text/plain": [
       "array([-38.36000495, -42.0521717 , -37.90973693, -32.62614516])"
      ]
     },
     "metadata": {},
     "output_type": "display_data"
    },
    {
     "name": "stdout",
     "output_type": "stream",
     "text": [
      "Taking action:  3\n"
     ]
    },
    {
     "data": {
      "text/plain": [
       "array([-41.94835894, -42.0019044 , -32.60740784, -38.00401392])"
      ]
     },
     "metadata": {},
     "output_type": "display_data"
    },
    {
     "name": "stdout",
     "output_type": "stream",
     "text": [
      "Taking action:  2\n"
     ]
    },
    {
     "data": {
      "text/plain": [
       "array([-11.69607781, -12.11978618,  -1.56002791,  -6.99473148])"
      ]
     },
     "metadata": {},
     "output_type": "display_data"
    },
    {
     "name": "stdout",
     "output_type": "stream",
     "text": [
      "Taking action:  2\n"
     ]
    },
    {
     "data": {
      "text/plain": [
       "array([-11.69607781, -12.11978618,  -1.56002791,  -6.99473148])"
      ]
     },
     "metadata": {},
     "output_type": "display_data"
    },
    {
     "name": "stdout",
     "output_type": "stream",
     "text": [
      "Taking action:  2\n"
     ]
    },
    {
     "data": {
      "text/plain": [
       "array([-11.69607781, -12.11978618,  -1.56002791,  -6.99473148])"
      ]
     },
     "metadata": {},
     "output_type": "display_data"
    },
    {
     "name": "stdout",
     "output_type": "stream",
     "text": [
      "Taking action:  2\n"
     ]
    },
    {
     "data": {
      "text/plain": [
       "array([-11.69607781, -12.11978618,  -1.56002791,  -6.99473148])"
      ]
     },
     "metadata": {},
     "output_type": "display_data"
    },
    {
     "name": "stdout",
     "output_type": "stream",
     "text": [
      "Taking action:  2\n"
     ]
    },
    {
     "data": {
      "text/plain": [
       "array([-11.69607781, -12.11978618,  -1.56002791,  -6.99473148])"
      ]
     },
     "metadata": {},
     "output_type": "display_data"
    },
    {
     "name": "stdout",
     "output_type": "stream",
     "text": [
      "Taking action:  2\n"
     ]
    },
    {
     "data": {
      "text/plain": [
       "array([-11.69607781, -12.11978618,  -1.56002791,  -6.99473148])"
      ]
     },
     "metadata": {},
     "output_type": "display_data"
    },
    {
     "name": "stdout",
     "output_type": "stream",
     "text": [
      "Taking action:  2\n"
     ]
    },
    {
     "data": {
      "text/plain": [
       "array([-11.69607781, -12.11978618,  -1.56002791,  -6.99473148])"
      ]
     },
     "metadata": {},
     "output_type": "display_data"
    },
    {
     "name": "stdout",
     "output_type": "stream",
     "text": [
      "Taking action:  2\n"
     ]
    },
    {
     "data": {
      "text/plain": [
       "array([0., 0., 0., 0.])"
      ]
     },
     "metadata": {},
     "output_type": "display_data"
    },
    {
     "name": "stdout",
     "output_type": "stream",
     "text": [
      "Taking action:  0\n"
     ]
    },
    {
     "data": {
      "text/plain": [
       "array([0., 0., 0., 0.])"
      ]
     },
     "metadata": {},
     "output_type": "display_data"
    },
    {
     "name": "stdout",
     "output_type": "stream",
     "text": [
      "Taking action:  0\n"
     ]
    },
    {
     "data": {
      "text/plain": [
       "array([ 0.        , -4.5009568 , -2.38166187, -7.50921112])"
      ]
     },
     "metadata": {},
     "output_type": "display_data"
    },
    {
     "name": "stdout",
     "output_type": "stream",
     "text": [
      "Taking action:  0\n"
     ]
    },
    {
     "data": {
      "text/plain": [
       "array([ 2.26909922,  1.48583373, -4.7533823 , -2.20731227])"
      ]
     },
     "metadata": {},
     "output_type": "display_data"
    },
    {
     "name": "stdout",
     "output_type": "stream",
     "text": [
      "Taking action:  0\n"
     ]
    },
    {
     "data": {
      "text/plain": [
       "array([ 2.26909922,  1.48583373, -4.7533823 , -2.20731227])"
      ]
     },
     "metadata": {},
     "output_type": "display_data"
    },
    {
     "name": "stdout",
     "output_type": "stream",
     "text": [
      "Taking action:  0\n"
     ]
    },
    {
     "data": {
      "text/plain": [
       "array([ 2.26909922,  1.48583373, -4.7533823 , -2.20731227])"
      ]
     },
     "metadata": {},
     "output_type": "display_data"
    },
    {
     "name": "stdout",
     "output_type": "stream",
     "text": [
      "Taking action:  0\n"
     ]
    },
    {
     "data": {
      "text/plain": [
       "array([ 2.26909922,  1.48583373, -4.7533823 , -2.20731227])"
      ]
     },
     "metadata": {},
     "output_type": "display_data"
    },
    {
     "name": "stdout",
     "output_type": "stream",
     "text": [
      "Taking action:  0\n"
     ]
    },
    {
     "data": {
      "text/plain": [
       "array([ 2.26909922,  1.48583373, -4.7533823 , -2.20731227])"
      ]
     },
     "metadata": {},
     "output_type": "display_data"
    },
    {
     "name": "stdout",
     "output_type": "stream",
     "text": [
      "Taking action:  0\n"
     ]
    },
    {
     "data": {
      "text/plain": [
       "array([-7.72616792,  2.20129975, -1.6334907 , -3.62813257])"
      ]
     },
     "metadata": {},
     "output_type": "display_data"
    },
    {
     "name": "stdout",
     "output_type": "stream",
     "text": [
      "Taking action:  1\n"
     ]
    },
    {
     "data": {
      "text/plain": [
       "array([-7.72616792,  2.20129975, -1.6334907 , -3.62813257])"
      ]
     },
     "metadata": {},
     "output_type": "display_data"
    },
    {
     "name": "stdout",
     "output_type": "stream",
     "text": [
      "Taking action:  1\n"
     ]
    },
    {
     "data": {
      "text/plain": [
       "array([-6.98701189,  1.89715054, -1.84678219, -2.56473191])"
      ]
     },
     "metadata": {},
     "output_type": "display_data"
    },
    {
     "name": "stdout",
     "output_type": "stream",
     "text": [
      "Taking action:  1\n"
     ]
    },
    {
     "data": {
      "text/plain": [
       "array([-7.72616792,  2.20129975, -1.6334907 , -3.62813257])"
      ]
     },
     "metadata": {},
     "output_type": "display_data"
    },
    {
     "name": "stdout",
     "output_type": "stream",
     "text": [
      "Taking action:  1\n"
     ]
    },
    {
     "data": {
      "text/plain": [
       "array([-7.72616792,  2.20129975, -1.6334907 , -3.62813257])"
      ]
     },
     "metadata": {},
     "output_type": "display_data"
    },
    {
     "name": "stdout",
     "output_type": "stream",
     "text": [
      "Taking action:  1\n"
     ]
    },
    {
     "data": {
      "text/plain": [
       "array([-7.72616792,  2.20129975, -1.6334907 , -3.62813257])"
      ]
     },
     "metadata": {},
     "output_type": "display_data"
    },
    {
     "name": "stdout",
     "output_type": "stream",
     "text": [
      "Taking action:  1\n"
     ]
    },
    {
     "data": {
      "text/plain": [
       "array([-7.72616792,  2.20129975, -1.6334907 , -3.62813257])"
      ]
     },
     "metadata": {},
     "output_type": "display_data"
    },
    {
     "name": "stdout",
     "output_type": "stream",
     "text": [
      "Taking action:  1\n"
     ]
    },
    {
     "data": {
      "text/plain": [
       "array([-7.72616792,  2.20129975, -1.6334907 , -3.62813257])"
      ]
     },
     "metadata": {},
     "output_type": "display_data"
    },
    {
     "name": "stdout",
     "output_type": "stream",
     "text": [
      "Taking action:  1\n"
     ]
    },
    {
     "data": {
      "text/plain": [
       "array([-6.45259195, -8.12935135,  2.50997791, -0.22524256])"
      ]
     },
     "metadata": {},
     "output_type": "display_data"
    },
    {
     "name": "stdout",
     "output_type": "stream",
     "text": [
      "Taking action:  2\n"
     ]
    },
    {
     "data": {
      "text/plain": [
       "array([-6.45259195, -8.12935135,  2.50997791, -0.22524256])"
      ]
     },
     "metadata": {},
     "output_type": "display_data"
    },
    {
     "name": "stdout",
     "output_type": "stream",
     "text": [
      "Taking action:  2\n"
     ]
    },
    {
     "data": {
      "text/plain": [
       "array([-7.23768312, -7.84439416,  2.88651498,  0.86524066])"
      ]
     },
     "metadata": {},
     "output_type": "display_data"
    },
    {
     "name": "stdout",
     "output_type": "stream",
     "text": [
      "Taking action:  2\n"
     ]
    },
    {
     "data": {
      "text/plain": [
       "array([-6.45259195, -8.12935135,  2.50997791, -0.22524256])"
      ]
     },
     "metadata": {},
     "output_type": "display_data"
    },
    {
     "name": "stdout",
     "output_type": "stream",
     "text": [
      "Taking action:  2\n"
     ]
    },
    {
     "data": {
      "text/plain": [
       "array([-6.45259195, -8.12935135,  2.50997791, -0.22524256])"
      ]
     },
     "metadata": {},
     "output_type": "display_data"
    },
    {
     "name": "stdout",
     "output_type": "stream",
     "text": [
      "Taking action:  2\n"
     ]
    },
    {
     "data": {
      "text/plain": [
       "array([-6.45259195, -8.12935135,  2.50997791, -0.22524256])"
      ]
     },
     "metadata": {},
     "output_type": "display_data"
    },
    {
     "name": "stdout",
     "output_type": "stream",
     "text": [
      "Taking action:  2\n"
     ]
    },
    {
     "data": {
      "text/plain": [
       "array([-6.45259195, -8.12935135,  2.50997791, -0.22524256])"
      ]
     },
     "metadata": {},
     "output_type": "display_data"
    },
    {
     "name": "stdout",
     "output_type": "stream",
     "text": [
      "Taking action:  2\n"
     ]
    },
    {
     "data": {
      "text/plain": [
       "array([-6.45259195, -8.12935135,  2.50997791, -0.22524256])"
      ]
     },
     "metadata": {},
     "output_type": "display_data"
    },
    {
     "name": "stdout",
     "output_type": "stream",
     "text": [
      "Taking action:  2\n"
     ]
    },
    {
     "data": {
      "text/plain": [
       "array([-6.45259195, -8.12935135,  2.50997791, -0.22524256])"
      ]
     },
     "metadata": {},
     "output_type": "display_data"
    },
    {
     "name": "stdout",
     "output_type": "stream",
     "text": [
      "Taking action:  2\n"
     ]
    },
    {
     "data": {
      "text/plain": [
       "array([-5.53660489, -3.89583461, -5.38589796,  5.02616134])"
      ]
     },
     "metadata": {},
     "output_type": "display_data"
    },
    {
     "name": "stdout",
     "output_type": "stream",
     "text": [
      "Taking action:  3\n"
     ]
    },
    {
     "data": {
      "text/plain": [
       "array([ 2.26909922,  1.48583373, -4.7533823 , -2.20731227])"
      ]
     },
     "metadata": {},
     "output_type": "display_data"
    },
    {
     "name": "stdout",
     "output_type": "stream",
     "text": [
      "Taking action:  0\n"
     ]
    },
    {
     "data": {
      "text/plain": [
       "array([ 1.75205434, -1.76591999, -3.94228941, -2.68528812])"
      ]
     },
     "metadata": {},
     "output_type": "display_data"
    },
    {
     "name": "stdout",
     "output_type": "stream",
     "text": [
      "Taking action:  0\n"
     ]
    },
    {
     "data": {
      "text/plain": [
       "array([ -2.54056479,  -9.92130341, -10.53680598,  -4.1981918 ])"
      ]
     },
     "metadata": {},
     "output_type": "display_data"
    },
    {
     "name": "stdout",
     "output_type": "stream",
     "text": [
      "Taking action:  0\n"
     ]
    },
    {
     "data": {
      "text/plain": [
       "array([ -2.54056479,  -9.92130341, -10.53680598,  -4.1981918 ])"
      ]
     },
     "metadata": {},
     "output_type": "display_data"
    },
    {
     "name": "stdout",
     "output_type": "stream",
     "text": [
      "Taking action:  0\n"
     ]
    },
    {
     "data": {
      "text/plain": [
       "array([ -2.54056479,  -9.92130341, -10.53680598,  -4.1981918 ])"
      ]
     },
     "metadata": {},
     "output_type": "display_data"
    },
    {
     "name": "stdout",
     "output_type": "stream",
     "text": [
      "Taking action:  0\n"
     ]
    },
    {
     "data": {
      "text/plain": [
       "array([ -2.54056479,  -9.92130341, -10.53680598,  -4.1981918 ])"
      ]
     },
     "metadata": {},
     "output_type": "display_data"
    },
    {
     "name": "stdout",
     "output_type": "stream",
     "text": [
      "Taking action:  0\n"
     ]
    },
    {
     "data": {
      "text/plain": [
       "array([ -2.54056479,  -9.92130341, -10.53680598,  -4.1981918 ])"
      ]
     },
     "metadata": {},
     "output_type": "display_data"
    },
    {
     "name": "stdout",
     "output_type": "stream",
     "text": [
      "Taking action:  0\n"
     ]
    },
    {
     "data": {
      "text/plain": [
       "array([ -2.54056479,  -9.92130341, -10.53680598,  -4.1981918 ])"
      ]
     },
     "metadata": {},
     "output_type": "display_data"
    },
    {
     "name": "stdout",
     "output_type": "stream",
     "text": [
      "Taking action:  0\n"
     ]
    },
    {
     "data": {
      "text/plain": [
       "array([-10.54801925, -12.09383424, -10.96403011,  -1.40558322])"
      ]
     },
     "metadata": {},
     "output_type": "display_data"
    },
    {
     "name": "stdout",
     "output_type": "stream",
     "text": [
      "Taking action:  3\n"
     ]
    },
    {
     "data": {
      "text/plain": [
       "array([-42.53299606, -42.33737032, -23.0617362 , -30.93118565])"
      ]
     },
     "metadata": {},
     "output_type": "display_data"
    },
    {
     "name": "stdout",
     "output_type": "stream",
     "text": [
      "Taking action:  2\n"
     ]
    },
    {
     "data": {
      "text/plain": [
       "array([-41.94835894, -42.0019044 , -32.60740784, -38.00401392])"
      ]
     },
     "metadata": {},
     "output_type": "display_data"
    },
    {
     "name": "stdout",
     "output_type": "stream",
     "text": [
      "Taking action:  2\n"
     ]
    },
    {
     "data": {
      "text/plain": [
       "array([-11.69607781, -12.11978618,  -1.56002791,  -6.99473148])"
      ]
     },
     "metadata": {},
     "output_type": "display_data"
    },
    {
     "name": "stdout",
     "output_type": "stream",
     "text": [
      "Taking action:  2\n"
     ]
    },
    {
     "data": {
      "text/plain": [
       "array([-11.69607781, -12.11978618,  -1.56002791,  -6.99473148])"
      ]
     },
     "metadata": {},
     "output_type": "display_data"
    },
    {
     "name": "stdout",
     "output_type": "stream",
     "text": [
      "Taking action:  2\n"
     ]
    },
    {
     "data": {
      "text/plain": [
       "array([-11.69607781, -12.11978618,  -1.56002791,  -6.99473148])"
      ]
     },
     "metadata": {},
     "output_type": "display_data"
    },
    {
     "name": "stdout",
     "output_type": "stream",
     "text": [
      "Taking action:  2\n"
     ]
    },
    {
     "data": {
      "text/plain": [
       "array([-11.69607781, -12.11978618,  -1.56002791,  -6.99473148])"
      ]
     },
     "metadata": {},
     "output_type": "display_data"
    },
    {
     "name": "stdout",
     "output_type": "stream",
     "text": [
      "Taking action:  2\n"
     ]
    },
    {
     "data": {
      "text/plain": [
       "array([-11.69607781, -12.11978618,  -1.56002791,  -6.99473148])"
      ]
     },
     "metadata": {},
     "output_type": "display_data"
    },
    {
     "name": "stdout",
     "output_type": "stream",
     "text": [
      "Taking action:  2\n"
     ]
    },
    {
     "data": {
      "text/plain": [
       "array([-11.69607781, -12.11978618,  -1.56002791,  -6.99473148])"
      ]
     },
     "metadata": {},
     "output_type": "display_data"
    },
    {
     "name": "stdout",
     "output_type": "stream",
     "text": [
      "Taking action:  2\n"
     ]
    },
    {
     "data": {
      "text/plain": [
       "array([-10.54801925, -12.09383424, -10.96403011,  -1.40558322])"
      ]
     },
     "metadata": {},
     "output_type": "display_data"
    },
    {
     "name": "stdout",
     "output_type": "stream",
     "text": [
      "Taking action:  3\n"
     ]
    },
    {
     "data": {
      "text/plain": [
       "array([ -2.54056479,  -9.92130341, -10.53680598,  -4.1981918 ])"
      ]
     },
     "metadata": {},
     "output_type": "display_data"
    },
    {
     "name": "stdout",
     "output_type": "stream",
     "text": [
      "Taking action:  0\n"
     ]
    },
    {
     "data": {
      "text/plain": [
       "array([ 1.60286162, -3.15831708, -2.40803573, -1.72489251])"
      ]
     },
     "metadata": {},
     "output_type": "display_data"
    },
    {
     "name": "stdout",
     "output_type": "stream",
     "text": [
      "Taking action:  0\n"
     ]
    },
    {
     "data": {
      "text/plain": [
       "array([ -2.54056479,  -9.92130341, -10.53680598,  -4.1981918 ])"
      ]
     },
     "metadata": {},
     "output_type": "display_data"
    },
    {
     "name": "stdout",
     "output_type": "stream",
     "text": [
      "Taking action:  0\n"
     ]
    },
    {
     "data": {
      "text/plain": [
       "array([ -2.54056479,  -9.92130341, -10.53680598,  -4.1981918 ])"
      ]
     },
     "metadata": {},
     "output_type": "display_data"
    },
    {
     "name": "stdout",
     "output_type": "stream",
     "text": [
      "Taking action:  0\n"
     ]
    },
    {
     "data": {
      "text/plain": [
       "array([ -2.54056479,  -9.92130341, -10.53680598,  -4.1981918 ])"
      ]
     },
     "metadata": {},
     "output_type": "display_data"
    },
    {
     "name": "stdout",
     "output_type": "stream",
     "text": [
      "Taking action:  0\n"
     ]
    },
    {
     "data": {
      "text/plain": [
       "array([ -2.54056479,  -9.92130341, -10.53680598,  -4.1981918 ])"
      ]
     },
     "metadata": {},
     "output_type": "display_data"
    },
    {
     "name": "stdout",
     "output_type": "stream",
     "text": [
      "Taking action:  0\n"
     ]
    },
    {
     "data": {
      "text/plain": [
       "array([ -2.54056479,  -9.92130341, -10.53680598,  -4.1981918 ])"
      ]
     },
     "metadata": {},
     "output_type": "display_data"
    },
    {
     "name": "stdout",
     "output_type": "stream",
     "text": [
      "Taking action:  0\n"
     ]
    },
    {
     "data": {
      "text/plain": [
       "array([ -2.54056479,  -9.92130341, -10.53680598,  -4.1981918 ])"
      ]
     },
     "metadata": {},
     "output_type": "display_data"
    },
    {
     "name": "stdout",
     "output_type": "stream",
     "text": [
      "Taking action:  0\n"
     ]
    },
    {
     "data": {
      "text/plain": [
       "array([-10.54801925, -12.09383424, -10.96403011,  -1.40558322])"
      ]
     },
     "metadata": {},
     "output_type": "display_data"
    },
    {
     "name": "stdout",
     "output_type": "stream",
     "text": [
      "Taking action:  3\n"
     ]
    },
    {
     "data": {
      "text/plain": [
       "array([-42.53299606, -42.33737032, -23.0617362 , -30.93118565])"
      ]
     },
     "metadata": {},
     "output_type": "display_data"
    },
    {
     "name": "stdout",
     "output_type": "stream",
     "text": [
      "Taking action:  2\n"
     ]
    },
    {
     "data": {
      "text/plain": [
       "array([-41.94835894, -42.0019044 , -32.60740784, -38.00401392])"
      ]
     },
     "metadata": {},
     "output_type": "display_data"
    },
    {
     "name": "stdout",
     "output_type": "stream",
     "text": [
      "Taking action:  2\n"
     ]
    },
    {
     "data": {
      "text/plain": [
       "array([-11.69607781, -12.11978618,  -1.56002791,  -6.99473148])"
      ]
     },
     "metadata": {},
     "output_type": "display_data"
    },
    {
     "name": "stdout",
     "output_type": "stream",
     "text": [
      "Taking action:  2\n"
     ]
    },
    {
     "data": {
      "text/plain": [
       "array([-11.69607781, -12.11978618,  -1.56002791,  -6.99473148])"
      ]
     },
     "metadata": {},
     "output_type": "display_data"
    },
    {
     "name": "stdout",
     "output_type": "stream",
     "text": [
      "Taking action:  2\n"
     ]
    },
    {
     "data": {
      "text/plain": [
       "array([-10.54801925, -12.09383424, -10.96403011,  -1.40558322])"
      ]
     },
     "metadata": {},
     "output_type": "display_data"
    },
    {
     "name": "stdout",
     "output_type": "stream",
     "text": [
      "Taking action:  3\n"
     ]
    },
    {
     "data": {
      "text/plain": [
       "array([ -2.54056479,  -9.92130341, -10.53680598,  -4.1981918 ])"
      ]
     },
     "metadata": {},
     "output_type": "display_data"
    },
    {
     "name": "stdout",
     "output_type": "stream",
     "text": [
      "Taking action:  0\n"
     ]
    },
    {
     "data": {
      "text/plain": [
       "array([ 1.75205434, -1.76591999, -3.94228941, -2.68528812])"
      ]
     },
     "metadata": {},
     "output_type": "display_data"
    },
    {
     "name": "stdout",
     "output_type": "stream",
     "text": [
      "Taking action:  0\n"
     ]
    },
    {
     "data": {
      "text/plain": [
       "array([ -2.54056479,  -9.92130341, -10.53680598,  -4.1981918 ])"
      ]
     },
     "metadata": {},
     "output_type": "display_data"
    },
    {
     "name": "stdout",
     "output_type": "stream",
     "text": [
      "Taking action:  0\n"
     ]
    },
    {
     "data": {
      "text/plain": [
       "array([ -2.54056479,  -9.92130341, -10.53680598,  -4.1981918 ])"
      ]
     },
     "metadata": {},
     "output_type": "display_data"
    },
    {
     "name": "stdout",
     "output_type": "stream",
     "text": [
      "Taking action:  0\n"
     ]
    },
    {
     "data": {
      "text/plain": [
       "array([-10.54801925, -12.09383424, -10.96403011,  -1.40558322])"
      ]
     },
     "metadata": {},
     "output_type": "display_data"
    },
    {
     "name": "stdout",
     "output_type": "stream",
     "text": [
      "Taking action:  3\n"
     ]
    },
    {
     "data": {
      "text/plain": [
       "array([-42.53299606, -42.33737032, -23.0617362 , -30.93118565])"
      ]
     },
     "metadata": {},
     "output_type": "display_data"
    },
    {
     "name": "stdout",
     "output_type": "stream",
     "text": [
      "Taking action:  2\n"
     ]
    },
    {
     "data": {
      "text/plain": [
       "array([-41.94835894, -42.0019044 , -32.60740784, -38.00401392])"
      ]
     },
     "metadata": {},
     "output_type": "display_data"
    },
    {
     "name": "stdout",
     "output_type": "stream",
     "text": [
      "Taking action:  2\n"
     ]
    },
    {
     "data": {
      "text/plain": [
       "array([-11.69607781, -12.11978618,  -1.56002791,  -6.99473148])"
      ]
     },
     "metadata": {},
     "output_type": "display_data"
    },
    {
     "name": "stdout",
     "output_type": "stream",
     "text": [
      "Taking action:  2\n"
     ]
    },
    {
     "data": {
      "text/plain": [
       "array([-11.69607781, -12.11978618,  -1.56002791,  -6.99473148])"
      ]
     },
     "metadata": {},
     "output_type": "display_data"
    },
    {
     "name": "stdout",
     "output_type": "stream",
     "text": [
      "Taking action:  2\n"
     ]
    },
    {
     "data": {
      "text/plain": [
       "array([-11.69607781, -12.11978618,  -1.56002791,  -6.99473148])"
      ]
     },
     "metadata": {},
     "output_type": "display_data"
    },
    {
     "name": "stdout",
     "output_type": "stream",
     "text": [
      "Taking action:  2\n"
     ]
    },
    {
     "data": {
      "text/plain": [
       "array([-8.14390473,  1.55118339, -1.26668582, -3.94611495])"
      ]
     },
     "metadata": {},
     "output_type": "display_data"
    },
    {
     "name": "stdout",
     "output_type": "stream",
     "text": [
      "Taking action:  1\n"
     ]
    },
    {
     "data": {
      "text/plain": [
       "array([-6.98701189,  1.89715054, -1.84678219, -2.56473191])"
      ]
     },
     "metadata": {},
     "output_type": "display_data"
    },
    {
     "name": "stdout",
     "output_type": "stream",
     "text": [
      "Taking action:  1\n"
     ]
    },
    {
     "data": {
      "text/plain": [
       "array([-11.69607781, -12.11978618,  -1.56002791,  -6.99473148])"
      ]
     },
     "metadata": {},
     "output_type": "display_data"
    },
    {
     "name": "stdout",
     "output_type": "stream",
     "text": [
      "Taking action:  2\n"
     ]
    },
    {
     "data": {
      "text/plain": [
       "array([-42.53299606, -42.33737032, -23.0617362 , -30.93118565])"
      ]
     },
     "metadata": {},
     "output_type": "display_data"
    },
    {
     "name": "stdout",
     "output_type": "stream",
     "text": [
      "Taking action:  2\n"
     ]
    },
    {
     "data": {
      "text/plain": [
       "array([-41.94835894, -42.0019044 , -32.60740784, -38.00401392])"
      ]
     },
     "metadata": {},
     "output_type": "display_data"
    },
    {
     "name": "stdout",
     "output_type": "stream",
     "text": [
      "Taking action:  2\n"
     ]
    },
    {
     "data": {
      "text/plain": [
       "array([-10.54801925, -12.09383424, -10.96403011,  -1.40558322])"
      ]
     },
     "metadata": {},
     "output_type": "display_data"
    },
    {
     "name": "stdout",
     "output_type": "stream",
     "text": [
      "Taking action:  3\n"
     ]
    },
    {
     "data": {
      "text/plain": [
       "array([ -2.54056479,  -9.92130341, -10.53680598,  -4.1981918 ])"
      ]
     },
     "metadata": {},
     "output_type": "display_data"
    },
    {
     "name": "stdout",
     "output_type": "stream",
     "text": [
      "Taking action:  0\n"
     ]
    },
    {
     "data": {
      "text/plain": [
       "array([ 1.60286162, -3.15831708, -2.40803573, -1.72489251])"
      ]
     },
     "metadata": {},
     "output_type": "display_data"
    },
    {
     "name": "stdout",
     "output_type": "stream",
     "text": [
      "Taking action:  0\n"
     ]
    },
    {
     "data": {
      "text/plain": [
       "array([-10.54801925, -12.09383424, -10.96403011,  -1.40558322])"
      ]
     },
     "metadata": {},
     "output_type": "display_data"
    },
    {
     "name": "stdout",
     "output_type": "stream",
     "text": [
      "Taking action:  3\n"
     ]
    },
    {
     "data": {
      "text/plain": [
       "array([-42.53299606, -42.33737032, -23.0617362 , -30.93118565])"
      ]
     },
     "metadata": {},
     "output_type": "display_data"
    },
    {
     "name": "stdout",
     "output_type": "stream",
     "text": [
      "Taking action:  2\n"
     ]
    },
    {
     "data": {
      "text/plain": [
       "array([-11.69607781, -12.11978618,  -1.56002791,  -6.99473148])"
      ]
     },
     "metadata": {},
     "output_type": "display_data"
    },
    {
     "name": "stdout",
     "output_type": "stream",
     "text": [
      "Taking action:  2\n"
     ]
    },
    {
     "data": {
      "text/plain": [
       "array([-10.54801925, -12.09383424, -10.96403011,  -1.40558322])"
      ]
     },
     "metadata": {},
     "output_type": "display_data"
    },
    {
     "name": "stdout",
     "output_type": "stream",
     "text": [
      "Taking action:  3\n"
     ]
    },
    {
     "data": {
      "text/plain": [
       "array([ -2.54056479,  -9.92130341, -10.53680598,  -4.1981918 ])"
      ]
     },
     "metadata": {},
     "output_type": "display_data"
    },
    {
     "name": "stdout",
     "output_type": "stream",
     "text": [
      "Taking action:  0\n"
     ]
    },
    {
     "data": {
      "text/plain": [
       "array([ 1.60286162, -3.15831708, -2.40803573, -1.72489251])"
      ]
     },
     "metadata": {},
     "output_type": "display_data"
    },
    {
     "name": "stdout",
     "output_type": "stream",
     "text": [
      "Taking action:  0\n"
     ]
    },
    {
     "data": {
      "text/plain": [
       "array([-37.51690778, -42.10236907, -41.04916695, -39.51121972])"
      ]
     },
     "metadata": {},
     "output_type": "display_data"
    },
    {
     "name": "stdout",
     "output_type": "stream",
     "text": [
      "Taking action:  0\n"
     ]
    },
    {
     "data": {
      "text/plain": [
       "array([-31.12326383, -39.93197865, -36.46974206, -35.58607252])"
      ]
     },
     "metadata": {},
     "output_type": "display_data"
    },
    {
     "name": "stdout",
     "output_type": "stream",
     "text": [
      "Taking action:  0\n"
     ]
    },
    {
     "data": {
      "text/plain": [
       "array([-49.28398059, -53.78584028, -52.1490788 , -51.54368885])"
      ]
     },
     "metadata": {},
     "output_type": "display_data"
    },
    {
     "name": "stdout",
     "output_type": "stream",
     "text": [
      "Taking action:  0\n"
     ]
    },
    {
     "data": {
      "text/plain": [
       "array([-49.28398059, -53.78584028, -52.1490788 , -51.54368885])"
      ]
     },
     "metadata": {},
     "output_type": "display_data"
    },
    {
     "name": "stdout",
     "output_type": "stream",
     "text": [
      "Taking action:  0\n"
     ]
    },
    {
     "data": {
      "text/plain": [
       "array([-49.28398059, -53.78584028, -52.1490788 , -51.54368885])"
      ]
     },
     "metadata": {},
     "output_type": "display_data"
    },
    {
     "name": "stdout",
     "output_type": "stream",
     "text": [
      "Taking action:  0\n"
     ]
    },
    {
     "data": {
      "text/plain": [
       "array([-49.28398059, -53.78584028, -52.1490788 , -51.54368885])"
      ]
     },
     "metadata": {},
     "output_type": "display_data"
    },
    {
     "name": "stdout",
     "output_type": "stream",
     "text": [
      "Taking action:  0\n"
     ]
    },
    {
     "data": {
      "text/plain": [
       "array([-49.28398059, -53.78584028, -52.1490788 , -51.54368885])"
      ]
     },
     "metadata": {},
     "output_type": "display_data"
    },
    {
     "name": "stdout",
     "output_type": "stream",
     "text": [
      "Taking action:  0\n"
     ]
    },
    {
     "data": {
      "text/plain": [
       "array([-55.74259747, -52.23279483, -49.45680693, -51.46948089])"
      ]
     },
     "metadata": {},
     "output_type": "display_data"
    },
    {
     "name": "stdout",
     "output_type": "stream",
     "text": [
      "Taking action:  2\n"
     ]
    },
    {
     "data": {
      "text/plain": [
       "array([-52.40975487, -54.45798224, -53.605895  , -36.82452235])"
      ]
     },
     "metadata": {},
     "output_type": "display_data"
    },
    {
     "name": "stdout",
     "output_type": "stream",
     "text": [
      "Taking action:  3\n"
     ]
    },
    {
     "data": {
      "text/plain": [
       "array([0., 0., 0., 0.])"
      ]
     },
     "metadata": {},
     "output_type": "display_data"
    },
    {
     "name": "stdout",
     "output_type": "stream",
     "text": [
      "Taking action:  0\n"
     ]
    },
    {
     "data": {
      "text/plain": [
       "array([-38.36000495, -42.0521717 , -37.90973693, -32.62614516])"
      ]
     },
     "metadata": {},
     "output_type": "display_data"
    },
    {
     "name": "stdout",
     "output_type": "stream",
     "text": [
      "Taking action:  3\n"
     ]
    },
    {
     "data": {
      "text/plain": [
       "array([-41.94835894, -42.0019044 , -32.60740784, -38.00401392])"
      ]
     },
     "metadata": {},
     "output_type": "display_data"
    },
    {
     "name": "stdout",
     "output_type": "stream",
     "text": [
      "Taking action:  2\n"
     ]
    },
    {
     "data": {
      "text/plain": [
       "array([-11.69607781, -12.11978618,  -1.56002791,  -6.99473148])"
      ]
     },
     "metadata": {},
     "output_type": "display_data"
    },
    {
     "name": "stdout",
     "output_type": "stream",
     "text": [
      "Taking action:  2\n"
     ]
    },
    {
     "data": {
      "text/plain": [
       "array([-11.69607781, -12.11978618,  -1.56002791,  -6.99473148])"
      ]
     },
     "metadata": {},
     "output_type": "display_data"
    },
    {
     "name": "stdout",
     "output_type": "stream",
     "text": [
      "Taking action:  2\n"
     ]
    },
    {
     "data": {
      "text/plain": [
       "array([-11.69607781, -12.11978618,  -1.56002791,  -6.99473148])"
      ]
     },
     "metadata": {},
     "output_type": "display_data"
    },
    {
     "name": "stdout",
     "output_type": "stream",
     "text": [
      "Taking action:  2\n"
     ]
    },
    {
     "data": {
      "text/plain": [
       "array([-11.69607781, -12.11978618,  -1.56002791,  -6.99473148])"
      ]
     },
     "metadata": {},
     "output_type": "display_data"
    },
    {
     "name": "stdout",
     "output_type": "stream",
     "text": [
      "Taking action:  2\n"
     ]
    },
    {
     "data": {
      "text/plain": [
       "array([-11.69607781, -12.11978618,  -1.56002791,  -6.99473148])"
      ]
     },
     "metadata": {},
     "output_type": "display_data"
    },
    {
     "name": "stdout",
     "output_type": "stream",
     "text": [
      "Taking action:  2\n"
     ]
    },
    {
     "data": {
      "text/plain": [
       "array([-11.69607781, -12.11978618,  -1.56002791,  -6.99473148])"
      ]
     },
     "metadata": {},
     "output_type": "display_data"
    },
    {
     "name": "stdout",
     "output_type": "stream",
     "text": [
      "Taking action:  2\n"
     ]
    },
    {
     "data": {
      "text/plain": [
       "array([-11.69607781, -12.11978618,  -1.56002791,  -6.99473148])"
      ]
     },
     "metadata": {},
     "output_type": "display_data"
    },
    {
     "name": "stdout",
     "output_type": "stream",
     "text": [
      "Taking action:  2\n"
     ]
    },
    {
     "data": {
      "text/plain": [
       "array([0., 0., 0., 0.])"
      ]
     },
     "metadata": {},
     "output_type": "display_data"
    },
    {
     "name": "stdout",
     "output_type": "stream",
     "text": [
      "Taking action:  0\n"
     ]
    },
    {
     "data": {
      "text/plain": [
       "array([0., 0., 0., 0.])"
      ]
     },
     "metadata": {},
     "output_type": "display_data"
    },
    {
     "name": "stdout",
     "output_type": "stream",
     "text": [
      "Taking action:  0\n"
     ]
    },
    {
     "data": {
      "text/plain": [
       "array([ 0.        , -4.5009568 , -2.38166187, -7.50921112])"
      ]
     },
     "metadata": {},
     "output_type": "display_data"
    },
    {
     "name": "stdout",
     "output_type": "stream",
     "text": [
      "Taking action:  0\n"
     ]
    },
    {
     "data": {
      "text/plain": [
       "array([ 2.26909922,  1.48583373, -4.7533823 , -2.20731227])"
      ]
     },
     "metadata": {},
     "output_type": "display_data"
    },
    {
     "name": "stdout",
     "output_type": "stream",
     "text": [
      "Taking action:  0\n"
     ]
    },
    {
     "data": {
      "text/plain": [
       "array([ 2.26909922,  1.48583373, -4.7533823 , -2.20731227])"
      ]
     },
     "metadata": {},
     "output_type": "display_data"
    },
    {
     "name": "stdout",
     "output_type": "stream",
     "text": [
      "Taking action:  0\n"
     ]
    },
    {
     "data": {
      "text/plain": [
       "array([ 2.26909922,  1.48583373, -4.7533823 , -2.20731227])"
      ]
     },
     "metadata": {},
     "output_type": "display_data"
    },
    {
     "name": "stdout",
     "output_type": "stream",
     "text": [
      "Taking action:  0\n"
     ]
    },
    {
     "data": {
      "text/plain": [
       "array([ 2.26909922,  1.48583373, -4.7533823 , -2.20731227])"
      ]
     },
     "metadata": {},
     "output_type": "display_data"
    },
    {
     "name": "stdout",
     "output_type": "stream",
     "text": [
      "Taking action:  0\n"
     ]
    },
    {
     "data": {
      "text/plain": [
       "array([ 2.26909922,  1.48583373, -4.7533823 , -2.20731227])"
      ]
     },
     "metadata": {},
     "output_type": "display_data"
    },
    {
     "name": "stdout",
     "output_type": "stream",
     "text": [
      "Taking action:  0\n"
     ]
    },
    {
     "data": {
      "text/plain": [
       "array([-7.72616792,  2.20129975, -1.6334907 , -3.62813257])"
      ]
     },
     "metadata": {},
     "output_type": "display_data"
    },
    {
     "name": "stdout",
     "output_type": "stream",
     "text": [
      "Taking action:  1\n"
     ]
    },
    {
     "data": {
      "text/plain": [
       "array([-7.72616792,  2.20129975, -1.6334907 , -3.62813257])"
      ]
     },
     "metadata": {},
     "output_type": "display_data"
    },
    {
     "name": "stdout",
     "output_type": "stream",
     "text": [
      "Taking action:  1\n"
     ]
    },
    {
     "data": {
      "text/plain": [
       "array([-6.98701189,  1.89715054, -1.84678219, -2.56473191])"
      ]
     },
     "metadata": {},
     "output_type": "display_data"
    },
    {
     "name": "stdout",
     "output_type": "stream",
     "text": [
      "Taking action:  1\n"
     ]
    },
    {
     "data": {
      "text/plain": [
       "array([-7.72616792,  2.20129975, -1.6334907 , -3.62813257])"
      ]
     },
     "metadata": {},
     "output_type": "display_data"
    },
    {
     "name": "stdout",
     "output_type": "stream",
     "text": [
      "Taking action:  1\n"
     ]
    },
    {
     "data": {
      "text/plain": [
       "array([-7.72616792,  2.20129975, -1.6334907 , -3.62813257])"
      ]
     },
     "metadata": {},
     "output_type": "display_data"
    },
    {
     "name": "stdout",
     "output_type": "stream",
     "text": [
      "Taking action:  1\n"
     ]
    },
    {
     "data": {
      "text/plain": [
       "array([-7.72616792,  2.20129975, -1.6334907 , -3.62813257])"
      ]
     },
     "metadata": {},
     "output_type": "display_data"
    },
    {
     "name": "stdout",
     "output_type": "stream",
     "text": [
      "Taking action:  1\n"
     ]
    },
    {
     "data": {
      "text/plain": [
       "array([-7.72616792,  2.20129975, -1.6334907 , -3.62813257])"
      ]
     },
     "metadata": {},
     "output_type": "display_data"
    },
    {
     "name": "stdout",
     "output_type": "stream",
     "text": [
      "Taking action:  1\n"
     ]
    },
    {
     "data": {
      "text/plain": [
       "array([-7.72616792,  2.20129975, -1.6334907 , -3.62813257])"
      ]
     },
     "metadata": {},
     "output_type": "display_data"
    },
    {
     "name": "stdout",
     "output_type": "stream",
     "text": [
      "Taking action:  1\n"
     ]
    },
    {
     "data": {
      "text/plain": [
       "array([-6.45259195, -8.12935135,  2.50997791, -0.22524256])"
      ]
     },
     "metadata": {},
     "output_type": "display_data"
    },
    {
     "name": "stdout",
     "output_type": "stream",
     "text": [
      "Taking action:  2\n"
     ]
    },
    {
     "data": {
      "text/plain": [
       "array([-6.45259195, -8.12935135,  2.50997791, -0.22524256])"
      ]
     },
     "metadata": {},
     "output_type": "display_data"
    },
    {
     "name": "stdout",
     "output_type": "stream",
     "text": [
      "Taking action:  2\n"
     ]
    },
    {
     "data": {
      "text/plain": [
       "array([-7.23768312, -7.84439416,  2.88651498,  0.86524066])"
      ]
     },
     "metadata": {},
     "output_type": "display_data"
    },
    {
     "name": "stdout",
     "output_type": "stream",
     "text": [
      "Taking action:  2\n"
     ]
    },
    {
     "data": {
      "text/plain": [
       "array([-6.45259195, -8.12935135,  2.50997791, -0.22524256])"
      ]
     },
     "metadata": {},
     "output_type": "display_data"
    },
    {
     "name": "stdout",
     "output_type": "stream",
     "text": [
      "Taking action:  2\n"
     ]
    },
    {
     "data": {
      "text/plain": [
       "array([-6.45259195, -8.12935135,  2.50997791, -0.22524256])"
      ]
     },
     "metadata": {},
     "output_type": "display_data"
    },
    {
     "name": "stdout",
     "output_type": "stream",
     "text": [
      "Taking action:  2\n"
     ]
    },
    {
     "data": {
      "text/plain": [
       "array([-6.45259195, -8.12935135,  2.50997791, -0.22524256])"
      ]
     },
     "metadata": {},
     "output_type": "display_data"
    },
    {
     "name": "stdout",
     "output_type": "stream",
     "text": [
      "Taking action:  2\n"
     ]
    },
    {
     "data": {
      "text/plain": [
       "array([-6.45259195, -8.12935135,  2.50997791, -0.22524256])"
      ]
     },
     "metadata": {},
     "output_type": "display_data"
    },
    {
     "name": "stdout",
     "output_type": "stream",
     "text": [
      "Taking action:  2\n"
     ]
    },
    {
     "data": {
      "text/plain": [
       "array([-6.45259195, -8.12935135,  2.50997791, -0.22524256])"
      ]
     },
     "metadata": {},
     "output_type": "display_data"
    },
    {
     "name": "stdout",
     "output_type": "stream",
     "text": [
      "Taking action:  2\n"
     ]
    },
    {
     "data": {
      "text/plain": [
       "array([-6.45259195, -8.12935135,  2.50997791, -0.22524256])"
      ]
     },
     "metadata": {},
     "output_type": "display_data"
    },
    {
     "name": "stdout",
     "output_type": "stream",
     "text": [
      "Taking action:  2\n"
     ]
    },
    {
     "data": {
      "text/plain": [
       "array([-5.53660489, -3.89583461, -5.38589796,  5.02616134])"
      ]
     },
     "metadata": {},
     "output_type": "display_data"
    },
    {
     "name": "stdout",
     "output_type": "stream",
     "text": [
      "Taking action:  3\n"
     ]
    },
    {
     "data": {
      "text/plain": [
       "array([ 2.26909922,  1.48583373, -4.7533823 , -2.20731227])"
      ]
     },
     "metadata": {},
     "output_type": "display_data"
    },
    {
     "name": "stdout",
     "output_type": "stream",
     "text": [
      "Taking action:  0\n"
     ]
    },
    {
     "data": {
      "text/plain": [
       "array([ 1.75205434, -1.76591999, -3.94228941, -2.68528812])"
      ]
     },
     "metadata": {},
     "output_type": "display_data"
    },
    {
     "name": "stdout",
     "output_type": "stream",
     "text": [
      "Taking action:  0\n"
     ]
    },
    {
     "data": {
      "text/plain": [
       "array([ -2.54056479,  -9.92130341, -10.53680598,  -4.1981918 ])"
      ]
     },
     "metadata": {},
     "output_type": "display_data"
    },
    {
     "name": "stdout",
     "output_type": "stream",
     "text": [
      "Taking action:  0\n"
     ]
    },
    {
     "data": {
      "text/plain": [
       "array([ -2.54056479,  -9.92130341, -10.53680598,  -4.1981918 ])"
      ]
     },
     "metadata": {},
     "output_type": "display_data"
    },
    {
     "name": "stdout",
     "output_type": "stream",
     "text": [
      "Taking action:  0\n"
     ]
    },
    {
     "data": {
      "text/plain": [
       "array([ -2.54056479,  -9.92130341, -10.53680598,  -4.1981918 ])"
      ]
     },
     "metadata": {},
     "output_type": "display_data"
    },
    {
     "name": "stdout",
     "output_type": "stream",
     "text": [
      "Taking action:  0\n"
     ]
    },
    {
     "data": {
      "text/plain": [
       "array([ -2.54056479,  -9.92130341, -10.53680598,  -4.1981918 ])"
      ]
     },
     "metadata": {},
     "output_type": "display_data"
    },
    {
     "name": "stdout",
     "output_type": "stream",
     "text": [
      "Taking action:  0\n"
     ]
    },
    {
     "data": {
      "text/plain": [
       "array([ -2.54056479,  -9.92130341, -10.53680598,  -4.1981918 ])"
      ]
     },
     "metadata": {},
     "output_type": "display_data"
    },
    {
     "name": "stdout",
     "output_type": "stream",
     "text": [
      "Taking action:  0\n"
     ]
    },
    {
     "data": {
      "text/plain": [
       "array([ -2.54056479,  -9.92130341, -10.53680598,  -4.1981918 ])"
      ]
     },
     "metadata": {},
     "output_type": "display_data"
    },
    {
     "name": "stdout",
     "output_type": "stream",
     "text": [
      "Taking action:  0\n"
     ]
    },
    {
     "data": {
      "text/plain": [
       "array([-10.54801925, -12.09383424, -10.96403011,  -1.40558322])"
      ]
     },
     "metadata": {},
     "output_type": "display_data"
    },
    {
     "name": "stdout",
     "output_type": "stream",
     "text": [
      "Taking action:  3\n"
     ]
    },
    {
     "data": {
      "text/plain": [
       "array([-42.53299606, -42.33737032, -23.0617362 , -30.93118565])"
      ]
     },
     "metadata": {},
     "output_type": "display_data"
    },
    {
     "name": "stdout",
     "output_type": "stream",
     "text": [
      "Taking action:  2\n"
     ]
    },
    {
     "data": {
      "text/plain": [
       "array([-41.94835894, -42.0019044 , -32.60740784, -38.00401392])"
      ]
     },
     "metadata": {},
     "output_type": "display_data"
    },
    {
     "name": "stdout",
     "output_type": "stream",
     "text": [
      "Taking action:  2\n"
     ]
    },
    {
     "data": {
      "text/plain": [
       "array([-11.69607781, -12.11978618,  -1.56002791,  -6.99473148])"
      ]
     },
     "metadata": {},
     "output_type": "display_data"
    },
    {
     "name": "stdout",
     "output_type": "stream",
     "text": [
      "Taking action:  2\n"
     ]
    },
    {
     "data": {
      "text/plain": [
       "array([-11.69607781, -12.11978618,  -1.56002791,  -6.99473148])"
      ]
     },
     "metadata": {},
     "output_type": "display_data"
    },
    {
     "name": "stdout",
     "output_type": "stream",
     "text": [
      "Taking action:  2\n"
     ]
    },
    {
     "data": {
      "text/plain": [
       "array([-11.69607781, -12.11978618,  -1.56002791,  -6.99473148])"
      ]
     },
     "metadata": {},
     "output_type": "display_data"
    },
    {
     "name": "stdout",
     "output_type": "stream",
     "text": [
      "Taking action:  2\n"
     ]
    },
    {
     "data": {
      "text/plain": [
       "array([-11.69607781, -12.11978618,  -1.56002791,  -6.99473148])"
      ]
     },
     "metadata": {},
     "output_type": "display_data"
    },
    {
     "name": "stdout",
     "output_type": "stream",
     "text": [
      "Taking action:  2\n"
     ]
    },
    {
     "data": {
      "text/plain": [
       "array([-11.69607781, -12.11978618,  -1.56002791,  -6.99473148])"
      ]
     },
     "metadata": {},
     "output_type": "display_data"
    },
    {
     "name": "stdout",
     "output_type": "stream",
     "text": [
      "Taking action:  2\n"
     ]
    },
    {
     "data": {
      "text/plain": [
       "array([-11.69607781, -12.11978618,  -1.56002791,  -6.99473148])"
      ]
     },
     "metadata": {},
     "output_type": "display_data"
    },
    {
     "name": "stdout",
     "output_type": "stream",
     "text": [
      "Taking action:  2\n"
     ]
    },
    {
     "data": {
      "text/plain": [
       "array([-10.54801925, -12.09383424, -10.96403011,  -1.40558322])"
      ]
     },
     "metadata": {},
     "output_type": "display_data"
    },
    {
     "name": "stdout",
     "output_type": "stream",
     "text": [
      "Taking action:  3\n"
     ]
    },
    {
     "data": {
      "text/plain": [
       "array([ -2.54056479,  -9.92130341, -10.53680598,  -4.1981918 ])"
      ]
     },
     "metadata": {},
     "output_type": "display_data"
    },
    {
     "name": "stdout",
     "output_type": "stream",
     "text": [
      "Taking action:  0\n"
     ]
    },
    {
     "data": {
      "text/plain": [
       "array([ 1.60286162, -3.15831708, -2.40803573, -1.72489251])"
      ]
     },
     "metadata": {},
     "output_type": "display_data"
    },
    {
     "name": "stdout",
     "output_type": "stream",
     "text": [
      "Taking action:  0\n"
     ]
    },
    {
     "data": {
      "text/plain": [
       "array([ -2.54056479,  -9.92130341, -10.53680598,  -4.1981918 ])"
      ]
     },
     "metadata": {},
     "output_type": "display_data"
    },
    {
     "name": "stdout",
     "output_type": "stream",
     "text": [
      "Taking action:  0\n"
     ]
    },
    {
     "data": {
      "text/plain": [
       "array([ -2.54056479,  -9.92130341, -10.53680598,  -4.1981918 ])"
      ]
     },
     "metadata": {},
     "output_type": "display_data"
    },
    {
     "name": "stdout",
     "output_type": "stream",
     "text": [
      "Taking action:  0\n"
     ]
    },
    {
     "data": {
      "text/plain": [
       "array([ -2.54056479,  -9.92130341, -10.53680598,  -4.1981918 ])"
      ]
     },
     "metadata": {},
     "output_type": "display_data"
    },
    {
     "name": "stdout",
     "output_type": "stream",
     "text": [
      "Taking action:  0\n"
     ]
    },
    {
     "data": {
      "text/plain": [
       "array([ -2.54056479,  -9.92130341, -10.53680598,  -4.1981918 ])"
      ]
     },
     "metadata": {},
     "output_type": "display_data"
    },
    {
     "name": "stdout",
     "output_type": "stream",
     "text": [
      "Taking action:  0\n"
     ]
    },
    {
     "data": {
      "text/plain": [
       "array([ -2.54056479,  -9.92130341, -10.53680598,  -4.1981918 ])"
      ]
     },
     "metadata": {},
     "output_type": "display_data"
    },
    {
     "name": "stdout",
     "output_type": "stream",
     "text": [
      "Taking action:  0\n"
     ]
    },
    {
     "data": {
      "text/plain": [
       "array([ -2.54056479,  -9.92130341, -10.53680598,  -4.1981918 ])"
      ]
     },
     "metadata": {},
     "output_type": "display_data"
    },
    {
     "name": "stdout",
     "output_type": "stream",
     "text": [
      "Taking action:  0\n"
     ]
    },
    {
     "data": {
      "text/plain": [
       "array([-10.54801925, -12.09383424, -10.96403011,  -1.40558322])"
      ]
     },
     "metadata": {},
     "output_type": "display_data"
    },
    {
     "name": "stdout",
     "output_type": "stream",
     "text": [
      "Taking action:  3\n"
     ]
    },
    {
     "data": {
      "text/plain": [
       "array([-42.53299606, -42.33737032, -23.0617362 , -30.93118565])"
      ]
     },
     "metadata": {},
     "output_type": "display_data"
    },
    {
     "name": "stdout",
     "output_type": "stream",
     "text": [
      "Taking action:  2\n"
     ]
    },
    {
     "data": {
      "text/plain": [
       "array([-41.94835894, -42.0019044 , -32.60740784, -38.00401392])"
      ]
     },
     "metadata": {},
     "output_type": "display_data"
    },
    {
     "name": "stdout",
     "output_type": "stream",
     "text": [
      "Taking action:  2\n"
     ]
    },
    {
     "data": {
      "text/plain": [
       "array([-11.69607781, -12.11978618,  -1.56002791,  -6.99473148])"
      ]
     },
     "metadata": {},
     "output_type": "display_data"
    },
    {
     "name": "stdout",
     "output_type": "stream",
     "text": [
      "Taking action:  2\n"
     ]
    },
    {
     "data": {
      "text/plain": [
       "array([-11.69607781, -12.11978618,  -1.56002791,  -6.99473148])"
      ]
     },
     "metadata": {},
     "output_type": "display_data"
    },
    {
     "name": "stdout",
     "output_type": "stream",
     "text": [
      "Taking action:  2\n"
     ]
    },
    {
     "data": {
      "text/plain": [
       "array([-10.54801925, -12.09383424, -10.96403011,  -1.40558322])"
      ]
     },
     "metadata": {},
     "output_type": "display_data"
    },
    {
     "name": "stdout",
     "output_type": "stream",
     "text": [
      "Taking action:  3\n"
     ]
    },
    {
     "data": {
      "text/plain": [
       "array([ -2.54056479,  -9.92130341, -10.53680598,  -4.1981918 ])"
      ]
     },
     "metadata": {},
     "output_type": "display_data"
    },
    {
     "name": "stdout",
     "output_type": "stream",
     "text": [
      "Taking action:  0\n"
     ]
    },
    {
     "data": {
      "text/plain": [
       "array([ 1.75205434, -1.76591999, -3.94228941, -2.68528812])"
      ]
     },
     "metadata": {},
     "output_type": "display_data"
    },
    {
     "name": "stdout",
     "output_type": "stream",
     "text": [
      "Taking action:  0\n"
     ]
    },
    {
     "data": {
      "text/plain": [
       "array([ -2.54056479,  -9.92130341, -10.53680598,  -4.1981918 ])"
      ]
     },
     "metadata": {},
     "output_type": "display_data"
    },
    {
     "name": "stdout",
     "output_type": "stream",
     "text": [
      "Taking action:  0\n"
     ]
    },
    {
     "data": {
      "text/plain": [
       "array([ -2.54056479,  -9.92130341, -10.53680598,  -4.1981918 ])"
      ]
     },
     "metadata": {},
     "output_type": "display_data"
    },
    {
     "name": "stdout",
     "output_type": "stream",
     "text": [
      "Taking action:  0\n"
     ]
    },
    {
     "data": {
      "text/plain": [
       "array([-10.54801925, -12.09383424, -10.96403011,  -1.40558322])"
      ]
     },
     "metadata": {},
     "output_type": "display_data"
    },
    {
     "name": "stdout",
     "output_type": "stream",
     "text": [
      "Taking action:  3\n"
     ]
    },
    {
     "data": {
      "text/plain": [
       "array([-42.53299606, -42.33737032, -23.0617362 , -30.93118565])"
      ]
     },
     "metadata": {},
     "output_type": "display_data"
    },
    {
     "name": "stdout",
     "output_type": "stream",
     "text": [
      "Taking action:  2\n"
     ]
    },
    {
     "data": {
      "text/plain": [
       "array([-41.94835894, -42.0019044 , -32.60740784, -38.00401392])"
      ]
     },
     "metadata": {},
     "output_type": "display_data"
    },
    {
     "name": "stdout",
     "output_type": "stream",
     "text": [
      "Taking action:  2\n"
     ]
    },
    {
     "data": {
      "text/plain": [
       "array([-11.69607781, -12.11978618,  -1.56002791,  -6.99473148])"
      ]
     },
     "metadata": {},
     "output_type": "display_data"
    },
    {
     "name": "stdout",
     "output_type": "stream",
     "text": [
      "Taking action:  2\n"
     ]
    },
    {
     "data": {
      "text/plain": [
       "array([-11.69607781, -12.11978618,  -1.56002791,  -6.99473148])"
      ]
     },
     "metadata": {},
     "output_type": "display_data"
    },
    {
     "name": "stdout",
     "output_type": "stream",
     "text": [
      "Taking action:  2\n"
     ]
    },
    {
     "data": {
      "text/plain": [
       "array([-11.69607781, -12.11978618,  -1.56002791,  -6.99473148])"
      ]
     },
     "metadata": {},
     "output_type": "display_data"
    },
    {
     "name": "stdout",
     "output_type": "stream",
     "text": [
      "Taking action:  2\n"
     ]
    },
    {
     "data": {
      "text/plain": [
       "array([-8.14390473,  1.55118339, -1.26668582, -3.94611495])"
      ]
     },
     "metadata": {},
     "output_type": "display_data"
    },
    {
     "name": "stdout",
     "output_type": "stream",
     "text": [
      "Taking action:  1\n"
     ]
    },
    {
     "data": {
      "text/plain": [
       "array([-6.98701189,  1.89715054, -1.84678219, -2.56473191])"
      ]
     },
     "metadata": {},
     "output_type": "display_data"
    },
    {
     "name": "stdout",
     "output_type": "stream",
     "text": [
      "Taking action:  1\n"
     ]
    },
    {
     "data": {
      "text/plain": [
       "array([-11.69607781, -12.11978618,  -1.56002791,  -6.99473148])"
      ]
     },
     "metadata": {},
     "output_type": "display_data"
    },
    {
     "name": "stdout",
     "output_type": "stream",
     "text": [
      "Taking action:  2\n"
     ]
    },
    {
     "data": {
      "text/plain": [
       "array([-42.53299606, -42.33737032, -23.0617362 , -30.93118565])"
      ]
     },
     "metadata": {},
     "output_type": "display_data"
    },
    {
     "name": "stdout",
     "output_type": "stream",
     "text": [
      "Taking action:  2\n"
     ]
    },
    {
     "data": {
      "text/plain": [
       "array([-41.94835894, -42.0019044 , -32.60740784, -38.00401392])"
      ]
     },
     "metadata": {},
     "output_type": "display_data"
    },
    {
     "name": "stdout",
     "output_type": "stream",
     "text": [
      "Taking action:  2\n"
     ]
    },
    {
     "data": {
      "text/plain": [
       "array([-10.54801925, -12.09383424, -10.96403011,  -1.40558322])"
      ]
     },
     "metadata": {},
     "output_type": "display_data"
    },
    {
     "name": "stdout",
     "output_type": "stream",
     "text": [
      "Taking action:  3\n"
     ]
    },
    {
     "data": {
      "text/plain": [
       "array([ -2.54056479,  -9.92130341, -10.53680598,  -4.1981918 ])"
      ]
     },
     "metadata": {},
     "output_type": "display_data"
    },
    {
     "name": "stdout",
     "output_type": "stream",
     "text": [
      "Taking action:  0\n"
     ]
    },
    {
     "data": {
      "text/plain": [
       "array([ 1.60286162, -3.15831708, -2.40803573, -1.72489251])"
      ]
     },
     "metadata": {},
     "output_type": "display_data"
    },
    {
     "name": "stdout",
     "output_type": "stream",
     "text": [
      "Taking action:  0\n"
     ]
    },
    {
     "data": {
      "text/plain": [
       "array([-10.54801925, -12.09383424, -10.96403011,  -1.40558322])"
      ]
     },
     "metadata": {},
     "output_type": "display_data"
    },
    {
     "name": "stdout",
     "output_type": "stream",
     "text": [
      "Taking action:  3\n"
     ]
    },
    {
     "data": {
      "text/plain": [
       "array([-42.53299606, -42.33737032, -23.0617362 , -30.93118565])"
      ]
     },
     "metadata": {},
     "output_type": "display_data"
    },
    {
     "name": "stdout",
     "output_type": "stream",
     "text": [
      "Taking action:  2\n"
     ]
    },
    {
     "data": {
      "text/plain": [
       "array([-11.69607781, -12.11978618,  -1.56002791,  -6.99473148])"
      ]
     },
     "metadata": {},
     "output_type": "display_data"
    },
    {
     "name": "stdout",
     "output_type": "stream",
     "text": [
      "Taking action:  2\n"
     ]
    },
    {
     "data": {
      "text/plain": [
       "array([-10.54801925, -12.09383424, -10.96403011,  -1.40558322])"
      ]
     },
     "metadata": {},
     "output_type": "display_data"
    },
    {
     "name": "stdout",
     "output_type": "stream",
     "text": [
      "Taking action:  3\n"
     ]
    },
    {
     "data": {
      "text/plain": [
       "array([ -2.54056479,  -9.92130341, -10.53680598,  -4.1981918 ])"
      ]
     },
     "metadata": {},
     "output_type": "display_data"
    },
    {
     "name": "stdout",
     "output_type": "stream",
     "text": [
      "Taking action:  0\n"
     ]
    },
    {
     "data": {
      "text/plain": [
       "array([ 1.60286162, -3.15831708, -2.40803573, -1.72489251])"
      ]
     },
     "metadata": {},
     "output_type": "display_data"
    },
    {
     "name": "stdout",
     "output_type": "stream",
     "text": [
      "Taking action:  0\n"
     ]
    },
    {
     "data": {
      "text/plain": [
       "array([-37.51690778, -42.10236907, -41.04916695, -39.51121972])"
      ]
     },
     "metadata": {},
     "output_type": "display_data"
    },
    {
     "name": "stdout",
     "output_type": "stream",
     "text": [
      "Taking action:  0\n"
     ]
    },
    {
     "data": {
      "text/plain": [
       "array([-31.12326383, -39.93197865, -36.46974206, -35.58607252])"
      ]
     },
     "metadata": {},
     "output_type": "display_data"
    },
    {
     "name": "stdout",
     "output_type": "stream",
     "text": [
      "Taking action:  0\n"
     ]
    },
    {
     "data": {
      "text/plain": [
       "array([-49.28398059, -53.78584028, -52.1490788 , -51.54368885])"
      ]
     },
     "metadata": {},
     "output_type": "display_data"
    },
    {
     "name": "stdout",
     "output_type": "stream",
     "text": [
      "Taking action:  0\n"
     ]
    },
    {
     "data": {
      "text/plain": [
       "array([-49.28398059, -53.78584028, -52.1490788 , -51.54368885])"
      ]
     },
     "metadata": {},
     "output_type": "display_data"
    },
    {
     "name": "stdout",
     "output_type": "stream",
     "text": [
      "Taking action:  0\n"
     ]
    },
    {
     "data": {
      "text/plain": [
       "array([-49.28398059, -53.78584028, -52.1490788 , -51.54368885])"
      ]
     },
     "metadata": {},
     "output_type": "display_data"
    },
    {
     "name": "stdout",
     "output_type": "stream",
     "text": [
      "Taking action:  0\n"
     ]
    },
    {
     "data": {
      "text/plain": [
       "array([-49.28398059, -53.78584028, -52.1490788 , -51.54368885])"
      ]
     },
     "metadata": {},
     "output_type": "display_data"
    },
    {
     "name": "stdout",
     "output_type": "stream",
     "text": [
      "Taking action:  0\n"
     ]
    },
    {
     "data": {
      "text/plain": [
       "array([-49.28398059, -53.78584028, -52.1490788 , -51.54368885])"
      ]
     },
     "metadata": {},
     "output_type": "display_data"
    },
    {
     "name": "stdout",
     "output_type": "stream",
     "text": [
      "Taking action:  0\n"
     ]
    },
    {
     "data": {
      "text/plain": [
       "array([-55.74259747, -52.23279483, -49.45680693, -51.46948089])"
      ]
     },
     "metadata": {},
     "output_type": "display_data"
    },
    {
     "name": "stdout",
     "output_type": "stream",
     "text": [
      "Taking action:  2\n"
     ]
    },
    {
     "data": {
      "text/plain": [
       "array([-52.40975487, -54.45798224, -53.605895  , -36.82452235])"
      ]
     },
     "metadata": {},
     "output_type": "display_data"
    },
    {
     "name": "stdout",
     "output_type": "stream",
     "text": [
      "Taking action:  3\n"
     ]
    },
    {
     "data": {
      "text/plain": [
       "array([0., 0., 0., 0.])"
      ]
     },
     "metadata": {},
     "output_type": "display_data"
    },
    {
     "name": "stdout",
     "output_type": "stream",
     "text": [
      "Taking action:  0\n"
     ]
    },
    {
     "data": {
      "text/plain": [
       "array([-38.36000495, -42.0521717 , -37.90973693, -32.62614516])"
      ]
     },
     "metadata": {},
     "output_type": "display_data"
    },
    {
     "name": "stdout",
     "output_type": "stream",
     "text": [
      "Taking action:  3\n"
     ]
    },
    {
     "data": {
      "text/plain": [
       "array([-41.94835894, -42.0019044 , -32.60740784, -38.00401392])"
      ]
     },
     "metadata": {},
     "output_type": "display_data"
    },
    {
     "name": "stdout",
     "output_type": "stream",
     "text": [
      "Taking action:  2\n"
     ]
    },
    {
     "data": {
      "text/plain": [
       "array([-11.69607781, -12.11978618,  -1.56002791,  -6.99473148])"
      ]
     },
     "metadata": {},
     "output_type": "display_data"
    },
    {
     "name": "stdout",
     "output_type": "stream",
     "text": [
      "Taking action:  2\n"
     ]
    },
    {
     "data": {
      "text/plain": [
       "array([-11.69607781, -12.11978618,  -1.56002791,  -6.99473148])"
      ]
     },
     "metadata": {},
     "output_type": "display_data"
    },
    {
     "name": "stdout",
     "output_type": "stream",
     "text": [
      "Taking action:  2\n"
     ]
    },
    {
     "data": {
      "text/plain": [
       "array([-11.69607781, -12.11978618,  -1.56002791,  -6.99473148])"
      ]
     },
     "metadata": {},
     "output_type": "display_data"
    },
    {
     "name": "stdout",
     "output_type": "stream",
     "text": [
      "Taking action:  2\n"
     ]
    },
    {
     "data": {
      "text/plain": [
       "array([-11.69607781, -12.11978618,  -1.56002791,  -6.99473148])"
      ]
     },
     "metadata": {},
     "output_type": "display_data"
    },
    {
     "name": "stdout",
     "output_type": "stream",
     "text": [
      "Taking action:  2\n"
     ]
    },
    {
     "data": {
      "text/plain": [
       "array([-11.69607781, -12.11978618,  -1.56002791,  -6.99473148])"
      ]
     },
     "metadata": {},
     "output_type": "display_data"
    },
    {
     "name": "stdout",
     "output_type": "stream",
     "text": [
      "Taking action:  2\n"
     ]
    },
    {
     "data": {
      "text/plain": [
       "array([-11.69607781, -12.11978618,  -1.56002791,  -6.99473148])"
      ]
     },
     "metadata": {},
     "output_type": "display_data"
    },
    {
     "name": "stdout",
     "output_type": "stream",
     "text": [
      "Taking action:  2\n"
     ]
    },
    {
     "data": {
      "text/plain": [
       "array([-11.69607781, -12.11978618,  -1.56002791,  -6.99473148])"
      ]
     },
     "metadata": {},
     "output_type": "display_data"
    },
    {
     "name": "stdout",
     "output_type": "stream",
     "text": [
      "Taking action:  2\n"
     ]
    },
    {
     "data": {
      "text/plain": [
       "array([0., 0., 0., 0.])"
      ]
     },
     "metadata": {},
     "output_type": "display_data"
    },
    {
     "name": "stdout",
     "output_type": "stream",
     "text": [
      "Taking action:  0\n"
     ]
    },
    {
     "data": {
      "text/plain": [
       "array([0., 0., 0., 0.])"
      ]
     },
     "metadata": {},
     "output_type": "display_data"
    },
    {
     "name": "stdout",
     "output_type": "stream",
     "text": [
      "Taking action:  0\n"
     ]
    },
    {
     "data": {
      "text/plain": [
       "array([ 0.        , -4.5009568 , -2.38166187, -7.50921112])"
      ]
     },
     "metadata": {},
     "output_type": "display_data"
    },
    {
     "name": "stdout",
     "output_type": "stream",
     "text": [
      "Taking action:  0\n"
     ]
    },
    {
     "data": {
      "text/plain": [
       "array([ 2.26909922,  1.48583373, -4.7533823 , -2.20731227])"
      ]
     },
     "metadata": {},
     "output_type": "display_data"
    },
    {
     "name": "stdout",
     "output_type": "stream",
     "text": [
      "Taking action:  0\n"
     ]
    },
    {
     "data": {
      "text/plain": [
       "array([ 2.26909922,  1.48583373, -4.7533823 , -2.20731227])"
      ]
     },
     "metadata": {},
     "output_type": "display_data"
    },
    {
     "name": "stdout",
     "output_type": "stream",
     "text": [
      "Taking action:  0\n"
     ]
    },
    {
     "data": {
      "text/plain": [
       "array([ 2.26909922,  1.48583373, -4.7533823 , -2.20731227])"
      ]
     },
     "metadata": {},
     "output_type": "display_data"
    },
    {
     "name": "stdout",
     "output_type": "stream",
     "text": [
      "Taking action:  0\n"
     ]
    },
    {
     "data": {
      "text/plain": [
       "array([ 2.26909922,  1.48583373, -4.7533823 , -2.20731227])"
      ]
     },
     "metadata": {},
     "output_type": "display_data"
    },
    {
     "name": "stdout",
     "output_type": "stream",
     "text": [
      "Taking action:  0\n"
     ]
    },
    {
     "data": {
      "text/plain": [
       "array([ 2.26909922,  1.48583373, -4.7533823 , -2.20731227])"
      ]
     },
     "metadata": {},
     "output_type": "display_data"
    },
    {
     "name": "stdout",
     "output_type": "stream",
     "text": [
      "Taking action:  0\n"
     ]
    },
    {
     "data": {
      "text/plain": [
       "array([-7.72616792,  2.20129975, -1.6334907 , -3.62813257])"
      ]
     },
     "metadata": {},
     "output_type": "display_data"
    },
    {
     "name": "stdout",
     "output_type": "stream",
     "text": [
      "Taking action:  1\n"
     ]
    },
    {
     "data": {
      "text/plain": [
       "array([-7.72616792,  2.20129975, -1.6334907 , -3.62813257])"
      ]
     },
     "metadata": {},
     "output_type": "display_data"
    },
    {
     "name": "stdout",
     "output_type": "stream",
     "text": [
      "Taking action:  1\n"
     ]
    },
    {
     "data": {
      "text/plain": [
       "array([-6.98701189,  1.89715054, -1.84678219, -2.56473191])"
      ]
     },
     "metadata": {},
     "output_type": "display_data"
    },
    {
     "name": "stdout",
     "output_type": "stream",
     "text": [
      "Taking action:  1\n"
     ]
    },
    {
     "data": {
      "text/plain": [
       "array([-7.72616792,  2.20129975, -1.6334907 , -3.62813257])"
      ]
     },
     "metadata": {},
     "output_type": "display_data"
    },
    {
     "name": "stdout",
     "output_type": "stream",
     "text": [
      "Taking action:  1\n"
     ]
    },
    {
     "data": {
      "text/plain": [
       "array([-7.72616792,  2.20129975, -1.6334907 , -3.62813257])"
      ]
     },
     "metadata": {},
     "output_type": "display_data"
    },
    {
     "name": "stdout",
     "output_type": "stream",
     "text": [
      "Taking action:  1\n"
     ]
    },
    {
     "data": {
      "text/plain": [
       "array([-7.72616792,  2.20129975, -1.6334907 , -3.62813257])"
      ]
     },
     "metadata": {},
     "output_type": "display_data"
    },
    {
     "name": "stdout",
     "output_type": "stream",
     "text": [
      "Taking action:  1\n"
     ]
    },
    {
     "data": {
      "text/plain": [
       "array([-7.72616792,  2.20129975, -1.6334907 , -3.62813257])"
      ]
     },
     "metadata": {},
     "output_type": "display_data"
    },
    {
     "name": "stdout",
     "output_type": "stream",
     "text": [
      "Taking action:  1\n"
     ]
    },
    {
     "data": {
      "text/plain": [
       "array([-7.72616792,  2.20129975, -1.6334907 , -3.62813257])"
      ]
     },
     "metadata": {},
     "output_type": "display_data"
    },
    {
     "name": "stdout",
     "output_type": "stream",
     "text": [
      "Taking action:  1\n"
     ]
    },
    {
     "data": {
      "text/plain": [
       "array([-6.45259195, -8.12935135,  2.50997791, -0.22524256])"
      ]
     },
     "metadata": {},
     "output_type": "display_data"
    },
    {
     "name": "stdout",
     "output_type": "stream",
     "text": [
      "Taking action:  2\n"
     ]
    },
    {
     "data": {
      "text/plain": [
       "array([-6.45259195, -8.12935135,  2.50997791, -0.22524256])"
      ]
     },
     "metadata": {},
     "output_type": "display_data"
    },
    {
     "name": "stdout",
     "output_type": "stream",
     "text": [
      "Taking action:  2\n"
     ]
    },
    {
     "data": {
      "text/plain": [
       "array([-7.23768312, -7.84439416,  2.88651498,  0.86524066])"
      ]
     },
     "metadata": {},
     "output_type": "display_data"
    },
    {
     "name": "stdout",
     "output_type": "stream",
     "text": [
      "Taking action:  2\n"
     ]
    },
    {
     "data": {
      "text/plain": [
       "array([-6.45259195, -8.12935135,  2.50997791, -0.22524256])"
      ]
     },
     "metadata": {},
     "output_type": "display_data"
    },
    {
     "name": "stdout",
     "output_type": "stream",
     "text": [
      "Taking action:  2\n"
     ]
    },
    {
     "data": {
      "text/plain": [
       "array([-6.45259195, -8.12935135,  2.50997791, -0.22524256])"
      ]
     },
     "metadata": {},
     "output_type": "display_data"
    },
    {
     "name": "stdout",
     "output_type": "stream",
     "text": [
      "Taking action:  2\n"
     ]
    },
    {
     "data": {
      "text/plain": [
       "array([-6.45259195, -8.12935135,  2.50997791, -0.22524256])"
      ]
     },
     "metadata": {},
     "output_type": "display_data"
    },
    {
     "name": "stdout",
     "output_type": "stream",
     "text": [
      "Taking action:  2\n"
     ]
    },
    {
     "data": {
      "text/plain": [
       "array([-6.45259195, -8.12935135,  2.50997791, -0.22524256])"
      ]
     },
     "metadata": {},
     "output_type": "display_data"
    },
    {
     "name": "stdout",
     "output_type": "stream",
     "text": [
      "Taking action:  2\n"
     ]
    },
    {
     "data": {
      "text/plain": [
       "array([-6.45259195, -8.12935135,  2.50997791, -0.22524256])"
      ]
     },
     "metadata": {},
     "output_type": "display_data"
    },
    {
     "name": "stdout",
     "output_type": "stream",
     "text": [
      "Taking action:  2\n"
     ]
    },
    {
     "data": {
      "text/plain": [
       "array([-6.45259195, -8.12935135,  2.50997791, -0.22524256])"
      ]
     },
     "metadata": {},
     "output_type": "display_data"
    },
    {
     "name": "stdout",
     "output_type": "stream",
     "text": [
      "Taking action:  2\n"
     ]
    },
    {
     "data": {
      "text/plain": [
       "array([-5.53660489, -3.89583461, -5.38589796,  5.02616134])"
      ]
     },
     "metadata": {},
     "output_type": "display_data"
    },
    {
     "name": "stdout",
     "output_type": "stream",
     "text": [
      "Taking action:  3\n"
     ]
    },
    {
     "data": {
      "text/plain": [
       "array([ 2.26909922,  1.48583373, -4.7533823 , -2.20731227])"
      ]
     },
     "metadata": {},
     "output_type": "display_data"
    },
    {
     "name": "stdout",
     "output_type": "stream",
     "text": [
      "Taking action:  0\n"
     ]
    },
    {
     "data": {
      "text/plain": [
       "array([ 1.75205434, -1.76591999, -3.94228941, -2.68528812])"
      ]
     },
     "metadata": {},
     "output_type": "display_data"
    },
    {
     "name": "stdout",
     "output_type": "stream",
     "text": [
      "Taking action:  0\n"
     ]
    },
    {
     "data": {
      "text/plain": [
       "array([ -2.54056479,  -9.92130341, -10.53680598,  -4.1981918 ])"
      ]
     },
     "metadata": {},
     "output_type": "display_data"
    },
    {
     "name": "stdout",
     "output_type": "stream",
     "text": [
      "Taking action:  0\n"
     ]
    },
    {
     "data": {
      "text/plain": [
       "array([ -2.54056479,  -9.92130341, -10.53680598,  -4.1981918 ])"
      ]
     },
     "metadata": {},
     "output_type": "display_data"
    },
    {
     "name": "stdout",
     "output_type": "stream",
     "text": [
      "Taking action:  0\n"
     ]
    },
    {
     "data": {
      "text/plain": [
       "array([ -2.54056479,  -9.92130341, -10.53680598,  -4.1981918 ])"
      ]
     },
     "metadata": {},
     "output_type": "display_data"
    },
    {
     "name": "stdout",
     "output_type": "stream",
     "text": [
      "Taking action:  0\n"
     ]
    },
    {
     "data": {
      "text/plain": [
       "array([ -2.54056479,  -9.92130341, -10.53680598,  -4.1981918 ])"
      ]
     },
     "metadata": {},
     "output_type": "display_data"
    },
    {
     "name": "stdout",
     "output_type": "stream",
     "text": [
      "Taking action:  0\n"
     ]
    },
    {
     "data": {
      "text/plain": [
       "array([ -2.54056479,  -9.92130341, -10.53680598,  -4.1981918 ])"
      ]
     },
     "metadata": {},
     "output_type": "display_data"
    },
    {
     "name": "stdout",
     "output_type": "stream",
     "text": [
      "Taking action:  0\n"
     ]
    },
    {
     "data": {
      "text/plain": [
       "array([ -2.54056479,  -9.92130341, -10.53680598,  -4.1981918 ])"
      ]
     },
     "metadata": {},
     "output_type": "display_data"
    },
    {
     "name": "stdout",
     "output_type": "stream",
     "text": [
      "Taking action:  0\n"
     ]
    },
    {
     "data": {
      "text/plain": [
       "array([-10.54801925, -12.09383424, -10.96403011,  -1.40558322])"
      ]
     },
     "metadata": {},
     "output_type": "display_data"
    },
    {
     "name": "stdout",
     "output_type": "stream",
     "text": [
      "Taking action:  3\n"
     ]
    },
    {
     "data": {
      "text/plain": [
       "array([-42.53299606, -42.33737032, -23.0617362 , -30.93118565])"
      ]
     },
     "metadata": {},
     "output_type": "display_data"
    },
    {
     "name": "stdout",
     "output_type": "stream",
     "text": [
      "Taking action:  2\n"
     ]
    },
    {
     "data": {
      "text/plain": [
       "array([-41.94835894, -42.0019044 , -32.60740784, -38.00401392])"
      ]
     },
     "metadata": {},
     "output_type": "display_data"
    },
    {
     "name": "stdout",
     "output_type": "stream",
     "text": [
      "Taking action:  2\n"
     ]
    },
    {
     "data": {
      "text/plain": [
       "array([-11.69607781, -12.11978618,  -1.56002791,  -6.99473148])"
      ]
     },
     "metadata": {},
     "output_type": "display_data"
    },
    {
     "name": "stdout",
     "output_type": "stream",
     "text": [
      "Taking action:  2\n"
     ]
    },
    {
     "data": {
      "text/plain": [
       "array([-11.69607781, -12.11978618,  -1.56002791,  -6.99473148])"
      ]
     },
     "metadata": {},
     "output_type": "display_data"
    },
    {
     "name": "stdout",
     "output_type": "stream",
     "text": [
      "Taking action:  2\n"
     ]
    },
    {
     "data": {
      "text/plain": [
       "array([-11.69607781, -12.11978618,  -1.56002791,  -6.99473148])"
      ]
     },
     "metadata": {},
     "output_type": "display_data"
    },
    {
     "name": "stdout",
     "output_type": "stream",
     "text": [
      "Taking action:  2\n"
     ]
    },
    {
     "data": {
      "text/plain": [
       "array([-11.69607781, -12.11978618,  -1.56002791,  -6.99473148])"
      ]
     },
     "metadata": {},
     "output_type": "display_data"
    },
    {
     "name": "stdout",
     "output_type": "stream",
     "text": [
      "Taking action:  2\n"
     ]
    },
    {
     "data": {
      "text/plain": [
       "array([-11.69607781, -12.11978618,  -1.56002791,  -6.99473148])"
      ]
     },
     "metadata": {},
     "output_type": "display_data"
    },
    {
     "name": "stdout",
     "output_type": "stream",
     "text": [
      "Taking action:  2\n"
     ]
    },
    {
     "data": {
      "text/plain": [
       "array([-11.69607781, -12.11978618,  -1.56002791,  -6.99473148])"
      ]
     },
     "metadata": {},
     "output_type": "display_data"
    },
    {
     "name": "stdout",
     "output_type": "stream",
     "text": [
      "Taking action:  2\n"
     ]
    },
    {
     "data": {
      "text/plain": [
       "array([-10.54801925, -12.09383424, -10.96403011,  -1.40558322])"
      ]
     },
     "metadata": {},
     "output_type": "display_data"
    },
    {
     "name": "stdout",
     "output_type": "stream",
     "text": [
      "Taking action:  3\n"
     ]
    },
    {
     "data": {
      "text/plain": [
       "array([ -2.54056479,  -9.92130341, -10.53680598,  -4.1981918 ])"
      ]
     },
     "metadata": {},
     "output_type": "display_data"
    },
    {
     "name": "stdout",
     "output_type": "stream",
     "text": [
      "Taking action:  0\n"
     ]
    },
    {
     "data": {
      "text/plain": [
       "array([ 1.60286162, -3.15831708, -2.40803573, -1.72489251])"
      ]
     },
     "metadata": {},
     "output_type": "display_data"
    },
    {
     "name": "stdout",
     "output_type": "stream",
     "text": [
      "Taking action:  0\n"
     ]
    },
    {
     "data": {
      "text/plain": [
       "array([ -2.54056479,  -9.92130341, -10.53680598,  -4.1981918 ])"
      ]
     },
     "metadata": {},
     "output_type": "display_data"
    },
    {
     "name": "stdout",
     "output_type": "stream",
     "text": [
      "Taking action:  0\n"
     ]
    },
    {
     "data": {
      "text/plain": [
       "array([ -2.54056479,  -9.92130341, -10.53680598,  -4.1981918 ])"
      ]
     },
     "metadata": {},
     "output_type": "display_data"
    },
    {
     "name": "stdout",
     "output_type": "stream",
     "text": [
      "Taking action:  0\n"
     ]
    },
    {
     "data": {
      "text/plain": [
       "array([ -2.54056479,  -9.92130341, -10.53680598,  -4.1981918 ])"
      ]
     },
     "metadata": {},
     "output_type": "display_data"
    },
    {
     "name": "stdout",
     "output_type": "stream",
     "text": [
      "Taking action:  0\n"
     ]
    },
    {
     "data": {
      "text/plain": [
       "array([ -2.54056479,  -9.92130341, -10.53680598,  -4.1981918 ])"
      ]
     },
     "metadata": {},
     "output_type": "display_data"
    },
    {
     "name": "stdout",
     "output_type": "stream",
     "text": [
      "Taking action:  0\n"
     ]
    },
    {
     "data": {
      "text/plain": [
       "array([ -2.54056479,  -9.92130341, -10.53680598,  -4.1981918 ])"
      ]
     },
     "metadata": {},
     "output_type": "display_data"
    },
    {
     "name": "stdout",
     "output_type": "stream",
     "text": [
      "Taking action:  0\n"
     ]
    },
    {
     "data": {
      "text/plain": [
       "array([ -2.54056479,  -9.92130341, -10.53680598,  -4.1981918 ])"
      ]
     },
     "metadata": {},
     "output_type": "display_data"
    },
    {
     "name": "stdout",
     "output_type": "stream",
     "text": [
      "Taking action:  0\n"
     ]
    },
    {
     "data": {
      "text/plain": [
       "array([-10.54801925, -12.09383424, -10.96403011,  -1.40558322])"
      ]
     },
     "metadata": {},
     "output_type": "display_data"
    },
    {
     "name": "stdout",
     "output_type": "stream",
     "text": [
      "Taking action:  3\n"
     ]
    },
    {
     "data": {
      "text/plain": [
       "array([-42.53299606, -42.33737032, -23.0617362 , -30.93118565])"
      ]
     },
     "metadata": {},
     "output_type": "display_data"
    },
    {
     "name": "stdout",
     "output_type": "stream",
     "text": [
      "Taking action:  2\n"
     ]
    },
    {
     "data": {
      "text/plain": [
       "array([-41.94835894, -42.0019044 , -32.60740784, -38.00401392])"
      ]
     },
     "metadata": {},
     "output_type": "display_data"
    },
    {
     "name": "stdout",
     "output_type": "stream",
     "text": [
      "Taking action:  2\n"
     ]
    },
    {
     "data": {
      "text/plain": [
       "array([-11.69607781, -12.11978618,  -1.56002791,  -6.99473148])"
      ]
     },
     "metadata": {},
     "output_type": "display_data"
    },
    {
     "name": "stdout",
     "output_type": "stream",
     "text": [
      "Taking action:  2\n"
     ]
    },
    {
     "data": {
      "text/plain": [
       "array([-11.69607781, -12.11978618,  -1.56002791,  -6.99473148])"
      ]
     },
     "metadata": {},
     "output_type": "display_data"
    },
    {
     "name": "stdout",
     "output_type": "stream",
     "text": [
      "Taking action:  2\n"
     ]
    },
    {
     "data": {
      "text/plain": [
       "array([-10.54801925, -12.09383424, -10.96403011,  -1.40558322])"
      ]
     },
     "metadata": {},
     "output_type": "display_data"
    },
    {
     "name": "stdout",
     "output_type": "stream",
     "text": [
      "Taking action:  3\n"
     ]
    },
    {
     "data": {
      "text/plain": [
       "array([ -2.54056479,  -9.92130341, -10.53680598,  -4.1981918 ])"
      ]
     },
     "metadata": {},
     "output_type": "display_data"
    },
    {
     "name": "stdout",
     "output_type": "stream",
     "text": [
      "Taking action:  0\n"
     ]
    },
    {
     "data": {
      "text/plain": [
       "array([ 1.75205434, -1.76591999, -3.94228941, -2.68528812])"
      ]
     },
     "metadata": {},
     "output_type": "display_data"
    },
    {
     "name": "stdout",
     "output_type": "stream",
     "text": [
      "Taking action:  0\n"
     ]
    },
    {
     "data": {
      "text/plain": [
       "array([ -2.54056479,  -9.92130341, -10.53680598,  -4.1981918 ])"
      ]
     },
     "metadata": {},
     "output_type": "display_data"
    },
    {
     "name": "stdout",
     "output_type": "stream",
     "text": [
      "Taking action:  0\n"
     ]
    },
    {
     "data": {
      "text/plain": [
       "array([ -2.54056479,  -9.92130341, -10.53680598,  -4.1981918 ])"
      ]
     },
     "metadata": {},
     "output_type": "display_data"
    },
    {
     "name": "stdout",
     "output_type": "stream",
     "text": [
      "Taking action:  0\n"
     ]
    },
    {
     "data": {
      "text/plain": [
       "array([-10.54801925, -12.09383424, -10.96403011,  -1.40558322])"
      ]
     },
     "metadata": {},
     "output_type": "display_data"
    },
    {
     "name": "stdout",
     "output_type": "stream",
     "text": [
      "Taking action:  3\n"
     ]
    },
    {
     "data": {
      "text/plain": [
       "array([-42.53299606, -42.33737032, -23.0617362 , -30.93118565])"
      ]
     },
     "metadata": {},
     "output_type": "display_data"
    },
    {
     "name": "stdout",
     "output_type": "stream",
     "text": [
      "Taking action:  2\n"
     ]
    },
    {
     "data": {
      "text/plain": [
       "array([-41.94835894, -42.0019044 , -32.60740784, -38.00401392])"
      ]
     },
     "metadata": {},
     "output_type": "display_data"
    },
    {
     "name": "stdout",
     "output_type": "stream",
     "text": [
      "Taking action:  2\n"
     ]
    },
    {
     "data": {
      "text/plain": [
       "array([-11.69607781, -12.11978618,  -1.56002791,  -6.99473148])"
      ]
     },
     "metadata": {},
     "output_type": "display_data"
    },
    {
     "name": "stdout",
     "output_type": "stream",
     "text": [
      "Taking action:  2\n"
     ]
    },
    {
     "data": {
      "text/plain": [
       "array([-11.69607781, -12.11978618,  -1.56002791,  -6.99473148])"
      ]
     },
     "metadata": {},
     "output_type": "display_data"
    },
    {
     "name": "stdout",
     "output_type": "stream",
     "text": [
      "Taking action:  2\n"
     ]
    },
    {
     "data": {
      "text/plain": [
       "array([-11.69607781, -12.11978618,  -1.56002791,  -6.99473148])"
      ]
     },
     "metadata": {},
     "output_type": "display_data"
    },
    {
     "name": "stdout",
     "output_type": "stream",
     "text": [
      "Taking action:  2\n"
     ]
    },
    {
     "data": {
      "text/plain": [
       "array([-8.14390473,  1.55118339, -1.26668582, -3.94611495])"
      ]
     },
     "metadata": {},
     "output_type": "display_data"
    },
    {
     "name": "stdout",
     "output_type": "stream",
     "text": [
      "Taking action:  1\n"
     ]
    },
    {
     "data": {
      "text/plain": [
       "array([-6.98701189,  1.89715054, -1.84678219, -2.56473191])"
      ]
     },
     "metadata": {},
     "output_type": "display_data"
    },
    {
     "name": "stdout",
     "output_type": "stream",
     "text": [
      "Taking action:  1\n"
     ]
    },
    {
     "data": {
      "text/plain": [
       "array([-11.69607781, -12.11978618,  -1.56002791,  -6.99473148])"
      ]
     },
     "metadata": {},
     "output_type": "display_data"
    },
    {
     "name": "stdout",
     "output_type": "stream",
     "text": [
      "Taking action:  2\n"
     ]
    },
    {
     "data": {
      "text/plain": [
       "array([-42.53299606, -42.33737032, -23.0617362 , -30.93118565])"
      ]
     },
     "metadata": {},
     "output_type": "display_data"
    },
    {
     "name": "stdout",
     "output_type": "stream",
     "text": [
      "Taking action:  2\n"
     ]
    },
    {
     "data": {
      "text/plain": [
       "array([-41.94835894, -42.0019044 , -32.60740784, -38.00401392])"
      ]
     },
     "metadata": {},
     "output_type": "display_data"
    },
    {
     "name": "stdout",
     "output_type": "stream",
     "text": [
      "Taking action:  2\n"
     ]
    },
    {
     "data": {
      "text/plain": [
       "array([-10.54801925, -12.09383424, -10.96403011,  -1.40558322])"
      ]
     },
     "metadata": {},
     "output_type": "display_data"
    },
    {
     "name": "stdout",
     "output_type": "stream",
     "text": [
      "Taking action:  3\n"
     ]
    },
    {
     "data": {
      "text/plain": [
       "array([ -2.54056479,  -9.92130341, -10.53680598,  -4.1981918 ])"
      ]
     },
     "metadata": {},
     "output_type": "display_data"
    },
    {
     "name": "stdout",
     "output_type": "stream",
     "text": [
      "Taking action:  0\n"
     ]
    },
    {
     "data": {
      "text/plain": [
       "array([ 1.60286162, -3.15831708, -2.40803573, -1.72489251])"
      ]
     },
     "metadata": {},
     "output_type": "display_data"
    },
    {
     "name": "stdout",
     "output_type": "stream",
     "text": [
      "Taking action:  0\n"
     ]
    },
    {
     "data": {
      "text/plain": [
       "array([-10.54801925, -12.09383424, -10.96403011,  -1.40558322])"
      ]
     },
     "metadata": {},
     "output_type": "display_data"
    },
    {
     "name": "stdout",
     "output_type": "stream",
     "text": [
      "Taking action:  3\n"
     ]
    },
    {
     "data": {
      "text/plain": [
       "array([-42.53299606, -42.33737032, -23.0617362 , -30.93118565])"
      ]
     },
     "metadata": {},
     "output_type": "display_data"
    },
    {
     "name": "stdout",
     "output_type": "stream",
     "text": [
      "Taking action:  2\n"
     ]
    },
    {
     "data": {
      "text/plain": [
       "array([-11.69607781, -12.11978618,  -1.56002791,  -6.99473148])"
      ]
     },
     "metadata": {},
     "output_type": "display_data"
    },
    {
     "name": "stdout",
     "output_type": "stream",
     "text": [
      "Taking action:  2\n"
     ]
    },
    {
     "data": {
      "text/plain": [
       "array([-10.54801925, -12.09383424, -10.96403011,  -1.40558322])"
      ]
     },
     "metadata": {},
     "output_type": "display_data"
    },
    {
     "name": "stdout",
     "output_type": "stream",
     "text": [
      "Taking action:  3\n"
     ]
    },
    {
     "data": {
      "text/plain": [
       "array([ -2.54056479,  -9.92130341, -10.53680598,  -4.1981918 ])"
      ]
     },
     "metadata": {},
     "output_type": "display_data"
    },
    {
     "name": "stdout",
     "output_type": "stream",
     "text": [
      "Taking action:  0\n"
     ]
    },
    {
     "data": {
      "text/plain": [
       "array([ 1.60286162, -3.15831708, -2.40803573, -1.72489251])"
      ]
     },
     "metadata": {},
     "output_type": "display_data"
    },
    {
     "name": "stdout",
     "output_type": "stream",
     "text": [
      "Taking action:  0\n"
     ]
    },
    {
     "data": {
      "text/plain": [
       "array([-37.51690778, -42.10236907, -41.04916695, -39.51121972])"
      ]
     },
     "metadata": {},
     "output_type": "display_data"
    },
    {
     "name": "stdout",
     "output_type": "stream",
     "text": [
      "Taking action:  0\n"
     ]
    },
    {
     "data": {
      "text/plain": [
       "array([-31.12326383, -39.93197865, -36.46974206, -35.58607252])"
      ]
     },
     "metadata": {},
     "output_type": "display_data"
    },
    {
     "name": "stdout",
     "output_type": "stream",
     "text": [
      "Taking action:  0\n"
     ]
    },
    {
     "data": {
      "text/plain": [
       "array([-49.28398059, -53.78584028, -52.1490788 , -51.54368885])"
      ]
     },
     "metadata": {},
     "output_type": "display_data"
    },
    {
     "name": "stdout",
     "output_type": "stream",
     "text": [
      "Taking action:  0\n"
     ]
    },
    {
     "data": {
      "text/plain": [
       "array([-49.28398059, -53.78584028, -52.1490788 , -51.54368885])"
      ]
     },
     "metadata": {},
     "output_type": "display_data"
    },
    {
     "name": "stdout",
     "output_type": "stream",
     "text": [
      "Taking action:  0\n"
     ]
    },
    {
     "data": {
      "text/plain": [
       "array([-49.28398059, -53.78584028, -52.1490788 , -51.54368885])"
      ]
     },
     "metadata": {},
     "output_type": "display_data"
    },
    {
     "name": "stdout",
     "output_type": "stream",
     "text": [
      "Taking action:  0\n"
     ]
    },
    {
     "data": {
      "text/plain": [
       "array([-49.28398059, -53.78584028, -52.1490788 , -51.54368885])"
      ]
     },
     "metadata": {},
     "output_type": "display_data"
    },
    {
     "name": "stdout",
     "output_type": "stream",
     "text": [
      "Taking action:  0\n"
     ]
    },
    {
     "data": {
      "text/plain": [
       "array([-49.28398059, -53.78584028, -52.1490788 , -51.54368885])"
      ]
     },
     "metadata": {},
     "output_type": "display_data"
    },
    {
     "name": "stdout",
     "output_type": "stream",
     "text": [
      "Taking action:  0\n"
     ]
    },
    {
     "data": {
      "text/plain": [
       "array([-55.74259747, -52.23279483, -49.45680693, -51.46948089])"
      ]
     },
     "metadata": {},
     "output_type": "display_data"
    },
    {
     "name": "stdout",
     "output_type": "stream",
     "text": [
      "Taking action:  2\n"
     ]
    },
    {
     "data": {
      "text/plain": [
       "array([-52.40975487, -54.45798224, -53.605895  , -36.82452235])"
      ]
     },
     "metadata": {},
     "output_type": "display_data"
    },
    {
     "name": "stdout",
     "output_type": "stream",
     "text": [
      "Taking action:  3\n"
     ]
    },
    {
     "data": {
      "text/plain": [
       "array([0., 0., 0., 0.])"
      ]
     },
     "metadata": {},
     "output_type": "display_data"
    },
    {
     "name": "stdout",
     "output_type": "stream",
     "text": [
      "Taking action:  0\n"
     ]
    },
    {
     "data": {
      "text/plain": [
       "array([-38.36000495, -42.0521717 , -37.90973693, -32.62614516])"
      ]
     },
     "metadata": {},
     "output_type": "display_data"
    },
    {
     "name": "stdout",
     "output_type": "stream",
     "text": [
      "Taking action:  3\n"
     ]
    },
    {
     "data": {
      "text/plain": [
       "array([-41.94835894, -42.0019044 , -32.60740784, -38.00401392])"
      ]
     },
     "metadata": {},
     "output_type": "display_data"
    },
    {
     "name": "stdout",
     "output_type": "stream",
     "text": [
      "Taking action:  2\n"
     ]
    },
    {
     "data": {
      "text/plain": [
       "array([-11.69607781, -12.11978618,  -1.56002791,  -6.99473148])"
      ]
     },
     "metadata": {},
     "output_type": "display_data"
    },
    {
     "name": "stdout",
     "output_type": "stream",
     "text": [
      "Taking action:  2\n"
     ]
    },
    {
     "data": {
      "text/plain": [
       "array([-11.69607781, -12.11978618,  -1.56002791,  -6.99473148])"
      ]
     },
     "metadata": {},
     "output_type": "display_data"
    },
    {
     "name": "stdout",
     "output_type": "stream",
     "text": [
      "Taking action:  2\n"
     ]
    },
    {
     "data": {
      "text/plain": [
       "array([-11.69607781, -12.11978618,  -1.56002791,  -6.99473148])"
      ]
     },
     "metadata": {},
     "output_type": "display_data"
    },
    {
     "name": "stdout",
     "output_type": "stream",
     "text": [
      "Taking action:  2\n"
     ]
    },
    {
     "data": {
      "text/plain": [
       "array([-11.69607781, -12.11978618,  -1.56002791,  -6.99473148])"
      ]
     },
     "metadata": {},
     "output_type": "display_data"
    },
    {
     "name": "stdout",
     "output_type": "stream",
     "text": [
      "Taking action:  2\n"
     ]
    },
    {
     "data": {
      "text/plain": [
       "array([-11.69607781, -12.11978618,  -1.56002791,  -6.99473148])"
      ]
     },
     "metadata": {},
     "output_type": "display_data"
    },
    {
     "name": "stdout",
     "output_type": "stream",
     "text": [
      "Taking action:  2\n"
     ]
    },
    {
     "data": {
      "text/plain": [
       "array([-11.69607781, -12.11978618,  -1.56002791,  -6.99473148])"
      ]
     },
     "metadata": {},
     "output_type": "display_data"
    },
    {
     "name": "stdout",
     "output_type": "stream",
     "text": [
      "Taking action:  2\n"
     ]
    },
    {
     "data": {
      "text/plain": [
       "array([-11.69607781, -12.11978618,  -1.56002791,  -6.99473148])"
      ]
     },
     "metadata": {},
     "output_type": "display_data"
    },
    {
     "name": "stdout",
     "output_type": "stream",
     "text": [
      "Taking action:  2\n"
     ]
    },
    {
     "data": {
      "text/plain": [
       "array([0., 0., 0., 0.])"
      ]
     },
     "metadata": {},
     "output_type": "display_data"
    },
    {
     "name": "stdout",
     "output_type": "stream",
     "text": [
      "Taking action:  0\n"
     ]
    },
    {
     "data": {
      "text/plain": [
       "array([0., 0., 0., 0.])"
      ]
     },
     "metadata": {},
     "output_type": "display_data"
    },
    {
     "name": "stdout",
     "output_type": "stream",
     "text": [
      "Taking action:  0\n"
     ]
    },
    {
     "data": {
      "text/plain": [
       "array([ 0.        , -4.5009568 , -2.38166187, -7.50921112])"
      ]
     },
     "metadata": {},
     "output_type": "display_data"
    },
    {
     "name": "stdout",
     "output_type": "stream",
     "text": [
      "Taking action:  0\n"
     ]
    },
    {
     "data": {
      "text/plain": [
       "array([ 2.26909922,  1.48583373, -4.7533823 , -2.20731227])"
      ]
     },
     "metadata": {},
     "output_type": "display_data"
    },
    {
     "name": "stdout",
     "output_type": "stream",
     "text": [
      "Taking action:  0\n"
     ]
    },
    {
     "data": {
      "text/plain": [
       "array([ 2.26909922,  1.48583373, -4.7533823 , -2.20731227])"
      ]
     },
     "metadata": {},
     "output_type": "display_data"
    },
    {
     "name": "stdout",
     "output_type": "stream",
     "text": [
      "Taking action:  0\n"
     ]
    },
    {
     "data": {
      "text/plain": [
       "array([ 2.26909922,  1.48583373, -4.7533823 , -2.20731227])"
      ]
     },
     "metadata": {},
     "output_type": "display_data"
    },
    {
     "name": "stdout",
     "output_type": "stream",
     "text": [
      "Taking action:  0\n"
     ]
    },
    {
     "data": {
      "text/plain": [
       "array([ 2.26909922,  1.48583373, -4.7533823 , -2.20731227])"
      ]
     },
     "metadata": {},
     "output_type": "display_data"
    },
    {
     "name": "stdout",
     "output_type": "stream",
     "text": [
      "Taking action:  0\n"
     ]
    },
    {
     "data": {
      "text/plain": [
       "array([ 2.26909922,  1.48583373, -4.7533823 , -2.20731227])"
      ]
     },
     "metadata": {},
     "output_type": "display_data"
    },
    {
     "name": "stdout",
     "output_type": "stream",
     "text": [
      "Taking action:  0\n"
     ]
    },
    {
     "data": {
      "text/plain": [
       "array([-7.72616792,  2.20129975, -1.6334907 , -3.62813257])"
      ]
     },
     "metadata": {},
     "output_type": "display_data"
    },
    {
     "name": "stdout",
     "output_type": "stream",
     "text": [
      "Taking action:  1\n"
     ]
    },
    {
     "data": {
      "text/plain": [
       "array([-7.72616792,  2.20129975, -1.6334907 , -3.62813257])"
      ]
     },
     "metadata": {},
     "output_type": "display_data"
    },
    {
     "name": "stdout",
     "output_type": "stream",
     "text": [
      "Taking action:  1\n"
     ]
    },
    {
     "data": {
      "text/plain": [
       "array([-6.98701189,  1.89715054, -1.84678219, -2.56473191])"
      ]
     },
     "metadata": {},
     "output_type": "display_data"
    },
    {
     "name": "stdout",
     "output_type": "stream",
     "text": [
      "Taking action:  1\n"
     ]
    },
    {
     "data": {
      "text/plain": [
       "array([-7.72616792,  2.20129975, -1.6334907 , -3.62813257])"
      ]
     },
     "metadata": {},
     "output_type": "display_data"
    },
    {
     "name": "stdout",
     "output_type": "stream",
     "text": [
      "Taking action:  1\n"
     ]
    },
    {
     "data": {
      "text/plain": [
       "array([-7.72616792,  2.20129975, -1.6334907 , -3.62813257])"
      ]
     },
     "metadata": {},
     "output_type": "display_data"
    },
    {
     "name": "stdout",
     "output_type": "stream",
     "text": [
      "Taking action:  1\n"
     ]
    },
    {
     "data": {
      "text/plain": [
       "array([-7.72616792,  2.20129975, -1.6334907 , -3.62813257])"
      ]
     },
     "metadata": {},
     "output_type": "display_data"
    },
    {
     "name": "stdout",
     "output_type": "stream",
     "text": [
      "Taking action:  1\n"
     ]
    },
    {
     "data": {
      "text/plain": [
       "array([-7.72616792,  2.20129975, -1.6334907 , -3.62813257])"
      ]
     },
     "metadata": {},
     "output_type": "display_data"
    },
    {
     "name": "stdout",
     "output_type": "stream",
     "text": [
      "Taking action:  1\n"
     ]
    },
    {
     "data": {
      "text/plain": [
       "array([-7.72616792,  2.20129975, -1.6334907 , -3.62813257])"
      ]
     },
     "metadata": {},
     "output_type": "display_data"
    },
    {
     "name": "stdout",
     "output_type": "stream",
     "text": [
      "Taking action:  1\n"
     ]
    },
    {
     "data": {
      "text/plain": [
       "array([-6.45259195, -8.12935135,  2.50997791, -0.22524256])"
      ]
     },
     "metadata": {},
     "output_type": "display_data"
    },
    {
     "name": "stdout",
     "output_type": "stream",
     "text": [
      "Taking action:  2\n"
     ]
    },
    {
     "data": {
      "text/plain": [
       "array([-6.45259195, -8.12935135,  2.50997791, -0.22524256])"
      ]
     },
     "metadata": {},
     "output_type": "display_data"
    },
    {
     "name": "stdout",
     "output_type": "stream",
     "text": [
      "Taking action:  2\n"
     ]
    },
    {
     "data": {
      "text/plain": [
       "array([-7.23768312, -7.84439416,  2.88651498,  0.86524066])"
      ]
     },
     "metadata": {},
     "output_type": "display_data"
    },
    {
     "name": "stdout",
     "output_type": "stream",
     "text": [
      "Taking action:  2\n"
     ]
    },
    {
     "data": {
      "text/plain": [
       "array([-6.45259195, -8.12935135,  2.50997791, -0.22524256])"
      ]
     },
     "metadata": {},
     "output_type": "display_data"
    },
    {
     "name": "stdout",
     "output_type": "stream",
     "text": [
      "Taking action:  2\n"
     ]
    },
    {
     "data": {
      "text/plain": [
       "array([-6.45259195, -8.12935135,  2.50997791, -0.22524256])"
      ]
     },
     "metadata": {},
     "output_type": "display_data"
    },
    {
     "name": "stdout",
     "output_type": "stream",
     "text": [
      "Taking action:  2\n"
     ]
    },
    {
     "data": {
      "text/plain": [
       "array([-6.45259195, -8.12935135,  2.50997791, -0.22524256])"
      ]
     },
     "metadata": {},
     "output_type": "display_data"
    },
    {
     "name": "stdout",
     "output_type": "stream",
     "text": [
      "Taking action:  2\n"
     ]
    },
    {
     "data": {
      "text/plain": [
       "array([-6.45259195, -8.12935135,  2.50997791, -0.22524256])"
      ]
     },
     "metadata": {},
     "output_type": "display_data"
    },
    {
     "name": "stdout",
     "output_type": "stream",
     "text": [
      "Taking action:  2\n"
     ]
    },
    {
     "data": {
      "text/plain": [
       "array([-6.45259195, -8.12935135,  2.50997791, -0.22524256])"
      ]
     },
     "metadata": {},
     "output_type": "display_data"
    },
    {
     "name": "stdout",
     "output_type": "stream",
     "text": [
      "Taking action:  2\n"
     ]
    },
    {
     "data": {
      "text/plain": [
       "array([-6.45259195, -8.12935135,  2.50997791, -0.22524256])"
      ]
     },
     "metadata": {},
     "output_type": "display_data"
    },
    {
     "name": "stdout",
     "output_type": "stream",
     "text": [
      "Taking action:  2\n"
     ]
    },
    {
     "data": {
      "text/plain": [
       "array([-5.53660489, -3.89583461, -5.38589796,  5.02616134])"
      ]
     },
     "metadata": {},
     "output_type": "display_data"
    },
    {
     "name": "stdout",
     "output_type": "stream",
     "text": [
      "Taking action:  3\n"
     ]
    },
    {
     "data": {
      "text/plain": [
       "array([ 2.26909922,  1.48583373, -4.7533823 , -2.20731227])"
      ]
     },
     "metadata": {},
     "output_type": "display_data"
    },
    {
     "name": "stdout",
     "output_type": "stream",
     "text": [
      "Taking action:  0\n"
     ]
    },
    {
     "data": {
      "text/plain": [
       "array([ 1.75205434, -1.76591999, -3.94228941, -2.68528812])"
      ]
     },
     "metadata": {},
     "output_type": "display_data"
    },
    {
     "name": "stdout",
     "output_type": "stream",
     "text": [
      "Taking action:  0\n"
     ]
    },
    {
     "data": {
      "text/plain": [
       "array([ -2.54056479,  -9.92130341, -10.53680598,  -4.1981918 ])"
      ]
     },
     "metadata": {},
     "output_type": "display_data"
    },
    {
     "name": "stdout",
     "output_type": "stream",
     "text": [
      "Taking action:  0\n"
     ]
    },
    {
     "data": {
      "text/plain": [
       "array([ -2.54056479,  -9.92130341, -10.53680598,  -4.1981918 ])"
      ]
     },
     "metadata": {},
     "output_type": "display_data"
    },
    {
     "name": "stdout",
     "output_type": "stream",
     "text": [
      "Taking action:  0\n"
     ]
    },
    {
     "data": {
      "text/plain": [
       "array([ -2.54056479,  -9.92130341, -10.53680598,  -4.1981918 ])"
      ]
     },
     "metadata": {},
     "output_type": "display_data"
    },
    {
     "name": "stdout",
     "output_type": "stream",
     "text": [
      "Taking action:  0\n"
     ]
    },
    {
     "data": {
      "text/plain": [
       "array([ -2.54056479,  -9.92130341, -10.53680598,  -4.1981918 ])"
      ]
     },
     "metadata": {},
     "output_type": "display_data"
    },
    {
     "name": "stdout",
     "output_type": "stream",
     "text": [
      "Taking action:  0\n"
     ]
    },
    {
     "data": {
      "text/plain": [
       "array([ -2.54056479,  -9.92130341, -10.53680598,  -4.1981918 ])"
      ]
     },
     "metadata": {},
     "output_type": "display_data"
    },
    {
     "name": "stdout",
     "output_type": "stream",
     "text": [
      "Taking action:  0\n"
     ]
    },
    {
     "data": {
      "text/plain": [
       "array([ -2.54056479,  -9.92130341, -10.53680598,  -4.1981918 ])"
      ]
     },
     "metadata": {},
     "output_type": "display_data"
    },
    {
     "name": "stdout",
     "output_type": "stream",
     "text": [
      "Taking action:  0\n"
     ]
    },
    {
     "data": {
      "text/plain": [
       "array([-10.54801925, -12.09383424, -10.96403011,  -1.40558322])"
      ]
     },
     "metadata": {},
     "output_type": "display_data"
    },
    {
     "name": "stdout",
     "output_type": "stream",
     "text": [
      "Taking action:  3\n"
     ]
    },
    {
     "data": {
      "text/plain": [
       "array([-42.53299606, -42.33737032, -23.0617362 , -30.93118565])"
      ]
     },
     "metadata": {},
     "output_type": "display_data"
    },
    {
     "name": "stdout",
     "output_type": "stream",
     "text": [
      "Taking action:  2\n"
     ]
    },
    {
     "data": {
      "text/plain": [
       "array([-41.94835894, -42.0019044 , -32.60740784, -38.00401392])"
      ]
     },
     "metadata": {},
     "output_type": "display_data"
    },
    {
     "name": "stdout",
     "output_type": "stream",
     "text": [
      "Taking action:  2\n"
     ]
    },
    {
     "data": {
      "text/plain": [
       "array([-11.69607781, -12.11978618,  -1.56002791,  -6.99473148])"
      ]
     },
     "metadata": {},
     "output_type": "display_data"
    },
    {
     "name": "stdout",
     "output_type": "stream",
     "text": [
      "Taking action:  2\n"
     ]
    },
    {
     "data": {
      "text/plain": [
       "array([-11.69607781, -12.11978618,  -1.56002791,  -6.99473148])"
      ]
     },
     "metadata": {},
     "output_type": "display_data"
    },
    {
     "name": "stdout",
     "output_type": "stream",
     "text": [
      "Taking action:  2\n"
     ]
    },
    {
     "data": {
      "text/plain": [
       "array([-11.69607781, -12.11978618,  -1.56002791,  -6.99473148])"
      ]
     },
     "metadata": {},
     "output_type": "display_data"
    },
    {
     "name": "stdout",
     "output_type": "stream",
     "text": [
      "Taking action:  2\n"
     ]
    },
    {
     "data": {
      "text/plain": [
       "array([-11.69607781, -12.11978618,  -1.56002791,  -6.99473148])"
      ]
     },
     "metadata": {},
     "output_type": "display_data"
    },
    {
     "name": "stdout",
     "output_type": "stream",
     "text": [
      "Taking action:  2\n"
     ]
    },
    {
     "data": {
      "text/plain": [
       "array([-11.69607781, -12.11978618,  -1.56002791,  -6.99473148])"
      ]
     },
     "metadata": {},
     "output_type": "display_data"
    },
    {
     "name": "stdout",
     "output_type": "stream",
     "text": [
      "Taking action:  2\n"
     ]
    },
    {
     "data": {
      "text/plain": [
       "array([-11.69607781, -12.11978618,  -1.56002791,  -6.99473148])"
      ]
     },
     "metadata": {},
     "output_type": "display_data"
    },
    {
     "name": "stdout",
     "output_type": "stream",
     "text": [
      "Taking action:  2\n"
     ]
    },
    {
     "data": {
      "text/plain": [
       "array([-10.54801925, -12.09383424, -10.96403011,  -1.40558322])"
      ]
     },
     "metadata": {},
     "output_type": "display_data"
    },
    {
     "name": "stdout",
     "output_type": "stream",
     "text": [
      "Taking action:  3\n"
     ]
    },
    {
     "data": {
      "text/plain": [
       "array([ -2.54056479,  -9.92130341, -10.53680598,  -4.1981918 ])"
      ]
     },
     "metadata": {},
     "output_type": "display_data"
    },
    {
     "name": "stdout",
     "output_type": "stream",
     "text": [
      "Taking action:  0\n"
     ]
    },
    {
     "data": {
      "text/plain": [
       "array([ 1.60286162, -3.15831708, -2.40803573, -1.72489251])"
      ]
     },
     "metadata": {},
     "output_type": "display_data"
    },
    {
     "name": "stdout",
     "output_type": "stream",
     "text": [
      "Taking action:  0\n"
     ]
    },
    {
     "data": {
      "text/plain": [
       "array([ -2.54056479,  -9.92130341, -10.53680598,  -4.1981918 ])"
      ]
     },
     "metadata": {},
     "output_type": "display_data"
    },
    {
     "name": "stdout",
     "output_type": "stream",
     "text": [
      "Taking action:  0\n"
     ]
    },
    {
     "data": {
      "text/plain": [
       "array([ -2.54056479,  -9.92130341, -10.53680598,  -4.1981918 ])"
      ]
     },
     "metadata": {},
     "output_type": "display_data"
    },
    {
     "name": "stdout",
     "output_type": "stream",
     "text": [
      "Taking action:  0\n"
     ]
    },
    {
     "data": {
      "text/plain": [
       "array([ -2.54056479,  -9.92130341, -10.53680598,  -4.1981918 ])"
      ]
     },
     "metadata": {},
     "output_type": "display_data"
    },
    {
     "name": "stdout",
     "output_type": "stream",
     "text": [
      "Taking action:  0\n"
     ]
    },
    {
     "data": {
      "text/plain": [
       "array([ -2.54056479,  -9.92130341, -10.53680598,  -4.1981918 ])"
      ]
     },
     "metadata": {},
     "output_type": "display_data"
    },
    {
     "name": "stdout",
     "output_type": "stream",
     "text": [
      "Taking action:  0\n"
     ]
    },
    {
     "data": {
      "text/plain": [
       "array([ -2.54056479,  -9.92130341, -10.53680598,  -4.1981918 ])"
      ]
     },
     "metadata": {},
     "output_type": "display_data"
    },
    {
     "name": "stdout",
     "output_type": "stream",
     "text": [
      "Taking action:  0\n"
     ]
    },
    {
     "data": {
      "text/plain": [
       "array([ -2.54056479,  -9.92130341, -10.53680598,  -4.1981918 ])"
      ]
     },
     "metadata": {},
     "output_type": "display_data"
    },
    {
     "name": "stdout",
     "output_type": "stream",
     "text": [
      "Taking action:  0\n"
     ]
    },
    {
     "data": {
      "text/plain": [
       "array([-10.54801925, -12.09383424, -10.96403011,  -1.40558322])"
      ]
     },
     "metadata": {},
     "output_type": "display_data"
    },
    {
     "name": "stdout",
     "output_type": "stream",
     "text": [
      "Taking action:  3\n"
     ]
    },
    {
     "data": {
      "text/plain": [
       "array([-42.53299606, -42.33737032, -23.0617362 , -30.93118565])"
      ]
     },
     "metadata": {},
     "output_type": "display_data"
    },
    {
     "name": "stdout",
     "output_type": "stream",
     "text": [
      "Taking action:  2\n"
     ]
    },
    {
     "data": {
      "text/plain": [
       "array([-41.94835894, -42.0019044 , -32.60740784, -38.00401392])"
      ]
     },
     "metadata": {},
     "output_type": "display_data"
    },
    {
     "name": "stdout",
     "output_type": "stream",
     "text": [
      "Taking action:  2\n"
     ]
    },
    {
     "data": {
      "text/plain": [
       "array([-11.69607781, -12.11978618,  -1.56002791,  -6.99473148])"
      ]
     },
     "metadata": {},
     "output_type": "display_data"
    },
    {
     "name": "stdout",
     "output_type": "stream",
     "text": [
      "Taking action:  2\n"
     ]
    },
    {
     "data": {
      "text/plain": [
       "array([-11.69607781, -12.11978618,  -1.56002791,  -6.99473148])"
      ]
     },
     "metadata": {},
     "output_type": "display_data"
    },
    {
     "name": "stdout",
     "output_type": "stream",
     "text": [
      "Taking action:  2\n"
     ]
    },
    {
     "data": {
      "text/plain": [
       "array([-10.54801925, -12.09383424, -10.96403011,  -1.40558322])"
      ]
     },
     "metadata": {},
     "output_type": "display_data"
    },
    {
     "name": "stdout",
     "output_type": "stream",
     "text": [
      "Taking action:  3\n"
     ]
    },
    {
     "data": {
      "text/plain": [
       "array([ -2.54056479,  -9.92130341, -10.53680598,  -4.1981918 ])"
      ]
     },
     "metadata": {},
     "output_type": "display_data"
    },
    {
     "name": "stdout",
     "output_type": "stream",
     "text": [
      "Taking action:  0\n"
     ]
    },
    {
     "data": {
      "text/plain": [
       "array([ 1.75205434, -1.76591999, -3.94228941, -2.68528812])"
      ]
     },
     "metadata": {},
     "output_type": "display_data"
    },
    {
     "name": "stdout",
     "output_type": "stream",
     "text": [
      "Taking action:  0\n"
     ]
    },
    {
     "data": {
      "text/plain": [
       "array([ -2.54056479,  -9.92130341, -10.53680598,  -4.1981918 ])"
      ]
     },
     "metadata": {},
     "output_type": "display_data"
    },
    {
     "name": "stdout",
     "output_type": "stream",
     "text": [
      "Taking action:  0\n"
     ]
    },
    {
     "data": {
      "text/plain": [
       "array([ -2.54056479,  -9.92130341, -10.53680598,  -4.1981918 ])"
      ]
     },
     "metadata": {},
     "output_type": "display_data"
    },
    {
     "name": "stdout",
     "output_type": "stream",
     "text": [
      "Taking action:  0\n"
     ]
    },
    {
     "data": {
      "text/plain": [
       "array([-10.54801925, -12.09383424, -10.96403011,  -1.40558322])"
      ]
     },
     "metadata": {},
     "output_type": "display_data"
    },
    {
     "name": "stdout",
     "output_type": "stream",
     "text": [
      "Taking action:  3\n"
     ]
    },
    {
     "data": {
      "text/plain": [
       "array([-42.53299606, -42.33737032, -23.0617362 , -30.93118565])"
      ]
     },
     "metadata": {},
     "output_type": "display_data"
    },
    {
     "name": "stdout",
     "output_type": "stream",
     "text": [
      "Taking action:  2\n"
     ]
    },
    {
     "data": {
      "text/plain": [
       "array([-41.94835894, -42.0019044 , -32.60740784, -38.00401392])"
      ]
     },
     "metadata": {},
     "output_type": "display_data"
    },
    {
     "name": "stdout",
     "output_type": "stream",
     "text": [
      "Taking action:  2\n"
     ]
    },
    {
     "data": {
      "text/plain": [
       "array([-11.69607781, -12.11978618,  -1.56002791,  -6.99473148])"
      ]
     },
     "metadata": {},
     "output_type": "display_data"
    },
    {
     "name": "stdout",
     "output_type": "stream",
     "text": [
      "Taking action:  2\n"
     ]
    },
    {
     "data": {
      "text/plain": [
       "array([-11.69607781, -12.11978618,  -1.56002791,  -6.99473148])"
      ]
     },
     "metadata": {},
     "output_type": "display_data"
    },
    {
     "name": "stdout",
     "output_type": "stream",
     "text": [
      "Taking action:  2\n"
     ]
    },
    {
     "data": {
      "text/plain": [
       "array([-11.69607781, -12.11978618,  -1.56002791,  -6.99473148])"
      ]
     },
     "metadata": {},
     "output_type": "display_data"
    },
    {
     "name": "stdout",
     "output_type": "stream",
     "text": [
      "Taking action:  2\n"
     ]
    },
    {
     "data": {
      "text/plain": [
       "array([-8.14390473,  1.55118339, -1.26668582, -3.94611495])"
      ]
     },
     "metadata": {},
     "output_type": "display_data"
    },
    {
     "name": "stdout",
     "output_type": "stream",
     "text": [
      "Taking action:  1\n"
     ]
    },
    {
     "data": {
      "text/plain": [
       "array([-6.98701189,  1.89715054, -1.84678219, -2.56473191])"
      ]
     },
     "metadata": {},
     "output_type": "display_data"
    },
    {
     "name": "stdout",
     "output_type": "stream",
     "text": [
      "Taking action:  1\n"
     ]
    },
    {
     "data": {
      "text/plain": [
       "array([-11.69607781, -12.11978618,  -1.56002791,  -6.99473148])"
      ]
     },
     "metadata": {},
     "output_type": "display_data"
    },
    {
     "name": "stdout",
     "output_type": "stream",
     "text": [
      "Taking action:  2\n"
     ]
    },
    {
     "data": {
      "text/plain": [
       "array([-42.53299606, -42.33737032, -23.0617362 , -30.93118565])"
      ]
     },
     "metadata": {},
     "output_type": "display_data"
    },
    {
     "name": "stdout",
     "output_type": "stream",
     "text": [
      "Taking action:  2\n"
     ]
    },
    {
     "data": {
      "text/plain": [
       "array([-41.94835894, -42.0019044 , -32.60740784, -38.00401392])"
      ]
     },
     "metadata": {},
     "output_type": "display_data"
    },
    {
     "name": "stdout",
     "output_type": "stream",
     "text": [
      "Taking action:  2\n"
     ]
    },
    {
     "data": {
      "text/plain": [
       "array([-10.54801925, -12.09383424, -10.96403011,  -1.40558322])"
      ]
     },
     "metadata": {},
     "output_type": "display_data"
    },
    {
     "name": "stdout",
     "output_type": "stream",
     "text": [
      "Taking action:  3\n"
     ]
    },
    {
     "data": {
      "text/plain": [
       "array([ -2.54056479,  -9.92130341, -10.53680598,  -4.1981918 ])"
      ]
     },
     "metadata": {},
     "output_type": "display_data"
    },
    {
     "name": "stdout",
     "output_type": "stream",
     "text": [
      "Taking action:  0\n"
     ]
    },
    {
     "data": {
      "text/plain": [
       "array([ 1.60286162, -3.15831708, -2.40803573, -1.72489251])"
      ]
     },
     "metadata": {},
     "output_type": "display_data"
    },
    {
     "name": "stdout",
     "output_type": "stream",
     "text": [
      "Taking action:  0\n"
     ]
    },
    {
     "data": {
      "text/plain": [
       "array([-10.54801925, -12.09383424, -10.96403011,  -1.40558322])"
      ]
     },
     "metadata": {},
     "output_type": "display_data"
    },
    {
     "name": "stdout",
     "output_type": "stream",
     "text": [
      "Taking action:  3\n"
     ]
    },
    {
     "data": {
      "text/plain": [
       "array([-42.53299606, -42.33737032, -23.0617362 , -30.93118565])"
      ]
     },
     "metadata": {},
     "output_type": "display_data"
    },
    {
     "name": "stdout",
     "output_type": "stream",
     "text": [
      "Taking action:  2\n"
     ]
    },
    {
     "data": {
      "text/plain": [
       "array([-11.69607781, -12.11978618,  -1.56002791,  -6.99473148])"
      ]
     },
     "metadata": {},
     "output_type": "display_data"
    },
    {
     "name": "stdout",
     "output_type": "stream",
     "text": [
      "Taking action:  2\n"
     ]
    },
    {
     "data": {
      "text/plain": [
       "array([-10.54801925, -12.09383424, -10.96403011,  -1.40558322])"
      ]
     },
     "metadata": {},
     "output_type": "display_data"
    },
    {
     "name": "stdout",
     "output_type": "stream",
     "text": [
      "Taking action:  3\n"
     ]
    },
    {
     "data": {
      "text/plain": [
       "array([ -2.54056479,  -9.92130341, -10.53680598,  -4.1981918 ])"
      ]
     },
     "metadata": {},
     "output_type": "display_data"
    },
    {
     "name": "stdout",
     "output_type": "stream",
     "text": [
      "Taking action:  0\n"
     ]
    },
    {
     "data": {
      "text/plain": [
       "array([ 1.60286162, -3.15831708, -2.40803573, -1.72489251])"
      ]
     },
     "metadata": {},
     "output_type": "display_data"
    },
    {
     "name": "stdout",
     "output_type": "stream",
     "text": [
      "Taking action:  0\n"
     ]
    },
    {
     "data": {
      "text/plain": [
       "array([-37.51690778, -42.10236907, -41.04916695, -39.51121972])"
      ]
     },
     "metadata": {},
     "output_type": "display_data"
    },
    {
     "name": "stdout",
     "output_type": "stream",
     "text": [
      "Taking action:  0\n"
     ]
    },
    {
     "data": {
      "text/plain": [
       "array([-31.12326383, -39.93197865, -36.46974206, -35.58607252])"
      ]
     },
     "metadata": {},
     "output_type": "display_data"
    },
    {
     "name": "stdout",
     "output_type": "stream",
     "text": [
      "Taking action:  0\n"
     ]
    },
    {
     "data": {
      "text/plain": [
       "array([-49.28398059, -53.78584028, -52.1490788 , -51.54368885])"
      ]
     },
     "metadata": {},
     "output_type": "display_data"
    },
    {
     "name": "stdout",
     "output_type": "stream",
     "text": [
      "Taking action:  0\n"
     ]
    },
    {
     "data": {
      "text/plain": [
       "array([-49.28398059, -53.78584028, -52.1490788 , -51.54368885])"
      ]
     },
     "metadata": {},
     "output_type": "display_data"
    },
    {
     "name": "stdout",
     "output_type": "stream",
     "text": [
      "Taking action:  0\n"
     ]
    },
    {
     "data": {
      "text/plain": [
       "array([-49.28398059, -53.78584028, -52.1490788 , -51.54368885])"
      ]
     },
     "metadata": {},
     "output_type": "display_data"
    },
    {
     "name": "stdout",
     "output_type": "stream",
     "text": [
      "Taking action:  0\n"
     ]
    },
    {
     "data": {
      "text/plain": [
       "array([-49.28398059, -53.78584028, -52.1490788 , -51.54368885])"
      ]
     },
     "metadata": {},
     "output_type": "display_data"
    },
    {
     "name": "stdout",
     "output_type": "stream",
     "text": [
      "Taking action:  0\n"
     ]
    },
    {
     "data": {
      "text/plain": [
       "array([-49.28398059, -53.78584028, -52.1490788 , -51.54368885])"
      ]
     },
     "metadata": {},
     "output_type": "display_data"
    },
    {
     "name": "stdout",
     "output_type": "stream",
     "text": [
      "Taking action:  0\n"
     ]
    },
    {
     "data": {
      "text/plain": [
       "array([-55.74259747, -52.23279483, -49.45680693, -51.46948089])"
      ]
     },
     "metadata": {},
     "output_type": "display_data"
    },
    {
     "name": "stdout",
     "output_type": "stream",
     "text": [
      "Taking action:  2\n"
     ]
    },
    {
     "data": {
      "text/plain": [
       "array([-52.40975487, -54.45798224, -53.605895  , -36.82452235])"
      ]
     },
     "metadata": {},
     "output_type": "display_data"
    },
    {
     "name": "stdout",
     "output_type": "stream",
     "text": [
      "Taking action:  3\n"
     ]
    },
    {
     "data": {
      "text/plain": [
       "array([0., 0., 0., 0.])"
      ]
     },
     "metadata": {},
     "output_type": "display_data"
    },
    {
     "name": "stdout",
     "output_type": "stream",
     "text": [
      "Taking action:  0\n"
     ]
    },
    {
     "data": {
      "text/plain": [
       "array([-38.36000495, -42.0521717 , -37.90973693, -32.62614516])"
      ]
     },
     "metadata": {},
     "output_type": "display_data"
    },
    {
     "name": "stdout",
     "output_type": "stream",
     "text": [
      "Taking action:  3\n"
     ]
    },
    {
     "data": {
      "text/plain": [
       "array([-41.94835894, -42.0019044 , -32.60740784, -38.00401392])"
      ]
     },
     "metadata": {},
     "output_type": "display_data"
    },
    {
     "name": "stdout",
     "output_type": "stream",
     "text": [
      "Taking action:  2\n"
     ]
    },
    {
     "data": {
      "text/plain": [
       "array([-11.69607781, -12.11978618,  -1.56002791,  -6.99473148])"
      ]
     },
     "metadata": {},
     "output_type": "display_data"
    },
    {
     "name": "stdout",
     "output_type": "stream",
     "text": [
      "Taking action:  2\n"
     ]
    },
    {
     "data": {
      "text/plain": [
       "array([-11.69607781, -12.11978618,  -1.56002791,  -6.99473148])"
      ]
     },
     "metadata": {},
     "output_type": "display_data"
    },
    {
     "name": "stdout",
     "output_type": "stream",
     "text": [
      "Taking action:  2\n"
     ]
    },
    {
     "data": {
      "text/plain": [
       "array([-11.69607781, -12.11978618,  -1.56002791,  -6.99473148])"
      ]
     },
     "metadata": {},
     "output_type": "display_data"
    },
    {
     "name": "stdout",
     "output_type": "stream",
     "text": [
      "Taking action:  2\n"
     ]
    },
    {
     "data": {
      "text/plain": [
       "array([-11.69607781, -12.11978618,  -1.56002791,  -6.99473148])"
      ]
     },
     "metadata": {},
     "output_type": "display_data"
    },
    {
     "name": "stdout",
     "output_type": "stream",
     "text": [
      "Taking action:  2\n"
     ]
    },
    {
     "data": {
      "text/plain": [
       "array([-11.69607781, -12.11978618,  -1.56002791,  -6.99473148])"
      ]
     },
     "metadata": {},
     "output_type": "display_data"
    },
    {
     "name": "stdout",
     "output_type": "stream",
     "text": [
      "Taking action:  2\n"
     ]
    },
    {
     "data": {
      "text/plain": [
       "array([-11.69607781, -12.11978618,  -1.56002791,  -6.99473148])"
      ]
     },
     "metadata": {},
     "output_type": "display_data"
    },
    {
     "name": "stdout",
     "output_type": "stream",
     "text": [
      "Taking action:  2\n"
     ]
    },
    {
     "data": {
      "text/plain": [
       "array([-11.69607781, -12.11978618,  -1.56002791,  -6.99473148])"
      ]
     },
     "metadata": {},
     "output_type": "display_data"
    },
    {
     "name": "stdout",
     "output_type": "stream",
     "text": [
      "Taking action:  2\n"
     ]
    },
    {
     "data": {
      "text/plain": [
       "array([0., 0., 0., 0.])"
      ]
     },
     "metadata": {},
     "output_type": "display_data"
    },
    {
     "name": "stdout",
     "output_type": "stream",
     "text": [
      "Taking action:  0\n"
     ]
    },
    {
     "data": {
      "text/plain": [
       "array([0., 0., 0., 0.])"
      ]
     },
     "metadata": {},
     "output_type": "display_data"
    },
    {
     "name": "stdout",
     "output_type": "stream",
     "text": [
      "Taking action:  0\n"
     ]
    },
    {
     "data": {
      "text/plain": [
       "array([ 0.        , -4.5009568 , -2.38166187, -7.50921112])"
      ]
     },
     "metadata": {},
     "output_type": "display_data"
    },
    {
     "name": "stdout",
     "output_type": "stream",
     "text": [
      "Taking action:  0\n"
     ]
    },
    {
     "data": {
      "text/plain": [
       "array([ 2.26909922,  1.48583373, -4.7533823 , -2.20731227])"
      ]
     },
     "metadata": {},
     "output_type": "display_data"
    },
    {
     "name": "stdout",
     "output_type": "stream",
     "text": [
      "Taking action:  0\n"
     ]
    },
    {
     "data": {
      "text/plain": [
       "array([ 2.26909922,  1.48583373, -4.7533823 , -2.20731227])"
      ]
     },
     "metadata": {},
     "output_type": "display_data"
    },
    {
     "name": "stdout",
     "output_type": "stream",
     "text": [
      "Taking action:  0\n"
     ]
    },
    {
     "data": {
      "text/plain": [
       "array([ 2.26909922,  1.48583373, -4.7533823 , -2.20731227])"
      ]
     },
     "metadata": {},
     "output_type": "display_data"
    },
    {
     "name": "stdout",
     "output_type": "stream",
     "text": [
      "Taking action:  0\n"
     ]
    },
    {
     "data": {
      "text/plain": [
       "array([ 2.26909922,  1.48583373, -4.7533823 , -2.20731227])"
      ]
     },
     "metadata": {},
     "output_type": "display_data"
    },
    {
     "name": "stdout",
     "output_type": "stream",
     "text": [
      "Taking action:  0\n"
     ]
    },
    {
     "data": {
      "text/plain": [
       "array([ 2.26909922,  1.48583373, -4.7533823 , -2.20731227])"
      ]
     },
     "metadata": {},
     "output_type": "display_data"
    },
    {
     "name": "stdout",
     "output_type": "stream",
     "text": [
      "Taking action:  0\n"
     ]
    },
    {
     "data": {
      "text/plain": [
       "array([-7.72616792,  2.20129975, -1.6334907 , -3.62813257])"
      ]
     },
     "metadata": {},
     "output_type": "display_data"
    },
    {
     "name": "stdout",
     "output_type": "stream",
     "text": [
      "Taking action:  1\n"
     ]
    },
    {
     "data": {
      "text/plain": [
       "array([-7.72616792,  2.20129975, -1.6334907 , -3.62813257])"
      ]
     },
     "metadata": {},
     "output_type": "display_data"
    },
    {
     "name": "stdout",
     "output_type": "stream",
     "text": [
      "Taking action:  1\n"
     ]
    },
    {
     "data": {
      "text/plain": [
       "array([-6.98701189,  1.89715054, -1.84678219, -2.56473191])"
      ]
     },
     "metadata": {},
     "output_type": "display_data"
    },
    {
     "name": "stdout",
     "output_type": "stream",
     "text": [
      "Taking action:  1\n"
     ]
    },
    {
     "data": {
      "text/plain": [
       "array([-7.72616792,  2.20129975, -1.6334907 , -3.62813257])"
      ]
     },
     "metadata": {},
     "output_type": "display_data"
    },
    {
     "name": "stdout",
     "output_type": "stream",
     "text": [
      "Taking action:  1\n"
     ]
    },
    {
     "data": {
      "text/plain": [
       "array([-7.72616792,  2.20129975, -1.6334907 , -3.62813257])"
      ]
     },
     "metadata": {},
     "output_type": "display_data"
    },
    {
     "name": "stdout",
     "output_type": "stream",
     "text": [
      "Taking action:  1\n"
     ]
    },
    {
     "data": {
      "text/plain": [
       "array([-7.72616792,  2.20129975, -1.6334907 , -3.62813257])"
      ]
     },
     "metadata": {},
     "output_type": "display_data"
    },
    {
     "name": "stdout",
     "output_type": "stream",
     "text": [
      "Taking action:  1\n"
     ]
    },
    {
     "data": {
      "text/plain": [
       "array([-7.72616792,  2.20129975, -1.6334907 , -3.62813257])"
      ]
     },
     "metadata": {},
     "output_type": "display_data"
    },
    {
     "name": "stdout",
     "output_type": "stream",
     "text": [
      "Taking action:  1\n"
     ]
    },
    {
     "data": {
      "text/plain": [
       "array([-7.72616792,  2.20129975, -1.6334907 , -3.62813257])"
      ]
     },
     "metadata": {},
     "output_type": "display_data"
    },
    {
     "name": "stdout",
     "output_type": "stream",
     "text": [
      "Taking action:  1\n"
     ]
    },
    {
     "data": {
      "text/plain": [
       "array([-6.45259195, -8.12935135,  2.50997791, -0.22524256])"
      ]
     },
     "metadata": {},
     "output_type": "display_data"
    },
    {
     "name": "stdout",
     "output_type": "stream",
     "text": [
      "Taking action:  2\n"
     ]
    },
    {
     "data": {
      "text/plain": [
       "array([-6.45259195, -8.12935135,  2.50997791, -0.22524256])"
      ]
     },
     "metadata": {},
     "output_type": "display_data"
    },
    {
     "name": "stdout",
     "output_type": "stream",
     "text": [
      "Taking action:  2\n"
     ]
    },
    {
     "data": {
      "text/plain": [
       "array([-7.23768312, -7.84439416,  2.88651498,  0.86524066])"
      ]
     },
     "metadata": {},
     "output_type": "display_data"
    },
    {
     "name": "stdout",
     "output_type": "stream",
     "text": [
      "Taking action:  2\n"
     ]
    },
    {
     "data": {
      "text/plain": [
       "array([-6.45259195, -8.12935135,  2.50997791, -0.22524256])"
      ]
     },
     "metadata": {},
     "output_type": "display_data"
    },
    {
     "name": "stdout",
     "output_type": "stream",
     "text": [
      "Taking action:  2\n"
     ]
    },
    {
     "data": {
      "text/plain": [
       "array([-6.45259195, -8.12935135,  2.50997791, -0.22524256])"
      ]
     },
     "metadata": {},
     "output_type": "display_data"
    },
    {
     "name": "stdout",
     "output_type": "stream",
     "text": [
      "Taking action:  2\n"
     ]
    },
    {
     "data": {
      "text/plain": [
       "array([-6.45259195, -8.12935135,  2.50997791, -0.22524256])"
      ]
     },
     "metadata": {},
     "output_type": "display_data"
    },
    {
     "name": "stdout",
     "output_type": "stream",
     "text": [
      "Taking action:  2\n"
     ]
    },
    {
     "data": {
      "text/plain": [
       "array([-6.45259195, -8.12935135,  2.50997791, -0.22524256])"
      ]
     },
     "metadata": {},
     "output_type": "display_data"
    },
    {
     "name": "stdout",
     "output_type": "stream",
     "text": [
      "Taking action:  2\n"
     ]
    },
    {
     "data": {
      "text/plain": [
       "array([-6.45259195, -8.12935135,  2.50997791, -0.22524256])"
      ]
     },
     "metadata": {},
     "output_type": "display_data"
    },
    {
     "name": "stdout",
     "output_type": "stream",
     "text": [
      "Taking action:  2\n"
     ]
    },
    {
     "data": {
      "text/plain": [
       "array([-6.45259195, -8.12935135,  2.50997791, -0.22524256])"
      ]
     },
     "metadata": {},
     "output_type": "display_data"
    },
    {
     "name": "stdout",
     "output_type": "stream",
     "text": [
      "Taking action:  2\n"
     ]
    },
    {
     "data": {
      "text/plain": [
       "array([-5.53660489, -3.89583461, -5.38589796,  5.02616134])"
      ]
     },
     "metadata": {},
     "output_type": "display_data"
    },
    {
     "name": "stdout",
     "output_type": "stream",
     "text": [
      "Taking action:  3\n"
     ]
    },
    {
     "data": {
      "text/plain": [
       "array([ 2.26909922,  1.48583373, -4.7533823 , -2.20731227])"
      ]
     },
     "metadata": {},
     "output_type": "display_data"
    },
    {
     "name": "stdout",
     "output_type": "stream",
     "text": [
      "Taking action:  0\n"
     ]
    },
    {
     "data": {
      "text/plain": [
       "array([ 1.75205434, -1.76591999, -3.94228941, -2.68528812])"
      ]
     },
     "metadata": {},
     "output_type": "display_data"
    },
    {
     "name": "stdout",
     "output_type": "stream",
     "text": [
      "Taking action:  0\n"
     ]
    },
    {
     "data": {
      "text/plain": [
       "array([ -2.54056479,  -9.92130341, -10.53680598,  -4.1981918 ])"
      ]
     },
     "metadata": {},
     "output_type": "display_data"
    },
    {
     "name": "stdout",
     "output_type": "stream",
     "text": [
      "Taking action:  0\n"
     ]
    },
    {
     "data": {
      "text/plain": [
       "array([ -2.54056479,  -9.92130341, -10.53680598,  -4.1981918 ])"
      ]
     },
     "metadata": {},
     "output_type": "display_data"
    },
    {
     "name": "stdout",
     "output_type": "stream",
     "text": [
      "Taking action:  0\n"
     ]
    },
    {
     "data": {
      "text/plain": [
       "array([ -2.54056479,  -9.92130341, -10.53680598,  -4.1981918 ])"
      ]
     },
     "metadata": {},
     "output_type": "display_data"
    },
    {
     "name": "stdout",
     "output_type": "stream",
     "text": [
      "Taking action:  0\n"
     ]
    },
    {
     "data": {
      "text/plain": [
       "array([ -2.54056479,  -9.92130341, -10.53680598,  -4.1981918 ])"
      ]
     },
     "metadata": {},
     "output_type": "display_data"
    },
    {
     "name": "stdout",
     "output_type": "stream",
     "text": [
      "Taking action:  0\n"
     ]
    },
    {
     "data": {
      "text/plain": [
       "array([ -2.54056479,  -9.92130341, -10.53680598,  -4.1981918 ])"
      ]
     },
     "metadata": {},
     "output_type": "display_data"
    },
    {
     "name": "stdout",
     "output_type": "stream",
     "text": [
      "Taking action:  0\n"
     ]
    },
    {
     "data": {
      "text/plain": [
       "array([ -2.54056479,  -9.92130341, -10.53680598,  -4.1981918 ])"
      ]
     },
     "metadata": {},
     "output_type": "display_data"
    },
    {
     "name": "stdout",
     "output_type": "stream",
     "text": [
      "Taking action:  0\n"
     ]
    },
    {
     "data": {
      "text/plain": [
       "array([-10.54801925, -12.09383424, -10.96403011,  -1.40558322])"
      ]
     },
     "metadata": {},
     "output_type": "display_data"
    },
    {
     "name": "stdout",
     "output_type": "stream",
     "text": [
      "Taking action:  3\n"
     ]
    },
    {
     "data": {
      "text/plain": [
       "array([-42.53299606, -42.33737032, -23.0617362 , -30.93118565])"
      ]
     },
     "metadata": {},
     "output_type": "display_data"
    },
    {
     "name": "stdout",
     "output_type": "stream",
     "text": [
      "Taking action:  2\n"
     ]
    },
    {
     "data": {
      "text/plain": [
       "array([-41.94835894, -42.0019044 , -32.60740784, -38.00401392])"
      ]
     },
     "metadata": {},
     "output_type": "display_data"
    },
    {
     "name": "stdout",
     "output_type": "stream",
     "text": [
      "Taking action:  2\n"
     ]
    },
    {
     "data": {
      "text/plain": [
       "array([-11.69607781, -12.11978618,  -1.56002791,  -6.99473148])"
      ]
     },
     "metadata": {},
     "output_type": "display_data"
    },
    {
     "name": "stdout",
     "output_type": "stream",
     "text": [
      "Taking action:  2\n"
     ]
    },
    {
     "data": {
      "text/plain": [
       "array([-11.69607781, -12.11978618,  -1.56002791,  -6.99473148])"
      ]
     },
     "metadata": {},
     "output_type": "display_data"
    },
    {
     "name": "stdout",
     "output_type": "stream",
     "text": [
      "Taking action:  2\n"
     ]
    },
    {
     "data": {
      "text/plain": [
       "array([-11.69607781, -12.11978618,  -1.56002791,  -6.99473148])"
      ]
     },
     "metadata": {},
     "output_type": "display_data"
    },
    {
     "name": "stdout",
     "output_type": "stream",
     "text": [
      "Taking action:  2\n"
     ]
    },
    {
     "data": {
      "text/plain": [
       "array([-11.69607781, -12.11978618,  -1.56002791,  -6.99473148])"
      ]
     },
     "metadata": {},
     "output_type": "display_data"
    },
    {
     "name": "stdout",
     "output_type": "stream",
     "text": [
      "Taking action:  2\n"
     ]
    },
    {
     "data": {
      "text/plain": [
       "array([-11.69607781, -12.11978618,  -1.56002791,  -6.99473148])"
      ]
     },
     "metadata": {},
     "output_type": "display_data"
    },
    {
     "name": "stdout",
     "output_type": "stream",
     "text": [
      "Taking action:  2\n"
     ]
    },
    {
     "data": {
      "text/plain": [
       "array([-11.69607781, -12.11978618,  -1.56002791,  -6.99473148])"
      ]
     },
     "metadata": {},
     "output_type": "display_data"
    },
    {
     "name": "stdout",
     "output_type": "stream",
     "text": [
      "Taking action:  2\n"
     ]
    },
    {
     "data": {
      "text/plain": [
       "array([-10.54801925, -12.09383424, -10.96403011,  -1.40558322])"
      ]
     },
     "metadata": {},
     "output_type": "display_data"
    },
    {
     "name": "stdout",
     "output_type": "stream",
     "text": [
      "Taking action:  3\n"
     ]
    },
    {
     "data": {
      "text/plain": [
       "array([ -2.54056479,  -9.92130341, -10.53680598,  -4.1981918 ])"
      ]
     },
     "metadata": {},
     "output_type": "display_data"
    },
    {
     "name": "stdout",
     "output_type": "stream",
     "text": [
      "Taking action:  0\n"
     ]
    },
    {
     "data": {
      "text/plain": [
       "array([ 1.60286162, -3.15831708, -2.40803573, -1.72489251])"
      ]
     },
     "metadata": {},
     "output_type": "display_data"
    },
    {
     "name": "stdout",
     "output_type": "stream",
     "text": [
      "Taking action:  0\n"
     ]
    },
    {
     "data": {
      "text/plain": [
       "array([ -2.54056479,  -9.92130341, -10.53680598,  -4.1981918 ])"
      ]
     },
     "metadata": {},
     "output_type": "display_data"
    },
    {
     "name": "stdout",
     "output_type": "stream",
     "text": [
      "Taking action:  0\n"
     ]
    },
    {
     "data": {
      "text/plain": [
       "array([ -2.54056479,  -9.92130341, -10.53680598,  -4.1981918 ])"
      ]
     },
     "metadata": {},
     "output_type": "display_data"
    },
    {
     "name": "stdout",
     "output_type": "stream",
     "text": [
      "Taking action:  0\n"
     ]
    },
    {
     "data": {
      "text/plain": [
       "array([ -2.54056479,  -9.92130341, -10.53680598,  -4.1981918 ])"
      ]
     },
     "metadata": {},
     "output_type": "display_data"
    },
    {
     "name": "stdout",
     "output_type": "stream",
     "text": [
      "Taking action:  0\n"
     ]
    },
    {
     "data": {
      "text/plain": [
       "array([ -2.54056479,  -9.92130341, -10.53680598,  -4.1981918 ])"
      ]
     },
     "metadata": {},
     "output_type": "display_data"
    },
    {
     "name": "stdout",
     "output_type": "stream",
     "text": [
      "Taking action:  0\n"
     ]
    },
    {
     "data": {
      "text/plain": [
       "array([ -2.54056479,  -9.92130341, -10.53680598,  -4.1981918 ])"
      ]
     },
     "metadata": {},
     "output_type": "display_data"
    },
    {
     "name": "stdout",
     "output_type": "stream",
     "text": [
      "Taking action:  0\n"
     ]
    },
    {
     "data": {
      "text/plain": [
       "array([ -2.54056479,  -9.92130341, -10.53680598,  -4.1981918 ])"
      ]
     },
     "metadata": {},
     "output_type": "display_data"
    },
    {
     "name": "stdout",
     "output_type": "stream",
     "text": [
      "Taking action:  0\n"
     ]
    },
    {
     "data": {
      "text/plain": [
       "array([-10.54801925, -12.09383424, -10.96403011,  -1.40558322])"
      ]
     },
     "metadata": {},
     "output_type": "display_data"
    },
    {
     "name": "stdout",
     "output_type": "stream",
     "text": [
      "Taking action:  3\n"
     ]
    },
    {
     "data": {
      "text/plain": [
       "array([-42.53299606, -42.33737032, -23.0617362 , -30.93118565])"
      ]
     },
     "metadata": {},
     "output_type": "display_data"
    },
    {
     "name": "stdout",
     "output_type": "stream",
     "text": [
      "Taking action:  2\n"
     ]
    },
    {
     "data": {
      "text/plain": [
       "array([-41.94835894, -42.0019044 , -32.60740784, -38.00401392])"
      ]
     },
     "metadata": {},
     "output_type": "display_data"
    },
    {
     "name": "stdout",
     "output_type": "stream",
     "text": [
      "Taking action:  2\n"
     ]
    },
    {
     "data": {
      "text/plain": [
       "array([-11.69607781, -12.11978618,  -1.56002791,  -6.99473148])"
      ]
     },
     "metadata": {},
     "output_type": "display_data"
    },
    {
     "name": "stdout",
     "output_type": "stream",
     "text": [
      "Taking action:  2\n"
     ]
    },
    {
     "data": {
      "text/plain": [
       "array([-11.69607781, -12.11978618,  -1.56002791,  -6.99473148])"
      ]
     },
     "metadata": {},
     "output_type": "display_data"
    },
    {
     "name": "stdout",
     "output_type": "stream",
     "text": [
      "Taking action:  2\n"
     ]
    },
    {
     "data": {
      "text/plain": [
       "array([-10.54801925, -12.09383424, -10.96403011,  -1.40558322])"
      ]
     },
     "metadata": {},
     "output_type": "display_data"
    },
    {
     "name": "stdout",
     "output_type": "stream",
     "text": [
      "Taking action:  3\n"
     ]
    },
    {
     "data": {
      "text/plain": [
       "array([ -2.54056479,  -9.92130341, -10.53680598,  -4.1981918 ])"
      ]
     },
     "metadata": {},
     "output_type": "display_data"
    },
    {
     "name": "stdout",
     "output_type": "stream",
     "text": [
      "Taking action:  0\n"
     ]
    },
    {
     "data": {
      "text/plain": [
       "array([ 1.75205434, -1.76591999, -3.94228941, -2.68528812])"
      ]
     },
     "metadata": {},
     "output_type": "display_data"
    },
    {
     "name": "stdout",
     "output_type": "stream",
     "text": [
      "Taking action:  0\n"
     ]
    },
    {
     "data": {
      "text/plain": [
       "array([ -2.54056479,  -9.92130341, -10.53680598,  -4.1981918 ])"
      ]
     },
     "metadata": {},
     "output_type": "display_data"
    },
    {
     "name": "stdout",
     "output_type": "stream",
     "text": [
      "Taking action:  0\n"
     ]
    },
    {
     "data": {
      "text/plain": [
       "array([ -2.54056479,  -9.92130341, -10.53680598,  -4.1981918 ])"
      ]
     },
     "metadata": {},
     "output_type": "display_data"
    },
    {
     "name": "stdout",
     "output_type": "stream",
     "text": [
      "Taking action:  0\n"
     ]
    },
    {
     "data": {
      "text/plain": [
       "array([-10.54801925, -12.09383424, -10.96403011,  -1.40558322])"
      ]
     },
     "metadata": {},
     "output_type": "display_data"
    },
    {
     "name": "stdout",
     "output_type": "stream",
     "text": [
      "Taking action:  3\n"
     ]
    },
    {
     "data": {
      "text/plain": [
       "array([-42.53299606, -42.33737032, -23.0617362 , -30.93118565])"
      ]
     },
     "metadata": {},
     "output_type": "display_data"
    },
    {
     "name": "stdout",
     "output_type": "stream",
     "text": [
      "Taking action:  2\n"
     ]
    },
    {
     "data": {
      "text/plain": [
       "array([-41.94835894, -42.0019044 , -32.60740784, -38.00401392])"
      ]
     },
     "metadata": {},
     "output_type": "display_data"
    },
    {
     "name": "stdout",
     "output_type": "stream",
     "text": [
      "Taking action:  2\n"
     ]
    },
    {
     "data": {
      "text/plain": [
       "array([-11.69607781, -12.11978618,  -1.56002791,  -6.99473148])"
      ]
     },
     "metadata": {},
     "output_type": "display_data"
    },
    {
     "name": "stdout",
     "output_type": "stream",
     "text": [
      "Taking action:  2\n"
     ]
    },
    {
     "data": {
      "text/plain": [
       "array([-11.69607781, -12.11978618,  -1.56002791,  -6.99473148])"
      ]
     },
     "metadata": {},
     "output_type": "display_data"
    },
    {
     "name": "stdout",
     "output_type": "stream",
     "text": [
      "Taking action:  2\n"
     ]
    },
    {
     "data": {
      "text/plain": [
       "array([-11.69607781, -12.11978618,  -1.56002791,  -6.99473148])"
      ]
     },
     "metadata": {},
     "output_type": "display_data"
    },
    {
     "name": "stdout",
     "output_type": "stream",
     "text": [
      "Taking action:  2\n"
     ]
    },
    {
     "data": {
      "text/plain": [
       "array([-8.14390473,  1.55118339, -1.26668582, -3.94611495])"
      ]
     },
     "metadata": {},
     "output_type": "display_data"
    },
    {
     "name": "stdout",
     "output_type": "stream",
     "text": [
      "Taking action:  1\n"
     ]
    },
    {
     "data": {
      "text/plain": [
       "array([-6.98701189,  1.89715054, -1.84678219, -2.56473191])"
      ]
     },
     "metadata": {},
     "output_type": "display_data"
    },
    {
     "name": "stdout",
     "output_type": "stream",
     "text": [
      "Taking action:  1\n"
     ]
    },
    {
     "data": {
      "text/plain": [
       "array([-11.69607781, -12.11978618,  -1.56002791,  -6.99473148])"
      ]
     },
     "metadata": {},
     "output_type": "display_data"
    },
    {
     "name": "stdout",
     "output_type": "stream",
     "text": [
      "Taking action:  2\n"
     ]
    },
    {
     "data": {
      "text/plain": [
       "array([-42.53299606, -42.33737032, -23.0617362 , -30.93118565])"
      ]
     },
     "metadata": {},
     "output_type": "display_data"
    },
    {
     "name": "stdout",
     "output_type": "stream",
     "text": [
      "Taking action:  2\n"
     ]
    },
    {
     "data": {
      "text/plain": [
       "array([-41.94835894, -42.0019044 , -32.60740784, -38.00401392])"
      ]
     },
     "metadata": {},
     "output_type": "display_data"
    },
    {
     "name": "stdout",
     "output_type": "stream",
     "text": [
      "Taking action:  2\n"
     ]
    },
    {
     "data": {
      "text/plain": [
       "array([-10.54801925, -12.09383424, -10.96403011,  -1.40558322])"
      ]
     },
     "metadata": {},
     "output_type": "display_data"
    },
    {
     "name": "stdout",
     "output_type": "stream",
     "text": [
      "Taking action:  3\n"
     ]
    },
    {
     "data": {
      "text/plain": [
       "array([ -2.54056479,  -9.92130341, -10.53680598,  -4.1981918 ])"
      ]
     },
     "metadata": {},
     "output_type": "display_data"
    },
    {
     "name": "stdout",
     "output_type": "stream",
     "text": [
      "Taking action:  0\n"
     ]
    },
    {
     "data": {
      "text/plain": [
       "array([ 1.60286162, -3.15831708, -2.40803573, -1.72489251])"
      ]
     },
     "metadata": {},
     "output_type": "display_data"
    },
    {
     "name": "stdout",
     "output_type": "stream",
     "text": [
      "Taking action:  0\n"
     ]
    },
    {
     "data": {
      "text/plain": [
       "array([-10.54801925, -12.09383424, -10.96403011,  -1.40558322])"
      ]
     },
     "metadata": {},
     "output_type": "display_data"
    },
    {
     "name": "stdout",
     "output_type": "stream",
     "text": [
      "Taking action:  3\n"
     ]
    },
    {
     "data": {
      "text/plain": [
       "array([-42.53299606, -42.33737032, -23.0617362 , -30.93118565])"
      ]
     },
     "metadata": {},
     "output_type": "display_data"
    },
    {
     "name": "stdout",
     "output_type": "stream",
     "text": [
      "Taking action:  2\n"
     ]
    },
    {
     "data": {
      "text/plain": [
       "array([-11.69607781, -12.11978618,  -1.56002791,  -6.99473148])"
      ]
     },
     "metadata": {},
     "output_type": "display_data"
    },
    {
     "name": "stdout",
     "output_type": "stream",
     "text": [
      "Taking action:  2\n"
     ]
    },
    {
     "data": {
      "text/plain": [
       "array([-10.54801925, -12.09383424, -10.96403011,  -1.40558322])"
      ]
     },
     "metadata": {},
     "output_type": "display_data"
    },
    {
     "name": "stdout",
     "output_type": "stream",
     "text": [
      "Taking action:  3\n"
     ]
    },
    {
     "data": {
      "text/plain": [
       "array([ -2.54056479,  -9.92130341, -10.53680598,  -4.1981918 ])"
      ]
     },
     "metadata": {},
     "output_type": "display_data"
    },
    {
     "name": "stdout",
     "output_type": "stream",
     "text": [
      "Taking action:  0\n"
     ]
    },
    {
     "data": {
      "text/plain": [
       "array([ 1.60286162, -3.15831708, -2.40803573, -1.72489251])"
      ]
     },
     "metadata": {},
     "output_type": "display_data"
    },
    {
     "name": "stdout",
     "output_type": "stream",
     "text": [
      "Taking action:  0\n"
     ]
    },
    {
     "data": {
      "text/plain": [
       "array([-37.51690778, -42.10236907, -41.04916695, -39.51121972])"
      ]
     },
     "metadata": {},
     "output_type": "display_data"
    },
    {
     "name": "stdout",
     "output_type": "stream",
     "text": [
      "Taking action:  0\n"
     ]
    },
    {
     "data": {
      "text/plain": [
       "array([-31.12326383, -39.93197865, -36.46974206, -35.58607252])"
      ]
     },
     "metadata": {},
     "output_type": "display_data"
    },
    {
     "name": "stdout",
     "output_type": "stream",
     "text": [
      "Taking action:  0\n"
     ]
    },
    {
     "data": {
      "text/plain": [
       "array([-49.28398059, -53.78584028, -52.1490788 , -51.54368885])"
      ]
     },
     "metadata": {},
     "output_type": "display_data"
    },
    {
     "name": "stdout",
     "output_type": "stream",
     "text": [
      "Taking action:  0\n"
     ]
    },
    {
     "data": {
      "text/plain": [
       "array([-49.28398059, -53.78584028, -52.1490788 , -51.54368885])"
      ]
     },
     "metadata": {},
     "output_type": "display_data"
    },
    {
     "name": "stdout",
     "output_type": "stream",
     "text": [
      "Taking action:  0\n"
     ]
    },
    {
     "data": {
      "text/plain": [
       "array([-49.28398059, -53.78584028, -52.1490788 , -51.54368885])"
      ]
     },
     "metadata": {},
     "output_type": "display_data"
    },
    {
     "name": "stdout",
     "output_type": "stream",
     "text": [
      "Taking action:  0\n"
     ]
    },
    {
     "data": {
      "text/plain": [
       "array([-49.28398059, -53.78584028, -52.1490788 , -51.54368885])"
      ]
     },
     "metadata": {},
     "output_type": "display_data"
    },
    {
     "name": "stdout",
     "output_type": "stream",
     "text": [
      "Taking action:  0\n"
     ]
    },
    {
     "data": {
      "text/plain": [
       "array([-49.28398059, -53.78584028, -52.1490788 , -51.54368885])"
      ]
     },
     "metadata": {},
     "output_type": "display_data"
    },
    {
     "name": "stdout",
     "output_type": "stream",
     "text": [
      "Taking action:  0\n"
     ]
    },
    {
     "data": {
      "text/plain": [
       "array([-55.74259747, -52.23279483, -49.45680693, -51.46948089])"
      ]
     },
     "metadata": {},
     "output_type": "display_data"
    },
    {
     "name": "stdout",
     "output_type": "stream",
     "text": [
      "Taking action:  2\n"
     ]
    },
    {
     "data": {
      "text/plain": [
       "array([-52.40975487, -54.45798224, -53.605895  , -36.82452235])"
      ]
     },
     "metadata": {},
     "output_type": "display_data"
    },
    {
     "name": "stdout",
     "output_type": "stream",
     "text": [
      "Taking action:  3\n"
     ]
    },
    {
     "data": {
      "text/plain": [
       "array([0., 0., 0., 0.])"
      ]
     },
     "metadata": {},
     "output_type": "display_data"
    },
    {
     "name": "stdout",
     "output_type": "stream",
     "text": [
      "Taking action:  0\n"
     ]
    },
    {
     "data": {
      "text/plain": [
       "array([-38.36000495, -42.0521717 , -37.90973693, -32.62614516])"
      ]
     },
     "metadata": {},
     "output_type": "display_data"
    },
    {
     "name": "stdout",
     "output_type": "stream",
     "text": [
      "Taking action:  3\n"
     ]
    },
    {
     "data": {
      "text/plain": [
       "array([-41.94835894, -42.0019044 , -32.60740784, -38.00401392])"
      ]
     },
     "metadata": {},
     "output_type": "display_data"
    },
    {
     "name": "stdout",
     "output_type": "stream",
     "text": [
      "Taking action:  2\n"
     ]
    },
    {
     "data": {
      "text/plain": [
       "array([-11.69607781, -12.11978618,  -1.56002791,  -6.99473148])"
      ]
     },
     "metadata": {},
     "output_type": "display_data"
    },
    {
     "name": "stdout",
     "output_type": "stream",
     "text": [
      "Taking action:  2\n"
     ]
    },
    {
     "data": {
      "text/plain": [
       "array([-11.69607781, -12.11978618,  -1.56002791,  -6.99473148])"
      ]
     },
     "metadata": {},
     "output_type": "display_data"
    },
    {
     "name": "stdout",
     "output_type": "stream",
     "text": [
      "Taking action:  2\n"
     ]
    },
    {
     "data": {
      "text/plain": [
       "array([-11.69607781, -12.11978618,  -1.56002791,  -6.99473148])"
      ]
     },
     "metadata": {},
     "output_type": "display_data"
    },
    {
     "name": "stdout",
     "output_type": "stream",
     "text": [
      "Taking action:  2\n"
     ]
    },
    {
     "data": {
      "text/plain": [
       "array([-11.69607781, -12.11978618,  -1.56002791,  -6.99473148])"
      ]
     },
     "metadata": {},
     "output_type": "display_data"
    },
    {
     "name": "stdout",
     "output_type": "stream",
     "text": [
      "Taking action:  2\n"
     ]
    },
    {
     "data": {
      "text/plain": [
       "array([-11.69607781, -12.11978618,  -1.56002791,  -6.99473148])"
      ]
     },
     "metadata": {},
     "output_type": "display_data"
    },
    {
     "name": "stdout",
     "output_type": "stream",
     "text": [
      "Taking action:  2\n"
     ]
    },
    {
     "data": {
      "text/plain": [
       "array([-11.69607781, -12.11978618,  -1.56002791,  -6.99473148])"
      ]
     },
     "metadata": {},
     "output_type": "display_data"
    },
    {
     "name": "stdout",
     "output_type": "stream",
     "text": [
      "Taking action:  2\n"
     ]
    },
    {
     "data": {
      "text/plain": [
       "array([-11.69607781, -12.11978618,  -1.56002791,  -6.99473148])"
      ]
     },
     "metadata": {},
     "output_type": "display_data"
    },
    {
     "name": "stdout",
     "output_type": "stream",
     "text": [
      "Taking action:  2\n"
     ]
    },
    {
     "data": {
      "text/plain": [
       "array([0., 0., 0., 0.])"
      ]
     },
     "metadata": {},
     "output_type": "display_data"
    },
    {
     "name": "stdout",
     "output_type": "stream",
     "text": [
      "Taking action:  0\n"
     ]
    },
    {
     "data": {
      "text/plain": [
       "array([0., 0., 0., 0.])"
      ]
     },
     "metadata": {},
     "output_type": "display_data"
    },
    {
     "name": "stdout",
     "output_type": "stream",
     "text": [
      "Taking action:  0\n"
     ]
    },
    {
     "data": {
      "text/plain": [
       "array([ 0.        , -4.5009568 , -2.38166187, -7.50921112])"
      ]
     },
     "metadata": {},
     "output_type": "display_data"
    },
    {
     "name": "stdout",
     "output_type": "stream",
     "text": [
      "Taking action:  0\n"
     ]
    },
    {
     "data": {
      "text/plain": [
       "array([ 2.26909922,  1.48583373, -4.7533823 , -2.20731227])"
      ]
     },
     "metadata": {},
     "output_type": "display_data"
    },
    {
     "name": "stdout",
     "output_type": "stream",
     "text": [
      "Taking action:  0\n"
     ]
    },
    {
     "data": {
      "text/plain": [
       "array([ 2.26909922,  1.48583373, -4.7533823 , -2.20731227])"
      ]
     },
     "metadata": {},
     "output_type": "display_data"
    },
    {
     "name": "stdout",
     "output_type": "stream",
     "text": [
      "Taking action:  0\n"
     ]
    },
    {
     "data": {
      "text/plain": [
       "array([ 2.26909922,  1.48583373, -4.7533823 , -2.20731227])"
      ]
     },
     "metadata": {},
     "output_type": "display_data"
    },
    {
     "name": "stdout",
     "output_type": "stream",
     "text": [
      "Taking action:  0\n"
     ]
    },
    {
     "data": {
      "text/plain": [
       "array([ 2.26909922,  1.48583373, -4.7533823 , -2.20731227])"
      ]
     },
     "metadata": {},
     "output_type": "display_data"
    },
    {
     "name": "stdout",
     "output_type": "stream",
     "text": [
      "Taking action:  0\n"
     ]
    },
    {
     "data": {
      "text/plain": [
       "array([ 2.26909922,  1.48583373, -4.7533823 , -2.20731227])"
      ]
     },
     "metadata": {},
     "output_type": "display_data"
    },
    {
     "name": "stdout",
     "output_type": "stream",
     "text": [
      "Taking action:  0\n"
     ]
    },
    {
     "data": {
      "text/plain": [
       "array([-7.72616792,  2.20129975, -1.6334907 , -3.62813257])"
      ]
     },
     "metadata": {},
     "output_type": "display_data"
    },
    {
     "name": "stdout",
     "output_type": "stream",
     "text": [
      "Taking action:  1\n"
     ]
    },
    {
     "data": {
      "text/plain": [
       "array([-7.72616792,  2.20129975, -1.6334907 , -3.62813257])"
      ]
     },
     "metadata": {},
     "output_type": "display_data"
    },
    {
     "name": "stdout",
     "output_type": "stream",
     "text": [
      "Taking action:  1\n"
     ]
    },
    {
     "data": {
      "text/plain": [
       "array([-6.98701189,  1.89715054, -1.84678219, -2.56473191])"
      ]
     },
     "metadata": {},
     "output_type": "display_data"
    },
    {
     "name": "stdout",
     "output_type": "stream",
     "text": [
      "Taking action:  1\n"
     ]
    },
    {
     "data": {
      "text/plain": [
       "array([-7.72616792,  2.20129975, -1.6334907 , -3.62813257])"
      ]
     },
     "metadata": {},
     "output_type": "display_data"
    },
    {
     "name": "stdout",
     "output_type": "stream",
     "text": [
      "Taking action:  1\n"
     ]
    },
    {
     "data": {
      "text/plain": [
       "array([-7.72616792,  2.20129975, -1.6334907 , -3.62813257])"
      ]
     },
     "metadata": {},
     "output_type": "display_data"
    },
    {
     "name": "stdout",
     "output_type": "stream",
     "text": [
      "Taking action:  1\n"
     ]
    },
    {
     "data": {
      "text/plain": [
       "array([-7.72616792,  2.20129975, -1.6334907 , -3.62813257])"
      ]
     },
     "metadata": {},
     "output_type": "display_data"
    },
    {
     "name": "stdout",
     "output_type": "stream",
     "text": [
      "Taking action:  1\n"
     ]
    },
    {
     "data": {
      "text/plain": [
       "array([-7.72616792,  2.20129975, -1.6334907 , -3.62813257])"
      ]
     },
     "metadata": {},
     "output_type": "display_data"
    },
    {
     "name": "stdout",
     "output_type": "stream",
     "text": [
      "Taking action:  1\n"
     ]
    },
    {
     "data": {
      "text/plain": [
       "array([-7.72616792,  2.20129975, -1.6334907 , -3.62813257])"
      ]
     },
     "metadata": {},
     "output_type": "display_data"
    },
    {
     "name": "stdout",
     "output_type": "stream",
     "text": [
      "Taking action:  1\n"
     ]
    },
    {
     "data": {
      "text/plain": [
       "array([-6.45259195, -8.12935135,  2.50997791, -0.22524256])"
      ]
     },
     "metadata": {},
     "output_type": "display_data"
    },
    {
     "name": "stdout",
     "output_type": "stream",
     "text": [
      "Taking action:  2\n"
     ]
    },
    {
     "data": {
      "text/plain": [
       "array([-6.45259195, -8.12935135,  2.50997791, -0.22524256])"
      ]
     },
     "metadata": {},
     "output_type": "display_data"
    },
    {
     "name": "stdout",
     "output_type": "stream",
     "text": [
      "Taking action:  2\n"
     ]
    },
    {
     "data": {
      "text/plain": [
       "array([-7.23768312, -7.84439416,  2.88651498,  0.86524066])"
      ]
     },
     "metadata": {},
     "output_type": "display_data"
    },
    {
     "name": "stdout",
     "output_type": "stream",
     "text": [
      "Taking action:  2\n"
     ]
    },
    {
     "data": {
      "text/plain": [
       "array([-6.45259195, -8.12935135,  2.50997791, -0.22524256])"
      ]
     },
     "metadata": {},
     "output_type": "display_data"
    },
    {
     "name": "stdout",
     "output_type": "stream",
     "text": [
      "Taking action:  2\n"
     ]
    },
    {
     "data": {
      "text/plain": [
       "array([-6.45259195, -8.12935135,  2.50997791, -0.22524256])"
      ]
     },
     "metadata": {},
     "output_type": "display_data"
    },
    {
     "name": "stdout",
     "output_type": "stream",
     "text": [
      "Taking action:  2\n"
     ]
    },
    {
     "data": {
      "text/plain": [
       "array([-6.45259195, -8.12935135,  2.50997791, -0.22524256])"
      ]
     },
     "metadata": {},
     "output_type": "display_data"
    },
    {
     "name": "stdout",
     "output_type": "stream",
     "text": [
      "Taking action:  2\n"
     ]
    },
    {
     "data": {
      "text/plain": [
       "array([-6.45259195, -8.12935135,  2.50997791, -0.22524256])"
      ]
     },
     "metadata": {},
     "output_type": "display_data"
    },
    {
     "name": "stdout",
     "output_type": "stream",
     "text": [
      "Taking action:  2\n"
     ]
    },
    {
     "data": {
      "text/plain": [
       "array([-6.45259195, -8.12935135,  2.50997791, -0.22524256])"
      ]
     },
     "metadata": {},
     "output_type": "display_data"
    },
    {
     "name": "stdout",
     "output_type": "stream",
     "text": [
      "Taking action:  2\n"
     ]
    },
    {
     "data": {
      "text/plain": [
       "array([-6.45259195, -8.12935135,  2.50997791, -0.22524256])"
      ]
     },
     "metadata": {},
     "output_type": "display_data"
    },
    {
     "name": "stdout",
     "output_type": "stream",
     "text": [
      "Taking action:  2\n"
     ]
    },
    {
     "data": {
      "text/plain": [
       "array([-5.53660489, -3.89583461, -5.38589796,  5.02616134])"
      ]
     },
     "metadata": {},
     "output_type": "display_data"
    },
    {
     "name": "stdout",
     "output_type": "stream",
     "text": [
      "Taking action:  3\n"
     ]
    },
    {
     "data": {
      "text/plain": [
       "array([ 2.26909922,  1.48583373, -4.7533823 , -2.20731227])"
      ]
     },
     "metadata": {},
     "output_type": "display_data"
    },
    {
     "name": "stdout",
     "output_type": "stream",
     "text": [
      "Taking action:  0\n"
     ]
    },
    {
     "data": {
      "text/plain": [
       "array([ 1.75205434, -1.76591999, -3.94228941, -2.68528812])"
      ]
     },
     "metadata": {},
     "output_type": "display_data"
    },
    {
     "name": "stdout",
     "output_type": "stream",
     "text": [
      "Taking action:  0\n"
     ]
    },
    {
     "data": {
      "text/plain": [
       "array([ -2.54056479,  -9.92130341, -10.53680598,  -4.1981918 ])"
      ]
     },
     "metadata": {},
     "output_type": "display_data"
    },
    {
     "name": "stdout",
     "output_type": "stream",
     "text": [
      "Taking action:  0\n"
     ]
    },
    {
     "data": {
      "text/plain": [
       "array([ -2.54056479,  -9.92130341, -10.53680598,  -4.1981918 ])"
      ]
     },
     "metadata": {},
     "output_type": "display_data"
    },
    {
     "name": "stdout",
     "output_type": "stream",
     "text": [
      "Taking action:  0\n"
     ]
    },
    {
     "data": {
      "text/plain": [
       "array([ -2.54056479,  -9.92130341, -10.53680598,  -4.1981918 ])"
      ]
     },
     "metadata": {},
     "output_type": "display_data"
    },
    {
     "name": "stdout",
     "output_type": "stream",
     "text": [
      "Taking action:  0\n"
     ]
    },
    {
     "data": {
      "text/plain": [
       "array([ -2.54056479,  -9.92130341, -10.53680598,  -4.1981918 ])"
      ]
     },
     "metadata": {},
     "output_type": "display_data"
    },
    {
     "name": "stdout",
     "output_type": "stream",
     "text": [
      "Taking action:  0\n"
     ]
    },
    {
     "data": {
      "text/plain": [
       "array([ -2.54056479,  -9.92130341, -10.53680598,  -4.1981918 ])"
      ]
     },
     "metadata": {},
     "output_type": "display_data"
    },
    {
     "name": "stdout",
     "output_type": "stream",
     "text": [
      "Taking action:  0\n"
     ]
    },
    {
     "data": {
      "text/plain": [
       "array([ -2.54056479,  -9.92130341, -10.53680598,  -4.1981918 ])"
      ]
     },
     "metadata": {},
     "output_type": "display_data"
    },
    {
     "name": "stdout",
     "output_type": "stream",
     "text": [
      "Taking action:  0\n"
     ]
    },
    {
     "data": {
      "text/plain": [
       "array([-10.54801925, -12.09383424, -10.96403011,  -1.40558322])"
      ]
     },
     "metadata": {},
     "output_type": "display_data"
    },
    {
     "name": "stdout",
     "output_type": "stream",
     "text": [
      "Taking action:  3\n"
     ]
    },
    {
     "data": {
      "text/plain": [
       "array([-42.53299606, -42.33737032, -23.0617362 , -30.93118565])"
      ]
     },
     "metadata": {},
     "output_type": "display_data"
    },
    {
     "name": "stdout",
     "output_type": "stream",
     "text": [
      "Taking action:  2\n"
     ]
    },
    {
     "data": {
      "text/plain": [
       "array([-41.94835894, -42.0019044 , -32.60740784, -38.00401392])"
      ]
     },
     "metadata": {},
     "output_type": "display_data"
    },
    {
     "name": "stdout",
     "output_type": "stream",
     "text": [
      "Taking action:  2\n"
     ]
    },
    {
     "data": {
      "text/plain": [
       "array([-11.69607781, -12.11978618,  -1.56002791,  -6.99473148])"
      ]
     },
     "metadata": {},
     "output_type": "display_data"
    },
    {
     "name": "stdout",
     "output_type": "stream",
     "text": [
      "Taking action:  2\n"
     ]
    },
    {
     "data": {
      "text/plain": [
       "array([-11.69607781, -12.11978618,  -1.56002791,  -6.99473148])"
      ]
     },
     "metadata": {},
     "output_type": "display_data"
    },
    {
     "name": "stdout",
     "output_type": "stream",
     "text": [
      "Taking action:  2\n"
     ]
    },
    {
     "data": {
      "text/plain": [
       "array([-11.69607781, -12.11978618,  -1.56002791,  -6.99473148])"
      ]
     },
     "metadata": {},
     "output_type": "display_data"
    },
    {
     "name": "stdout",
     "output_type": "stream",
     "text": [
      "Taking action:  2\n"
     ]
    },
    {
     "data": {
      "text/plain": [
       "array([-11.69607781, -12.11978618,  -1.56002791,  -6.99473148])"
      ]
     },
     "metadata": {},
     "output_type": "display_data"
    },
    {
     "name": "stdout",
     "output_type": "stream",
     "text": [
      "Taking action:  2\n"
     ]
    },
    {
     "data": {
      "text/plain": [
       "array([-11.69607781, -12.11978618,  -1.56002791,  -6.99473148])"
      ]
     },
     "metadata": {},
     "output_type": "display_data"
    },
    {
     "name": "stdout",
     "output_type": "stream",
     "text": [
      "Taking action:  2\n"
     ]
    },
    {
     "data": {
      "text/plain": [
       "array([-11.69607781, -12.11978618,  -1.56002791,  -6.99473148])"
      ]
     },
     "metadata": {},
     "output_type": "display_data"
    },
    {
     "name": "stdout",
     "output_type": "stream",
     "text": [
      "Taking action:  2\n"
     ]
    },
    {
     "data": {
      "text/plain": [
       "array([-10.54801925, -12.09383424, -10.96403011,  -1.40558322])"
      ]
     },
     "metadata": {},
     "output_type": "display_data"
    },
    {
     "name": "stdout",
     "output_type": "stream",
     "text": [
      "Taking action:  3\n"
     ]
    },
    {
     "data": {
      "text/plain": [
       "array([ -2.54056479,  -9.92130341, -10.53680598,  -4.1981918 ])"
      ]
     },
     "metadata": {},
     "output_type": "display_data"
    },
    {
     "name": "stdout",
     "output_type": "stream",
     "text": [
      "Taking action:  0\n"
     ]
    },
    {
     "data": {
      "text/plain": [
       "array([ 1.60286162, -3.15831708, -2.40803573, -1.72489251])"
      ]
     },
     "metadata": {},
     "output_type": "display_data"
    },
    {
     "name": "stdout",
     "output_type": "stream",
     "text": [
      "Taking action:  0\n"
     ]
    },
    {
     "data": {
      "text/plain": [
       "array([ -2.54056479,  -9.92130341, -10.53680598,  -4.1981918 ])"
      ]
     },
     "metadata": {},
     "output_type": "display_data"
    },
    {
     "name": "stdout",
     "output_type": "stream",
     "text": [
      "Taking action:  0\n"
     ]
    },
    {
     "data": {
      "text/plain": [
       "array([ -2.54056479,  -9.92130341, -10.53680598,  -4.1981918 ])"
      ]
     },
     "metadata": {},
     "output_type": "display_data"
    },
    {
     "name": "stdout",
     "output_type": "stream",
     "text": [
      "Taking action:  0\n"
     ]
    },
    {
     "data": {
      "text/plain": [
       "array([ -2.54056479,  -9.92130341, -10.53680598,  -4.1981918 ])"
      ]
     },
     "metadata": {},
     "output_type": "display_data"
    },
    {
     "name": "stdout",
     "output_type": "stream",
     "text": [
      "Taking action:  0\n"
     ]
    },
    {
     "data": {
      "text/plain": [
       "array([ -2.54056479,  -9.92130341, -10.53680598,  -4.1981918 ])"
      ]
     },
     "metadata": {},
     "output_type": "display_data"
    },
    {
     "name": "stdout",
     "output_type": "stream",
     "text": [
      "Taking action:  0\n"
     ]
    },
    {
     "data": {
      "text/plain": [
       "array([ -2.54056479,  -9.92130341, -10.53680598,  -4.1981918 ])"
      ]
     },
     "metadata": {},
     "output_type": "display_data"
    },
    {
     "name": "stdout",
     "output_type": "stream",
     "text": [
      "Taking action:  0\n"
     ]
    },
    {
     "data": {
      "text/plain": [
       "array([ -2.54056479,  -9.92130341, -10.53680598,  -4.1981918 ])"
      ]
     },
     "metadata": {},
     "output_type": "display_data"
    },
    {
     "name": "stdout",
     "output_type": "stream",
     "text": [
      "Taking action:  0\n"
     ]
    },
    {
     "data": {
      "text/plain": [
       "array([-10.54801925, -12.09383424, -10.96403011,  -1.40558322])"
      ]
     },
     "metadata": {},
     "output_type": "display_data"
    },
    {
     "name": "stdout",
     "output_type": "stream",
     "text": [
      "Taking action:  3\n"
     ]
    },
    {
     "data": {
      "text/plain": [
       "array([-42.53299606, -42.33737032, -23.0617362 , -30.93118565])"
      ]
     },
     "metadata": {},
     "output_type": "display_data"
    },
    {
     "name": "stdout",
     "output_type": "stream",
     "text": [
      "Taking action:  2\n"
     ]
    },
    {
     "data": {
      "text/plain": [
       "array([-41.94835894, -42.0019044 , -32.60740784, -38.00401392])"
      ]
     },
     "metadata": {},
     "output_type": "display_data"
    },
    {
     "name": "stdout",
     "output_type": "stream",
     "text": [
      "Taking action:  2\n"
     ]
    },
    {
     "data": {
      "text/plain": [
       "array([-11.69607781, -12.11978618,  -1.56002791,  -6.99473148])"
      ]
     },
     "metadata": {},
     "output_type": "display_data"
    },
    {
     "name": "stdout",
     "output_type": "stream",
     "text": [
      "Taking action:  2\n"
     ]
    },
    {
     "data": {
      "text/plain": [
       "array([-11.69607781, -12.11978618,  -1.56002791,  -6.99473148])"
      ]
     },
     "metadata": {},
     "output_type": "display_data"
    },
    {
     "name": "stdout",
     "output_type": "stream",
     "text": [
      "Taking action:  2\n"
     ]
    },
    {
     "data": {
      "text/plain": [
       "array([-10.54801925, -12.09383424, -10.96403011,  -1.40558322])"
      ]
     },
     "metadata": {},
     "output_type": "display_data"
    },
    {
     "name": "stdout",
     "output_type": "stream",
     "text": [
      "Taking action:  3\n"
     ]
    },
    {
     "data": {
      "text/plain": [
       "array([ -2.54056479,  -9.92130341, -10.53680598,  -4.1981918 ])"
      ]
     },
     "metadata": {},
     "output_type": "display_data"
    },
    {
     "name": "stdout",
     "output_type": "stream",
     "text": [
      "Taking action:  0\n"
     ]
    },
    {
     "data": {
      "text/plain": [
       "array([ 1.75205434, -1.76591999, -3.94228941, -2.68528812])"
      ]
     },
     "metadata": {},
     "output_type": "display_data"
    },
    {
     "name": "stdout",
     "output_type": "stream",
     "text": [
      "Taking action:  0\n"
     ]
    },
    {
     "data": {
      "text/plain": [
       "array([ -2.54056479,  -9.92130341, -10.53680598,  -4.1981918 ])"
      ]
     },
     "metadata": {},
     "output_type": "display_data"
    },
    {
     "name": "stdout",
     "output_type": "stream",
     "text": [
      "Taking action:  0\n"
     ]
    },
    {
     "data": {
      "text/plain": [
       "array([ -2.54056479,  -9.92130341, -10.53680598,  -4.1981918 ])"
      ]
     },
     "metadata": {},
     "output_type": "display_data"
    },
    {
     "name": "stdout",
     "output_type": "stream",
     "text": [
      "Taking action:  0\n"
     ]
    },
    {
     "data": {
      "text/plain": [
       "array([-10.54801925, -12.09383424, -10.96403011,  -1.40558322])"
      ]
     },
     "metadata": {},
     "output_type": "display_data"
    },
    {
     "name": "stdout",
     "output_type": "stream",
     "text": [
      "Taking action:  3\n"
     ]
    },
    {
     "data": {
      "text/plain": [
       "array([-42.53299606, -42.33737032, -23.0617362 , -30.93118565])"
      ]
     },
     "metadata": {},
     "output_type": "display_data"
    },
    {
     "name": "stdout",
     "output_type": "stream",
     "text": [
      "Taking action:  2\n"
     ]
    },
    {
     "data": {
      "text/plain": [
       "array([-41.94835894, -42.0019044 , -32.60740784, -38.00401392])"
      ]
     },
     "metadata": {},
     "output_type": "display_data"
    },
    {
     "name": "stdout",
     "output_type": "stream",
     "text": [
      "Taking action:  2\n"
     ]
    },
    {
     "data": {
      "text/plain": [
       "array([-11.69607781, -12.11978618,  -1.56002791,  -6.99473148])"
      ]
     },
     "metadata": {},
     "output_type": "display_data"
    },
    {
     "name": "stdout",
     "output_type": "stream",
     "text": [
      "Taking action:  2\n"
     ]
    },
    {
     "data": {
      "text/plain": [
       "array([-11.69607781, -12.11978618,  -1.56002791,  -6.99473148])"
      ]
     },
     "metadata": {},
     "output_type": "display_data"
    },
    {
     "name": "stdout",
     "output_type": "stream",
     "text": [
      "Taking action:  2\n"
     ]
    },
    {
     "data": {
      "text/plain": [
       "array([-11.69607781, -12.11978618,  -1.56002791,  -6.99473148])"
      ]
     },
     "metadata": {},
     "output_type": "display_data"
    },
    {
     "name": "stdout",
     "output_type": "stream",
     "text": [
      "Taking action:  2\n"
     ]
    },
    {
     "data": {
      "text/plain": [
       "array([-8.14390473,  1.55118339, -1.26668582, -3.94611495])"
      ]
     },
     "metadata": {},
     "output_type": "display_data"
    },
    {
     "name": "stdout",
     "output_type": "stream",
     "text": [
      "Taking action:  1\n"
     ]
    },
    {
     "data": {
      "text/plain": [
       "array([-6.98701189,  1.89715054, -1.84678219, -2.56473191])"
      ]
     },
     "metadata": {},
     "output_type": "display_data"
    },
    {
     "name": "stdout",
     "output_type": "stream",
     "text": [
      "Taking action:  1\n"
     ]
    },
    {
     "data": {
      "text/plain": [
       "array([-11.69607781, -12.11978618,  -1.56002791,  -6.99473148])"
      ]
     },
     "metadata": {},
     "output_type": "display_data"
    },
    {
     "name": "stdout",
     "output_type": "stream",
     "text": [
      "Taking action:  2\n"
     ]
    },
    {
     "data": {
      "text/plain": [
       "array([-42.53299606, -42.33737032, -23.0617362 , -30.93118565])"
      ]
     },
     "metadata": {},
     "output_type": "display_data"
    },
    {
     "name": "stdout",
     "output_type": "stream",
     "text": [
      "Taking action:  2\n"
     ]
    },
    {
     "data": {
      "text/plain": [
       "array([-41.94835894, -42.0019044 , -32.60740784, -38.00401392])"
      ]
     },
     "metadata": {},
     "output_type": "display_data"
    },
    {
     "name": "stdout",
     "output_type": "stream",
     "text": [
      "Taking action:  2\n"
     ]
    },
    {
     "data": {
      "text/plain": [
       "array([-10.54801925, -12.09383424, -10.96403011,  -1.40558322])"
      ]
     },
     "metadata": {},
     "output_type": "display_data"
    },
    {
     "name": "stdout",
     "output_type": "stream",
     "text": [
      "Taking action:  3\n"
     ]
    },
    {
     "data": {
      "text/plain": [
       "array([ -2.54056479,  -9.92130341, -10.53680598,  -4.1981918 ])"
      ]
     },
     "metadata": {},
     "output_type": "display_data"
    },
    {
     "name": "stdout",
     "output_type": "stream",
     "text": [
      "Taking action:  0\n"
     ]
    },
    {
     "data": {
      "text/plain": [
       "array([ 1.60286162, -3.15831708, -2.40803573, -1.72489251])"
      ]
     },
     "metadata": {},
     "output_type": "display_data"
    },
    {
     "name": "stdout",
     "output_type": "stream",
     "text": [
      "Taking action:  0\n"
     ]
    },
    {
     "data": {
      "text/plain": [
       "array([-10.54801925, -12.09383424, -10.96403011,  -1.40558322])"
      ]
     },
     "metadata": {},
     "output_type": "display_data"
    },
    {
     "name": "stdout",
     "output_type": "stream",
     "text": [
      "Taking action:  3\n"
     ]
    },
    {
     "data": {
      "text/plain": [
       "array([-42.53299606, -42.33737032, -23.0617362 , -30.93118565])"
      ]
     },
     "metadata": {},
     "output_type": "display_data"
    },
    {
     "name": "stdout",
     "output_type": "stream",
     "text": [
      "Taking action:  2\n"
     ]
    },
    {
     "data": {
      "text/plain": [
       "array([-11.69607781, -12.11978618,  -1.56002791,  -6.99473148])"
      ]
     },
     "metadata": {},
     "output_type": "display_data"
    },
    {
     "name": "stdout",
     "output_type": "stream",
     "text": [
      "Taking action:  2\n"
     ]
    },
    {
     "data": {
      "text/plain": [
       "array([-10.54801925, -12.09383424, -10.96403011,  -1.40558322])"
      ]
     },
     "metadata": {},
     "output_type": "display_data"
    },
    {
     "name": "stdout",
     "output_type": "stream",
     "text": [
      "Taking action:  3\n"
     ]
    },
    {
     "data": {
      "text/plain": [
       "array([ -2.54056479,  -9.92130341, -10.53680598,  -4.1981918 ])"
      ]
     },
     "metadata": {},
     "output_type": "display_data"
    },
    {
     "name": "stdout",
     "output_type": "stream",
     "text": [
      "Taking action:  0\n"
     ]
    },
    {
     "data": {
      "text/plain": [
       "array([ 1.60286162, -3.15831708, -2.40803573, -1.72489251])"
      ]
     },
     "metadata": {},
     "output_type": "display_data"
    },
    {
     "name": "stdout",
     "output_type": "stream",
     "text": [
      "Taking action:  0\n"
     ]
    },
    {
     "data": {
      "text/plain": [
       "array([-37.51690778, -42.10236907, -41.04916695, -39.51121972])"
      ]
     },
     "metadata": {},
     "output_type": "display_data"
    },
    {
     "name": "stdout",
     "output_type": "stream",
     "text": [
      "Taking action:  0\n"
     ]
    },
    {
     "data": {
      "text/plain": [
       "array([-31.12326383, -39.93197865, -36.46974206, -35.58607252])"
      ]
     },
     "metadata": {},
     "output_type": "display_data"
    },
    {
     "name": "stdout",
     "output_type": "stream",
     "text": [
      "Taking action:  0\n"
     ]
    },
    {
     "data": {
      "text/plain": [
       "array([-49.28398059, -53.78584028, -52.1490788 , -51.54368885])"
      ]
     },
     "metadata": {},
     "output_type": "display_data"
    },
    {
     "name": "stdout",
     "output_type": "stream",
     "text": [
      "Taking action:  0\n"
     ]
    },
    {
     "data": {
      "text/plain": [
       "array([-49.28398059, -53.78584028, -52.1490788 , -51.54368885])"
      ]
     },
     "metadata": {},
     "output_type": "display_data"
    },
    {
     "name": "stdout",
     "output_type": "stream",
     "text": [
      "Taking action:  0\n"
     ]
    },
    {
     "data": {
      "text/plain": [
       "array([-49.28398059, -53.78584028, -52.1490788 , -51.54368885])"
      ]
     },
     "metadata": {},
     "output_type": "display_data"
    },
    {
     "name": "stdout",
     "output_type": "stream",
     "text": [
      "Taking action:  0\n"
     ]
    },
    {
     "data": {
      "text/plain": [
       "array([-49.28398059, -53.78584028, -52.1490788 , -51.54368885])"
      ]
     },
     "metadata": {},
     "output_type": "display_data"
    },
    {
     "name": "stdout",
     "output_type": "stream",
     "text": [
      "Taking action:  0\n"
     ]
    },
    {
     "data": {
      "text/plain": [
       "array([-49.28398059, -53.78584028, -52.1490788 , -51.54368885])"
      ]
     },
     "metadata": {},
     "output_type": "display_data"
    },
    {
     "name": "stdout",
     "output_type": "stream",
     "text": [
      "Taking action:  0\n"
     ]
    },
    {
     "data": {
      "text/plain": [
       "array([-55.74259747, -52.23279483, -49.45680693, -51.46948089])"
      ]
     },
     "metadata": {},
     "output_type": "display_data"
    },
    {
     "name": "stdout",
     "output_type": "stream",
     "text": [
      "Taking action:  2\n"
     ]
    },
    {
     "data": {
      "text/plain": [
       "array([-52.40975487, -54.45798224, -53.605895  , -36.82452235])"
      ]
     },
     "metadata": {},
     "output_type": "display_data"
    },
    {
     "name": "stdout",
     "output_type": "stream",
     "text": [
      "Taking action:  3\n"
     ]
    },
    {
     "data": {
      "text/plain": [
       "array([0., 0., 0., 0.])"
      ]
     },
     "metadata": {},
     "output_type": "display_data"
    },
    {
     "name": "stdout",
     "output_type": "stream",
     "text": [
      "Taking action:  0\n"
     ]
    },
    {
     "data": {
      "text/plain": [
       "array([-38.36000495, -42.0521717 , -37.90973693, -32.62614516])"
      ]
     },
     "metadata": {},
     "output_type": "display_data"
    },
    {
     "name": "stdout",
     "output_type": "stream",
     "text": [
      "Taking action:  3\n"
     ]
    },
    {
     "data": {
      "text/plain": [
       "array([-41.94835894, -42.0019044 , -32.60740784, -38.00401392])"
      ]
     },
     "metadata": {},
     "output_type": "display_data"
    },
    {
     "name": "stdout",
     "output_type": "stream",
     "text": [
      "Taking action:  2\n"
     ]
    },
    {
     "data": {
      "text/plain": [
       "array([-11.69607781, -12.11978618,  -1.56002791,  -6.99473148])"
      ]
     },
     "metadata": {},
     "output_type": "display_data"
    },
    {
     "name": "stdout",
     "output_type": "stream",
     "text": [
      "Taking action:  2\n"
     ]
    },
    {
     "data": {
      "text/plain": [
       "array([-11.69607781, -12.11978618,  -1.56002791,  -6.99473148])"
      ]
     },
     "metadata": {},
     "output_type": "display_data"
    },
    {
     "name": "stdout",
     "output_type": "stream",
     "text": [
      "Taking action:  2\n"
     ]
    },
    {
     "data": {
      "text/plain": [
       "array([-11.69607781, -12.11978618,  -1.56002791,  -6.99473148])"
      ]
     },
     "metadata": {},
     "output_type": "display_data"
    },
    {
     "name": "stdout",
     "output_type": "stream",
     "text": [
      "Taking action:  2\n"
     ]
    },
    {
     "data": {
      "text/plain": [
       "array([-11.69607781, -12.11978618,  -1.56002791,  -6.99473148])"
      ]
     },
     "metadata": {},
     "output_type": "display_data"
    },
    {
     "name": "stdout",
     "output_type": "stream",
     "text": [
      "Taking action:  2\n"
     ]
    },
    {
     "data": {
      "text/plain": [
       "array([-11.69607781, -12.11978618,  -1.56002791,  -6.99473148])"
      ]
     },
     "metadata": {},
     "output_type": "display_data"
    },
    {
     "name": "stdout",
     "output_type": "stream",
     "text": [
      "Taking action:  2\n"
     ]
    },
    {
     "data": {
      "text/plain": [
       "array([-11.69607781, -12.11978618,  -1.56002791,  -6.99473148])"
      ]
     },
     "metadata": {},
     "output_type": "display_data"
    },
    {
     "name": "stdout",
     "output_type": "stream",
     "text": [
      "Taking action:  2\n"
     ]
    },
    {
     "data": {
      "text/plain": [
       "array([-11.69607781, -12.11978618,  -1.56002791,  -6.99473148])"
      ]
     },
     "metadata": {},
     "output_type": "display_data"
    },
    {
     "name": "stdout",
     "output_type": "stream",
     "text": [
      "Taking action:  2\n"
     ]
    },
    {
     "data": {
      "text/plain": [
       "array([0., 0., 0., 0.])"
      ]
     },
     "metadata": {},
     "output_type": "display_data"
    },
    {
     "name": "stdout",
     "output_type": "stream",
     "text": [
      "Taking action:  0\n"
     ]
    },
    {
     "data": {
      "text/plain": [
       "array([0., 0., 0., 0.])"
      ]
     },
     "metadata": {},
     "output_type": "display_data"
    },
    {
     "name": "stdout",
     "output_type": "stream",
     "text": [
      "Taking action:  0\n"
     ]
    },
    {
     "data": {
      "text/plain": [
       "array([ 0.        , -4.5009568 , -2.38166187, -7.50921112])"
      ]
     },
     "metadata": {},
     "output_type": "display_data"
    },
    {
     "name": "stdout",
     "output_type": "stream",
     "text": [
      "Taking action:  0\n"
     ]
    },
    {
     "data": {
      "text/plain": [
       "array([ 2.26909922,  1.48583373, -4.7533823 , -2.20731227])"
      ]
     },
     "metadata": {},
     "output_type": "display_data"
    },
    {
     "name": "stdout",
     "output_type": "stream",
     "text": [
      "Taking action:  0\n"
     ]
    },
    {
     "data": {
      "text/plain": [
       "array([ 2.26909922,  1.48583373, -4.7533823 , -2.20731227])"
      ]
     },
     "metadata": {},
     "output_type": "display_data"
    },
    {
     "name": "stdout",
     "output_type": "stream",
     "text": [
      "Taking action:  0\n"
     ]
    },
    {
     "data": {
      "text/plain": [
       "array([ 2.26909922,  1.48583373, -4.7533823 , -2.20731227])"
      ]
     },
     "metadata": {},
     "output_type": "display_data"
    },
    {
     "name": "stdout",
     "output_type": "stream",
     "text": [
      "Taking action:  0\n"
     ]
    },
    {
     "data": {
      "text/plain": [
       "array([ 2.26909922,  1.48583373, -4.7533823 , -2.20731227])"
      ]
     },
     "metadata": {},
     "output_type": "display_data"
    },
    {
     "name": "stdout",
     "output_type": "stream",
     "text": [
      "Taking action:  0\n"
     ]
    },
    {
     "data": {
      "text/plain": [
       "array([ 2.26909922,  1.48583373, -4.7533823 , -2.20731227])"
      ]
     },
     "metadata": {},
     "output_type": "display_data"
    },
    {
     "name": "stdout",
     "output_type": "stream",
     "text": [
      "Taking action:  0\n"
     ]
    },
    {
     "data": {
      "text/plain": [
       "array([-7.72616792,  2.20129975, -1.6334907 , -3.62813257])"
      ]
     },
     "metadata": {},
     "output_type": "display_data"
    },
    {
     "name": "stdout",
     "output_type": "stream",
     "text": [
      "Taking action:  1\n"
     ]
    },
    {
     "data": {
      "text/plain": [
       "array([-7.72616792,  2.20129975, -1.6334907 , -3.62813257])"
      ]
     },
     "metadata": {},
     "output_type": "display_data"
    },
    {
     "name": "stdout",
     "output_type": "stream",
     "text": [
      "Taking action:  1\n"
     ]
    },
    {
     "data": {
      "text/plain": [
       "array([-6.98701189,  1.89715054, -1.84678219, -2.56473191])"
      ]
     },
     "metadata": {},
     "output_type": "display_data"
    },
    {
     "name": "stdout",
     "output_type": "stream",
     "text": [
      "Taking action:  1\n"
     ]
    },
    {
     "data": {
      "text/plain": [
       "array([-7.72616792,  2.20129975, -1.6334907 , -3.62813257])"
      ]
     },
     "metadata": {},
     "output_type": "display_data"
    },
    {
     "name": "stdout",
     "output_type": "stream",
     "text": [
      "Taking action:  1\n"
     ]
    },
    {
     "data": {
      "text/plain": [
       "array([-7.72616792,  2.20129975, -1.6334907 , -3.62813257])"
      ]
     },
     "metadata": {},
     "output_type": "display_data"
    },
    {
     "name": "stdout",
     "output_type": "stream",
     "text": [
      "Taking action:  1\n"
     ]
    },
    {
     "data": {
      "text/plain": [
       "array([-7.72616792,  2.20129975, -1.6334907 , -3.62813257])"
      ]
     },
     "metadata": {},
     "output_type": "display_data"
    },
    {
     "name": "stdout",
     "output_type": "stream",
     "text": [
      "Taking action:  1\n"
     ]
    },
    {
     "data": {
      "text/plain": [
       "array([-7.72616792,  2.20129975, -1.6334907 , -3.62813257])"
      ]
     },
     "metadata": {},
     "output_type": "display_data"
    },
    {
     "name": "stdout",
     "output_type": "stream",
     "text": [
      "Taking action:  1\n"
     ]
    },
    {
     "data": {
      "text/plain": [
       "array([-7.72616792,  2.20129975, -1.6334907 , -3.62813257])"
      ]
     },
     "metadata": {},
     "output_type": "display_data"
    },
    {
     "name": "stdout",
     "output_type": "stream",
     "text": [
      "Taking action:  1\n"
     ]
    },
    {
     "data": {
      "text/plain": [
       "array([-6.45259195, -8.12935135,  2.50997791, -0.22524256])"
      ]
     },
     "metadata": {},
     "output_type": "display_data"
    },
    {
     "name": "stdout",
     "output_type": "stream",
     "text": [
      "Taking action:  2\n"
     ]
    },
    {
     "data": {
      "text/plain": [
       "array([-6.45259195, -8.12935135,  2.50997791, -0.22524256])"
      ]
     },
     "metadata": {},
     "output_type": "display_data"
    },
    {
     "name": "stdout",
     "output_type": "stream",
     "text": [
      "Taking action:  2\n"
     ]
    },
    {
     "data": {
      "text/plain": [
       "array([-7.23768312, -7.84439416,  2.88651498,  0.86524066])"
      ]
     },
     "metadata": {},
     "output_type": "display_data"
    },
    {
     "name": "stdout",
     "output_type": "stream",
     "text": [
      "Taking action:  2\n"
     ]
    },
    {
     "data": {
      "text/plain": [
       "array([-6.45259195, -8.12935135,  2.50997791, -0.22524256])"
      ]
     },
     "metadata": {},
     "output_type": "display_data"
    },
    {
     "name": "stdout",
     "output_type": "stream",
     "text": [
      "Taking action:  2\n"
     ]
    },
    {
     "data": {
      "text/plain": [
       "array([-6.45259195, -8.12935135,  2.50997791, -0.22524256])"
      ]
     },
     "metadata": {},
     "output_type": "display_data"
    },
    {
     "name": "stdout",
     "output_type": "stream",
     "text": [
      "Taking action:  2\n"
     ]
    },
    {
     "data": {
      "text/plain": [
       "array([-6.45259195, -8.12935135,  2.50997791, -0.22524256])"
      ]
     },
     "metadata": {},
     "output_type": "display_data"
    },
    {
     "name": "stdout",
     "output_type": "stream",
     "text": [
      "Taking action:  2\n"
     ]
    },
    {
     "data": {
      "text/plain": [
       "array([-6.45259195, -8.12935135,  2.50997791, -0.22524256])"
      ]
     },
     "metadata": {},
     "output_type": "display_data"
    },
    {
     "name": "stdout",
     "output_type": "stream",
     "text": [
      "Taking action:  2\n"
     ]
    },
    {
     "data": {
      "text/plain": [
       "array([-6.45259195, -8.12935135,  2.50997791, -0.22524256])"
      ]
     },
     "metadata": {},
     "output_type": "display_data"
    },
    {
     "name": "stdout",
     "output_type": "stream",
     "text": [
      "Taking action:  2\n"
     ]
    },
    {
     "data": {
      "text/plain": [
       "array([-6.45259195, -8.12935135,  2.50997791, -0.22524256])"
      ]
     },
     "metadata": {},
     "output_type": "display_data"
    },
    {
     "name": "stdout",
     "output_type": "stream",
     "text": [
      "Taking action:  2\n"
     ]
    },
    {
     "data": {
      "text/plain": [
       "array([-5.53660489, -3.89583461, -5.38589796,  5.02616134])"
      ]
     },
     "metadata": {},
     "output_type": "display_data"
    },
    {
     "name": "stdout",
     "output_type": "stream",
     "text": [
      "Taking action:  3\n"
     ]
    },
    {
     "data": {
      "text/plain": [
       "array([ 2.26909922,  1.48583373, -4.7533823 , -2.20731227])"
      ]
     },
     "metadata": {},
     "output_type": "display_data"
    },
    {
     "name": "stdout",
     "output_type": "stream",
     "text": [
      "Taking action:  0\n"
     ]
    },
    {
     "data": {
      "text/plain": [
       "array([ 1.75205434, -1.76591999, -3.94228941, -2.68528812])"
      ]
     },
     "metadata": {},
     "output_type": "display_data"
    },
    {
     "name": "stdout",
     "output_type": "stream",
     "text": [
      "Taking action:  0\n"
     ]
    },
    {
     "data": {
      "text/plain": [
       "array([ -2.54056479,  -9.92130341, -10.53680598,  -4.1981918 ])"
      ]
     },
     "metadata": {},
     "output_type": "display_data"
    },
    {
     "name": "stdout",
     "output_type": "stream",
     "text": [
      "Taking action:  0\n"
     ]
    },
    {
     "data": {
      "text/plain": [
       "array([ -2.54056479,  -9.92130341, -10.53680598,  -4.1981918 ])"
      ]
     },
     "metadata": {},
     "output_type": "display_data"
    },
    {
     "name": "stdout",
     "output_type": "stream",
     "text": [
      "Taking action:  0\n"
     ]
    },
    {
     "data": {
      "text/plain": [
       "array([ -2.54056479,  -9.92130341, -10.53680598,  -4.1981918 ])"
      ]
     },
     "metadata": {},
     "output_type": "display_data"
    },
    {
     "name": "stdout",
     "output_type": "stream",
     "text": [
      "Taking action:  0\n"
     ]
    },
    {
     "data": {
      "text/plain": [
       "array([ -2.54056479,  -9.92130341, -10.53680598,  -4.1981918 ])"
      ]
     },
     "metadata": {},
     "output_type": "display_data"
    },
    {
     "name": "stdout",
     "output_type": "stream",
     "text": [
      "Taking action:  0\n"
     ]
    },
    {
     "data": {
      "text/plain": [
       "array([ -2.54056479,  -9.92130341, -10.53680598,  -4.1981918 ])"
      ]
     },
     "metadata": {},
     "output_type": "display_data"
    },
    {
     "name": "stdout",
     "output_type": "stream",
     "text": [
      "Taking action:  0\n"
     ]
    },
    {
     "data": {
      "text/plain": [
       "array([ -2.54056479,  -9.92130341, -10.53680598,  -4.1981918 ])"
      ]
     },
     "metadata": {},
     "output_type": "display_data"
    },
    {
     "name": "stdout",
     "output_type": "stream",
     "text": [
      "Taking action:  0\n"
     ]
    },
    {
     "data": {
      "text/plain": [
       "array([-10.54801925, -12.09383424, -10.96403011,  -1.40558322])"
      ]
     },
     "metadata": {},
     "output_type": "display_data"
    },
    {
     "name": "stdout",
     "output_type": "stream",
     "text": [
      "Taking action:  3\n"
     ]
    },
    {
     "data": {
      "text/plain": [
       "array([-42.53299606, -42.33737032, -23.0617362 , -30.93118565])"
      ]
     },
     "metadata": {},
     "output_type": "display_data"
    },
    {
     "name": "stdout",
     "output_type": "stream",
     "text": [
      "Taking action:  2\n"
     ]
    },
    {
     "data": {
      "text/plain": [
       "array([-41.94835894, -42.0019044 , -32.60740784, -38.00401392])"
      ]
     },
     "metadata": {},
     "output_type": "display_data"
    },
    {
     "name": "stdout",
     "output_type": "stream",
     "text": [
      "Taking action:  2\n"
     ]
    },
    {
     "data": {
      "text/plain": [
       "array([-11.69607781, -12.11978618,  -1.56002791,  -6.99473148])"
      ]
     },
     "metadata": {},
     "output_type": "display_data"
    },
    {
     "name": "stdout",
     "output_type": "stream",
     "text": [
      "Taking action:  2\n"
     ]
    },
    {
     "data": {
      "text/plain": [
       "array([-11.69607781, -12.11978618,  -1.56002791,  -6.99473148])"
      ]
     },
     "metadata": {},
     "output_type": "display_data"
    },
    {
     "name": "stdout",
     "output_type": "stream",
     "text": [
      "Taking action:  2\n"
     ]
    },
    {
     "data": {
      "text/plain": [
       "array([-11.69607781, -12.11978618,  -1.56002791,  -6.99473148])"
      ]
     },
     "metadata": {},
     "output_type": "display_data"
    },
    {
     "name": "stdout",
     "output_type": "stream",
     "text": [
      "Taking action:  2\n"
     ]
    },
    {
     "data": {
      "text/plain": [
       "array([-11.69607781, -12.11978618,  -1.56002791,  -6.99473148])"
      ]
     },
     "metadata": {},
     "output_type": "display_data"
    },
    {
     "name": "stdout",
     "output_type": "stream",
     "text": [
      "Taking action:  2\n"
     ]
    },
    {
     "data": {
      "text/plain": [
       "array([-11.69607781, -12.11978618,  -1.56002791,  -6.99473148])"
      ]
     },
     "metadata": {},
     "output_type": "display_data"
    },
    {
     "name": "stdout",
     "output_type": "stream",
     "text": [
      "Taking action:  2\n"
     ]
    },
    {
     "data": {
      "text/plain": [
       "array([-11.69607781, -12.11978618,  -1.56002791,  -6.99473148])"
      ]
     },
     "metadata": {},
     "output_type": "display_data"
    },
    {
     "name": "stdout",
     "output_type": "stream",
     "text": [
      "Taking action:  2\n"
     ]
    },
    {
     "data": {
      "text/plain": [
       "array([-10.54801925, -12.09383424, -10.96403011,  -1.40558322])"
      ]
     },
     "metadata": {},
     "output_type": "display_data"
    },
    {
     "name": "stdout",
     "output_type": "stream",
     "text": [
      "Taking action:  3\n"
     ]
    },
    {
     "data": {
      "text/plain": [
       "array([ -2.54056479,  -9.92130341, -10.53680598,  -4.1981918 ])"
      ]
     },
     "metadata": {},
     "output_type": "display_data"
    },
    {
     "name": "stdout",
     "output_type": "stream",
     "text": [
      "Taking action:  0\n"
     ]
    },
    {
     "data": {
      "text/plain": [
       "array([ 1.60286162, -3.15831708, -2.40803573, -1.72489251])"
      ]
     },
     "metadata": {},
     "output_type": "display_data"
    },
    {
     "name": "stdout",
     "output_type": "stream",
     "text": [
      "Taking action:  0\n"
     ]
    },
    {
     "data": {
      "text/plain": [
       "array([ -2.54056479,  -9.92130341, -10.53680598,  -4.1981918 ])"
      ]
     },
     "metadata": {},
     "output_type": "display_data"
    },
    {
     "name": "stdout",
     "output_type": "stream",
     "text": [
      "Taking action:  0\n"
     ]
    },
    {
     "data": {
      "text/plain": [
       "array([ -2.54056479,  -9.92130341, -10.53680598,  -4.1981918 ])"
      ]
     },
     "metadata": {},
     "output_type": "display_data"
    },
    {
     "name": "stdout",
     "output_type": "stream",
     "text": [
      "Taking action:  0\n"
     ]
    },
    {
     "data": {
      "text/plain": [
       "array([ -2.54056479,  -9.92130341, -10.53680598,  -4.1981918 ])"
      ]
     },
     "metadata": {},
     "output_type": "display_data"
    },
    {
     "name": "stdout",
     "output_type": "stream",
     "text": [
      "Taking action:  0\n"
     ]
    },
    {
     "data": {
      "text/plain": [
       "array([ -2.54056479,  -9.92130341, -10.53680598,  -4.1981918 ])"
      ]
     },
     "metadata": {},
     "output_type": "display_data"
    },
    {
     "name": "stdout",
     "output_type": "stream",
     "text": [
      "Taking action:  0\n"
     ]
    },
    {
     "data": {
      "text/plain": [
       "array([ -2.54056479,  -9.92130341, -10.53680598,  -4.1981918 ])"
      ]
     },
     "metadata": {},
     "output_type": "display_data"
    },
    {
     "name": "stdout",
     "output_type": "stream",
     "text": [
      "Taking action:  0\n"
     ]
    },
    {
     "data": {
      "text/plain": [
       "array([ -2.54056479,  -9.92130341, -10.53680598,  -4.1981918 ])"
      ]
     },
     "metadata": {},
     "output_type": "display_data"
    },
    {
     "name": "stdout",
     "output_type": "stream",
     "text": [
      "Taking action:  0\n"
     ]
    },
    {
     "data": {
      "text/plain": [
       "array([-10.54801925, -12.09383424, -10.96403011,  -1.40558322])"
      ]
     },
     "metadata": {},
     "output_type": "display_data"
    },
    {
     "name": "stdout",
     "output_type": "stream",
     "text": [
      "Taking action:  3\n"
     ]
    },
    {
     "data": {
      "text/plain": [
       "array([-42.53299606, -42.33737032, -23.0617362 , -30.93118565])"
      ]
     },
     "metadata": {},
     "output_type": "display_data"
    },
    {
     "name": "stdout",
     "output_type": "stream",
     "text": [
      "Taking action:  2\n"
     ]
    },
    {
     "data": {
      "text/plain": [
       "array([-41.94835894, -42.0019044 , -32.60740784, -38.00401392])"
      ]
     },
     "metadata": {},
     "output_type": "display_data"
    },
    {
     "name": "stdout",
     "output_type": "stream",
     "text": [
      "Taking action:  2\n"
     ]
    },
    {
     "data": {
      "text/plain": [
       "array([-11.69607781, -12.11978618,  -1.56002791,  -6.99473148])"
      ]
     },
     "metadata": {},
     "output_type": "display_data"
    },
    {
     "name": "stdout",
     "output_type": "stream",
     "text": [
      "Taking action:  2\n"
     ]
    },
    {
     "data": {
      "text/plain": [
       "array([-11.69607781, -12.11978618,  -1.56002791,  -6.99473148])"
      ]
     },
     "metadata": {},
     "output_type": "display_data"
    },
    {
     "name": "stdout",
     "output_type": "stream",
     "text": [
      "Taking action:  2\n"
     ]
    },
    {
     "data": {
      "text/plain": [
       "array([-10.54801925, -12.09383424, -10.96403011,  -1.40558322])"
      ]
     },
     "metadata": {},
     "output_type": "display_data"
    },
    {
     "name": "stdout",
     "output_type": "stream",
     "text": [
      "Taking action:  3\n"
     ]
    },
    {
     "data": {
      "text/plain": [
       "array([ -2.54056479,  -9.92130341, -10.53680598,  -4.1981918 ])"
      ]
     },
     "metadata": {},
     "output_type": "display_data"
    },
    {
     "name": "stdout",
     "output_type": "stream",
     "text": [
      "Taking action:  0\n"
     ]
    },
    {
     "data": {
      "text/plain": [
       "array([ 1.75205434, -1.76591999, -3.94228941, -2.68528812])"
      ]
     },
     "metadata": {},
     "output_type": "display_data"
    },
    {
     "name": "stdout",
     "output_type": "stream",
     "text": [
      "Taking action:  0\n"
     ]
    },
    {
     "data": {
      "text/plain": [
       "array([ -2.54056479,  -9.92130341, -10.53680598,  -4.1981918 ])"
      ]
     },
     "metadata": {},
     "output_type": "display_data"
    },
    {
     "name": "stdout",
     "output_type": "stream",
     "text": [
      "Taking action:  0\n"
     ]
    },
    {
     "data": {
      "text/plain": [
       "array([ -2.54056479,  -9.92130341, -10.53680598,  -4.1981918 ])"
      ]
     },
     "metadata": {},
     "output_type": "display_data"
    },
    {
     "name": "stdout",
     "output_type": "stream",
     "text": [
      "Taking action:  0\n"
     ]
    },
    {
     "data": {
      "text/plain": [
       "array([-10.54801925, -12.09383424, -10.96403011,  -1.40558322])"
      ]
     },
     "metadata": {},
     "output_type": "display_data"
    },
    {
     "name": "stdout",
     "output_type": "stream",
     "text": [
      "Taking action:  3\n"
     ]
    },
    {
     "data": {
      "text/plain": [
       "array([-42.53299606, -42.33737032, -23.0617362 , -30.93118565])"
      ]
     },
     "metadata": {},
     "output_type": "display_data"
    },
    {
     "name": "stdout",
     "output_type": "stream",
     "text": [
      "Taking action:  2\n"
     ]
    },
    {
     "data": {
      "text/plain": [
       "array([-41.94835894, -42.0019044 , -32.60740784, -38.00401392])"
      ]
     },
     "metadata": {},
     "output_type": "display_data"
    },
    {
     "name": "stdout",
     "output_type": "stream",
     "text": [
      "Taking action:  2\n"
     ]
    },
    {
     "data": {
      "text/plain": [
       "array([-11.69607781, -12.11978618,  -1.56002791,  -6.99473148])"
      ]
     },
     "metadata": {},
     "output_type": "display_data"
    },
    {
     "name": "stdout",
     "output_type": "stream",
     "text": [
      "Taking action:  2\n"
     ]
    },
    {
     "data": {
      "text/plain": [
       "array([-11.69607781, -12.11978618,  -1.56002791,  -6.99473148])"
      ]
     },
     "metadata": {},
     "output_type": "display_data"
    },
    {
     "name": "stdout",
     "output_type": "stream",
     "text": [
      "Taking action:  2\n"
     ]
    },
    {
     "data": {
      "text/plain": [
       "array([-11.69607781, -12.11978618,  -1.56002791,  -6.99473148])"
      ]
     },
     "metadata": {},
     "output_type": "display_data"
    },
    {
     "name": "stdout",
     "output_type": "stream",
     "text": [
      "Taking action:  2\n"
     ]
    },
    {
     "data": {
      "text/plain": [
       "array([-8.14390473,  1.55118339, -1.26668582, -3.94611495])"
      ]
     },
     "metadata": {},
     "output_type": "display_data"
    },
    {
     "name": "stdout",
     "output_type": "stream",
     "text": [
      "Taking action:  1\n"
     ]
    },
    {
     "data": {
      "text/plain": [
       "array([-6.98701189,  1.89715054, -1.84678219, -2.56473191])"
      ]
     },
     "metadata": {},
     "output_type": "display_data"
    },
    {
     "name": "stdout",
     "output_type": "stream",
     "text": [
      "Taking action:  1\n"
     ]
    },
    {
     "data": {
      "text/plain": [
       "array([-11.69607781, -12.11978618,  -1.56002791,  -6.99473148])"
      ]
     },
     "metadata": {},
     "output_type": "display_data"
    },
    {
     "name": "stdout",
     "output_type": "stream",
     "text": [
      "Taking action:  2\n"
     ]
    },
    {
     "data": {
      "text/plain": [
       "array([-42.53299606, -42.33737032, -23.0617362 , -30.93118565])"
      ]
     },
     "metadata": {},
     "output_type": "display_data"
    },
    {
     "name": "stdout",
     "output_type": "stream",
     "text": [
      "Taking action:  2\n"
     ]
    },
    {
     "data": {
      "text/plain": [
       "array([-41.94835894, -42.0019044 , -32.60740784, -38.00401392])"
      ]
     },
     "metadata": {},
     "output_type": "display_data"
    },
    {
     "name": "stdout",
     "output_type": "stream",
     "text": [
      "Taking action:  2\n"
     ]
    },
    {
     "data": {
      "text/plain": [
       "array([-10.54801925, -12.09383424, -10.96403011,  -1.40558322])"
      ]
     },
     "metadata": {},
     "output_type": "display_data"
    },
    {
     "name": "stdout",
     "output_type": "stream",
     "text": [
      "Taking action:  3\n"
     ]
    },
    {
     "data": {
      "text/plain": [
       "array([ -2.54056479,  -9.92130341, -10.53680598,  -4.1981918 ])"
      ]
     },
     "metadata": {},
     "output_type": "display_data"
    },
    {
     "name": "stdout",
     "output_type": "stream",
     "text": [
      "Taking action:  0\n"
     ]
    },
    {
     "data": {
      "text/plain": [
       "array([ 1.60286162, -3.15831708, -2.40803573, -1.72489251])"
      ]
     },
     "metadata": {},
     "output_type": "display_data"
    },
    {
     "name": "stdout",
     "output_type": "stream",
     "text": [
      "Taking action:  0\n"
     ]
    },
    {
     "data": {
      "text/plain": [
       "array([-10.54801925, -12.09383424, -10.96403011,  -1.40558322])"
      ]
     },
     "metadata": {},
     "output_type": "display_data"
    },
    {
     "name": "stdout",
     "output_type": "stream",
     "text": [
      "Taking action:  3\n"
     ]
    },
    {
     "data": {
      "text/plain": [
       "array([-42.53299606, -42.33737032, -23.0617362 , -30.93118565])"
      ]
     },
     "metadata": {},
     "output_type": "display_data"
    },
    {
     "name": "stdout",
     "output_type": "stream",
     "text": [
      "Taking action:  2\n"
     ]
    },
    {
     "data": {
      "text/plain": [
       "array([-11.69607781, -12.11978618,  -1.56002791,  -6.99473148])"
      ]
     },
     "metadata": {},
     "output_type": "display_data"
    },
    {
     "name": "stdout",
     "output_type": "stream",
     "text": [
      "Taking action:  2\n"
     ]
    },
    {
     "data": {
      "text/plain": [
       "array([-10.54801925, -12.09383424, -10.96403011,  -1.40558322])"
      ]
     },
     "metadata": {},
     "output_type": "display_data"
    },
    {
     "name": "stdout",
     "output_type": "stream",
     "text": [
      "Taking action:  3\n"
     ]
    },
    {
     "data": {
      "text/plain": [
       "array([ -2.54056479,  -9.92130341, -10.53680598,  -4.1981918 ])"
      ]
     },
     "metadata": {},
     "output_type": "display_data"
    },
    {
     "name": "stdout",
     "output_type": "stream",
     "text": [
      "Taking action:  0\n"
     ]
    },
    {
     "data": {
      "text/plain": [
       "array([ 1.60286162, -3.15831708, -2.40803573, -1.72489251])"
      ]
     },
     "metadata": {},
     "output_type": "display_data"
    },
    {
     "name": "stdout",
     "output_type": "stream",
     "text": [
      "Taking action:  0\n"
     ]
    },
    {
     "data": {
      "text/plain": [
       "array([-37.51690778, -42.10236907, -41.04916695, -39.51121972])"
      ]
     },
     "metadata": {},
     "output_type": "display_data"
    },
    {
     "name": "stdout",
     "output_type": "stream",
     "text": [
      "Taking action:  0\n"
     ]
    },
    {
     "data": {
      "text/plain": [
       "array([-31.12326383, -39.93197865, -36.46974206, -35.58607252])"
      ]
     },
     "metadata": {},
     "output_type": "display_data"
    },
    {
     "name": "stdout",
     "output_type": "stream",
     "text": [
      "Taking action:  0\n"
     ]
    },
    {
     "data": {
      "text/plain": [
       "array([-49.28398059, -53.78584028, -52.1490788 , -51.54368885])"
      ]
     },
     "metadata": {},
     "output_type": "display_data"
    },
    {
     "name": "stdout",
     "output_type": "stream",
     "text": [
      "Taking action:  0\n"
     ]
    },
    {
     "data": {
      "text/plain": [
       "array([-49.28398059, -53.78584028, -52.1490788 , -51.54368885])"
      ]
     },
     "metadata": {},
     "output_type": "display_data"
    },
    {
     "name": "stdout",
     "output_type": "stream",
     "text": [
      "Taking action:  0\n"
     ]
    },
    {
     "data": {
      "text/plain": [
       "array([-49.28398059, -53.78584028, -52.1490788 , -51.54368885])"
      ]
     },
     "metadata": {},
     "output_type": "display_data"
    },
    {
     "name": "stdout",
     "output_type": "stream",
     "text": [
      "Taking action:  0\n"
     ]
    },
    {
     "data": {
      "text/plain": [
       "array([-49.28398059, -53.78584028, -52.1490788 , -51.54368885])"
      ]
     },
     "metadata": {},
     "output_type": "display_data"
    },
    {
     "name": "stdout",
     "output_type": "stream",
     "text": [
      "Taking action:  0\n"
     ]
    },
    {
     "data": {
      "text/plain": [
       "array([-49.28398059, -53.78584028, -52.1490788 , -51.54368885])"
      ]
     },
     "metadata": {},
     "output_type": "display_data"
    },
    {
     "name": "stdout",
     "output_type": "stream",
     "text": [
      "Taking action:  0\n"
     ]
    },
    {
     "data": {
      "text/plain": [
       "array([-55.74259747, -52.23279483, -49.45680693, -51.46948089])"
      ]
     },
     "metadata": {},
     "output_type": "display_data"
    },
    {
     "name": "stdout",
     "output_type": "stream",
     "text": [
      "Taking action:  2\n"
     ]
    },
    {
     "data": {
      "text/plain": [
       "array([-52.40975487, -54.45798224, -53.605895  , -36.82452235])"
      ]
     },
     "metadata": {},
     "output_type": "display_data"
    },
    {
     "name": "stdout",
     "output_type": "stream",
     "text": [
      "Taking action:  3\n"
     ]
    },
    {
     "data": {
      "text/plain": [
       "array([0., 0., 0., 0.])"
      ]
     },
     "metadata": {},
     "output_type": "display_data"
    },
    {
     "name": "stdout",
     "output_type": "stream",
     "text": [
      "Taking action:  0\n"
     ]
    },
    {
     "data": {
      "text/plain": [
       "array([-38.36000495, -42.0521717 , -37.90973693, -32.62614516])"
      ]
     },
     "metadata": {},
     "output_type": "display_data"
    },
    {
     "name": "stdout",
     "output_type": "stream",
     "text": [
      "Taking action:  3\n"
     ]
    },
    {
     "data": {
      "text/plain": [
       "array([-41.94835894, -42.0019044 , -32.60740784, -38.00401392])"
      ]
     },
     "metadata": {},
     "output_type": "display_data"
    },
    {
     "name": "stdout",
     "output_type": "stream",
     "text": [
      "Taking action:  2\n"
     ]
    },
    {
     "data": {
      "text/plain": [
       "array([-11.69607781, -12.11978618,  -1.56002791,  -6.99473148])"
      ]
     },
     "metadata": {},
     "output_type": "display_data"
    },
    {
     "name": "stdout",
     "output_type": "stream",
     "text": [
      "Taking action:  2\n"
     ]
    },
    {
     "data": {
      "text/plain": [
       "array([-11.69607781, -12.11978618,  -1.56002791,  -6.99473148])"
      ]
     },
     "metadata": {},
     "output_type": "display_data"
    },
    {
     "name": "stdout",
     "output_type": "stream",
     "text": [
      "Taking action:  2\n"
     ]
    },
    {
     "data": {
      "text/plain": [
       "array([-11.69607781, -12.11978618,  -1.56002791,  -6.99473148])"
      ]
     },
     "metadata": {},
     "output_type": "display_data"
    },
    {
     "name": "stdout",
     "output_type": "stream",
     "text": [
      "Taking action:  2\n"
     ]
    },
    {
     "data": {
      "text/plain": [
       "array([-11.69607781, -12.11978618,  -1.56002791,  -6.99473148])"
      ]
     },
     "metadata": {},
     "output_type": "display_data"
    },
    {
     "name": "stdout",
     "output_type": "stream",
     "text": [
      "Taking action:  2\n"
     ]
    },
    {
     "data": {
      "text/plain": [
       "array([-11.69607781, -12.11978618,  -1.56002791,  -6.99473148])"
      ]
     },
     "metadata": {},
     "output_type": "display_data"
    },
    {
     "name": "stdout",
     "output_type": "stream",
     "text": [
      "Taking action:  2\n"
     ]
    },
    {
     "data": {
      "text/plain": [
       "array([-11.69607781, -12.11978618,  -1.56002791,  -6.99473148])"
      ]
     },
     "metadata": {},
     "output_type": "display_data"
    },
    {
     "name": "stdout",
     "output_type": "stream",
     "text": [
      "Taking action:  2\n"
     ]
    },
    {
     "data": {
      "text/plain": [
       "array([-11.69607781, -12.11978618,  -1.56002791,  -6.99473148])"
      ]
     },
     "metadata": {},
     "output_type": "display_data"
    },
    {
     "name": "stdout",
     "output_type": "stream",
     "text": [
      "Taking action:  2\n"
     ]
    },
    {
     "data": {
      "text/plain": [
       "array([0., 0., 0., 0.])"
      ]
     },
     "metadata": {},
     "output_type": "display_data"
    },
    {
     "name": "stdout",
     "output_type": "stream",
     "text": [
      "Taking action:  0\n"
     ]
    },
    {
     "data": {
      "text/plain": [
       "array([0., 0., 0., 0.])"
      ]
     },
     "metadata": {},
     "output_type": "display_data"
    },
    {
     "name": "stdout",
     "output_type": "stream",
     "text": [
      "Taking action:  0\n"
     ]
    },
    {
     "data": {
      "text/plain": [
       "array([ 0.        , -4.5009568 , -2.38166187, -7.50921112])"
      ]
     },
     "metadata": {},
     "output_type": "display_data"
    },
    {
     "name": "stdout",
     "output_type": "stream",
     "text": [
      "Taking action:  0\n"
     ]
    },
    {
     "data": {
      "text/plain": [
       "array([ 2.26909922,  1.48583373, -4.7533823 , -2.20731227])"
      ]
     },
     "metadata": {},
     "output_type": "display_data"
    },
    {
     "name": "stdout",
     "output_type": "stream",
     "text": [
      "Taking action:  0\n"
     ]
    },
    {
     "data": {
      "text/plain": [
       "array([ 2.26909922,  1.48583373, -4.7533823 , -2.20731227])"
      ]
     },
     "metadata": {},
     "output_type": "display_data"
    },
    {
     "name": "stdout",
     "output_type": "stream",
     "text": [
      "Taking action:  0\n"
     ]
    },
    {
     "data": {
      "text/plain": [
       "array([ 2.26909922,  1.48583373, -4.7533823 , -2.20731227])"
      ]
     },
     "metadata": {},
     "output_type": "display_data"
    },
    {
     "name": "stdout",
     "output_type": "stream",
     "text": [
      "Taking action:  0\n"
     ]
    },
    {
     "data": {
      "text/plain": [
       "array([ 2.26909922,  1.48583373, -4.7533823 , -2.20731227])"
      ]
     },
     "metadata": {},
     "output_type": "display_data"
    },
    {
     "name": "stdout",
     "output_type": "stream",
     "text": [
      "Taking action:  0\n"
     ]
    },
    {
     "data": {
      "text/plain": [
       "array([ 2.26909922,  1.48583373, -4.7533823 , -2.20731227])"
      ]
     },
     "metadata": {},
     "output_type": "display_data"
    },
    {
     "name": "stdout",
     "output_type": "stream",
     "text": [
      "Taking action:  0\n"
     ]
    },
    {
     "data": {
      "text/plain": [
       "array([-7.72616792,  2.20129975, -1.6334907 , -3.62813257])"
      ]
     },
     "metadata": {},
     "output_type": "display_data"
    },
    {
     "name": "stdout",
     "output_type": "stream",
     "text": [
      "Taking action:  1\n"
     ]
    },
    {
     "data": {
      "text/plain": [
       "array([-7.72616792,  2.20129975, -1.6334907 , -3.62813257])"
      ]
     },
     "metadata": {},
     "output_type": "display_data"
    },
    {
     "name": "stdout",
     "output_type": "stream",
     "text": [
      "Taking action:  1\n"
     ]
    },
    {
     "data": {
      "text/plain": [
       "array([-6.98701189,  1.89715054, -1.84678219, -2.56473191])"
      ]
     },
     "metadata": {},
     "output_type": "display_data"
    },
    {
     "name": "stdout",
     "output_type": "stream",
     "text": [
      "Taking action:  1\n"
     ]
    },
    {
     "data": {
      "text/plain": [
       "array([-7.72616792,  2.20129975, -1.6334907 , -3.62813257])"
      ]
     },
     "metadata": {},
     "output_type": "display_data"
    },
    {
     "name": "stdout",
     "output_type": "stream",
     "text": [
      "Taking action:  1\n"
     ]
    },
    {
     "data": {
      "text/plain": [
       "array([-7.72616792,  2.20129975, -1.6334907 , -3.62813257])"
      ]
     },
     "metadata": {},
     "output_type": "display_data"
    },
    {
     "name": "stdout",
     "output_type": "stream",
     "text": [
      "Taking action:  1\n"
     ]
    },
    {
     "data": {
      "text/plain": [
       "array([-7.72616792,  2.20129975, -1.6334907 , -3.62813257])"
      ]
     },
     "metadata": {},
     "output_type": "display_data"
    },
    {
     "name": "stdout",
     "output_type": "stream",
     "text": [
      "Taking action:  1\n"
     ]
    },
    {
     "data": {
      "text/plain": [
       "array([-7.72616792,  2.20129975, -1.6334907 , -3.62813257])"
      ]
     },
     "metadata": {},
     "output_type": "display_data"
    },
    {
     "name": "stdout",
     "output_type": "stream",
     "text": [
      "Taking action:  1\n"
     ]
    },
    {
     "data": {
      "text/plain": [
       "array([-7.72616792,  2.20129975, -1.6334907 , -3.62813257])"
      ]
     },
     "metadata": {},
     "output_type": "display_data"
    },
    {
     "name": "stdout",
     "output_type": "stream",
     "text": [
      "Taking action:  1\n"
     ]
    },
    {
     "data": {
      "text/plain": [
       "array([-6.45259195, -8.12935135,  2.50997791, -0.22524256])"
      ]
     },
     "metadata": {},
     "output_type": "display_data"
    },
    {
     "name": "stdout",
     "output_type": "stream",
     "text": [
      "Taking action:  2\n"
     ]
    },
    {
     "data": {
      "text/plain": [
       "array([-6.45259195, -8.12935135,  2.50997791, -0.22524256])"
      ]
     },
     "metadata": {},
     "output_type": "display_data"
    },
    {
     "name": "stdout",
     "output_type": "stream",
     "text": [
      "Taking action:  2\n"
     ]
    },
    {
     "data": {
      "text/plain": [
       "array([-7.23768312, -7.84439416,  2.88651498,  0.86524066])"
      ]
     },
     "metadata": {},
     "output_type": "display_data"
    },
    {
     "name": "stdout",
     "output_type": "stream",
     "text": [
      "Taking action:  2\n"
     ]
    },
    {
     "data": {
      "text/plain": [
       "array([-6.45259195, -8.12935135,  2.50997791, -0.22524256])"
      ]
     },
     "metadata": {},
     "output_type": "display_data"
    },
    {
     "name": "stdout",
     "output_type": "stream",
     "text": [
      "Taking action:  2\n"
     ]
    },
    {
     "data": {
      "text/plain": [
       "array([-6.45259195, -8.12935135,  2.50997791, -0.22524256])"
      ]
     },
     "metadata": {},
     "output_type": "display_data"
    },
    {
     "name": "stdout",
     "output_type": "stream",
     "text": [
      "Taking action:  2\n"
     ]
    },
    {
     "data": {
      "text/plain": [
       "array([-6.45259195, -8.12935135,  2.50997791, -0.22524256])"
      ]
     },
     "metadata": {},
     "output_type": "display_data"
    },
    {
     "name": "stdout",
     "output_type": "stream",
     "text": [
      "Taking action:  2\n"
     ]
    },
    {
     "data": {
      "text/plain": [
       "array([-6.45259195, -8.12935135,  2.50997791, -0.22524256])"
      ]
     },
     "metadata": {},
     "output_type": "display_data"
    },
    {
     "name": "stdout",
     "output_type": "stream",
     "text": [
      "Taking action:  2\n"
     ]
    },
    {
     "data": {
      "text/plain": [
       "array([-6.45259195, -8.12935135,  2.50997791, -0.22524256])"
      ]
     },
     "metadata": {},
     "output_type": "display_data"
    },
    {
     "name": "stdout",
     "output_type": "stream",
     "text": [
      "Taking action:  2\n"
     ]
    },
    {
     "data": {
      "text/plain": [
       "array([-6.45259195, -8.12935135,  2.50997791, -0.22524256])"
      ]
     },
     "metadata": {},
     "output_type": "display_data"
    },
    {
     "name": "stdout",
     "output_type": "stream",
     "text": [
      "Taking action:  2\n"
     ]
    },
    {
     "data": {
      "text/plain": [
       "array([-5.53660489, -3.89583461, -5.38589796,  5.02616134])"
      ]
     },
     "metadata": {},
     "output_type": "display_data"
    },
    {
     "name": "stdout",
     "output_type": "stream",
     "text": [
      "Taking action:  3\n"
     ]
    },
    {
     "data": {
      "text/plain": [
       "array([ 2.26909922,  1.48583373, -4.7533823 , -2.20731227])"
      ]
     },
     "metadata": {},
     "output_type": "display_data"
    },
    {
     "name": "stdout",
     "output_type": "stream",
     "text": [
      "Taking action:  0\n"
     ]
    },
    {
     "data": {
      "text/plain": [
       "array([ 1.75205434, -1.76591999, -3.94228941, -2.68528812])"
      ]
     },
     "metadata": {},
     "output_type": "display_data"
    },
    {
     "name": "stdout",
     "output_type": "stream",
     "text": [
      "Taking action:  0\n"
     ]
    },
    {
     "data": {
      "text/plain": [
       "array([ -2.54056479,  -9.92130341, -10.53680598,  -4.1981918 ])"
      ]
     },
     "metadata": {},
     "output_type": "display_data"
    },
    {
     "name": "stdout",
     "output_type": "stream",
     "text": [
      "Taking action:  0\n"
     ]
    },
    {
     "data": {
      "text/plain": [
       "array([ -2.54056479,  -9.92130341, -10.53680598,  -4.1981918 ])"
      ]
     },
     "metadata": {},
     "output_type": "display_data"
    },
    {
     "name": "stdout",
     "output_type": "stream",
     "text": [
      "Taking action:  0\n"
     ]
    },
    {
     "data": {
      "text/plain": [
       "array([ -2.54056479,  -9.92130341, -10.53680598,  -4.1981918 ])"
      ]
     },
     "metadata": {},
     "output_type": "display_data"
    },
    {
     "name": "stdout",
     "output_type": "stream",
     "text": [
      "Taking action:  0\n"
     ]
    },
    {
     "data": {
      "text/plain": [
       "array([ -2.54056479,  -9.92130341, -10.53680598,  -4.1981918 ])"
      ]
     },
     "metadata": {},
     "output_type": "display_data"
    },
    {
     "name": "stdout",
     "output_type": "stream",
     "text": [
      "Taking action:  0\n"
     ]
    },
    {
     "data": {
      "text/plain": [
       "array([ -2.54056479,  -9.92130341, -10.53680598,  -4.1981918 ])"
      ]
     },
     "metadata": {},
     "output_type": "display_data"
    },
    {
     "name": "stdout",
     "output_type": "stream",
     "text": [
      "Taking action:  0\n"
     ]
    },
    {
     "data": {
      "text/plain": [
       "array([ -2.54056479,  -9.92130341, -10.53680598,  -4.1981918 ])"
      ]
     },
     "metadata": {},
     "output_type": "display_data"
    },
    {
     "name": "stdout",
     "output_type": "stream",
     "text": [
      "Taking action:  0\n"
     ]
    },
    {
     "data": {
      "text/plain": [
       "array([-10.54801925, -12.09383424, -10.96403011,  -1.40558322])"
      ]
     },
     "metadata": {},
     "output_type": "display_data"
    },
    {
     "name": "stdout",
     "output_type": "stream",
     "text": [
      "Taking action:  3\n"
     ]
    },
    {
     "data": {
      "text/plain": [
       "array([-42.53299606, -42.33737032, -23.0617362 , -30.93118565])"
      ]
     },
     "metadata": {},
     "output_type": "display_data"
    },
    {
     "name": "stdout",
     "output_type": "stream",
     "text": [
      "Taking action:  2\n"
     ]
    },
    {
     "data": {
      "text/plain": [
       "array([-41.94835894, -42.0019044 , -32.60740784, -38.00401392])"
      ]
     },
     "metadata": {},
     "output_type": "display_data"
    },
    {
     "name": "stdout",
     "output_type": "stream",
     "text": [
      "Taking action:  2\n"
     ]
    },
    {
     "data": {
      "text/plain": [
       "array([-11.69607781, -12.11978618,  -1.56002791,  -6.99473148])"
      ]
     },
     "metadata": {},
     "output_type": "display_data"
    },
    {
     "name": "stdout",
     "output_type": "stream",
     "text": [
      "Taking action:  2\n"
     ]
    },
    {
     "data": {
      "text/plain": [
       "array([-11.69607781, -12.11978618,  -1.56002791,  -6.99473148])"
      ]
     },
     "metadata": {},
     "output_type": "display_data"
    },
    {
     "name": "stdout",
     "output_type": "stream",
     "text": [
      "Taking action:  2\n"
     ]
    },
    {
     "data": {
      "text/plain": [
       "array([-11.69607781, -12.11978618,  -1.56002791,  -6.99473148])"
      ]
     },
     "metadata": {},
     "output_type": "display_data"
    },
    {
     "name": "stdout",
     "output_type": "stream",
     "text": [
      "Taking action:  2\n"
     ]
    },
    {
     "data": {
      "text/plain": [
       "array([-11.69607781, -12.11978618,  -1.56002791,  -6.99473148])"
      ]
     },
     "metadata": {},
     "output_type": "display_data"
    },
    {
     "name": "stdout",
     "output_type": "stream",
     "text": [
      "Taking action:  2\n"
     ]
    },
    {
     "data": {
      "text/plain": [
       "array([-11.69607781, -12.11978618,  -1.56002791,  -6.99473148])"
      ]
     },
     "metadata": {},
     "output_type": "display_data"
    },
    {
     "name": "stdout",
     "output_type": "stream",
     "text": [
      "Taking action:  2\n"
     ]
    },
    {
     "data": {
      "text/plain": [
       "array([-11.69607781, -12.11978618,  -1.56002791,  -6.99473148])"
      ]
     },
     "metadata": {},
     "output_type": "display_data"
    },
    {
     "name": "stdout",
     "output_type": "stream",
     "text": [
      "Taking action:  2\n"
     ]
    },
    {
     "data": {
      "text/plain": [
       "array([-10.54801925, -12.09383424, -10.96403011,  -1.40558322])"
      ]
     },
     "metadata": {},
     "output_type": "display_data"
    },
    {
     "name": "stdout",
     "output_type": "stream",
     "text": [
      "Taking action:  3\n"
     ]
    },
    {
     "data": {
      "text/plain": [
       "array([ -2.54056479,  -9.92130341, -10.53680598,  -4.1981918 ])"
      ]
     },
     "metadata": {},
     "output_type": "display_data"
    },
    {
     "name": "stdout",
     "output_type": "stream",
     "text": [
      "Taking action:  0\n"
     ]
    },
    {
     "data": {
      "text/plain": [
       "array([ 1.60286162, -3.15831708, -2.40803573, -1.72489251])"
      ]
     },
     "metadata": {},
     "output_type": "display_data"
    },
    {
     "name": "stdout",
     "output_type": "stream",
     "text": [
      "Taking action:  0\n"
     ]
    },
    {
     "data": {
      "text/plain": [
       "array([ -2.54056479,  -9.92130341, -10.53680598,  -4.1981918 ])"
      ]
     },
     "metadata": {},
     "output_type": "display_data"
    },
    {
     "name": "stdout",
     "output_type": "stream",
     "text": [
      "Taking action:  0\n"
     ]
    },
    {
     "data": {
      "text/plain": [
       "array([ -2.54056479,  -9.92130341, -10.53680598,  -4.1981918 ])"
      ]
     },
     "metadata": {},
     "output_type": "display_data"
    },
    {
     "name": "stdout",
     "output_type": "stream",
     "text": [
      "Taking action:  0\n"
     ]
    },
    {
     "data": {
      "text/plain": [
       "array([ -2.54056479,  -9.92130341, -10.53680598,  -4.1981918 ])"
      ]
     },
     "metadata": {},
     "output_type": "display_data"
    },
    {
     "name": "stdout",
     "output_type": "stream",
     "text": [
      "Taking action:  0\n"
     ]
    },
    {
     "data": {
      "text/plain": [
       "array([ -2.54056479,  -9.92130341, -10.53680598,  -4.1981918 ])"
      ]
     },
     "metadata": {},
     "output_type": "display_data"
    },
    {
     "name": "stdout",
     "output_type": "stream",
     "text": [
      "Taking action:  0\n"
     ]
    },
    {
     "data": {
      "text/plain": [
       "array([ -2.54056479,  -9.92130341, -10.53680598,  -4.1981918 ])"
      ]
     },
     "metadata": {},
     "output_type": "display_data"
    },
    {
     "name": "stdout",
     "output_type": "stream",
     "text": [
      "Taking action:  0\n"
     ]
    },
    {
     "data": {
      "text/plain": [
       "array([ -2.54056479,  -9.92130341, -10.53680598,  -4.1981918 ])"
      ]
     },
     "metadata": {},
     "output_type": "display_data"
    },
    {
     "name": "stdout",
     "output_type": "stream",
     "text": [
      "Taking action:  0\n"
     ]
    },
    {
     "data": {
      "text/plain": [
       "array([-10.54801925, -12.09383424, -10.96403011,  -1.40558322])"
      ]
     },
     "metadata": {},
     "output_type": "display_data"
    },
    {
     "name": "stdout",
     "output_type": "stream",
     "text": [
      "Taking action:  3\n"
     ]
    },
    {
     "data": {
      "text/plain": [
       "array([-42.53299606, -42.33737032, -23.0617362 , -30.93118565])"
      ]
     },
     "metadata": {},
     "output_type": "display_data"
    },
    {
     "name": "stdout",
     "output_type": "stream",
     "text": [
      "Taking action:  2\n"
     ]
    },
    {
     "data": {
      "text/plain": [
       "array([-41.94835894, -42.0019044 , -32.60740784, -38.00401392])"
      ]
     },
     "metadata": {},
     "output_type": "display_data"
    },
    {
     "name": "stdout",
     "output_type": "stream",
     "text": [
      "Taking action:  2\n"
     ]
    },
    {
     "data": {
      "text/plain": [
       "array([-11.69607781, -12.11978618,  -1.56002791,  -6.99473148])"
      ]
     },
     "metadata": {},
     "output_type": "display_data"
    },
    {
     "name": "stdout",
     "output_type": "stream",
     "text": [
      "Taking action:  2\n"
     ]
    },
    {
     "data": {
      "text/plain": [
       "array([-11.69607781, -12.11978618,  -1.56002791,  -6.99473148])"
      ]
     },
     "metadata": {},
     "output_type": "display_data"
    },
    {
     "name": "stdout",
     "output_type": "stream",
     "text": [
      "Taking action:  2\n"
     ]
    },
    {
     "data": {
      "text/plain": [
       "array([-10.54801925, -12.09383424, -10.96403011,  -1.40558322])"
      ]
     },
     "metadata": {},
     "output_type": "display_data"
    },
    {
     "name": "stdout",
     "output_type": "stream",
     "text": [
      "Taking action:  3\n"
     ]
    },
    {
     "data": {
      "text/plain": [
       "array([ -2.54056479,  -9.92130341, -10.53680598,  -4.1981918 ])"
      ]
     },
     "metadata": {},
     "output_type": "display_data"
    },
    {
     "name": "stdout",
     "output_type": "stream",
     "text": [
      "Taking action:  0\n"
     ]
    },
    {
     "data": {
      "text/plain": [
       "array([ 1.75205434, -1.76591999, -3.94228941, -2.68528812])"
      ]
     },
     "metadata": {},
     "output_type": "display_data"
    },
    {
     "name": "stdout",
     "output_type": "stream",
     "text": [
      "Taking action:  0\n"
     ]
    },
    {
     "data": {
      "text/plain": [
       "array([ -2.54056479,  -9.92130341, -10.53680598,  -4.1981918 ])"
      ]
     },
     "metadata": {},
     "output_type": "display_data"
    },
    {
     "name": "stdout",
     "output_type": "stream",
     "text": [
      "Taking action:  0\n"
     ]
    },
    {
     "data": {
      "text/plain": [
       "array([ -2.54056479,  -9.92130341, -10.53680598,  -4.1981918 ])"
      ]
     },
     "metadata": {},
     "output_type": "display_data"
    },
    {
     "name": "stdout",
     "output_type": "stream",
     "text": [
      "Taking action:  0\n"
     ]
    },
    {
     "data": {
      "text/plain": [
       "array([-10.54801925, -12.09383424, -10.96403011,  -1.40558322])"
      ]
     },
     "metadata": {},
     "output_type": "display_data"
    },
    {
     "name": "stdout",
     "output_type": "stream",
     "text": [
      "Taking action:  3\n"
     ]
    },
    {
     "data": {
      "text/plain": [
       "array([-42.53299606, -42.33737032, -23.0617362 , -30.93118565])"
      ]
     },
     "metadata": {},
     "output_type": "display_data"
    },
    {
     "name": "stdout",
     "output_type": "stream",
     "text": [
      "Taking action:  2\n"
     ]
    },
    {
     "data": {
      "text/plain": [
       "array([-41.94835894, -42.0019044 , -32.60740784, -38.00401392])"
      ]
     },
     "metadata": {},
     "output_type": "display_data"
    },
    {
     "name": "stdout",
     "output_type": "stream",
     "text": [
      "Taking action:  2\n"
     ]
    },
    {
     "data": {
      "text/plain": [
       "array([-11.69607781, -12.11978618,  -1.56002791,  -6.99473148])"
      ]
     },
     "metadata": {},
     "output_type": "display_data"
    },
    {
     "name": "stdout",
     "output_type": "stream",
     "text": [
      "Taking action:  2\n"
     ]
    },
    {
     "data": {
      "text/plain": [
       "array([-11.69607781, -12.11978618,  -1.56002791,  -6.99473148])"
      ]
     },
     "metadata": {},
     "output_type": "display_data"
    },
    {
     "name": "stdout",
     "output_type": "stream",
     "text": [
      "Taking action:  2\n"
     ]
    },
    {
     "data": {
      "text/plain": [
       "array([-11.69607781, -12.11978618,  -1.56002791,  -6.99473148])"
      ]
     },
     "metadata": {},
     "output_type": "display_data"
    },
    {
     "name": "stdout",
     "output_type": "stream",
     "text": [
      "Taking action:  2\n"
     ]
    },
    {
     "data": {
      "text/plain": [
       "array([-8.14390473,  1.55118339, -1.26668582, -3.94611495])"
      ]
     },
     "metadata": {},
     "output_type": "display_data"
    },
    {
     "name": "stdout",
     "output_type": "stream",
     "text": [
      "Taking action:  1\n"
     ]
    },
    {
     "data": {
      "text/plain": [
       "array([-6.98701189,  1.89715054, -1.84678219, -2.56473191])"
      ]
     },
     "metadata": {},
     "output_type": "display_data"
    },
    {
     "name": "stdout",
     "output_type": "stream",
     "text": [
      "Taking action:  1\n"
     ]
    },
    {
     "data": {
      "text/plain": [
       "array([-11.69607781, -12.11978618,  -1.56002791,  -6.99473148])"
      ]
     },
     "metadata": {},
     "output_type": "display_data"
    },
    {
     "name": "stdout",
     "output_type": "stream",
     "text": [
      "Taking action:  2\n"
     ]
    },
    {
     "data": {
      "text/plain": [
       "array([-42.53299606, -42.33737032, -23.0617362 , -30.93118565])"
      ]
     },
     "metadata": {},
     "output_type": "display_data"
    },
    {
     "name": "stdout",
     "output_type": "stream",
     "text": [
      "Taking action:  2\n"
     ]
    },
    {
     "data": {
      "text/plain": [
       "array([-41.94835894, -42.0019044 , -32.60740784, -38.00401392])"
      ]
     },
     "metadata": {},
     "output_type": "display_data"
    },
    {
     "name": "stdout",
     "output_type": "stream",
     "text": [
      "Taking action:  2\n"
     ]
    },
    {
     "data": {
      "text/plain": [
       "array([-10.54801925, -12.09383424, -10.96403011,  -1.40558322])"
      ]
     },
     "metadata": {},
     "output_type": "display_data"
    },
    {
     "name": "stdout",
     "output_type": "stream",
     "text": [
      "Taking action:  3\n"
     ]
    },
    {
     "data": {
      "text/plain": [
       "array([ -2.54056479,  -9.92130341, -10.53680598,  -4.1981918 ])"
      ]
     },
     "metadata": {},
     "output_type": "display_data"
    },
    {
     "name": "stdout",
     "output_type": "stream",
     "text": [
      "Taking action:  0\n"
     ]
    },
    {
     "data": {
      "text/plain": [
       "array([ 1.60286162, -3.15831708, -2.40803573, -1.72489251])"
      ]
     },
     "metadata": {},
     "output_type": "display_data"
    },
    {
     "name": "stdout",
     "output_type": "stream",
     "text": [
      "Taking action:  0\n"
     ]
    },
    {
     "data": {
      "text/plain": [
       "array([-10.54801925, -12.09383424, -10.96403011,  -1.40558322])"
      ]
     },
     "metadata": {},
     "output_type": "display_data"
    },
    {
     "name": "stdout",
     "output_type": "stream",
     "text": [
      "Taking action:  3\n"
     ]
    },
    {
     "data": {
      "text/plain": [
       "array([-42.53299606, -42.33737032, -23.0617362 , -30.93118565])"
      ]
     },
     "metadata": {},
     "output_type": "display_data"
    },
    {
     "name": "stdout",
     "output_type": "stream",
     "text": [
      "Taking action:  2\n"
     ]
    },
    {
     "data": {
      "text/plain": [
       "array([-11.69607781, -12.11978618,  -1.56002791,  -6.99473148])"
      ]
     },
     "metadata": {},
     "output_type": "display_data"
    },
    {
     "name": "stdout",
     "output_type": "stream",
     "text": [
      "Taking action:  2\n"
     ]
    },
    {
     "data": {
      "text/plain": [
       "array([-10.54801925, -12.09383424, -10.96403011,  -1.40558322])"
      ]
     },
     "metadata": {},
     "output_type": "display_data"
    },
    {
     "name": "stdout",
     "output_type": "stream",
     "text": [
      "Taking action:  3\n"
     ]
    },
    {
     "data": {
      "text/plain": [
       "array([ -2.54056479,  -9.92130341, -10.53680598,  -4.1981918 ])"
      ]
     },
     "metadata": {},
     "output_type": "display_data"
    },
    {
     "name": "stdout",
     "output_type": "stream",
     "text": [
      "Taking action:  0\n"
     ]
    },
    {
     "data": {
      "text/plain": [
       "array([ 1.60286162, -3.15831708, -2.40803573, -1.72489251])"
      ]
     },
     "metadata": {},
     "output_type": "display_data"
    },
    {
     "name": "stdout",
     "output_type": "stream",
     "text": [
      "Taking action:  0\n"
     ]
    },
    {
     "data": {
      "text/plain": [
       "array([-37.51690778, -42.10236907, -41.04916695, -39.51121972])"
      ]
     },
     "metadata": {},
     "output_type": "display_data"
    },
    {
     "name": "stdout",
     "output_type": "stream",
     "text": [
      "Taking action:  0\n"
     ]
    },
    {
     "data": {
      "text/plain": [
       "array([-31.12326383, -39.93197865, -36.46974206, -35.58607252])"
      ]
     },
     "metadata": {},
     "output_type": "display_data"
    },
    {
     "name": "stdout",
     "output_type": "stream",
     "text": [
      "Taking action:  0\n"
     ]
    },
    {
     "data": {
      "text/plain": [
       "array([-49.28398059, -53.78584028, -52.1490788 , -51.54368885])"
      ]
     },
     "metadata": {},
     "output_type": "display_data"
    },
    {
     "name": "stdout",
     "output_type": "stream",
     "text": [
      "Taking action:  0\n"
     ]
    },
    {
     "data": {
      "text/plain": [
       "array([-49.28398059, -53.78584028, -52.1490788 , -51.54368885])"
      ]
     },
     "metadata": {},
     "output_type": "display_data"
    },
    {
     "name": "stdout",
     "output_type": "stream",
     "text": [
      "Taking action:  0\n"
     ]
    },
    {
     "data": {
      "text/plain": [
       "array([-49.28398059, -53.78584028, -52.1490788 , -51.54368885])"
      ]
     },
     "metadata": {},
     "output_type": "display_data"
    },
    {
     "name": "stdout",
     "output_type": "stream",
     "text": [
      "Taking action:  0\n"
     ]
    },
    {
     "data": {
      "text/plain": [
       "array([-49.28398059, -53.78584028, -52.1490788 , -51.54368885])"
      ]
     },
     "metadata": {},
     "output_type": "display_data"
    },
    {
     "name": "stdout",
     "output_type": "stream",
     "text": [
      "Taking action:  0\n"
     ]
    },
    {
     "data": {
      "text/plain": [
       "array([-49.28398059, -53.78584028, -52.1490788 , -51.54368885])"
      ]
     },
     "metadata": {},
     "output_type": "display_data"
    },
    {
     "name": "stdout",
     "output_type": "stream",
     "text": [
      "Taking action:  0\n"
     ]
    },
    {
     "data": {
      "text/plain": [
       "array([-55.74259747, -52.23279483, -49.45680693, -51.46948089])"
      ]
     },
     "metadata": {},
     "output_type": "display_data"
    },
    {
     "name": "stdout",
     "output_type": "stream",
     "text": [
      "Taking action:  2\n"
     ]
    },
    {
     "data": {
      "text/plain": [
       "array([-52.40975487, -54.45798224, -53.605895  , -36.82452235])"
      ]
     },
     "metadata": {},
     "output_type": "display_data"
    },
    {
     "name": "stdout",
     "output_type": "stream",
     "text": [
      "Taking action:  3\n"
     ]
    },
    {
     "data": {
      "text/plain": [
       "array([0., 0., 0., 0.])"
      ]
     },
     "metadata": {},
     "output_type": "display_data"
    },
    {
     "name": "stdout",
     "output_type": "stream",
     "text": [
      "Taking action:  0\n"
     ]
    },
    {
     "data": {
      "text/plain": [
       "array([-38.36000495, -42.0521717 , -37.90973693, -32.62614516])"
      ]
     },
     "metadata": {},
     "output_type": "display_data"
    },
    {
     "name": "stdout",
     "output_type": "stream",
     "text": [
      "Taking action:  3\n"
     ]
    },
    {
     "data": {
      "text/plain": [
       "array([-41.94835894, -42.0019044 , -32.60740784, -38.00401392])"
      ]
     },
     "metadata": {},
     "output_type": "display_data"
    },
    {
     "name": "stdout",
     "output_type": "stream",
     "text": [
      "Taking action:  2\n"
     ]
    },
    {
     "data": {
      "text/plain": [
       "array([-11.69607781, -12.11978618,  -1.56002791,  -6.99473148])"
      ]
     },
     "metadata": {},
     "output_type": "display_data"
    },
    {
     "name": "stdout",
     "output_type": "stream",
     "text": [
      "Taking action:  2\n"
     ]
    },
    {
     "data": {
      "text/plain": [
       "array([-11.69607781, -12.11978618,  -1.56002791,  -6.99473148])"
      ]
     },
     "metadata": {},
     "output_type": "display_data"
    },
    {
     "name": "stdout",
     "output_type": "stream",
     "text": [
      "Taking action:  2\n"
     ]
    },
    {
     "data": {
      "text/plain": [
       "array([-11.69607781, -12.11978618,  -1.56002791,  -6.99473148])"
      ]
     },
     "metadata": {},
     "output_type": "display_data"
    },
    {
     "name": "stdout",
     "output_type": "stream",
     "text": [
      "Taking action:  2\n"
     ]
    },
    {
     "data": {
      "text/plain": [
       "array([-11.69607781, -12.11978618,  -1.56002791,  -6.99473148])"
      ]
     },
     "metadata": {},
     "output_type": "display_data"
    },
    {
     "name": "stdout",
     "output_type": "stream",
     "text": [
      "Taking action:  2\n"
     ]
    },
    {
     "data": {
      "text/plain": [
       "array([-11.69607781, -12.11978618,  -1.56002791,  -6.99473148])"
      ]
     },
     "metadata": {},
     "output_type": "display_data"
    },
    {
     "name": "stdout",
     "output_type": "stream",
     "text": [
      "Taking action:  2\n"
     ]
    },
    {
     "data": {
      "text/plain": [
       "array([-11.69607781, -12.11978618,  -1.56002791,  -6.99473148])"
      ]
     },
     "metadata": {},
     "output_type": "display_data"
    },
    {
     "name": "stdout",
     "output_type": "stream",
     "text": [
      "Taking action:  2\n"
     ]
    },
    {
     "data": {
      "text/plain": [
       "array([-11.69607781, -12.11978618,  -1.56002791,  -6.99473148])"
      ]
     },
     "metadata": {},
     "output_type": "display_data"
    },
    {
     "name": "stdout",
     "output_type": "stream",
     "text": [
      "Taking action:  2\n"
     ]
    },
    {
     "data": {
      "text/plain": [
       "array([0., 0., 0., 0.])"
      ]
     },
     "metadata": {},
     "output_type": "display_data"
    },
    {
     "name": "stdout",
     "output_type": "stream",
     "text": [
      "Taking action:  0\n"
     ]
    },
    {
     "data": {
      "text/plain": [
       "array([0., 0., 0., 0.])"
      ]
     },
     "metadata": {},
     "output_type": "display_data"
    },
    {
     "name": "stdout",
     "output_type": "stream",
     "text": [
      "Taking action:  0\n"
     ]
    },
    {
     "data": {
      "text/plain": [
       "array([ 0.        , -4.5009568 , -2.38166187, -7.50921112])"
      ]
     },
     "metadata": {},
     "output_type": "display_data"
    },
    {
     "name": "stdout",
     "output_type": "stream",
     "text": [
      "Taking action:  0\n"
     ]
    },
    {
     "data": {
      "text/plain": [
       "array([ 2.26909922,  1.48583373, -4.7533823 , -2.20731227])"
      ]
     },
     "metadata": {},
     "output_type": "display_data"
    },
    {
     "name": "stdout",
     "output_type": "stream",
     "text": [
      "Taking action:  0\n"
     ]
    },
    {
     "data": {
      "text/plain": [
       "array([ 2.26909922,  1.48583373, -4.7533823 , -2.20731227])"
      ]
     },
     "metadata": {},
     "output_type": "display_data"
    },
    {
     "name": "stdout",
     "output_type": "stream",
     "text": [
      "Taking action:  0\n"
     ]
    },
    {
     "data": {
      "text/plain": [
       "array([ 2.26909922,  1.48583373, -4.7533823 , -2.20731227])"
      ]
     },
     "metadata": {},
     "output_type": "display_data"
    },
    {
     "name": "stdout",
     "output_type": "stream",
     "text": [
      "Taking action:  0\n"
     ]
    },
    {
     "data": {
      "text/plain": [
       "array([ 2.26909922,  1.48583373, -4.7533823 , -2.20731227])"
      ]
     },
     "metadata": {},
     "output_type": "display_data"
    },
    {
     "name": "stdout",
     "output_type": "stream",
     "text": [
      "Taking action:  0\n"
     ]
    },
    {
     "data": {
      "text/plain": [
       "array([ 2.26909922,  1.48583373, -4.7533823 , -2.20731227])"
      ]
     },
     "metadata": {},
     "output_type": "display_data"
    },
    {
     "name": "stdout",
     "output_type": "stream",
     "text": [
      "Taking action:  0\n"
     ]
    },
    {
     "data": {
      "text/plain": [
       "array([-7.72616792,  2.20129975, -1.6334907 , -3.62813257])"
      ]
     },
     "metadata": {},
     "output_type": "display_data"
    },
    {
     "name": "stdout",
     "output_type": "stream",
     "text": [
      "Taking action:  1\n"
     ]
    },
    {
     "data": {
      "text/plain": [
       "array([-7.72616792,  2.20129975, -1.6334907 , -3.62813257])"
      ]
     },
     "metadata": {},
     "output_type": "display_data"
    },
    {
     "name": "stdout",
     "output_type": "stream",
     "text": [
      "Taking action:  1\n"
     ]
    },
    {
     "data": {
      "text/plain": [
       "array([-6.98701189,  1.89715054, -1.84678219, -2.56473191])"
      ]
     },
     "metadata": {},
     "output_type": "display_data"
    },
    {
     "name": "stdout",
     "output_type": "stream",
     "text": [
      "Taking action:  1\n"
     ]
    },
    {
     "data": {
      "text/plain": [
       "array([-7.72616792,  2.20129975, -1.6334907 , -3.62813257])"
      ]
     },
     "metadata": {},
     "output_type": "display_data"
    },
    {
     "name": "stdout",
     "output_type": "stream",
     "text": [
      "Taking action:  1\n"
     ]
    },
    {
     "data": {
      "text/plain": [
       "array([-7.72616792,  2.20129975, -1.6334907 , -3.62813257])"
      ]
     },
     "metadata": {},
     "output_type": "display_data"
    },
    {
     "name": "stdout",
     "output_type": "stream",
     "text": [
      "Taking action:  1\n"
     ]
    },
    {
     "data": {
      "text/plain": [
       "array([-7.72616792,  2.20129975, -1.6334907 , -3.62813257])"
      ]
     },
     "metadata": {},
     "output_type": "display_data"
    },
    {
     "name": "stdout",
     "output_type": "stream",
     "text": [
      "Taking action:  1\n"
     ]
    },
    {
     "data": {
      "text/plain": [
       "array([-7.72616792,  2.20129975, -1.6334907 , -3.62813257])"
      ]
     },
     "metadata": {},
     "output_type": "display_data"
    },
    {
     "name": "stdout",
     "output_type": "stream",
     "text": [
      "Taking action:  1\n"
     ]
    },
    {
     "data": {
      "text/plain": [
       "array([-7.72616792,  2.20129975, -1.6334907 , -3.62813257])"
      ]
     },
     "metadata": {},
     "output_type": "display_data"
    },
    {
     "name": "stdout",
     "output_type": "stream",
     "text": [
      "Taking action:  1\n"
     ]
    },
    {
     "data": {
      "text/plain": [
       "array([-6.45259195, -8.12935135,  2.50997791, -0.22524256])"
      ]
     },
     "metadata": {},
     "output_type": "display_data"
    },
    {
     "name": "stdout",
     "output_type": "stream",
     "text": [
      "Taking action:  2\n"
     ]
    },
    {
     "data": {
      "text/plain": [
       "array([-6.45259195, -8.12935135,  2.50997791, -0.22524256])"
      ]
     },
     "metadata": {},
     "output_type": "display_data"
    },
    {
     "name": "stdout",
     "output_type": "stream",
     "text": [
      "Taking action:  2\n"
     ]
    },
    {
     "data": {
      "text/plain": [
       "array([-7.23768312, -7.84439416,  2.88651498,  0.86524066])"
      ]
     },
     "metadata": {},
     "output_type": "display_data"
    },
    {
     "name": "stdout",
     "output_type": "stream",
     "text": [
      "Taking action:  2\n"
     ]
    },
    {
     "data": {
      "text/plain": [
       "array([-6.45259195, -8.12935135,  2.50997791, -0.22524256])"
      ]
     },
     "metadata": {},
     "output_type": "display_data"
    },
    {
     "name": "stdout",
     "output_type": "stream",
     "text": [
      "Taking action:  2\n"
     ]
    },
    {
     "data": {
      "text/plain": [
       "array([-6.45259195, -8.12935135,  2.50997791, -0.22524256])"
      ]
     },
     "metadata": {},
     "output_type": "display_data"
    },
    {
     "name": "stdout",
     "output_type": "stream",
     "text": [
      "Taking action:  2\n"
     ]
    },
    {
     "data": {
      "text/plain": [
       "array([-6.45259195, -8.12935135,  2.50997791, -0.22524256])"
      ]
     },
     "metadata": {},
     "output_type": "display_data"
    },
    {
     "name": "stdout",
     "output_type": "stream",
     "text": [
      "Taking action:  2\n"
     ]
    },
    {
     "data": {
      "text/plain": [
       "array([-6.45259195, -8.12935135,  2.50997791, -0.22524256])"
      ]
     },
     "metadata": {},
     "output_type": "display_data"
    },
    {
     "name": "stdout",
     "output_type": "stream",
     "text": [
      "Taking action:  2\n"
     ]
    },
    {
     "data": {
      "text/plain": [
       "array([-6.45259195, -8.12935135,  2.50997791, -0.22524256])"
      ]
     },
     "metadata": {},
     "output_type": "display_data"
    },
    {
     "name": "stdout",
     "output_type": "stream",
     "text": [
      "Taking action:  2\n"
     ]
    },
    {
     "data": {
      "text/plain": [
       "array([-6.45259195, -8.12935135,  2.50997791, -0.22524256])"
      ]
     },
     "metadata": {},
     "output_type": "display_data"
    },
    {
     "name": "stdout",
     "output_type": "stream",
     "text": [
      "Taking action:  2\n"
     ]
    },
    {
     "data": {
      "text/plain": [
       "array([-5.53660489, -3.89583461, -5.38589796,  5.02616134])"
      ]
     },
     "metadata": {},
     "output_type": "display_data"
    },
    {
     "name": "stdout",
     "output_type": "stream",
     "text": [
      "Taking action:  3\n"
     ]
    },
    {
     "data": {
      "text/plain": [
       "array([ 2.26909922,  1.48583373, -4.7533823 , -2.20731227])"
      ]
     },
     "metadata": {},
     "output_type": "display_data"
    },
    {
     "name": "stdout",
     "output_type": "stream",
     "text": [
      "Taking action:  0\n"
     ]
    },
    {
     "data": {
      "text/plain": [
       "array([ 1.75205434, -1.76591999, -3.94228941, -2.68528812])"
      ]
     },
     "metadata": {},
     "output_type": "display_data"
    },
    {
     "name": "stdout",
     "output_type": "stream",
     "text": [
      "Taking action:  0\n"
     ]
    },
    {
     "data": {
      "text/plain": [
       "array([ -2.54056479,  -9.92130341, -10.53680598,  -4.1981918 ])"
      ]
     },
     "metadata": {},
     "output_type": "display_data"
    },
    {
     "name": "stdout",
     "output_type": "stream",
     "text": [
      "Taking action:  0\n"
     ]
    },
    {
     "data": {
      "text/plain": [
       "array([ -2.54056479,  -9.92130341, -10.53680598,  -4.1981918 ])"
      ]
     },
     "metadata": {},
     "output_type": "display_data"
    },
    {
     "name": "stdout",
     "output_type": "stream",
     "text": [
      "Taking action:  0\n"
     ]
    },
    {
     "data": {
      "text/plain": [
       "array([ -2.54056479,  -9.92130341, -10.53680598,  -4.1981918 ])"
      ]
     },
     "metadata": {},
     "output_type": "display_data"
    },
    {
     "name": "stdout",
     "output_type": "stream",
     "text": [
      "Taking action:  0\n"
     ]
    },
    {
     "data": {
      "text/plain": [
       "array([ -2.54056479,  -9.92130341, -10.53680598,  -4.1981918 ])"
      ]
     },
     "metadata": {},
     "output_type": "display_data"
    },
    {
     "name": "stdout",
     "output_type": "stream",
     "text": [
      "Taking action:  0\n"
     ]
    },
    {
     "data": {
      "text/plain": [
       "array([ -2.54056479,  -9.92130341, -10.53680598,  -4.1981918 ])"
      ]
     },
     "metadata": {},
     "output_type": "display_data"
    },
    {
     "name": "stdout",
     "output_type": "stream",
     "text": [
      "Taking action:  0\n"
     ]
    },
    {
     "data": {
      "text/plain": [
       "array([ -2.54056479,  -9.92130341, -10.53680598,  -4.1981918 ])"
      ]
     },
     "metadata": {},
     "output_type": "display_data"
    },
    {
     "name": "stdout",
     "output_type": "stream",
     "text": [
      "Taking action:  0\n"
     ]
    },
    {
     "data": {
      "text/plain": [
       "array([-10.54801925, -12.09383424, -10.96403011,  -1.40558322])"
      ]
     },
     "metadata": {},
     "output_type": "display_data"
    },
    {
     "name": "stdout",
     "output_type": "stream",
     "text": [
      "Taking action:  3\n"
     ]
    },
    {
     "data": {
      "text/plain": [
       "array([-42.53299606, -42.33737032, -23.0617362 , -30.93118565])"
      ]
     },
     "metadata": {},
     "output_type": "display_data"
    },
    {
     "name": "stdout",
     "output_type": "stream",
     "text": [
      "Taking action:  2\n"
     ]
    },
    {
     "data": {
      "text/plain": [
       "array([-41.94835894, -42.0019044 , -32.60740784, -38.00401392])"
      ]
     },
     "metadata": {},
     "output_type": "display_data"
    },
    {
     "name": "stdout",
     "output_type": "stream",
     "text": [
      "Taking action:  2\n"
     ]
    },
    {
     "data": {
      "text/plain": [
       "array([-11.69607781, -12.11978618,  -1.56002791,  -6.99473148])"
      ]
     },
     "metadata": {},
     "output_type": "display_data"
    },
    {
     "name": "stdout",
     "output_type": "stream",
     "text": [
      "Taking action:  2\n"
     ]
    },
    {
     "data": {
      "text/plain": [
       "array([-11.69607781, -12.11978618,  -1.56002791,  -6.99473148])"
      ]
     },
     "metadata": {},
     "output_type": "display_data"
    },
    {
     "name": "stdout",
     "output_type": "stream",
     "text": [
      "Taking action:  2\n"
     ]
    },
    {
     "data": {
      "text/plain": [
       "array([-11.69607781, -12.11978618,  -1.56002791,  -6.99473148])"
      ]
     },
     "metadata": {},
     "output_type": "display_data"
    },
    {
     "name": "stdout",
     "output_type": "stream",
     "text": [
      "Taking action:  2\n"
     ]
    },
    {
     "data": {
      "text/plain": [
       "array([-11.69607781, -12.11978618,  -1.56002791,  -6.99473148])"
      ]
     },
     "metadata": {},
     "output_type": "display_data"
    },
    {
     "name": "stdout",
     "output_type": "stream",
     "text": [
      "Taking action:  2\n"
     ]
    },
    {
     "data": {
      "text/plain": [
       "array([-11.69607781, -12.11978618,  -1.56002791,  -6.99473148])"
      ]
     },
     "metadata": {},
     "output_type": "display_data"
    },
    {
     "name": "stdout",
     "output_type": "stream",
     "text": [
      "Taking action:  2\n"
     ]
    },
    {
     "data": {
      "text/plain": [
       "array([-11.69607781, -12.11978618,  -1.56002791,  -6.99473148])"
      ]
     },
     "metadata": {},
     "output_type": "display_data"
    },
    {
     "name": "stdout",
     "output_type": "stream",
     "text": [
      "Taking action:  2\n"
     ]
    },
    {
     "data": {
      "text/plain": [
       "array([-10.54801925, -12.09383424, -10.96403011,  -1.40558322])"
      ]
     },
     "metadata": {},
     "output_type": "display_data"
    },
    {
     "name": "stdout",
     "output_type": "stream",
     "text": [
      "Taking action:  3\n"
     ]
    },
    {
     "data": {
      "text/plain": [
       "array([ -2.54056479,  -9.92130341, -10.53680598,  -4.1981918 ])"
      ]
     },
     "metadata": {},
     "output_type": "display_data"
    },
    {
     "name": "stdout",
     "output_type": "stream",
     "text": [
      "Taking action:  0\n"
     ]
    },
    {
     "data": {
      "text/plain": [
       "array([ 1.60286162, -3.15831708, -2.40803573, -1.72489251])"
      ]
     },
     "metadata": {},
     "output_type": "display_data"
    },
    {
     "name": "stdout",
     "output_type": "stream",
     "text": [
      "Taking action:  0\n"
     ]
    },
    {
     "data": {
      "text/plain": [
       "array([ -2.54056479,  -9.92130341, -10.53680598,  -4.1981918 ])"
      ]
     },
     "metadata": {},
     "output_type": "display_data"
    },
    {
     "name": "stdout",
     "output_type": "stream",
     "text": [
      "Taking action:  0\n"
     ]
    },
    {
     "data": {
      "text/plain": [
       "array([ -2.54056479,  -9.92130341, -10.53680598,  -4.1981918 ])"
      ]
     },
     "metadata": {},
     "output_type": "display_data"
    },
    {
     "name": "stdout",
     "output_type": "stream",
     "text": [
      "Taking action:  0\n"
     ]
    },
    {
     "data": {
      "text/plain": [
       "array([ -2.54056479,  -9.92130341, -10.53680598,  -4.1981918 ])"
      ]
     },
     "metadata": {},
     "output_type": "display_data"
    },
    {
     "name": "stdout",
     "output_type": "stream",
     "text": [
      "Taking action:  0\n"
     ]
    },
    {
     "data": {
      "text/plain": [
       "array([ -2.54056479,  -9.92130341, -10.53680598,  -4.1981918 ])"
      ]
     },
     "metadata": {},
     "output_type": "display_data"
    },
    {
     "name": "stdout",
     "output_type": "stream",
     "text": [
      "Taking action:  0\n"
     ]
    },
    {
     "data": {
      "text/plain": [
       "array([ -2.54056479,  -9.92130341, -10.53680598,  -4.1981918 ])"
      ]
     },
     "metadata": {},
     "output_type": "display_data"
    },
    {
     "name": "stdout",
     "output_type": "stream",
     "text": [
      "Taking action:  0\n"
     ]
    },
    {
     "data": {
      "text/plain": [
       "array([ -2.54056479,  -9.92130341, -10.53680598,  -4.1981918 ])"
      ]
     },
     "metadata": {},
     "output_type": "display_data"
    },
    {
     "name": "stdout",
     "output_type": "stream",
     "text": [
      "Taking action:  0\n"
     ]
    },
    {
     "data": {
      "text/plain": [
       "array([-10.54801925, -12.09383424, -10.96403011,  -1.40558322])"
      ]
     },
     "metadata": {},
     "output_type": "display_data"
    },
    {
     "name": "stdout",
     "output_type": "stream",
     "text": [
      "Taking action:  3\n"
     ]
    },
    {
     "data": {
      "text/plain": [
       "array([-42.53299606, -42.33737032, -23.0617362 , -30.93118565])"
      ]
     },
     "metadata": {},
     "output_type": "display_data"
    },
    {
     "name": "stdout",
     "output_type": "stream",
     "text": [
      "Taking action:  2\n"
     ]
    },
    {
     "data": {
      "text/plain": [
       "array([-41.94835894, -42.0019044 , -32.60740784, -38.00401392])"
      ]
     },
     "metadata": {},
     "output_type": "display_data"
    },
    {
     "name": "stdout",
     "output_type": "stream",
     "text": [
      "Taking action:  2\n"
     ]
    },
    {
     "data": {
      "text/plain": [
       "array([-11.69607781, -12.11978618,  -1.56002791,  -6.99473148])"
      ]
     },
     "metadata": {},
     "output_type": "display_data"
    },
    {
     "name": "stdout",
     "output_type": "stream",
     "text": [
      "Taking action:  2\n"
     ]
    },
    {
     "data": {
      "text/plain": [
       "array([-11.69607781, -12.11978618,  -1.56002791,  -6.99473148])"
      ]
     },
     "metadata": {},
     "output_type": "display_data"
    },
    {
     "name": "stdout",
     "output_type": "stream",
     "text": [
      "Taking action:  2\n"
     ]
    },
    {
     "data": {
      "text/plain": [
       "array([-10.54801925, -12.09383424, -10.96403011,  -1.40558322])"
      ]
     },
     "metadata": {},
     "output_type": "display_data"
    },
    {
     "name": "stdout",
     "output_type": "stream",
     "text": [
      "Taking action:  3\n"
     ]
    },
    {
     "data": {
      "text/plain": [
       "array([ -2.54056479,  -9.92130341, -10.53680598,  -4.1981918 ])"
      ]
     },
     "metadata": {},
     "output_type": "display_data"
    },
    {
     "name": "stdout",
     "output_type": "stream",
     "text": [
      "Taking action:  0\n"
     ]
    },
    {
     "data": {
      "text/plain": [
       "array([ 1.75205434, -1.76591999, -3.94228941, -2.68528812])"
      ]
     },
     "metadata": {},
     "output_type": "display_data"
    },
    {
     "name": "stdout",
     "output_type": "stream",
     "text": [
      "Taking action:  0\n"
     ]
    },
    {
     "data": {
      "text/plain": [
       "array([ -2.54056479,  -9.92130341, -10.53680598,  -4.1981918 ])"
      ]
     },
     "metadata": {},
     "output_type": "display_data"
    },
    {
     "name": "stdout",
     "output_type": "stream",
     "text": [
      "Taking action:  0\n"
     ]
    },
    {
     "data": {
      "text/plain": [
       "array([ -2.54056479,  -9.92130341, -10.53680598,  -4.1981918 ])"
      ]
     },
     "metadata": {},
     "output_type": "display_data"
    },
    {
     "name": "stdout",
     "output_type": "stream",
     "text": [
      "Taking action:  0\n"
     ]
    },
    {
     "data": {
      "text/plain": [
       "array([-10.54801925, -12.09383424, -10.96403011,  -1.40558322])"
      ]
     },
     "metadata": {},
     "output_type": "display_data"
    },
    {
     "name": "stdout",
     "output_type": "stream",
     "text": [
      "Taking action:  3\n"
     ]
    },
    {
     "data": {
      "text/plain": [
       "array([-42.53299606, -42.33737032, -23.0617362 , -30.93118565])"
      ]
     },
     "metadata": {},
     "output_type": "display_data"
    },
    {
     "name": "stdout",
     "output_type": "stream",
     "text": [
      "Taking action:  2\n"
     ]
    },
    {
     "data": {
      "text/plain": [
       "array([-41.94835894, -42.0019044 , -32.60740784, -38.00401392])"
      ]
     },
     "metadata": {},
     "output_type": "display_data"
    },
    {
     "name": "stdout",
     "output_type": "stream",
     "text": [
      "Taking action:  2\n"
     ]
    },
    {
     "data": {
      "text/plain": [
       "array([-11.69607781, -12.11978618,  -1.56002791,  -6.99473148])"
      ]
     },
     "metadata": {},
     "output_type": "display_data"
    },
    {
     "name": "stdout",
     "output_type": "stream",
     "text": [
      "Taking action:  2\n"
     ]
    },
    {
     "data": {
      "text/plain": [
       "array([-11.69607781, -12.11978618,  -1.56002791,  -6.99473148])"
      ]
     },
     "metadata": {},
     "output_type": "display_data"
    },
    {
     "name": "stdout",
     "output_type": "stream",
     "text": [
      "Taking action:  2\n"
     ]
    },
    {
     "data": {
      "text/plain": [
       "array([-11.69607781, -12.11978618,  -1.56002791,  -6.99473148])"
      ]
     },
     "metadata": {},
     "output_type": "display_data"
    },
    {
     "name": "stdout",
     "output_type": "stream",
     "text": [
      "Taking action:  2\n"
     ]
    },
    {
     "data": {
      "text/plain": [
       "array([-8.14390473,  1.55118339, -1.26668582, -3.94611495])"
      ]
     },
     "metadata": {},
     "output_type": "display_data"
    },
    {
     "name": "stdout",
     "output_type": "stream",
     "text": [
      "Taking action:  1\n"
     ]
    },
    {
     "data": {
      "text/plain": [
       "array([-6.98701189,  1.89715054, -1.84678219, -2.56473191])"
      ]
     },
     "metadata": {},
     "output_type": "display_data"
    },
    {
     "name": "stdout",
     "output_type": "stream",
     "text": [
      "Taking action:  1\n"
     ]
    },
    {
     "data": {
      "text/plain": [
       "array([-11.69607781, -12.11978618,  -1.56002791,  -6.99473148])"
      ]
     },
     "metadata": {},
     "output_type": "display_data"
    },
    {
     "name": "stdout",
     "output_type": "stream",
     "text": [
      "Taking action:  2\n"
     ]
    },
    {
     "data": {
      "text/plain": [
       "array([-42.53299606, -42.33737032, -23.0617362 , -30.93118565])"
      ]
     },
     "metadata": {},
     "output_type": "display_data"
    },
    {
     "name": "stdout",
     "output_type": "stream",
     "text": [
      "Taking action:  2\n"
     ]
    },
    {
     "data": {
      "text/plain": [
       "array([-41.94835894, -42.0019044 , -32.60740784, -38.00401392])"
      ]
     },
     "metadata": {},
     "output_type": "display_data"
    },
    {
     "name": "stdout",
     "output_type": "stream",
     "text": [
      "Taking action:  2\n"
     ]
    },
    {
     "data": {
      "text/plain": [
       "array([-10.54801925, -12.09383424, -10.96403011,  -1.40558322])"
      ]
     },
     "metadata": {},
     "output_type": "display_data"
    },
    {
     "name": "stdout",
     "output_type": "stream",
     "text": [
      "Taking action:  3\n"
     ]
    },
    {
     "data": {
      "text/plain": [
       "array([ -2.54056479,  -9.92130341, -10.53680598,  -4.1981918 ])"
      ]
     },
     "metadata": {},
     "output_type": "display_data"
    },
    {
     "name": "stdout",
     "output_type": "stream",
     "text": [
      "Taking action:  0\n"
     ]
    },
    {
     "data": {
      "text/plain": [
       "array([ 1.60286162, -3.15831708, -2.40803573, -1.72489251])"
      ]
     },
     "metadata": {},
     "output_type": "display_data"
    },
    {
     "name": "stdout",
     "output_type": "stream",
     "text": [
      "Taking action:  0\n"
     ]
    },
    {
     "data": {
      "text/plain": [
       "array([-10.54801925, -12.09383424, -10.96403011,  -1.40558322])"
      ]
     },
     "metadata": {},
     "output_type": "display_data"
    },
    {
     "name": "stdout",
     "output_type": "stream",
     "text": [
      "Taking action:  3\n"
     ]
    },
    {
     "data": {
      "text/plain": [
       "array([-42.53299606, -42.33737032, -23.0617362 , -30.93118565])"
      ]
     },
     "metadata": {},
     "output_type": "display_data"
    },
    {
     "name": "stdout",
     "output_type": "stream",
     "text": [
      "Taking action:  2\n"
     ]
    },
    {
     "data": {
      "text/plain": [
       "array([-11.69607781, -12.11978618,  -1.56002791,  -6.99473148])"
      ]
     },
     "metadata": {},
     "output_type": "display_data"
    },
    {
     "name": "stdout",
     "output_type": "stream",
     "text": [
      "Taking action:  2\n"
     ]
    },
    {
     "data": {
      "text/plain": [
       "array([-10.54801925, -12.09383424, -10.96403011,  -1.40558322])"
      ]
     },
     "metadata": {},
     "output_type": "display_data"
    },
    {
     "name": "stdout",
     "output_type": "stream",
     "text": [
      "Taking action:  3\n"
     ]
    },
    {
     "data": {
      "text/plain": [
       "array([ -2.54056479,  -9.92130341, -10.53680598,  -4.1981918 ])"
      ]
     },
     "metadata": {},
     "output_type": "display_data"
    },
    {
     "name": "stdout",
     "output_type": "stream",
     "text": [
      "Taking action:  0\n"
     ]
    },
    {
     "data": {
      "text/plain": [
       "array([ 1.60286162, -3.15831708, -2.40803573, -1.72489251])"
      ]
     },
     "metadata": {},
     "output_type": "display_data"
    },
    {
     "name": "stdout",
     "output_type": "stream",
     "text": [
      "Taking action:  0\n"
     ]
    },
    {
     "data": {
      "text/plain": [
       "array([-37.51690778, -42.10236907, -41.04916695, -39.51121972])"
      ]
     },
     "metadata": {},
     "output_type": "display_data"
    },
    {
     "name": "stdout",
     "output_type": "stream",
     "text": [
      "Taking action:  0\n"
     ]
    },
    {
     "data": {
      "text/plain": [
       "array([-31.12326383, -39.93197865, -36.46974206, -35.58607252])"
      ]
     },
     "metadata": {},
     "output_type": "display_data"
    },
    {
     "name": "stdout",
     "output_type": "stream",
     "text": [
      "Taking action:  0\n"
     ]
    },
    {
     "data": {
      "text/plain": [
       "array([-49.28398059, -53.78584028, -52.1490788 , -51.54368885])"
      ]
     },
     "metadata": {},
     "output_type": "display_data"
    },
    {
     "name": "stdout",
     "output_type": "stream",
     "text": [
      "Taking action:  0\n"
     ]
    },
    {
     "data": {
      "text/plain": [
       "array([-49.28398059, -53.78584028, -52.1490788 , -51.54368885])"
      ]
     },
     "metadata": {},
     "output_type": "display_data"
    },
    {
     "name": "stdout",
     "output_type": "stream",
     "text": [
      "Taking action:  0\n"
     ]
    },
    {
     "data": {
      "text/plain": [
       "array([-49.28398059, -53.78584028, -52.1490788 , -51.54368885])"
      ]
     },
     "metadata": {},
     "output_type": "display_data"
    },
    {
     "name": "stdout",
     "output_type": "stream",
     "text": [
      "Taking action:  0\n"
     ]
    },
    {
     "data": {
      "text/plain": [
       "array([-49.28398059, -53.78584028, -52.1490788 , -51.54368885])"
      ]
     },
     "metadata": {},
     "output_type": "display_data"
    },
    {
     "name": "stdout",
     "output_type": "stream",
     "text": [
      "Taking action:  0\n"
     ]
    },
    {
     "data": {
      "text/plain": [
       "array([-49.28398059, -53.78584028, -52.1490788 , -51.54368885])"
      ]
     },
     "metadata": {},
     "output_type": "display_data"
    },
    {
     "name": "stdout",
     "output_type": "stream",
     "text": [
      "Taking action:  0\n"
     ]
    },
    {
     "data": {
      "text/plain": [
       "array([-55.74259747, -52.23279483, -49.45680693, -51.46948089])"
      ]
     },
     "metadata": {},
     "output_type": "display_data"
    },
    {
     "name": "stdout",
     "output_type": "stream",
     "text": [
      "Taking action:  2\n"
     ]
    },
    {
     "data": {
      "text/plain": [
       "array([-52.40975487, -54.45798224, -53.605895  , -36.82452235])"
      ]
     },
     "metadata": {},
     "output_type": "display_data"
    },
    {
     "name": "stdout",
     "output_type": "stream",
     "text": [
      "Taking action:  3\n"
     ]
    },
    {
     "data": {
      "text/plain": [
       "array([0., 0., 0., 0.])"
      ]
     },
     "metadata": {},
     "output_type": "display_data"
    },
    {
     "name": "stdout",
     "output_type": "stream",
     "text": [
      "Taking action:  0\n"
     ]
    },
    {
     "data": {
      "text/plain": [
       "array([-38.36000495, -42.0521717 , -37.90973693, -32.62614516])"
      ]
     },
     "metadata": {},
     "output_type": "display_data"
    },
    {
     "name": "stdout",
     "output_type": "stream",
     "text": [
      "Taking action:  3\n"
     ]
    },
    {
     "data": {
      "text/plain": [
       "array([-41.94835894, -42.0019044 , -32.60740784, -38.00401392])"
      ]
     },
     "metadata": {},
     "output_type": "display_data"
    },
    {
     "name": "stdout",
     "output_type": "stream",
     "text": [
      "Taking action:  2\n"
     ]
    },
    {
     "data": {
      "text/plain": [
       "array([-11.69607781, -12.11978618,  -1.56002791,  -6.99473148])"
      ]
     },
     "metadata": {},
     "output_type": "display_data"
    },
    {
     "name": "stdout",
     "output_type": "stream",
     "text": [
      "Taking action:  2\n"
     ]
    },
    {
     "data": {
      "text/plain": [
       "array([-11.69607781, -12.11978618,  -1.56002791,  -6.99473148])"
      ]
     },
     "metadata": {},
     "output_type": "display_data"
    },
    {
     "name": "stdout",
     "output_type": "stream",
     "text": [
      "Taking action:  2\n"
     ]
    },
    {
     "data": {
      "text/plain": [
       "array([-11.69607781, -12.11978618,  -1.56002791,  -6.99473148])"
      ]
     },
     "metadata": {},
     "output_type": "display_data"
    },
    {
     "name": "stdout",
     "output_type": "stream",
     "text": [
      "Taking action:  2\n"
     ]
    },
    {
     "data": {
      "text/plain": [
       "array([-11.69607781, -12.11978618,  -1.56002791,  -6.99473148])"
      ]
     },
     "metadata": {},
     "output_type": "display_data"
    },
    {
     "name": "stdout",
     "output_type": "stream",
     "text": [
      "Taking action:  2\n"
     ]
    },
    {
     "data": {
      "text/plain": [
       "array([-11.69607781, -12.11978618,  -1.56002791,  -6.99473148])"
      ]
     },
     "metadata": {},
     "output_type": "display_data"
    },
    {
     "name": "stdout",
     "output_type": "stream",
     "text": [
      "Taking action:  2\n"
     ]
    },
    {
     "data": {
      "text/plain": [
       "array([-11.69607781, -12.11978618,  -1.56002791,  -6.99473148])"
      ]
     },
     "metadata": {},
     "output_type": "display_data"
    },
    {
     "name": "stdout",
     "output_type": "stream",
     "text": [
      "Taking action:  2\n"
     ]
    },
    {
     "data": {
      "text/plain": [
       "array([-11.69607781, -12.11978618,  -1.56002791,  -6.99473148])"
      ]
     },
     "metadata": {},
     "output_type": "display_data"
    },
    {
     "name": "stdout",
     "output_type": "stream",
     "text": [
      "Taking action:  2\n"
     ]
    },
    {
     "data": {
      "image/png": "[encoded data removed]",
      "text/plain": [
       "<Figure size 640x480 with 1 Axes>"
      ]
     },
     "metadata": {},
     "output_type": "display_data"
    },
    {
     "data": {
      "image/png": "[encoded data removed]",
      "text/plain": [
       "<Figure size 640x480 with 1 Axes>"
      ]
     },
     "metadata": {},
     "output_type": "display_data"
    },
    {
     "data": {
      "image/png": "[encoded data removed]",
      "text/plain": [
       "<Figure size 640x480 with 1 Axes>"
      ]
     },
     "metadata": {},
     "output_type": "display_data"
    }
   ],
   "source": [
    "display(\"Q-table\", pd.DataFrame(agent.q_values))\n",
    "swarm1.evaluate_swarm(EVALUATION_STEPS,10)\n",
    "swarm1.plot_trajectories()\n",
    "swarm1.plot_reward_episode(EVALUATION_STEPS)\n",
    "swarm1.plot_revisited(EVALUATION_STEPS)\n",
    "# swarm1.plot_info(EVALUATION_STEPS)"
   ]
  },
  {
   "cell_type": "code",
   "execution_count": 167,
   "metadata": {},
   "outputs": [
    {
     "data": {
      "image/png": "[encoded data removed]",
      "text/plain": [
       "<Figure size 640x480 with 1 Axes>"
      ]
     },
     "metadata": {},
     "output_type": "display_data"
    }
   ],
   "source": [
    "agents[0].plot_trajectory(0.05)"
   ]
  }
 ],
 "metadata": {
  "kernelspec": {
   "display_name": ".venv",
   "language": "python",
   "name": "python3"
  },
  "language_info": {
   "codemirror_mode": {
    "name": "ipython",
    "version": 3
   },
   "file_extension": ".py",
   "mimetype": "text/x-python",
   "name": "python",
   "nbconvert_exporter": "python",
   "pygments_lexer": "ipython3",
   "version": "3.10.12"
  }
 },
 "nbformat": 4,
 "nbformat_minor": 2
}
